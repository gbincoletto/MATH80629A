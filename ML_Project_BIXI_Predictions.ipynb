{
 "cells": [
  {
   "cell_type": "markdown",
   "metadata": {
    "id": "JPwfFELTzKzm"
   },
   "source": [
    "#MATH80629A Project: Predicting BIXI bike usage based on historical weather data"
   ]
  },
  {
   "cell_type": "markdown",
   "metadata": {
    "id": "uUDdu9VO0-f7"
   },
   "source": [
    "A project by: \n",
    "* William Désilets\n",
    "* Simon Drolet (11178019)\n",
    "* Gabriella Bincoletto-Montpetit (11149602)"
   ]
  },
  {
   "cell_type": "markdown",
   "metadata": {
    "id": "GCjG2RDf1_HO"
   },
   "source": [
    "# Part 1: Data pre-processing"
   ]
  },
  {
   "cell_type": "markdown",
   "metadata": {
    "id": "0ezkpXF1dztJ"
   },
   "source": [
    "## 1.1. Import relevant packages"
   ]
  },
  {
   "cell_type": "code",
   "execution_count": null,
   "metadata": {},
   "outputs": [],
   "source": [
    "# Run this line into anaconda prompt: pip install holidays\n",
    "import holidays as holidays"
   ]
  },
  {
   "cell_type": "code",
   "execution_count": 1,
   "metadata": {
    "id": "YkiebpNsIMEa"
   },
   "outputs": [],
   "source": [
    "import pandas as pd\n",
    "import numpy as np\n",
    "import math as math\n",
    "import matplotlib.pyplot as plt\n",
    "#from google.colab import files\n",
    "import datetime as dt\n",
    "from sklearn.cluster import KMeans\n",
    "from sklearn.cluster import DBSCAN\n",
    "#from geopy import distance\n",
    "#from geopy.distance import great_circle\n",
    "#from shapely.geometry import MultiPoint\n",
    "#from geopy.distance import vincenty\n",
    "import matplotlib.cm as cm\n",
    "#import dask.dataframe as dd"
   ]
  },
  {
   "cell_type": "markdown",
   "metadata": {
    "id": "B15dh1t0v_CK"
   },
   "source": [
    "## 1.2. Weather Data"
   ]
  },
  {
   "cell_type": "markdown",
   "metadata": {
    "id": "9OAAhupNeFFi"
   },
   "source": [
    "### 1.2.1. Import weather files"
   ]
  },
  {
   "cell_type": "code",
   "execution_count": null,
   "metadata": {
    "id": "mbY6HCYLwGo_"
   },
   "outputs": [],
   "source": [
    "# Since I have 84 files (7 years, 12 months per year) over 3 stations, I'll loop!\n",
    "\n",
    "# This code lists the 252 weather URLs from our GitHub rep. Actually we only keep 162 because we remove Dec/Jan/Feb (No Bixis)!\n",
    "weather_urls = list()\n",
    "for s in [['7024745_','McTavish'],['7027329_','St-Hubert'],['7025251_','YUL']]: # McTavish, St-Hubert, YUL\n",
    "    for y in range(7):\n",
    "        for m in range(9):\n",
    "            year = str(y + 2014)\n",
    "            month = '0' + str(m+3) + '-'\n",
    "            if len(month) == 4 : month = month[1:]\n",
    "            url = 'https://raw.githubusercontent.com/gbincoletto/MATH80629A/main/' + s[1] + '/fr_climat_horaires_QC_' + s[0] + month + year + '_P1H.csv'\n",
    "            weather_urls.append(url)\n",
    "\n"
   ]
  },
  {
   "cell_type": "code",
   "execution_count": null,
   "metadata": {},
   "outputs": [],
   "source": []
  },
  {
   "cell_type": "code",
   "execution_count": null,
   "metadata": {},
   "outputs": [],
   "source": [
    "print('Take that Git!')"
   ]
  },
  {
   "cell_type": "code",
   "execution_count": null,
   "metadata": {
    "colab": {
     "base_uri": "https://localhost:8080/"
    },
    "id": "4zbI4MFu1rAU",
    "outputId": "afd6bbed-8258-4d7a-d853-7b0d1d347fe3"
   },
   "outputs": [],
   "source": [
    "# Let's make all these CSVs into proper Pandas\n",
    "weather_dfs = list()\n",
    "n = 0\n",
    "for file in weather_urls:\n",
    "    weather_dfs.append(pd.read_csv(file))\n",
    "  \n",
    "    # A lot of columns are always empty, so let's remove them before anything else!\n",
    "    weather_dfs[n] = weather_dfs[n].drop(['Date/Heure (HNL)','Temp Indicateur','Point de rosée Indicateur',\\\n",
    "                     'Hum. rel. Indicateur','Hauteur de précip. Indicateur',\\\n",
    "                     'Dir. du vent Indicateur','Vit. du vent Indicateur',\\\n",
    "                     'Visibilité Indicateur', 'Pression à la station Indicateur',\\\n",
    "                     'Hmdx Indicateur','Refroid. éolien Indicateur'],axis=1)\n",
    "  \n",
    "    # Let's clean up the \"Heure\" field so it's easier to use.\n",
    "    weather_dfs[n]['Heure (HNL)'] = weather_dfs[n]['Heure (HNL)'].str.strip('0')\n",
    "    weather_dfs[n]['Heure (HNL)'] = weather_dfs[n]['Heure (HNL)'].str.strip(':')\n",
    "    weather_dfs[n]['Heure (HNL)'].mask(weather_dfs[n]['Heure (HNL)'] == '', '0', inplace=True)\n",
    "    weather_dfs[n]['Heure (HNL)'] = weather_dfs[n]['Heure (HNL)'].astype(int)\n",
    "\n",
    "    # BIXIs are only available from March 15 to November 15. Let's remove the useless days (keeping the day before)\n",
    "    weather_dfs[n].drop(weather_dfs[n][(weather_dfs[n]['Mois'] == 3) & (weather_dfs[n]['Jour'] < 14)].index, inplace=True) # Mars\n",
    "    weather_dfs[n].drop(weather_dfs[n][(weather_dfs[n]['Mois'] == 11) & (weather_dfs[n]['Jour'] > 15)].index, inplace=True) # Novembre\n",
    "\n",
    "    # And we convert the field \"Temps\" to a list and remove NAN\n",
    "    weather_dfs[n]['Temps'] = weather_dfs[n]['Temps'].fillna('ND')\n",
    "    weather_dfs[n]['Temps'] = weather_dfs[n]['Temps'].str.split(',')\n",
    "\n",
    "    n = n + 1\n",
    "    if n % 21 == 0 : print('Upload %d percent complete' % (n/189*100)) # If I change the number of years this line won't work!"
   ]
  },
  {
   "cell_type": "markdown",
   "metadata": {
    "id": "_zMhM3HBeNdN"
   },
   "source": [
    "### 1.2.2. Cleaning"
   ]
  },
  {
   "cell_type": "code",
   "execution_count": null,
   "metadata": {
    "id": "M85G1j9Bq8fk"
   },
   "outputs": [],
   "source": [
    "# We find all the possible weather conditions that can be identified in \"Temps\" to create indicative variables\n",
    "# From: https://climat.meteo.gc.ca/glossary_f.html \n",
    "\n",
    "  # Here is the list that will be used\n",
    "\n",
    "\"\"\"\n",
    "  ND (0s everywhere)\n",
    "  nan (0s everywhere)\n",
    "  *\n",
    "  BROUILLARD: Brume sèche OU Fumée (1), Brouillard OU Chasse-poussière élevée (2), brouillard verglaçant (3)\n",
    "  PLUIE: Pluie OU Averses de pluie (1), Pluie modérée OU Averses de pluie modérée (2), Pluie forte OU Averses de pluie forte (3), Pluie verglaçante OU Averses de pluie verglaçante (4)\n",
    "  BRUINE: Bruine (1), bruine verglaçante (2)\n",
    "  ORAGES: Orages (1)\n",
    "  NEIGE: Neige OU Averses de neige OU Neige en grains (1), Neige modérée (2), Poudrerie élevée OU Averses de granules de glace ou de grésil OU Granules de glace ou grésil OU Grêle (3) \n",
    "  SOLEIL: Généralement dégagé (1), dégagé (2)\n",
    "  NUAGES: Généralement nuageux (1), nuageux (2)\n",
    "\"\"\"\n",
    "\n",
    "# NUAGES\n",
    "def fnuages(row):\n",
    "    if ('Généralement nuageux' in row['Temps']):\n",
    "        val = 1\n",
    "    elif ('Nuageux' in row['Temps']):\n",
    "        val = 2\n",
    "    else:\n",
    "        val = 0\n",
    "    return val\n",
    "\n",
    "# SOLEIL\n",
    "def fsoleil(row):\n",
    "    if ('Généralement dégagé' in row['Temps']):\n",
    "        val = 2\n",
    "    elif ('Dégagé' in row['Temps']):\n",
    "        val = 1\n",
    "    else:\n",
    "        val = 0\n",
    "    return val\n",
    "\n",
    "# ORAGES\n",
    "def forages(row):\n",
    "    if ('Orages' in row['Temps']) or ('Orage' in row['Temps']):\n",
    "        val = 1\n",
    "    else:\n",
    "        val = 0\n",
    "    return val\n",
    "\n",
    "# NEIGE\n",
    "def fneige(row):\n",
    "    if ('Poudrerie élevée' in row['Temps']) or ('Grêle' in row['Temps']) or ('Granules de glace ou grésil' in row['Temps']) or ('Averses de granules de glace ou de grésil' in row['Temps']):\n",
    "        val = 3\n",
    "    elif ('Neige modérée' in row['Temps']):\n",
    "        val = 2\n",
    "    elif ('Neige' in row['Temps']) or ('Averses de neige' in row['Temps']) or ('Neige en grains' in row['Temps']):\n",
    "        val = 1\n",
    "    else:\n",
    "        val = 0\n",
    "    return val\n",
    "\n",
    "# PLUIE\n",
    "def fpluie(row):\n",
    "    if ('Pluie verglaçante' in row['Temps']) or ('Averses de pluie verglaçante' in row['Temps']):\n",
    "        val = 4\n",
    "    elif ('Pluie forte' in row['Temps']) or ('Averses de pluie forte' in row['Temps']):\n",
    "        val = 3\n",
    "    elif ('Pluie modérée' in row['Temps']) or ('Averses de pluie modérées' in row['Temps']):\n",
    "        val = 2\n",
    "    elif ('Pluie' in row['Temps']) or ('Averses de pluie' in row['Temps']):\n",
    "        val = 1\n",
    "    else:\n",
    "        val = 0\n",
    "    return val\n",
    "\n",
    "# BROUILLARD\n",
    "def fbrouillard(row):\n",
    "  if ('Brouillard verglaçant' in row['Temps']):\n",
    "    val = 3\n",
    "  elif ('Brouillard' in row['Temps']) or ('Chasse-poussière élevée' in row['Temps']):\n",
    "    val = 2\n",
    "  elif ('Brume sèche' in row['Temps']) or ('Fumée' in row['Temps']):\n",
    "    val = 1\n",
    "  else:\n",
    "    val = 0\n",
    "  return val\n",
    "\n",
    "# BRUINE\n",
    "def fbruine(row):\n",
    "    if ('Bruine verglaçante' in row['Temps']):\n",
    "        val = 2\n",
    "    elif ('Bruine' in row['Temps']):\n",
    "        val = 1\n",
    "    else:\n",
    "        val = 0\n",
    "    return val\n",
    "\n",
    "# Applying all the functions\n",
    "for df in weather_dfs:\n",
    "    df['Pluie'] = df.apply(fpluie,axis=1)\n",
    "    df['Neige'] = df.apply(fneige,axis=1)\n",
    "    df['Orages'] = df.apply(forages,axis=1)\n",
    "    df['Bruine'] = df.apply(fbruine,axis=1)\n",
    "    df['Brouillard'] = df.apply(fbrouillard,axis=1)\n",
    "    df['Nuages'] = df.apply(fnuages,axis=1)\n",
    "    df['Soleil'] = df.apply(fsoleil,axis=1)\n",
    "\n",
    "\n"
   ]
  },
  {
   "cell_type": "code",
   "execution_count": null,
   "metadata": {
    "id": "iZ_eCVElgl1t"
   },
   "outputs": [],
   "source": [
    "# We will merge all the dataframes together into one huge table to make the splitting/aggregating easier\n",
    "weather_df = pd.DataFrame()\n",
    "for df in weather_dfs:\n",
    "    weather_df = pd.concat([weather_df, df], ignore_index=True)"
   ]
  },
  {
   "cell_type": "code",
   "execution_count": null,
   "metadata": {
    "id": "Ed_kW2b2wbiK"
   },
   "outputs": [],
   "source": [
    "# Some of the column which should contain floats or int contain strings. Let's fix!\n",
    "# NOTE: Only run this cell once! Else it will fail.\n",
    "\n",
    "# First we change commas to periods in numbers\n",
    "weather_df['Longitude (x)'] = (weather_df['Longitude (x)'].str.replace(',','.')).astype(float)\n",
    "weather_df['Latitude (y)'] = (weather_df['Latitude (y)'].str.replace(',','.')).astype(float)\n",
    "weather_df['Temp (°C)'] = (weather_df['Temp (°C)'].str.replace(',','.')).astype(float)\n",
    "weather_df['Point de rosée (°C)'] = (weather_df['Point de rosée (°C)'].str.replace(',','.')).astype(float)\n",
    "weather_df['Hauteur de précip. (mm)'] = (weather_df['Hauteur de précip. (mm)'].str.replace(',','.')).astype(float)\n",
    "weather_df['Visibilité (km)'] = (weather_df['Visibilité (km)'].str.replace(',','.')).astype(float)\n",
    "weather_df['Pression à la station (kPa)'] = (weather_df['Pression à la station (kPa)'].str.replace(',','.')).astype(float)\n",
    "\n",
    "# I'll also change the station IDs so it's easier to use later\n",
    "weather_df['ID climatologique'].mask(weather_df['ID climatologique'] == 7024745, 1, inplace=True)\n",
    "weather_df['ID climatologique'].mask(weather_df['ID climatologique'] == 7027329, 2, inplace=True)\n",
    "weather_df['ID climatologique'].mask(weather_df['ID climatologique'] == 7025251, 3, inplace=True)\n",
    "weather_df['stationID'] = weather_df['ID climatologique']\n",
    "\n",
    "# Finally, we can drop the fields which we have transformed earlier\n",
    "weather_df = weather_df.drop(['Temps','ID climatologique', 'Nom de la Station'], axis=1)"
   ]
  },
  {
   "cell_type": "code",
   "execution_count": null,
   "metadata": {},
   "outputs": [],
   "source": [
    "weather_df.head()"
   ]
  },
  {
   "cell_type": "markdown",
   "metadata": {
    "id": "WieWGKbRed7q"
   },
   "source": [
    "### 1.2.3. Relevant functions"
   ]
  },
  {
   "cell_type": "code",
   "execution_count": null,
   "metadata": {
    "id": "NAXYB1vDjQB8"
   },
   "outputs": [],
   "source": [
    "# Here are some functions that will be useful later (for weighted averages)\n",
    "\n",
    "# Distance (HAVERSINE)\n",
    "def distance(lon1,lat1,lon2,lat2):\n",
    "    R = 6367.5\n",
    "    dlon = np.abs(np.radians(lon2) - np.radians(lon1)) \n",
    "    dlat = np.abs(np.radians(lat2) - np.radians(lat1)) \n",
    "    a = np.sin(dlat/ 2)**2 + np.cos(np.radians(lat2)) * np.cos(np.radians(lat1)) * np.sin(dlon / 2)**2\n",
    "    L = R * 2 * np.arctan2(np.sqrt(a), np.sqrt(1 - a))\n",
    "    return L\n",
    "\n",
    "# Weigthed Average\n",
    "def weighted(x, cols, w=\"Distance\"):\n",
    "    return pd.Series(np.average(x[cols], weights=x[w], axis=0), cols)"
   ]
  },
  {
   "cell_type": "code",
   "execution_count": null,
   "metadata": {
    "id": "kRvOVdC17LaD"
   },
   "outputs": [],
   "source": [
    "# Let's write a function that allows to create a new df according to the specifications that we want!\n",
    "# First we can choose what data to keep (Which year, month, day)\n",
    "# Second we choose how to aggregate the data!\n",
    "\n",
    "def create_weather_df(years=[weather_df.Année.min(),weather_df.Année.max()]\\\n",
    "                      , months=[weather_df.Mois.min(),weather_df.Mois.max()]\\\n",
    "                      , days=[weather_df.Jour.min(),weather_df.Jour.max()]\\\n",
    "                      , hours=[weather_df['Heure (HNL)'].min(),weather_df['Heure (HNL)'].max()]\\\n",
    "                      , aggType = 1 # 1 = hourly ; 2 = daily ; 3 = monthly\n",
    "                      , geo = list()): # We can insert [Lon, Lat] \n",
    "  \n",
    "  # Filtre temporel\n",
    "    rdf = weather_df[(weather_df['Année'] >= years[0]) & (weather_df['Année'] <= years[1])]\n",
    "    rdf = rdf[(rdf['Mois'] >= months[0]) & (rdf['Mois'] <= months[1])]\n",
    "    rdf = rdf[(rdf['Jour'] >= days[0]) & (rdf['Jour'] <= days[1])]\n",
    "    rdf = rdf[(rdf['Heure (HNL)'] >= hours[0]) & (rdf['Heure (HNL)'] <= hours[1])]\n",
    "\n",
    "  # Creating a date ID (will vary based on type of aggregation)\n",
    "    rdf.Année = rdf.Année.astype(str)\n",
    "    rdf.Mois = rdf.Mois.astype(str)\n",
    "    rdf.Jour = rdf.Jour.astype(str)\n",
    "    rdf['Heure (HNL)'] = rdf['Heure (HNL)'].astype(str)\n",
    "    rdf.loc[rdf['Mois'].str.len() == 1, 'Mois'] = '0' + rdf['Mois']\n",
    "    rdf.loc[rdf['Jour'].str.len() == 1, 'Jour'] = '0' + rdf['Jour']\n",
    "    rdf.loc[rdf['Heure (HNL)'].str.len() == 1, 'Heure (HNL)'] = '0' + rdf['Heure (HNL)']\n",
    "    rdf['dateIDh'] = (rdf.Année + rdf.Mois + rdf.Jour + rdf['Heure (HNL)']).astype(int)\n",
    "    rdf['dateIDd'] = (rdf.Année + rdf.Mois + rdf.Jour).astype(int)\n",
    "    rdf['dateIDm'] = (rdf.Année + rdf.Mois).astype(int)\n",
    "    \n",
    "    # Return to int\n",
    "    rdf['Année'] = rdf.Année.astype(int)\n",
    "    rdf['Mois'] = rdf.Mois.astype(int)\n",
    "    rdf['Jour'] = rdf.Jour.astype(int)\n",
    "    rdf['Heure (HNL)'] = rdf['Heure (HNL)'].astype(int)\n",
    "  \n",
    "    if not geo: # Average across all three stations\n",
    "    # Aggregate hourly data by default\n",
    "        rdf = rdf.groupby('dateIDh').agg(Temp=(\"Temp (°C)\", \"mean\"),\n",
    "                                      DewPoint=(\"Point de rosée (°C)\", \"mean\"),\n",
    "                                      HumRel=(\"Hum. rel (%)\", \"mean\"),\n",
    "                                      PrecipitationHgt=(\"Hauteur de précip. (mm)\", \"mean\"),\n",
    "                                      WindDir=(\"Dir. du vent (10s deg)\", \"mean\"),\n",
    "                                      WindSpd=(\"Vit. du vent (km/h)\", \"mean\"),\n",
    "                                      Vis=(\"Visibilité (km)\", \"mean\"),\n",
    "                                      Pkpa=(\"Pression à la station (kPa)\", \"mean\"),\n",
    "                                      Hmdx=(\"Hmdx\", \"mean\"),\n",
    "                                      WindChill=(\"Refroid. éolien\", \"mean\"),\n",
    "                                      Rain=(\"Pluie\", \"max\"),\n",
    "                                      Snow=(\"Neige\", \"max\"),\n",
    "                                      Thunderstorm=(\"Orages\", \"max\"),\n",
    "                                      Drizzle=(\"Bruine\", \"max\"),\n",
    "                                      Fog=(\"Brouillard\", \"max\"),\n",
    "                                      Cloudy=(\"Nuages\", \"max\"),\n",
    "                                      Sunny=(\"Soleil\", \"max\"), \n",
    "                                      dateIDd=(\"dateIDd\",\"mean\"), \n",
    "                                      dateIDm=(\"dateIDm\",\"mean\"),\n",
    "                                      Year=(\"Année\",\"mean\"),\n",
    "                                      Month=(\"Mois\",\"mean\"),\n",
    "                                      Day=(\"Jour\",\"mean\"),\n",
    "                                      Hour=(\"Heure (HNL)\",\"mean\")   \n",
    "                                      )\n",
    "    \n",
    "\n",
    "    else: # When geo option is ACTIVE\n",
    "        # Ajouter une colonne de distance\n",
    "        rdf['Distance'] = rdf.apply(lambda x: distance(x['Longitude (x)'], x['Latitude (y)'], geo[0], geo[1]), axis=1)\n",
    "        # Date IDs\n",
    "        rdf_date = rdf.groupby('dateIDh').agg(dateIDd=(\"dateIDd\",\"mean\"), dateIDm=(\"dateIDm\",\"mean\"))  \n",
    "        # Hourly aggregation, weighted by distance (for continuous variables) # NOTE !!!! PRECIPITATION HEIGHT AND VIS NOT WORKING I THINK\n",
    "        rdf_grouped = rdf.groupby('dateIDh')\n",
    "        rdf_weighted = rdf_grouped.apply(weighted,[\"Temp (°C)\",\n",
    "                                       \"Point de rosée (°C)\",\n",
    "                                       \"Hum. rel (%)\",\n",
    "                                       \"Dir. du vent (10s deg)\",\n",
    "                                       \"Vit. du vent (km/h)\",\n",
    "                                       \"Pression à la station (kPa)\",\n",
    "                                       \"Hmdx\",\n",
    "                                       \"Refroid. éolien\"])\n",
    "        # We have to do it separately for the precipitation height and visibility because station 3 has all NAN fro Precipitation, and station 1 has all NAN for Visibility\n",
    "        # NOTE: This is not the most elegant as it's somehow hardcoded. It means the function will fail if we get new weather stations.\n",
    "        # Precipitation\n",
    "        rdf_precip = rdf.loc[rdf['stationID'].isin([1,2])]\n",
    "        rdf_grouped2 = rdf_precip.groupby('dateIDh')\n",
    "        rdf_weighted2 = rdf_grouped2.apply(weighted,[\"Hauteur de précip. (mm)\"])\n",
    "        rdf_weighted2.rename(columns={'Hauteur de précip. (mm)':'PrecipitationHgt'}, inplace=True)\n",
    "        # Visibility\n",
    "        rdf_vis = rdf.loc[rdf['stationID'].isin([2,3])]\n",
    "        rdf_grouped3 = rdf_vis.groupby('dateIDh')\n",
    "        rdf_weighted3 = rdf_grouped3.apply(weighted,[\"Visibilité (km)\"])\n",
    "        rdf_weighted3.rename(columns={'Visibilité (km)':'Vis'}, inplace=True)\n",
    "        # We rename the columns of the original big batch weighted averages\n",
    "        rdf_weighted.rename(columns={'Temp (°C)':'Temp',\n",
    "                                 'Point de rosée (°C)':'DewPoint',\n",
    "                                 'Hum. rel (%)':'HumRel',\n",
    "                                 'Dir. du vent (10s deg)':'WindDir',\n",
    "                                 'Vit. du vent (km/h)':'WindSpd',\n",
    "                                 'Pression à la station (kPa)':'Pkpa',\n",
    "                                 'Refroid. éolien':'WindChill'}, inplace=True)\n",
    "    \n",
    "        # For the categorical variables, we take the value closest to the location\n",
    "        rdf_min = rdf.loc[rdf['stationID'].isin([2,3])] # Pas de données texte pour la station 1!\n",
    "        rdf_min = rdf_min.loc[rdf['Distance'] == rdf_min['Distance'].min()]\n",
    "        rdf_min = rdf_min.set_index('dateIDh')\n",
    "        rdf_min = rdf_min[['Pluie','Neige','Orages','Brouillard']]\n",
    "        # Annnnnd rename again:\n",
    "        rdf_min = rdf_min.rename(columns={'Pluie':'Rain',\n",
    "                                     'Neige':'Snow',\n",
    "                                     'Orages':'Thunderstorm',\n",
    "                                     'Brouillard':'Fog'\n",
    "                                      })\n",
    "    \n",
    "        # Finally we add the column about cloud cover and drizzle, which are only available at one station\n",
    "        rdf_sun = rdf.groupby('dateIDh').agg(Drizzle=(\"Bruine\",\"max\"), Cloudy=(\"Nuages\",\"max\"), Sunny=(\"Soleil\",\"max\")) \n",
    "\n",
    "        # We concatenate all the pandas together. The resulting df has the same format has the 'non-geo' one so we can pass it to agg=2 or agg=3 easily\n",
    "        rdf = pd.concat([rdf_date,rdf_weighted,rdf_weighted2,rdf_weighted3,rdf_min,rdf_sun], axis=1)\n",
    "    \n",
    "      \n",
    "    if aggType == 2 or aggType == 3:\n",
    "        # Compute daily data\n",
    "        rdf.loc[rdf[\"PrecipitationHgt\"] > 0, 'RainToday'] = 1\n",
    "        rdf.loc[rdf[\"PrecipitationHgt\"] == 0, 'RainToday'] = 0\n",
    "        rdf = rdf.groupby('dateIDd').agg(avgTemp=(\"Temp\", \"mean\"),\n",
    "                                      maxTemp=(\"Temp\", \"max\"),\n",
    "                                      minTemp=(\"Temp\", \"min\"),\n",
    "                                      avgDewPoint=(\"DewPoint\", \"mean\"),\n",
    "                                      avgHumRel=(\"HumRel\", \"mean\"),\n",
    "                                      maxHumRel=(\"HumRel\", \"max\"),\n",
    "                                      minHumRel=(\"HumRel\", \"min\"),\n",
    "                                      sumPrecipitationHgt=(\"PrecipitationHgt\", \"sum\"),\n",
    "                                      timePrecipitation=(\"RainToday\", \"mean\"),\n",
    "                                      precipitationToday=(\"RainToday\", \"max\"),\n",
    "                                      avgWindDir=(\"WindDir\", \"mean\"),\n",
    "                                      avgWindSpd=(\"WindSpd\", \"mean\"),\n",
    "                                      maxWindSpd=(\"WindSpd\", \"max\"),\n",
    "                                      avgVis=(\"Vis\", \"mean\"),\n",
    "                                      avgPkpa=(\"Pkpa\", \"mean\"),\n",
    "                                      avgHmdx=(\"Hmdx\", \"mean\"),\n",
    "                                      avgWindChill=(\"WindChill\", \"mean\"),\n",
    "                                      maxWindChill=(\"WindChill\", \"max\"),\n",
    "                                      minWindChill=(\"WindChill\", \"min\"),\n",
    "                                      Rain=(\"Rain\", \"max\"), # Qualifie l'intensité maximale des précipitations dans la journée\n",
    "                                      Snow=(\"Snow\", \"max\"),\n",
    "                                      Thunderstorm=(\"Thunderstorm\", \"max\"),\n",
    "                                      Drizzle=(\"Drizzle\", \"mean\"),\n",
    "                                      Fog=(\"Fog\", \"mean\"),\n",
    "                                      percentCloudy=(\"Cloudy\", \"mean\"),\n",
    "                                      percentSunny=(\"Sunny\", \"mean\"),\n",
    "                                      dateIDm=(\"dateIDm\",\"mean\"),\n",
    "                                      Year=(\"Year\",\"mean\"),\n",
    "                                      Month=(\"Month\",\"mean\"),\n",
    "                                      Day=(\"Day\",\"mean\")   \n",
    "                                      )\n",
    "      \n",
    "        if aggType == 3:\n",
    "        # Dans un mois les max-min ne sont plus très utiles!\n",
    "            rdf = rdf.groupby('dateIDm').agg(avgTemp=(\"avgTemp\", \"mean\"),\n",
    "                                         avgHigh=(\"maxTemp\", \"mean\"),\n",
    "                                         avgLow=(\"minTemp\", \"mean\"),\n",
    "                                         avgHumRel=(\"avgHumRel\", \"mean\"),\n",
    "                                         sumPrecipitationHgt=(\"sumPrecipitationHgt\", \"sum\"),\n",
    "                                         avgDailyPrecipitation=(\"timePrecipitation\", \"mean\"),\n",
    "                                         daysRain=(\"precipitationToday\", \"sum\"), \n",
    "                                         avgWindSpd=(\"avgWindSpd\", \"mean\"),\n",
    "                                         avgWindChill=(\"avgWindChill\", \"mean\"),\n",
    "                                         avgHighWindchill=(\"maxWindChill\",\"mean\"),\n",
    "                                         avgLowWindchill=(\"minWindChill\",\"mean\"),\n",
    "                                         percentCloudy=(\"percentCloudy\", \"mean\"),\n",
    "                                         percentSunny=(\"percentSunny\", \"mean\"),\n",
    "                                         Year=(\"Year\",\"mean\"),\n",
    "                                         Month=(\"Month\",\"mean\")    \n",
    "                                         )\n",
    "\n",
    "    return rdf"
   ]
  },
  {
   "cell_type": "markdown",
   "metadata": {
    "id": "hImiDcmZeiA5"
   },
   "source": [
    "### 1.2.4. Create useful weather pandas"
   ]
  },
  {
   "cell_type": "code",
   "execution_count": null,
   "metadata": {
    "colab": {
     "base_uri": "https://localhost:8080/",
     "height": 541
    },
    "id": "1MRWdDhvsVLV",
    "outputId": "612d3ddf-1932-443d-9c35-ec07657b189c"
   },
   "outputs": [],
   "source": [
    "# You can then call the dataframe that you want with the \"create_weater_df\"\n",
    "#  ****** But, adventurer, watch out: it takes much more time to generate the dataframe you want when you call the function with the GEO option. Choose wisely.\n",
    "df = create_weather_df(years=[2018,2020], months=[7,11], days=[8,22], aggType=3) \n",
    "df.head()"
   ]
  },
  {
   "cell_type": "code",
   "execution_count": null,
   "metadata": {},
   "outputs": [],
   "source": [
    "# Weather data is compiled hourly (without location)\n",
    "weather_hourly = create_weather_df(aggType=1)\n",
    "weather_hourly.to_csv('weather_hourly.csv') "
   ]
  },
  {
   "cell_type": "code",
   "execution_count": null,
   "metadata": {},
   "outputs": [],
   "source": [
    "# Weather data is compiled daily (without location)\n",
    "weather_daily = create_weather_df(aggType=2)\n",
    "weather_daily.to_csv('weather_daily.csv') "
   ]
  },
  {
   "cell_type": "code",
   "execution_count": null,
   "metadata": {},
   "outputs": [],
   "source": [
    "# Weather data is compiled monthly (without location)\n",
    "weather_monthly = create_weather_df(aggType=3)\n",
    "weather_monthly.to_csv('weather_monthly.csv') "
   ]
  },
  {
   "cell_type": "markdown",
   "metadata": {
    "id": "tDNHFKLHv0SG"
   },
   "source": [
    "## 1.2. BIXI Data"
   ]
  },
  {
   "cell_type": "markdown",
   "metadata": {
    "id": "5KR8TeJGBXty"
   },
   "source": [
    " ### 1.2.1. Importing BIXI trip data"
   ]
  },
  {
   "cell_type": "code",
   "execution_count": null,
   "metadata": {
    "id": "KMp-DKCsR27r"
   },
   "outputs": [],
   "source": [
    "# The data has been pre-processed offline, and then separated into 40 dataframes (10 per year from 2017 to 2020). \n",
    "#The exact steps are available,annexed at the end of the collab.\n",
    "\n",
    "bixi_rides_urls = list()\n",
    "for y in [2017, 2018, 2019, 2020]:  \n",
    "    for m in range(1,10):\n",
    "        year = str(y)\n",
    "        dfnumber = str(m)\n",
    "        url = 'https://raw.githubusercontent.com/gbincoletto/MATH80629A/main/Final%20Bixi%20Data/bixi_' + year + '_' + dfnumber + '.csv'\n",
    "        bixi_rides_urls.append(url)\n",
    "\n"
   ]
  },
  {
   "cell_type": "code",
   "execution_count": null,
   "metadata": {
    "id": "b6AYFB5yh8fg"
   },
   "outputs": [],
   "source": [
    "# We can now turn the raw data located at these URLs into DFs **LONG RUNTIME ALERT**\n",
    "\n",
    "bixi_rides_dfs = list()\n",
    "for file in bixi_rides_urls:\n",
    "    bixi_rides_dfs.append(pd.read_csv(file))\n",
    "    \n",
    "# Then we can concatenate the 40 dataframes into one central dataset.\n",
    "\n",
    "bixi_master_data = pd.concat(bixi_rides_dfs)\n"
   ]
  },
  {
   "cell_type": "code",
   "execution_count": null,
   "metadata": {
    "colab": {
     "base_uri": "https://localhost:8080/",
     "height": 309
    },
    "id": "fALrRUT7SSKT",
    "outputId": "9c051f0e-0b33-483f-e16c-10d25c36c6bb"
   },
   "outputs": [],
   "source": [
    "bixi_master_data.head()"
   ]
  },
  {
   "cell_type": "code",
   "execution_count": null,
   "metadata": {
    "id": "0sgsJHwL7Y4q"
   },
   "outputs": [],
   "source": [
    "# Removing trips lasting less than one minute, as recommended by other studies in the field.\n",
    "\n",
    "bixi_master_data = bixi_master_data.drop(bixi_master_data[bixi_master_data.duration_sec <= 60].index)\n",
    "bixi_master_data"
   ]
  },
  {
   "cell_type": "code",
   "execution_count": null,
   "metadata": {
    "colab": {
     "base_uri": "https://localhost:8080/",
     "height": 34
    },
    "id": "34EQlqIMEl1M",
    "outputId": "bfdd155e-d4fd-49d0-d5f3-17edb3020415"
   },
   "outputs": [],
   "source": [
    "bixi_master_data.to_csv('bixi_master_data.csv') \n",
    "files.download('bixi_master_data.csv')"
   ]
  },
  {
   "cell_type": "markdown",
   "metadata": {
    "id": "NnbvqX9nBspz"
   },
   "source": [
    "### 1.2.2. Importing location of BIXI stations\n",
    "\n",
    "\n"
   ]
  },
  {
   "cell_type": "code",
   "execution_count": null,
   "metadata": {
    "id": "MWVUZ5y3kr3V"
   },
   "outputs": [],
   "source": [
    "# We will use our previous loop to import the annual Bixi station locations from GitHub. \n",
    "\n",
    "bixi_stations_urls = list()\n",
    "for y in [2017, 2018, 2019, 2020]:\n",
    "  year = str(y)\n",
    "  url_2 = 'https://raw.githubusercontent.com/gbincoletto/MATH80629A/main/bixidata/Stations_' + year + '.csv'\n",
    "  bixi_stations_urls.append(url_2)"
   ]
  },
  {
   "cell_type": "code",
   "execution_count": null,
   "metadata": {
    "id": "MlSAyn9oJPVV"
   },
   "outputs": [],
   "source": [
    "# Using the URLs assembled in our list, we will then create proper pandas dataframes from the raw data.\n",
    "\n",
    "bixi_stations_dfs = list()\n",
    "for file in bixi_stations_urls:\n",
    "    bixi_stations_dfs.append(pd.read_csv(file))"
   ]
  },
  {
   "cell_type": "code",
   "execution_count": null,
   "metadata": {
    "id": "s4QYMRg7EVnS"
   },
   "outputs": [],
   "source": [
    "# Quickly declare individually our reference documents.\n",
    "#stations_2014 = bixi_stations_dfs[0]\n",
    "##stations_2015 = bixi_stations_dfs[1]\n",
    "#stations_2016 = bixi_stations_dfs[2]\n",
    "stations_2017 = bixi_stations_dfs[3]\n",
    "stations_2018 = bixi_stations_dfs[4]\n",
    "stations_2019 = bixi_stations_dfs[5]\n",
    "stations_2020 = bixi_stations_dfs[6]\n",
    "\n",
    "# Correcting data irregularities\n",
    "stations_2019['code'] = stations_2019['Code']\n",
    "stations_2019 = stations_2019.drop(['Code'], axis=1)\n",
    "stations_2017 = stations_2017.drop(['is_public'], axis=1)\n",
    "\n",
    "# Then, we will create a new key variable, specifically designed to join Longitude/Latitude values to our trip data. \n",
    "\n",
    "#stations_2014['Station_Key_ID'] = '2014' + stations_2014['code'].map(str)\n",
    "#stations_2015['Station_Key_ID'] = '2015' + stations_2015['code'].map(str)\n",
    "#stations_2016['Station_Key_ID'] = '2016' + stations_2016['code'].map(str)\n",
    "stations_2017['Station_Key_ID'] = '2017' + stations_2017['code'].map(str)\n",
    "stations_2018['Station_Key_ID'] = '2018' + stations_2018['code'].map(str)\n",
    "stations_2019['Station_Key_ID'] = '2019' + stations_2019['code'].map(str) \n",
    "stations_2020['Station_Key_ID'] = '2020' + stations_2020['code'].map(str)\n",
    "\n",
    "# Then, we can concatenate the dataframes into one final reference document.\n",
    "\n",
    "bixi_master_stations = pd.concat([stations_2014, stations_2015, stations_2016, stations_2017, stations_2018, stations_2019,stations_2020])\n"
   ]
  },
  {
   "cell_type": "markdown",
   "metadata": {
    "id": "-Hf2CEw2wcH6"
   },
   "source": [
    "### 1.2.3. Adding geographical location to the BIXI trip dataset"
   ]
  },
  {
   "cell_type": "code",
   "execution_count": null,
   "metadata": {
    "id": "odVyafBfxpok"
   },
   "outputs": [],
   "source": [
    "# Due to limited RAM, we will have to split our main dataset to create new variables and effectuate operations. **RUNTIME ALERT - Limite côté RAM!!*\n",
    "\n",
    "#master_2014 = bixi_master_data.loc[bixi_master_data['start_date'].astype(str).str[0:4] == '2014']\n",
    "#master_2015 = bixi_master_data.loc[bixi_master_data['start_date'].astype(str).str[0:4] == '2015']\n",
    "#master_2016 = bixi_master_data.loc[bixi_master_data['start_date'].astype(str).str[0:4] == '2016']\n",
    "#\n",
    "#\n",
    "#\n",
    "#"
   ]
  },
  {
   "cell_type": "code",
   "execution_count": null,
   "metadata": {
    "id": "21VO1IX5Ezts"
   },
   "outputs": [],
   "source": [
    "#master_2017 = bixi_master_data.loc[bixi_master_data['start_date'].astype(str).str[0:4] == '2017']"
   ]
  },
  {
   "cell_type": "code",
   "execution_count": null,
   "metadata": {
    "id": "miywKdin26rM"
   },
   "outputs": [],
   "source": [
    "#master_2018 = bixi_master_data.loc[bixi_master_data['start_date'].astype(str).str[0:4] == '2018']"
   ]
  },
  {
   "cell_type": "code",
   "execution_count": null,
   "metadata": {
    "id": "5LD6sqiB28f7"
   },
   "outputs": [],
   "source": [
    "#master_2019 = bixi_master_data.loc[bixi_master_data['start_date'].astype(str).str[0:4] == '2019']"
   ]
  },
  {
   "cell_type": "code",
   "execution_count": null,
   "metadata": {
    "id": "gtwX-_fv28Ms"
   },
   "outputs": [],
   "source": [
    "#master_2020 = bixi_master_data.loc[bixi_master_data['start_date'].astype(str).str[0:4] == '2020']"
   ]
  },
  {
   "cell_type": "code",
   "execution_count": null,
   "metadata": {
    "id": "D89a3Yp_vKxW"
   },
   "outputs": [],
   "source": [
    "# Creating two sub-DFs to facilitate the merging process. \n",
    "\n",
    "start_long_lat = bixi_master_stations[['Station_Key_ID', 'longitude', 'latitude']]\n",
    "start_long_lat.columns = ['Start_Station_Key_ID', 'start_longitude', 'start_latitude']\n",
    "\n",
    "end_long_lat = bixi_master_stations[['Station_Key_ID', 'longitude', 'latitude']]\n",
    "end_long_lat.columns = ['End_Station_Key_ID', 'end_longitude', 'end_latitude']"
   ]
  },
  {
   "cell_type": "code",
   "execution_count": null,
   "metadata": {
    "id": "Rrgy4Ik9Kws0"
   },
   "outputs": [],
   "source": [
    "# We will now create a loop to insert our merge key in the bike trips dataset, and then add the geographical values (Lon/Lat) based on this key.\n",
    "\n",
    "for i in [master_2017, master_2018, master_2019, master_2020]:# master_2014, master_2015, master_2016, \n",
    "  i['Start_Station_Key_ID'] =  i['start_date'].astype(str).str[0:4] + i['start_station_code'].astype(str)\n",
    "  i['End_Station_Key_ID'] =  i['end_date'].astype(str).str[0:4] + i['end_station_code'].astype(str)\n",
    "\n",
    " "
   ]
  },
  {
   "cell_type": "code",
   "execution_count": null,
   "metadata": {
    "id": "iWYU0x0x3fC_"
   },
   "outputs": [],
   "source": [
    "# Finally, adding the geographical values and then recreating our master_data set. **NOT SURPRISINGLY, LONG RUNTIME ALERT**\n",
    "\n",
    "master_2017 = master_2017.merge(start_long_lat, on ='Start_Station_Key_ID')\n",
    "master_2017 = master_2017.merge(end_long_lat, on ='End_Station_Key_ID')\n",
    "\n",
    "master_2018 = master_2018.merge(start_long_lat, on ='Start_Station_Key_ID')\n",
    "master_2018 = master_2018.merge(end_long_lat, on ='End_Station_Key_ID')\n",
    "\n",
    "master_2019 = master_2019.merge(start_long_lat, on ='Start_Station_Key_ID')\n",
    "master_2019 = master_2019.merge(end_long_lat, on ='End_Station_Key_ID')\n",
    "\n",
    "master_2020 = master_2020.merge(start_long_lat, on ='Start_Station_Key_ID')\n",
    "master_2020 = master_2020.merge(end_long_lat, on ='End_Station_Key_ID')\n",
    "\n",
    "bixi_master_data = pd.concat([master_2017, master_2018, master_2019, master_2020])"
   ]
  },
  {
   "cell_type": "code",
   "execution_count": null,
   "metadata": {
    "colab": {
     "base_uri": "https://localhost:8080/"
    },
    "id": "KpLxezrpVm5B",
    "outputId": "64b4e864-977e-44ee-fe87-c678dcf847aa"
   },
   "outputs": [],
   "source": [
    "bixi_master_data.head "
   ]
  },
  {
   "cell_type": "markdown",
   "metadata": {
    "id": "yhaaruYGgp09"
   },
   "source": [
    "### 1.2.4. Aggregating function"
   ]
  },
  {
   "cell_type": "code",
   "execution_count": null,
   "metadata": {
    "id": "Eh2pwIQhgu9M"
   },
   "outputs": [],
   "source": [
    "# ******* WIP, please do not panic if this function fails *******\n",
    "\n",
    "# This function will allow us to calculate the amount of bike rentals in ANY given time period\n",
    "# It will also output calendar data (weekday, holiday) when appropriate\n",
    "# Note: by any I mean hourly, daily or monthly\n",
    "# Note#2: must also be part of the dataset - no information is available on pre-2017 dates\n",
    "\n",
    "def calc_bike_volumes(df, years, months, days, hours, aggtype = 1): # Format [20XX,20XX], it's an interval! Same format for the other arguments please. No default values.\n",
    "  \n",
    "    pd.options.mode.chained_assignment = None  # default='warn'\n",
    "    rdf = df\n",
    "\n",
    "    # Creating a date ID (will vary based on type of aggregation)\n",
    "    rdf['Année'] = rdf['start_date'].astype(str).str[0:4]\n",
    "    rdf['Mois'] = rdf['start_date'].astype(str).str[5:7]\n",
    "    rdf['Jour'] = rdf['start_date'].astype(str).str[8:10]\n",
    "    rdf['Heure'] = rdf['start_date'].astype(str).str[11:13]\n",
    "    rdf['dateIDh'] = (rdf.Année + rdf.Mois + rdf.Jour + rdf['Heure']).astype(int)\n",
    "    rdf['dateIDd'] = (rdf.Année + rdf.Mois + rdf.Jour).astype(int)\n",
    "    rdf['dateIDm'] = (rdf.Année + rdf.Mois).astype(int)\n",
    "    \n",
    "    # Creating columns to indicate weekdays and holidays\n",
    "    rdf['start_date'] = pd.to_datetime(rdf['start_date']) \n",
    "    rdf['Semaine'] = rdf['start_date'].map(lambda x: x.weekday())\n",
    "    rdf.loc[rdf['Semaine'] <= 4, 'Semaine'] = 1\n",
    "    rdf.loc[rdf['Semaine'] > 4, 'Semaine'] = 0\n",
    "    \n",
    "    qc_holidays = []\n",
    "    for date in holidays.Canada(years = [2014,2015,2016,2017,2018,2019,2020], prov='QC').items():\n",
    "        qc_holidays.append(str(date[0]))\n",
    "        \n",
    "    rdf['Holidays'] = [1 if str(val).split()[0] in qc_holidays else 0 for val in rdf['start_date']]\n",
    "\n",
    "    # Filtre temporel\n",
    "    rdf = rdf[(rdf['Année'].astype(int) >= years[0]) & (df['Année'].astype(int) <= years[1])]\n",
    "    rdf = rdf[(rdf['Mois'].astype(int) >= months[0]) & (rdf['Mois'].astype(int) <= months[1])]\n",
    "    rdf = rdf[(rdf['Jour'].astype(int) >= days[0]) & (rdf['Jour'].astype(int) <= days[1])]\n",
    "    rdf = rdf[(rdf['Heure'].astype(int) >= hours[0]) & (rdf['Heure'].astype(int) <= hours[1])]\n",
    "\n",
    "    if (not years) or (not months) or (not days) or (not hours):\n",
    "        print('Please input all the required arguments?')\n",
    "  \n",
    "    # This will aggregate what we need to get the number of trips in the given timeframe (by blocks) and average trip length.\n",
    "    else:\n",
    "\n",
    "    # Aggregate using the hour ID\n",
    "        if aggtype == 1:\n",
    "            rdf = rdf.groupby('dateIDh').agg(Weekday=(\"Semaine\", \"max\"), Holiday=(\"Holidays\", \"max\"),\n",
    "                                             Duration=(\"duration_sec\", \"mean\"),\n",
    "                                             Volume=(\"duration_sec\", \"count\"))\n",
    "            return rdf\n",
    "\n",
    "    # Aggregate using the day ID\n",
    "        if aggtype == 2 :\n",
    "            rdf = rdf.groupby('dateIDd').agg(Weekday=(\"Semaine\", \"max\"), Holiday=(\"Holidays\", \"max\"),\n",
    "                                             Duration=(\"duration_sec\", \"mean\"),\n",
    "                                             Volume=(\"duration_sec\", \"count\"))\n",
    "            return rdf\n",
    "\n",
    "    # Aggregate using the month ID\n",
    "        if aggtype == 3:\n",
    "            rdf = rdf.groupby('dateIDm').agg(Duration=(\"duration_sec\", \"mean\"),\n",
    "                                       Volume=(\"duration_sec\", \"count\"))\n",
    "            return rdf\n"
   ]
  },
  {
   "cell_type": "code",
   "execution_count": null,
   "metadata": {
    "colab": {
     "base_uri": "https://localhost:8080/",
     "height": 452
    },
    "id": "7aGPlcGyTCg1",
    "outputId": "6fb5b8df-89c4-4d8c-c98b-dd49e0f7415c"
   },
   "outputs": [],
   "source": [
    "# Testing the function (it works!)\n",
    "rdf = calc_bike_volumes(bixi_master_data,[2017,2019],[3,11],[1,31],[0,23],aggtype=2)\n",
    "rdf.head()"
   ]
  },
  {
   "cell_type": "code",
   "execution_count": null,
   "metadata": {},
   "outputs": [],
   "source": [
    "# Calculating the data I need\n",
    "\n",
    "# Daily Data\n",
    "data_daily = calc_bike_volumes(bixi_master_data,[2017,2020],[3,11],[1,31],[0,23],aggtype=2)"
   ]
  },
  {
   "cell_type": "code",
   "execution_count": null,
   "metadata": {},
   "outputs": [],
   "source": [
    "data_daily.to_csv('data_daily.csv') "
   ]
  },
  {
   "cell_type": "code",
   "execution_count": null,
   "metadata": {},
   "outputs": [],
   "source": [
    "# Hourly Data\n",
    "data_hourly = calc_bike_volumes(bixi_master_data,[2017,2020],[3,11],[1,31],[0,23],aggtype=1)"
   ]
  },
  {
   "cell_type": "code",
   "execution_count": null,
   "metadata": {},
   "outputs": [],
   "source": [
    "data_hourly.to_csv('data_hourly.csv') "
   ]
  },
  {
   "cell_type": "code",
   "execution_count": null,
   "metadata": {},
   "outputs": [],
   "source": [
    "# Monthly Data\n",
    "data_monthly = calc_bike_volumes(bixi_master_data,[2017,2020],[3,11],[1,31],[0,23],aggtype=3)"
   ]
  },
  {
   "cell_type": "code",
   "execution_count": null,
   "metadata": {},
   "outputs": [],
   "source": [
    "data_monthly.to_csv('data_monthly.csv') "
   ]
  },
  {
   "cell_type": "markdown",
   "metadata": {
    "id": "FdnqUp4x-wBI"
   },
   "source": [
    "## 1.3. Neighbourhood Clusters"
   ]
  },
  {
   "cell_type": "markdown",
   "metadata": {
    "id": "_X99MqC0jKw-"
   },
   "source": [
    "### 1.3.1. Setting up the data"
   ]
  },
  {
   "cell_type": "code",
   "execution_count": null,
   "metadata": {
    "colab": {
     "base_uri": "https://localhost:8080/",
     "height": 201
    },
    "id": "YammxboAPk9s",
    "outputId": "eaaa5f2a-fe00-42eb-cdc6-6f4e62e8ee58"
   },
   "outputs": [],
   "source": [
    "# We will attemps to create neighbourhood clusters for BIXI stations using their latitude and longitude. \n",
    "# We will ignore the variable 'code' and will use the Station_Key_ID as the primary key.\n",
    "\n",
    "bixi_master_stations.head()"
   ]
  },
  {
   "cell_type": "code",
   "execution_count": null,
   "metadata": {
    "colab": {
     "base_uri": "https://localhost:8080/",
     "height": 201
    },
    "id": "N6dwpw6nYEq7",
    "outputId": "330e581b-df43-4e93-d26d-cad81b87f9e2"
   },
   "outputs": [],
   "source": [
    "# First, we see that there a lot of duplicates of the same stations.\n",
    "bixi_master_stations.loc[bixi_master_stations['name']=='Square St-Louis']\n",
    "\n",
    "# We are only interested in 2020 stations, so we will only keep Station_Key_ID starting with 2020. There are 640 stations.\n",
    "bixi_master_stations = bixi_master_stations[bixi_master_stations['Station_Key_ID'].astype(str).str.startswith('2020')]\n",
    "bixi_master_stations.tail()"
   ]
  },
  {
   "cell_type": "code",
   "execution_count": null,
   "metadata": {
    "colab": {
     "base_uri": "https://localhost:8080/",
     "height": 295
    },
    "id": "6hAEk9u3C43O",
    "outputId": "44ec925c-ee4b-489d-e012-22a567cfdb4c"
   },
   "outputs": [],
   "source": [
    "# We then plot the geographical points; good news: it indeed looks like the BIXI station map! \n",
    "plot_bixi_master_stations = plt.plot(bixi_master_stations['longitude'], bixi_master_stations['latitude'],\n",
    "             marker='.', linewidth=0, color='#128128')\n",
    "plot_bixi_master_stations = plt.grid(which='major', color='#cccccc', alpha=0.45)\n",
    "plot_bixi_master_stations = plt.title ('Geographical distribution of BIXI stations', family='DejaVu Sans', fontsize=12)\n",
    "plot_bixi_master_stations = plt.xlabel('Longitude')\n",
    "plot_bixi_master_stations = plt.ylabel('Latitude')\n",
    "plot_bixi_master_stations = plt.show()"
   ]
  },
  {
   "cell_type": "code",
   "execution_count": null,
   "metadata": {
    "colab": {
     "base_uri": "https://localhost:8080/",
     "height": 201
    },
    "id": "XwdEWTZrgydA",
    "outputId": "c2639e30-0976-40a0-b585-7833043eab5b"
   },
   "outputs": [],
   "source": [
    "# We then create a new dataframe to only keep the variables Station_Key_ID, Longitude and Latitude for our clustering analysis\n",
    "cluster_bixi_stations=bixi_master_stations.loc[:,['Station_Key_ID','latitude','longitude']]\n",
    "cluster_bixi_stations.head()"
   ]
  },
  {
   "cell_type": "markdown",
   "metadata": {
    "id": "3MIDtpXIjjIC"
   },
   "source": [
    "### 1.3.2. K-Means method"
   ]
  },
  {
   "cell_type": "code",
   "execution_count": null,
   "metadata": {
    "colab": {
     "base_uri": "https://localhost:8080/",
     "height": 295
    },
    "id": "yRuFCzq4JhdY",
    "outputId": "e36fafba-cfcf-416a-a802-a8d9d3e171cc"
   },
   "outputs": [],
   "source": [
    "# We will validate the number of clusters by using the elbow method \n",
    "K_clusters = range(1,10)\n",
    "kmeans = [KMeans(n_clusters=i) for i in K_clusters]\n",
    "Y_axis = cluster_bixi_stations[['latitude']]\n",
    "X_axis = cluster_bixi_stations[['longitude']]\n",
    "score = [kmeans[i].fit(Y_axis).score(Y_axis) for i in range(len(kmeans))]\n",
    "\n",
    "# Visualize the graph -- we see that 3 or 4 clusters could be interesting.\n",
    "plt.plot(K_clusters, score)\n",
    "plt.xlabel('Number of Clusters')\n",
    "plt.ylabel('Score')\n",
    "plt.title('Elbow Curve')\n",
    "plt.show()"
   ]
  },
  {
   "cell_type": "code",
   "execution_count": null,
   "metadata": {
    "colab": {
     "base_uri": "https://localhost:8080/",
     "height": 354
    },
    "id": "3c0jpg2igQmg",
    "outputId": "a32623a8-d52b-4c59-c4c1-f7b782426c1b"
   },
   "outputs": [],
   "source": [
    "# Computer K-means clustering using 4 clusters\n",
    "\n",
    "kmeans = KMeans(n_clusters = 4, init ='k-means++')\n",
    "kmeans.fit(cluster_bixi_stations[cluster_bixi_stations.columns[1:3]])\n",
    "cluster_bixi_stations['cluster_label'] = kmeans.fit_predict(cluster_bixi_stations[cluster_bixi_stations.columns[1:4]])\n",
    "centers = kmeans.cluster_centers_ # Coordinates of cluster centers.\n",
    "labels = kmeans.predict(cluster_bixi_stations[cluster_bixi_stations.columns[1:4]]) # Labels of each point\n",
    "cluster_bixi_stations.tail(10)"
   ]
  },
  {
   "cell_type": "code",
   "execution_count": null,
   "metadata": {
    "colab": {
     "base_uri": "https://localhost:8080/",
     "height": 275
    },
    "id": "2W70iOsvhCAW",
    "outputId": "afdc8b2f-7c84-4b18-aa80-b60776bb77fe"
   },
   "outputs": [],
   "source": [
    "# Visualize the clusters and centroids \n",
    "\n",
    "cluster_bixi_stations.plot.scatter(x = 'latitude', y = 'longitude', c=labels, s=50, cmap='viridis')\n",
    "plt.scatter(centers[:, 0], centers[:, 1], c='black', s=200, alpha=0.5)"
   ]
  },
  {
   "cell_type": "markdown",
   "metadata": {
    "id": "reAQzpImkmHL"
   },
   "source": [
    "### 1.3.3. DBSCAN method"
   ]
  },
  {
   "cell_type": "code",
   "execution_count": null,
   "metadata": {
    "colab": {
     "base_uri": "https://localhost:8080/",
     "height": 199
    },
    "id": "RqTNfc0wTHfW",
    "outputId": "2ba8aa07-98d3-4ed6-f395-f1bf6ffc6876"
   },
   "outputs": [],
   "source": [
    "# We now create a new dataframe to only keep the variables Station_Key_ID, Longitude and Latitude for our clustering analysis\n",
    "cluster_bixi_stations2=bixi_master_stations.loc[:,['Station_Key_ID','latitude','longitude']]\n",
    "cluster_bixi_stations2.head()"
   ]
  },
  {
   "cell_type": "code",
   "execution_count": null,
   "metadata": {
    "id": "0AN20d-DQqib"
   },
   "outputs": [],
   "source": [
    "# define the number of kilometers in one radiation\n",
    "# which will be used to convert esp from km to radiation\n",
    "kms_per_rad = 6371.0088"
   ]
  },
  {
   "cell_type": "code",
   "execution_count": null,
   "metadata": {
    "colab": {
     "base_uri": "https://localhost:8080/"
    },
    "id": "lGpfaiGnQukx",
    "outputId": "02b1e500-267c-4254-8c2c-8400fb730c1a"
   },
   "outputs": [],
   "source": [
    "# define a function to calculate the geographic coordinate \n",
    "# centroid of a cluster of geographic points\n",
    "# it will be used later to calculate the centroids of DBSCAN cluster\n",
    "# because Scikit-learn DBSCAN cluster class does not come with centroid attribute.\n",
    "def get_centroid(cluster):\n",
    "  \"\"\"calculate the centroid of a cluster of geographic coordinate points\n",
    "  Args:\n",
    "    cluster coordinates, nx2 array-like (array, list of lists, etc) \n",
    "    n is the number of points(latitude, longitude)in the cluster.\n",
    "  Return:\n",
    "    geometry centroid of the cluster\n",
    "    \n",
    "  \"\"\"\n",
    "  cluster_ary = np.asarray(cluster)\n",
    "  centroid = cluster_ary.mean(axis = 0)\n",
    "  return centroid\n",
    "\n",
    "# testing get_centroid function\n",
    "test_cluster= [[ 43.70487299, -79.57753802], \n",
    "               [ 43.71138367, -79.56524418],\n",
    "               [ 43.72616079, -79.57319998],\n",
    "               [ 43.73547907, -79.56258364],\n",
    "               [ 43.72070325, -79.57202018],\n",
    "               [ 43.73126031, -79.5598719 ]]\n",
    "test_centroid = get_centroid(test_cluster)\n",
    "print(test_centroid)"
   ]
  },
  {
   "cell_type": "code",
   "execution_count": null,
   "metadata": {
    "colab": {
     "base_uri": "https://localhost:8080/",
     "height": 182
    },
    "id": "GyJupJRyTsrf",
    "outputId": "4d93ef42-bda2-4fb0-88e7-a6e5064ae08b"
   },
   "outputs": [],
   "source": [
    "# convert eps to radians for use by haversine\n",
    "epsilon = 0.1/kms_per_rad"
   ]
  },
  {
   "cell_type": "code",
   "execution_count": null,
   "metadata": {
    "id": "5CHkqwC-TuGB"
   },
   "outputs": [],
   "source": [
    "# Extract intersection coordinates (latitude, longitude)\n",
    "bixi_coords = cluster_bixi_stations2[['latitude', 'longitude']].values"
   ]
  },
  {
   "cell_type": "code",
   "execution_count": null,
   "metadata": {
    "id": "J5TMNTPbUIwd"
   },
   "outputs": [],
   "source": [
    "import time\n",
    "from sklearn import metrics\n",
    "\n",
    "start_time = time.time()\n",
    "dbsc = (DBSCAN(eps=epsilon, min_samples=1, algorithm='ball_tree', metric='haversine')\n",
    "        .fit(np.radians(bixi_coords)))\n",
    "bixi_cluster_labels = dbsc.labels_"
   ]
  },
  {
   "cell_type": "code",
   "execution_count": null,
   "metadata": {
    "colab": {
     "base_uri": "https://localhost:8080/"
    },
    "id": "ZTvUZyg4UdGp",
    "outputId": "5236cc2f-28a4-4e69-e833-7b9107961cde"
   },
   "outputs": [],
   "source": [
    "# get the number of clusters\n",
    "num_clusters = len(set(dbsc.labels_))\n",
    "print(num_clusters)"
   ]
  },
  {
   "cell_type": "code",
   "execution_count": null,
   "metadata": {
    "colab": {
     "base_uri": "https://localhost:8080/"
    },
    "id": "PkE19KyHUtsD",
    "outputId": "6e7fa204-8ddb-4cdb-b7b2-9fa82303c95f"
   },
   "outputs": [],
   "source": [
    "# print the outcome\n",
    "message = 'Clustered {:,} points down to {:,} clusters, for {:.1f}% compression in {:,.2f} seconds'\n",
    "print(message.format(len(cluster_bixi_stations2), num_clusters, 100*(1 - float(num_clusters) / len(cluster_bixi_stations2)), time.time()-start_time))\n",
    "print('Silhouette coefficient: {:0.03f}'.format(metrics.silhouette_score(bixi_coords, bixi_cluster_labels)))\n"
   ]
  },
  {
   "cell_type": "code",
   "execution_count": null,
   "metadata": {
    "id": "47UZDn9qVn-b"
   },
   "outputs": [],
   "source": [
    "# turn the clusters into a pandas series, where each element is a cluster of points\n",
    "dbsc_clusters = pd.Series([bixi_coords[bixi_cluster_labels==n] for n in range(num_clusters)])"
   ]
  },
  {
   "cell_type": "code",
   "execution_count": null,
   "metadata": {
    "colab": {
     "base_uri": "https://localhost:8080/"
    },
    "id": "QQXGjFiMWs9v",
    "outputId": "4e2377c3-ec64-49de-d3d5-c2bb03a889ab"
   },
   "outputs": [],
   "source": [
    "# get centroid of each cluster\n",
    "bixi_centroids = dbsc_clusters.map(get_centroid)\n",
    "# unzip the list of centroid points (lat, lon) tuples into separate lat and lon lists\n",
    "cent_lats, cent_lons = zip(*bixi_centroids)\n",
    "# from these lats/lons create a new df of one representative point for each cluster\n",
    "centroids_pd = pd.DataFrame({'longitude':cent_lons, 'latitude':cent_lats})\n",
    "\n",
    "print(centroids_pd)"
   ]
  },
  {
   "cell_type": "code",
   "execution_count": null,
   "metadata": {
    "colab": {
     "base_uri": "https://localhost:8080/",
     "height": 714
    },
    "id": "zJLJEC6FXsz4",
    "outputId": "27da40de-fa7c-4114-89c5-5ac56d37a160"
   },
   "outputs": [],
   "source": [
    "# Plot the clusters and cluster centroid\n",
    "fig, ax = plt.subplots(figsize=[20, 12])\n",
    "bixi_scatter = ax.scatter(cluster_bixi_stations2['longitude'], cluster_bixi_stations2['latitude'], c=bixi_cluster_labels, cmap = cm.Dark2, edgecolor='None', alpha=0.7, s=120)\n",
    "centroid_scatter = ax.scatter(centroids_pd['longitude'], centroids_pd['latitude'], marker='x', linewidths=2, c='k', s=50)\n",
    "ax.set_title('BIXI Clusters & Centroid', fontsize = 30)\n",
    "ax.set_xlabel('Longitude', fontsize=24)\n",
    "ax.set_ylabel('Latitude', fontsize = 24)\n",
    "ax.legend([bixi_scatter, centroid_scatter], ['Bixi stations', 'Neighbourhood Centroid'], loc='upper right', fontsize = 20)"
   ]
  },
  {
   "cell_type": "code",
   "execution_count": null,
   "metadata": {
    "id": "FG3KBtKsRFWj"
   },
   "outputs": [],
   "source": [
    "# convert eps to radians for use by haversine\n",
    "epsilon = 1.5/kms_per_rad\n",
    "\n",
    "# Extract intersection coordinates (latitude, longitude)\n",
    "bixi_coords = cluster_bixi_stations2.as_matrix(columns = ['latitude', 'longitude'])\n",
    "\n",
    "start_time = time.time()\n",
    "dbsc = (DBSCAN(eps=epsilon, min_samples=1, algorithm='ball_tree', metric='haversine')\n",
    "        .fit(np.radians(bixi_coords)))\n",
    "bixi_cluster_labels = dbsc.labels_\n",
    "\n",
    "# get the number of clusters\n",
    "num_clusters = len(set(dbsc.labels_))\n",
    "\n",
    "# print the outcome\n",
    "message = 'Clustered {:,} points down to {:,} clusters, for {:.1f}% compression in {:,.2f} seconds'\n",
    "print(message.format(len(facility_pd), num_clusters, 100*(1 - float(num_clusters) / len(facility_pd)), time.time()-start_time))\n",
    "print('Silhouette coefficient: {:0.03f}'.format(metrics.silhouette_score(fac_coords, fac_cluster_labels)))\n",
    "\n",
    "# turn the clusters into a pandas series,where each element is a cluster of points\n",
    "dbsc_clusters = pd.Series([fac_coords[fac_cluster_labels==n] for n in range(num_clusters)])\n",
    "Clustered 1,396 points down to 20 clusters, for 98.6% compression in 0.13 seconds\n",
    "Silhouette coefficient: -0.166\n",
    "\n"
   ]
  },
  {
   "cell_type": "code",
   "execution_count": null,
   "metadata": {
    "id": "KimvXgFrzH8w"
   },
   "outputs": [],
   "source": [
    "X = cluster_bixi_stations[['latitude', 'longitude']].values"
   ]
  },
  {
   "cell_type": "code",
   "execution_count": null,
   "metadata": {
    "id": "ShP1liptyri4"
   },
   "outputs": [],
   "source": [
    "def greatCircleDistance(x, y):\n",
    "    lat1, lon1 = x[0], x[1]\n",
    "    lat2, lon2 = y[0], y[1]\n",
    "    return vincenty((lat1, lon1), (lat2, lon2)).meters"
   ]
  },
  {
   "cell_type": "code",
   "execution_count": null,
   "metadata": {
    "colab": {
     "base_uri": "https://localhost:8080/",
     "height": 1000
    },
    "id": "5T7BFvcXsrhe",
    "outputId": "023ae2a0-c9cc-4f49-d5a3-59b71968747e"
   },
   "outputs": [],
   "source": [
    "eps = [500, 600, 700]    # unit: meter\n",
    "min_sample = [8, 10]\n",
    "n1, n2 = len(eps), len(min_sample)\n",
    "plt.subplots(nrows=n2, ncols=n1, figsize=(20, 15))\n",
    "\n",
    "for j in range(n2):\n",
    "  for i in range(n1):\n",
    "    est = DBSCAN(eps=eps[i], min_samples=min_sample[j], metric=greatCircleDistance).fit(X)\n",
    "    cluster_bixi_stations['cluster'] = est.labels_.tolist()\n",
    "\n",
    "    ax = plt.subplot(n2, n1, n1*j+i+1)\n",
    "    ax.set_title(\"DBSCAN ('greatCircle', eps={}, min_sample={})\".format(eps[i], min_sample[j]))\n",
    "\n",
    "plot_stations_map(ax, cluster_bixi_stations)\n"
   ]
  },
  {
   "cell_type": "code",
   "execution_count": null,
   "metadata": {
    "colab": {
     "base_uri": "https://localhost:8080/",
     "height": 1000
    },
    "id": "yq9ztvMOnRsn",
    "outputId": "4313f5d9-5177-4694-8dad-af635c8e4785"
   },
   "outputs": [],
   "source": [
    "# Merge cluster labels in bixi_master_stations dataframe\n",
    "clustering_bixi_stations = clustering_bixi_stations[['code','cluster_label']]\n",
    "clustering_bixi_stations.head(5)\n",
    "\n",
    "bixi_master_stations = bixi_master_stations.merge(clustering_bixi_stations, left_on='code', right_on='code')\n",
    "bixi_master_stations.head(50)"
   ]
  },
  {
   "cell_type": "markdown",
   "metadata": {},
   "source": [
    "## Classification Model"
   ]
  },
  {
   "cell_type": "markdown",
   "metadata": {},
   "source": [
    "### 1. Libraries"
   ]
  },
  {
   "cell_type": "code",
   "execution_count": 1,
   "metadata": {},
   "outputs": [],
   "source": [
    "from sklearn import datasets\n",
    "from sklearn.model_selection import train_test_split\n",
    "from sklearn.ensemble import RandomForestClassifier\n",
    "from sklearn.datasets import make_classification\n",
    "import pandas as pd\n",
    "import numpy as np\n",
    "import matplotlib.pyplot as plt\n",
    "import seaborn as sns\n",
    "from sklearn.preprocessing import LabelEncoder\n",
    "from sklearn.feature_extraction import DictVectorizer\n",
    "plt.style.use('ggplot') # This make plots look better"
   ]
  },
  {
   "cell_type": "markdown",
   "metadata": {},
   "source": [
    "### 2. Data pre-processing"
   ]
  },
  {
   "cell_type": "code",
   "execution_count": 2,
   "metadata": {},
   "outputs": [],
   "source": [
    "url = 'https://raw.githubusercontent.com/gbincoletto/MATH80629A/main/Classification_Latitude_Longitude.csv'\n",
    "quartier = pd.read_csv(url)"
   ]
  },
  {
   "cell_type": "code",
   "execution_count": 3,
   "metadata": {},
   "outputs": [
    {
     "data": {
      "text/html": [
       "<div>\n",
       "<style scoped>\n",
       "    .dataframe tbody tr th:only-of-type {\n",
       "        vertical-align: middle;\n",
       "    }\n",
       "\n",
       "    .dataframe tbody tr th {\n",
       "        vertical-align: top;\n",
       "    }\n",
       "\n",
       "    .dataframe thead th {\n",
       "        text-align: right;\n",
       "    }\n",
       "</style>\n",
       "<table border=\"1\" class=\"dataframe\">\n",
       "  <thead>\n",
       "    <tr style=\"text-align: right;\">\n",
       "      <th></th>\n",
       "      <th>Arrondissement</th>\n",
       "      <th>Code</th>\n",
       "      <th>Latitude</th>\n",
       "      <th>Longitude</th>\n",
       "    </tr>\n",
       "  </thead>\n",
       "  <tbody>\n",
       "    <tr>\n",
       "      <th>0</th>\n",
       "      <td>Ahuntsic-Cartierville</td>\n",
       "      <td>1</td>\n",
       "      <td>45.540857</td>\n",
       "      <td>-73.644170</td>\n",
       "    </tr>\n",
       "    <tr>\n",
       "      <th>1</th>\n",
       "      <td>Ahuntsic-Cartierville</td>\n",
       "      <td>1</td>\n",
       "      <td>45.539566</td>\n",
       "      <td>-73.644945</td>\n",
       "    </tr>\n",
       "    <tr>\n",
       "      <th>2</th>\n",
       "      <td>Ahuntsic-Cartierville</td>\n",
       "      <td>1</td>\n",
       "      <td>45.538394</td>\n",
       "      <td>-73.645671</td>\n",
       "    </tr>\n",
       "    <tr>\n",
       "      <th>3</th>\n",
       "      <td>Ahuntsic-Cartierville</td>\n",
       "      <td>1</td>\n",
       "      <td>45.538766</td>\n",
       "      <td>-73.648903</td>\n",
       "    </tr>\n",
       "    <tr>\n",
       "      <th>4</th>\n",
       "      <td>Ahuntsic-Cartierville</td>\n",
       "      <td>1</td>\n",
       "      <td>45.537107</td>\n",
       "      <td>-73.646482</td>\n",
       "    </tr>\n",
       "  </tbody>\n",
       "</table>\n",
       "</div>"
      ],
      "text/plain": [
       "          Arrondissement  Code   Latitude  Longitude\n",
       "0  Ahuntsic-Cartierville     1  45.540857 -73.644170\n",
       "1  Ahuntsic-Cartierville     1  45.539566 -73.644945\n",
       "2  Ahuntsic-Cartierville     1  45.538394 -73.645671\n",
       "3  Ahuntsic-Cartierville     1  45.538766 -73.648903\n",
       "4  Ahuntsic-Cartierville     1  45.537107 -73.646482"
      ]
     },
     "execution_count": 3,
     "metadata": {},
     "output_type": "execute_result"
    }
   ],
   "source": [
    "quartier.head()"
   ]
  },
  {
   "cell_type": "code",
   "execution_count": 4,
   "metadata": {},
   "outputs": [
    {
     "name": "stdout",
     "output_type": "stream",
     "text": [
      "(3155, 4)\n"
     ]
    }
   ],
   "source": [
    "print(quartier.shape)\n",
    "# We see that there are 3155 observations."
   ]
  },
  {
   "cell_type": "code",
   "execution_count": 5,
   "metadata": {},
   "outputs": [
    {
     "name": "stdout",
     "output_type": "stream",
     "text": [
      "Code\n",
      "1     222\n",
      "2      66\n",
      "3      37\n",
      "4     266\n",
      "5      49\n",
      "6      77\n",
      "7      34\n",
      "8      13\n",
      "9      34\n",
      "10     71\n",
      "11    140\n",
      "12    186\n",
      "13    125\n",
      "14    233\n",
      "15      7\n",
      "16    145\n",
      "17      9\n",
      "18     35\n",
      "19     43\n",
      "20    110\n",
      "21     50\n",
      "22    185\n",
      "23    240\n",
      "24    132\n",
      "25    131\n",
      "26    106\n",
      "27    120\n",
      "28    255\n",
      "29     34\n",
      "dtype: int64\n"
     ]
    }
   ],
   "source": [
    "print(quartier.groupby('Code').size())\n",
    "# Here, we observe that there are two neighbourhoods with less than 10 observations. We'll have to keep an eye on those."
   ]
  },
  {
   "cell_type": "code",
   "execution_count": 6,
   "metadata": {},
   "outputs": [
    {
     "name": "stdout",
     "output_type": "stream",
     "text": [
      "              Code     Latitude    Longitude\n",
      "count  3155.000000  3155.000000  3155.000000\n",
      "mean     15.747385    45.527098   -73.629454\n",
      "std       8.828487     0.059353     0.084256\n",
      "min       1.000000    45.416213   -73.906234\n",
      "25%       9.000000    45.479298   -73.650891\n",
      "50%      16.000000    45.526853   -73.613429\n",
      "75%      23.000000    45.568261   -73.575787\n",
      "max      29.000000    45.699618   -73.482087\n"
     ]
    }
   ],
   "source": [
    "print (quartier.describe())\n",
    "# We see that there are no missing values, or extreme values."
   ]
  },
  {
   "cell_type": "code",
   "execution_count": 7,
   "metadata": {},
   "outputs": [
    {
     "data": {
      "image/png": "[encoded data removed]",
      "text/plain": [
       "<Figure size 432x288 with 1 Axes>"
      ]
     },
     "metadata": {},
     "output_type": "display_data"
    }
   ],
   "source": [
    "quartier.plot.scatter(x=\"Latitude\", y=\"Longitude\")\n",
    "plt.show()\n",
    "# By plotting the latitude and longitude, we notice it indeed looks like the island of Montreal! There are however two big pockets (East end of Montreal and around PET Airport). "
   ]
  },
  {
   "cell_type": "code",
   "execution_count": 8,
   "metadata": {},
   "outputs": [
    {
     "data": {
      "image/png": "[encoded data removed]",
      "text/plain": [
       "<Figure size 264.75x216 with 1 Axes>"
      ]
     },
     "metadata": {},
     "output_type": "display_data"
    }
   ],
   "source": [
    "sns.FacetGrid(quartier, \n",
    "    hue=\"Code\").map(plt.scatter, \"Latitude\", \"Longitude\").add_legend()\n",
    "plt.show()\n",
    "# Good news - from the plot below, we see that the neighbourhoods are clustered together in well defined groups!"
   ]
  },
  {
   "cell_type": "code",
   "execution_count": 9,
   "metadata": {},
   "outputs": [],
   "source": [
    "# Currently, all the data is encoded in a DataFrame, but sklearn doesn't work with pandas' DataFrames, so we need to extract the features and labels and convert them into numpy arrays instead.\n",
    "labels = np.asarray(quartier.Code)"
   ]
  },
  {
   "cell_type": "code",
   "execution_count": 10,
   "metadata": {},
   "outputs": [],
   "source": [
    "# Because the Arrondissement's data type is string (and not numeric), we will run into problems when evaluating the model. Luckily, sklearn provides a tool that encodes label-strings as numerical representations. It works by going through an array of labels, and encode the first unique label as 0, then the next unique label as 1 and so on.\n",
    "#le = LabelEncoder()\n",
    "#le.fit(labels)\n",
    "\n",
    "# apply encoding to labels\n",
    "#labels = le.transform(labels)"
   ]
  },
  {
   "cell_type": "code",
   "execution_count": 11,
   "metadata": {},
   "outputs": [
    {
     "name": "stdout",
     "output_type": "stream",
     "text": [
      "       Latitude  Longitude\n",
      "0     45.540857 -73.644170\n",
      "1     45.539566 -73.644945\n",
      "2     45.538394 -73.645671\n",
      "3     45.538766 -73.648903\n",
      "4     45.537107 -73.646482\n",
      "...         ...        ...\n",
      "3150  45.484208 -73.610803\n",
      "3151  45.485861 -73.614297\n",
      "3152  45.488389 -73.615881\n",
      "3153  45.483908 -73.587629\n",
      "3154  45.484064 -73.591321\n",
      "\n",
      "[3155 rows x 2 columns]\n"
     ]
    }
   ],
   "source": [
    "# First, we want to remove all the feature columns that we don't want from the DataFrame. Now we only have the columns Latitude and Longitude left.\n",
    "quartier_selected = quartier.drop(['Code', 'Arrondissement'], axis=1)\n",
    "print(quartier_selected)"
   ]
  },
  {
   "cell_type": "code",
   "execution_count": 12,
   "metadata": {},
   "outputs": [],
   "source": [
    "# Since we want to use more than one column, we can't just simply use np.asarray(). Instead, we can use the to_dict() method together with sklearn's DictVectorizer.\n",
    "quartier_features = quartier_selected.to_dict(orient='records')"
   ]
  },
  {
   "cell_type": "code",
   "execution_count": 13,
   "metadata": {},
   "outputs": [],
   "source": [
    "# The sklearn interface for using the DictVectorizer class is similar to that of the LabelEncoder. One notable difference is the .toarray() method that is used with fit_transform.\n",
    "vec = DictVectorizer()\n",
    "features = vec.fit_transform(quartier_features).toarray()"
   ]
  },
  {
   "cell_type": "markdown",
   "metadata": {},
   "source": [
    "### 3. Classification model"
   ]
  },
  {
   "cell_type": "code",
   "execution_count": 18,
   "metadata": {},
   "outputs": [],
   "source": [
    "# Now that we have numerical features and label arrays, there's only one thing left to do: split our data up into a training and a test set.\n",
    "# Sometimes, with algorithms particularly prone to overfitting, you also have a validation set. We will try with only a training and test set for now.\n",
    "# Data split (70% training and 30% test). \n",
    "# The value of the random_state is not really important as it's just a seed number, but the act of randomizing the data is important, because right now, the data i \n",
    "from sklearn.model_selection import train_test_split\n",
    "features_train, features_test, labels_train, labels_test = train_test_split(\n",
    "    features, labels, \n",
    "    test_size=0.30, random_state=0)"
   ]
  },
  {
   "cell_type": "markdown",
   "metadata": {},
   "source": [
    "### 3.1. Random Forest Classifier"
   ]
  },
  {
   "cell_type": "code",
   "execution_count": 19,
   "metadata": {},
   "outputs": [
    {
     "data": {
      "text/plain": [
       "RandomForestClassifier()"
      ]
     },
     "execution_count": 19,
     "metadata": {},
     "output_type": "execute_result"
    }
   ],
   "source": [
    "# We will start out with a Random Forest classifier. Random Forests are simple, flexible in that they work well with a wide variety of data, and rarely overfit. One notable downside to Random Forests is that they are non-deterministic in nature, so they don't necessarily produce the same results every time you train them.\n",
    "# Import\n",
    "from sklearn.ensemble import RandomForestClassifier\n",
    "\n",
    "# Initialize\n",
    "clf = RandomForestClassifier()\n",
    "\n",
    "# Train the classifier using the training data\n",
    "clf.fit(features_train, labels_train)"
   ]
  },
  {
   "cell_type": "code",
   "execution_count": 20,
   "metadata": {},
   "outputs": [
    {
     "name": "stdout",
     "output_type": "stream",
     "text": [
      "Train Accuracy: 1.0\n"
     ]
    }
   ],
   "source": [
    "# Compute accuracy using training data\n",
    "acc_train = clf.score(features_train, labels_train)\n",
    "\n",
    "print (\"Train Accuracy:\", acc_train)\n",
    "# Train Accuracy: 100%"
   ]
  },
  {
   "cell_type": "code",
   "execution_count": 21,
   "metadata": {},
   "outputs": [
    {
     "name": "stdout",
     "output_type": "stream",
     "text": [
      "Test Accuracy: 0.9376979936642027\n"
     ]
    }
   ],
   "source": [
    "# Compute accuracy using test data\n",
    "acc_test = clf.score(features_test, labels_test)\n",
    "\n",
    "print (\"Test Accuracy:\", acc_test)\n",
    "# Test Accuracy: 94% - since this is less than the train accuracy, it suggests that the model slightly overfits, but the results are still quite good."
   ]
  },
  {
   "cell_type": "markdown",
   "metadata": {},
   "source": [
    "### 4. Prediction on new data"
   ]
  },
  {
   "cell_type": "code",
   "execution_count": 22,
   "metadata": {},
   "outputs": [
    {
     "name": "stdout",
     "output_type": "stream",
     "text": [
      "[12]\n"
     ]
    }
   ],
   "source": [
    "# Test for the BIXI station at the intersection of Milton and Clark\n",
    "bixi = [45.512520,-73.570620]\n",
    "print(clf.predict([bixi]))\n",
    "# Prediction: Neighbourhood 12 i.e. Le Plateau Mont Royal - success!!"
   ]
  },
  {
   "cell_type": "code",
   "execution_count": 23,
   "metadata": {},
   "outputs": [
    {
     "name": "stdout",
     "output_type": "stream",
     "text": [
      "[12]\n"
     ]
    }
   ],
   "source": [
    "# Test for the BIXI station at the intersection of Milton and Clark\n",
    "bixi = [45.512520,-73.570620]\n",
    "print(clf.predict([bixi]))\n",
    "# Prediction: Neighbourhood 12 i.e. Le Plateau Mont Royal - success!!"
   ]
  },
  {
   "cell_type": "markdown",
   "metadata": {
    "id": "kFH9Ad0OWdMj"
   },
   "source": [
    "# PART 2: Modeling"
   ]
  },
  {
   "cell_type": "code",
   "execution_count": 2,
   "metadata": {
    "colab": {
     "base_uri": "https://localhost:8080/"
    },
    "id": "rFvJBtj1TpwY",
    "outputId": "acaa3097-4a29-4862-c4d0-bbd2628e45fe"
   },
   "outputs": [],
   "source": [
    "# Run this line into anaconda prompt to install XGBOOST: conda install -c anaconda py-xgboost\n",
    "# XGBOOST stands for extreme gradient boosting. It is a tree based method:\n",
    "# https://machinelearningmastery.com/extreme-gradient-boosting-ensemble-in-python/ \n",
    "import xgboost as xgb\n",
    "\n",
    "# And other stuff\n",
    "from math import sqrt\n",
    "from sklearn.model_selection import train_test_split\n",
    "from sklearn.metrics import mean_squared_error\n",
    "from xgboost.sklearn import XGBRegressor\n",
    "from sklearn.model_selection import GridSearchCV\n",
    "import sklearn.metrics as metrics\n",
    "\n",
    "\n",
    "# NOTES:\n",
    "# It's a stochastic model. It will output a slightly different model every time it is run, even when fed with the same data.\n",
    "# PARAMETERS:\n",
    "# 1. n_estimators - the number of trees\n",
    "# 2. max_depth - the depth of each tree (modest depth is best)\n",
    "# 3. learning_rate (eta) - the contribution of each tree on the total\n",
    "# 4. subsample - the percetage of data on which each subtree is trained\n",
    "# 5. gamma - the loss reduction required to further split a tree. Large gamma = conservative algo.\n",
    "# 6. colsample_bytree - the amount of features used on each tree\n",
    "\n",
    "# Handles missing values built-in\n",
    "\n",
    "# Sources:\n",
    "# https://machinelearningmastery.com/extreme-gradient-boosting-ensemble-in-python/\n",
    "# https://machinelearningmastery.com/tune-learning-rate-for-gradient-boosting-with-xgboost-in-python/\n",
    "# https://www.analyticsvidhya.com/blog/2016/03/complete-guide-parameter-tuning-xgboost-with-codes-python/"
   ]
  },
  {
   "cell_type": "markdown",
   "metadata": {},
   "source": [
    "## 2.1. Getting the data ready"
   ]
  },
  {
   "cell_type": "code",
   "execution_count": 3,
   "metadata": {},
   "outputs": [],
   "source": [
    "# Let's fetch the CSVs\n",
    "# BIXI data\n",
    "url_data_hourly = 'https://raw.githubusercontent.com/gbincoletto/MATH80629A/main/data_hourly.csv'\n",
    "data_hourly = pd.read_csv(url_data_hourly)\n",
    "data_hourly = data_hourly.set_index(['dateIDh'])\n",
    "url_data_daily = 'https://raw.githubusercontent.com/gbincoletto/MATH80629A/main/data_daily.csv'\n",
    "data_daily = pd.read_csv(url_data_daily)\n",
    "data_daily = data_daily.set_index(['dateIDd'])\n",
    "url_data_monthly = 'https://raw.githubusercontent.com/gbincoletto/MATH80629A/main/data_monthly.csv'\n",
    "data_monthly = pd.read_csv(url_data_monthly)\n",
    "data_monthly = data_monthly.set_index(['dateIDm'])\n",
    "\n",
    "# Weather data\n",
    "url_weather_hourly = 'https://raw.githubusercontent.com/gbincoletto/MATH80629A/main/weather_hourly.csv'\n",
    "weather_hourly = pd.read_csv(url_weather_hourly)\n",
    "weather_hourly = weather_hourly.set_index(['dateIDh'])\n",
    "url_weather_daily = 'https://raw.githubusercontent.com/gbincoletto/MATH80629A/main/weather_daily.csv'\n",
    "weather_daily = pd.read_csv(url_weather_daily)\n",
    "weather_daily = weather_daily.set_index(['dateIDd'])\n",
    "url_weather_monthly = 'https://raw.githubusercontent.com/gbincoletto/MATH80629A/main/weather_monthly.csv'\n",
    "weather_monthly = pd.read_csv(url_weather_monthly)\n",
    "weather_monthly = weather_monthly.set_index(['dateIDm'])"
   ]
  },
  {
   "cell_type": "code",
   "execution_count": 4,
   "metadata": {},
   "outputs": [],
   "source": [
    "# I'll merge bixi data with weather data so that I have proper food to feed to xgboost\n",
    "hourly = pd.concat([weather_hourly, data_hourly], axis=1, join=\"inner\")\n",
    "hourly.to_csv('global_hourly.csv')\n",
    "daily = pd.concat([weather_daily, data_daily], axis=1, join=\"inner\")\n",
    "daily.to_csv('global_daily.csv')\n",
    "monthly = pd.concat([weather_monthly, data_monthly], axis=1, join=\"inner\")\n",
    "monthly.to_csv('global_monthly.csv')"
   ]
  },
  {
   "cell_type": "code",
   "execution_count": 5,
   "metadata": {},
   "outputs": [],
   "source": [
    "# I'm only keeping data from 2019 and past for now (training purposes)\n",
    "hourly_train = hourly[(hourly['Year'] != 2020)]\n",
    "daily_train = daily[(daily['Year'] != 2020)]\n",
    "monthly_train = monthly[(monthly['Year'] != 2020)]\n"
   ]
  },
  {
   "cell_type": "markdown",
   "metadata": {},
   "source": [
    "## 2.1.1. Preparing model evaluation function"
   ]
  },
  {
   "cell_type": "code",
   "execution_count": 6,
   "metadata": {},
   "outputs": [],
   "source": [
    "# INSPIRED BY: https://www.analyticsvidhya.com/blog/2016/03/complete-guide-parameter-tuning-xgboost-with-codes-python/\n",
    "\n",
    "def modelfit(alg, X, Y, useTrainCV=True, cv_folds=5, early_stopping_rounds=50):\n",
    "    \n",
    "    if useTrainCV:\n",
    "        xgb_param = alg.get_xgb_params()\n",
    "        xgtrain = xgb.DMatrix(X.values, label=Y.values)\n",
    "        cvresult = xgb.cv(xgb_param, xgtrain, num_boost_round=alg.get_params()['n_estimators'], nfold=cv_folds,\n",
    "            metrics='rmse', early_stopping_rounds=early_stopping_rounds)\n",
    "        alg.set_params(n_estimators=cvresult.shape[0])\n",
    "    \n",
    "    #Fit the algorithm on the data\n",
    "    alg.fit(X, Y,eval_metric='rmse')\n",
    "        \n",
    "    #Predict training set:\n",
    "    dtrain_predictions = alg.predict(X)\n",
    "        \n",
    "    #Print model report:\n",
    "    print(\"\\nModel Report:\")\n",
    "    print(\"Best number of estimators:\", cvresult.shape[0])\n",
    "    print(\"RMSE : %.2f\" % sqrt(metrics.mean_squared_error(Y.values, dtrain_predictions)))\n",
    "    print(\"nRMSE : \", round(sqrt(metrics.mean_squared_error(Y.values, dtrain_predictions))/Y.mean()*100,4), '% - The lower, the better!')\n",
    "                    \n",
    "    feat_imp = pd.Series(alg.get_booster().get_score(importance_type='weight')).sort_values(ascending=False)\n",
    "    feat_imp.plot(kind='bar', title='Feature Importances')\n",
    "    plt.ylabel('Feature Importance Score')"
   ]
  },
  {
   "cell_type": "markdown",
   "metadata": {},
   "source": [
    "## 2.2. Hourly XGBOOST Model"
   ]
  },
  {
   "cell_type": "markdown",
   "metadata": {},
   "source": [
    "### 2.2.1. Weather only"
   ]
  },
  {
   "cell_type": "code",
   "execution_count": 7,
   "metadata": {},
   "outputs": [],
   "source": [
    "# First, let us use the weather data to predict only hourly traffic\n",
    "# TEST CV\n",
    "X = hourly_train.drop(['dateIDd', 'dateIDm', 'Year', 'Month', 'Day', 'Hour', 'Weekday', 'Holiday', 'Duration', 'Volume'], axis=1)\n",
    "Y1 = hourly_train['Volume']\n",
    "Y2 = hourly_train['Duration']\n"
   ]
  },
  {
   "cell_type": "code",
   "execution_count": 8,
   "metadata": {},
   "outputs": [
    {
     "name": "stdout",
     "output_type": "stream",
     "text": [
      "\n",
      "Model Report:\n",
      "Best number of estimators: 558\n",
      "RMSE : 522.86\n",
      "nRMSE :  56.3862 % - The lower, the better!\n"
     ]
    },
    {
     "data": {
      "image/png": "[encoded data removed]",
      "text/plain": [
       "<Figure size 432x288 with 1 Axes>"
      ]
     },
     "metadata": {
      "needs_background": "light"
     },
     "output_type": "display_data"
    }
   ],
   "source": [
    "# Define the initial model with near-random parameters. (by near random, I mean that I am choosing them)\n",
    "# This one predicts volume...\n",
    "xgb_W1_Y = xgb.XGBRegressor(\n",
    "    objective='reg:squarederror',\n",
    "    gamma=0.1,                 \n",
    "    eta=0.01,\n",
    "    max_depth=3,\n",
    "    n_estimators=10000,\n",
    "    min_child_weight=1,\n",
    "    subsample=0.8,\n",
    "    colsample_bytree=0.8,\n",
    "    random_state=34\n",
    ") \n",
    "\n",
    "# Fit for volume\n",
    "modelfit(xgb_W1_Y,X,Y1)"
   ]
  },
  {
   "cell_type": "code",
   "execution_count": 9,
   "metadata": {},
   "outputs": [
    {
     "name": "stdout",
     "output_type": "stream",
     "text": [
      "\n",
      "Model Report:\n",
      "Best number of estimators: 456\n",
      "RMSE : 72.42\n",
      "nRMSE :  9.5866 % - The lower, the better!\n"
     ]
    },
    {
     "data": {
      "image/png": "[encoded data removed]",
      "text/plain": [
       "<Figure size 432x288 with 1 Axes>"
      ]
     },
     "metadata": {
      "needs_background": "light"
     },
     "output_type": "display_data"
    }
   ],
   "source": [
    "# Fit for duration\n",
    "modelfit(xgb_W1_Y,X,Y2)"
   ]
  },
  {
   "cell_type": "code",
   "execution_count": null,
   "metadata": {},
   "outputs": [],
   "source": [
    "# Tune-in of parameters from https://www.analyticsvidhya.com/blog/2016/03/complete-guide-parameter-tuning-xgboost-with-codes-python/ \n",
    "# Step 1: max_depth,min_child_weight\n",
    "\n",
    "\n",
    "# The paramters we want to test:\n",
    "param_test1 = {\n",
    " 'max_depth':range(3,7,2),\n",
    " 'min_child_weight':range(1,4,2)\n",
    "}\n",
    "\n",
    "# Automatic grid search!\n",
    "gsearch1 = GridSearchCV(estimator = XGBRegressor(\n",
    "    objective='reg:squarederror',\n",
    "    gamma=0.1,                 \n",
    "    eta=0.01,\n",
    "    max_depth=3,\n",
    "    n_estimators=10000,\n",
    "    min_child_weight=1,\n",
    "    subsample=0.8,\n",
    "    colsample_bytree=0.8,\n",
    "    random_state=34\n",
    "), \n",
    " param_grid = param_test1, scoring='neg_root_mean_squared_error',n_jobs=-1, cv=5)\n",
    "gsearch1.fit(X,Y)\n",
    "\n",
    "# Display results\n",
    "print(\"Best: %f using %s\" % (gsearch1.best_score_, gsearch1.best_params_))\n",
    "means = gsearch1.cv_results_['mean_test_score']\n",
    "params = gsearch1.cv_results_['params']\n",
    "for mean, param in zip(means, params):\n",
    "    print(\"%f with: %r\" % (mean, param))"
   ]
  },
  {
   "cell_type": "code",
   "execution_count": null,
   "metadata": {},
   "outputs": [],
   "source": [
    "print(\"Best: %f using %s\" % (gsearch1.best_score_, gsearch1.best_params_))\n",
    "means = gsearch1.cv_results_['mean_test_score']\n",
    "params = gsearch1.cv_results_['params']\n",
    "for mean, param in zip(means, params):\n",
    "    print(\"%f with: %r\" % (mean, param))"
   ]
  },
  {
   "cell_type": "code",
   "execution_count": null,
   "metadata": {},
   "outputs": [],
   "source": [
    "# Update the model with the results from the first grid search\n",
    "mod2 = xgb.XGBRegressor(\n",
    "    objective='reg:squarederror',\n",
    "    gamma=0.1,                 \n",
    "    eta=0.01,\n",
    "    max_depth=3,\n",
    "    n_estimators=10000,\n",
    "    min_child_weight=3,\n",
    "    subsample=0.8,\n",
    "    colsample_bytree=0.8,\n",
    "    random_state=34\n",
    ") \n",
    "modelfit(mod2,X,Y)"
   ]
  },
  {
   "cell_type": "markdown",
   "metadata": {},
   "source": [
    "### 2.2.2. Calendar and weather"
   ]
  },
  {
   "cell_type": "code",
   "execution_count": 29,
   "metadata": {},
   "outputs": [],
   "source": [
    "# SPlITTING DATA\n",
    "X = hourly_train.drop(['dateIDd', 'dateIDm', 'Duration', 'Volume'], axis=1)\n",
    "Y1 = hourly_train['Volume']\n",
    "Y2 = hourly_train['Duration']"
   ]
  },
  {
   "cell_type": "code",
   "execution_count": 30,
   "metadata": {},
   "outputs": [
    {
     "name": "stdout",
     "output_type": "stream",
     "text": [
      "\n",
      "Model Report:\n",
      "Best number of estimators: 5167\n",
      "RMSE : 92.69\n",
      "nRMSE :  9.9963 % - The lower, the better!\n"
     ]
    },
    {
     "data": {
      "image/png": "[encoded data removed]",
      "text/plain": [
       "<Figure size 432x288 with 1 Axes>"
      ]
     },
     "metadata": {
      "needs_background": "light"
     },
     "output_type": "display_data"
    }
   ],
   "source": [
    "# Basic Model (Weather+Calendar only) for VOLUME\n",
    "xgb_WC1_Y = xgb.XGBRegressor(\n",
    "    objective='reg:squarederror',\n",
    "    gamma=0.1,                 \n",
    "    eta=0.01,\n",
    "    max_depth=3,\n",
    "    n_estimators=10000,\n",
    "    min_child_weight=1,\n",
    "    subsample=0.8,\n",
    "    colsample_bytree=0.8,\n",
    "    random_state=34\n",
    ") \n",
    "\n",
    "# Show fit\n",
    "modelfit(xgb_WC1_Y,X,Y1)"
   ]
  },
  {
   "cell_type": "code",
   "execution_count": 31,
   "metadata": {},
   "outputs": [
    {
     "name": "stdout",
     "output_type": "stream",
     "text": [
      "\n",
      "Model Report:\n",
      "Best number of estimators: 994\n",
      "RMSE : 47.90\n",
      "nRMSE :  6.3413 % - The lower, the better!\n"
     ]
    },
    {
     "data": {
      "image/png": "[encoded data removed]",
      "text/plain": [
       "<Figure size 432x288 with 1 Axes>"
      ]
     },
     "metadata": {
      "needs_background": "light"
     },
     "output_type": "display_data"
    }
   ],
   "source": [
    "# Show fit for duration\n",
    "modelfit(xgb_WC1_Y,X,Y2)"
   ]
  },
  {
   "cell_type": "markdown",
   "metadata": {},
   "source": [
    "VOLUME"
   ]
  },
  {
   "cell_type": "code",
   "execution_count": 32,
   "metadata": {},
   "outputs": [
    {
     "name": "stdout",
     "output_type": "stream",
     "text": [
      "Best: -193.946270 using {'max_depth': 8, 'min_child_weight': 7}\n",
      "-271.578820 with: {'max_depth': 2, 'min_child_weight': 1}\n",
      "-270.168204 with: {'max_depth': 2, 'min_child_weight': 4}\n",
      "-269.650267 with: {'max_depth': 2, 'min_child_weight': 7}\n",
      "-207.114866 with: {'max_depth': 4, 'min_child_weight': 1}\n",
      "-210.614586 with: {'max_depth': 4, 'min_child_weight': 4}\n",
      "-209.268866 with: {'max_depth': 4, 'min_child_weight': 7}\n",
      "-194.497958 with: {'max_depth': 6, 'min_child_weight': 1}\n",
      "-195.984876 with: {'max_depth': 6, 'min_child_weight': 4}\n",
      "-195.513930 with: {'max_depth': 6, 'min_child_weight': 7}\n",
      "-197.618765 with: {'max_depth': 8, 'min_child_weight': 1}\n",
      "-194.917401 with: {'max_depth': 8, 'min_child_weight': 4}\n",
      "-193.946270 with: {'max_depth': 8, 'min_child_weight': 7}\n"
     ]
    }
   ],
   "source": [
    "# Detailed fit for VOLUME\n",
    "# Tune-in of parameters from https://www.analyticsvidhya.com/blog/2016/03/complete-guide-parameter-tuning-xgboost-with-codes-python/ \n",
    "# Step 1: max_depth,min_child_weight\n",
    "\n",
    "# The parameters we want to test:\n",
    "param_test1 = {\n",
    " 'max_depth':range(2,10,2),\n",
    " 'min_child_weight':range(1,10,3)\n",
    "}\n",
    "\n",
    "# Automatic grid search!\n",
    "gsearch1 = GridSearchCV(estimator = XGBRegressor(\n",
    "    objective='reg:squarederror',\n",
    "    gamma=0.1,                 \n",
    "    eta=0.01,\n",
    "    max_depth=3,\n",
    "    n_estimators=10000,\n",
    "    min_child_weight=1,\n",
    "    subsample=0.8,\n",
    "    colsample_bytree=0.8,\n",
    "    random_state=34\n",
    "), \n",
    " param_grid = param_test1, scoring='neg_root_mean_squared_error',n_jobs=-1, cv=5)\n",
    "\n",
    "# Fit\n",
    "gsearch1.fit(X,Y1)\n",
    "\n",
    "# Display results\n",
    "print(\"Best: %f using %s\" % (gsearch1.best_score_, gsearch1.best_params_))\n",
    "means = gsearch1.cv_results_['mean_test_score']\n",
    "params = gsearch1.cv_results_['params']\n",
    "for mean, param in zip(means, params):\n",
    "    print(\"%f with: %r\" % (mean, param))"
   ]
  },
  {
   "cell_type": "code",
   "execution_count": 36,
   "metadata": {},
   "outputs": [
    {
     "name": "stdout",
     "output_type": "stream",
     "text": [
      "Best: -193.946270 using {'max_depth': 8, 'min_child_weight': 7}\n",
      "-194.917401 with: {'max_depth': 8, 'min_child_weight': 4}\n",
      "-193.946270 with: {'max_depth': 8, 'min_child_weight': 7}\n",
      "-194.613792 with: {'max_depth': 8, 'min_child_weight': 10}\n",
      "-204.455753 with: {'max_depth': 10, 'min_child_weight': 4}\n",
      "-203.841303 with: {'max_depth': 10, 'min_child_weight': 7}\n",
      "-202.202081 with: {'max_depth': 10, 'min_child_weight': 10}\n",
      "-216.335630 with: {'max_depth': 12, 'min_child_weight': 4}\n",
      "-210.334468 with: {'max_depth': 12, 'min_child_weight': 7}\n",
      "-206.788179 with: {'max_depth': 12, 'min_child_weight': 10}\n"
     ]
    }
   ],
   "source": [
    "# Additional testing is required:\n",
    "\n",
    "# The parameters we want to test:\n",
    "param_test1 = {\n",
    " 'max_depth':range(8,13,2),\n",
    " 'min_child_weight':range(4,11,3)\n",
    "}\n",
    "\n",
    "# Automatic grid search!\n",
    "gsearch1 = GridSearchCV(estimator = XGBRegressor(\n",
    "    objective='reg:squarederror',\n",
    "    gamma=0.1,                 \n",
    "    eta=0.01,\n",
    "    max_depth=3,\n",
    "    n_estimators=10000,\n",
    "    min_child_weight=1,\n",
    "    subsample=0.8,\n",
    "    colsample_bytree=0.8,\n",
    "    random_state=34\n",
    "), \n",
    " param_grid = param_test1, scoring='neg_root_mean_squared_error',n_jobs=-1, cv=5)\n",
    "\n",
    "# Fit\n",
    "gsearch1.fit(X,Y1)\n",
    "\n",
    "# Display results\n",
    "print(\"Best: %f using %s\" % (gsearch1.best_score_, gsearch1.best_params_))\n",
    "means = gsearch1.cv_results_['mean_test_score']\n",
    "params = gsearch1.cv_results_['params']\n",
    "for mean, param in zip(means, params):\n",
    "    print(\"%f with: %r\" % (mean, param))"
   ]
  },
  {
   "cell_type": "code",
   "execution_count": 34,
   "metadata": {},
   "outputs": [
    {
     "name": "stdout",
     "output_type": "stream",
     "text": [
      "\n",
      "Model Report:\n",
      "Best number of estimators: 2223\n",
      "RMSE : 1.52\n",
      "nRMSE :  0.164 % - The lower, the better!\n"
     ]
    },
    {
     "data": {
      "image/png": "[encoded data removed]",
      "text/plain": [
       "<Figure size 432x288 with 1 Axes>"
      ]
     },
     "metadata": {
      "needs_background": "light"
     },
     "output_type": "display_data"
    }
   ],
   "source": [
    "# Update 1 VOLUME \n",
    "xgb_WC2_Y1 = xgb.XGBRegressor(\n",
    "    objective='reg:squarederror',\n",
    "    gamma=0.1,                 \n",
    "    eta=0.01,\n",
    "    max_depth=8,\n",
    "    n_estimators=10000,\n",
    "    min_child_weight=7,\n",
    "    subsample=0.8,\n",
    "    colsample_bytree=0.8,\n",
    "    random_state=34\n",
    ") \n",
    "modelfit(xgb_WC2_Y1,X,Y1)"
   ]
  },
  {
   "cell_type": "code",
   "execution_count": 39,
   "metadata": {},
   "outputs": [
    {
     "name": "stdout",
     "output_type": "stream",
     "text": [
      "Best: -193.876874 using {'gamma': 1.0}\n",
      "-193.918617 with: {'gamma': 0.0}\n",
      "-193.962339 with: {'gamma': 0.2}\n",
      "-193.917811 with: {'gamma': 0.4}\n",
      "-193.908998 with: {'gamma': 0.6}\n",
      "-193.928721 with: {'gamma': 0.8}\n",
      "-193.876874 with: {'gamma': 1.0}\n"
     ]
    }
   ],
   "source": [
    "# Step 2: gamma\n",
    "\n",
    "# The parameters we want to test:\n",
    "param_test2 = {\n",
    " 'gamma':[i/10 for i in range(0,11,2)]\n",
    "}\n",
    "\n",
    "# Automatic grid search!\n",
    "gsearch2 = GridSearchCV(estimator = XGBRegressor(\n",
    "    objective='reg:squarederror',\n",
    "    gamma=0.1,                 \n",
    "    eta=0.01,\n",
    "    max_depth=8,\n",
    "    n_estimators=10000,\n",
    "    min_child_weight=7,\n",
    "    subsample=0.8,\n",
    "    colsample_bytree=0.8,\n",
    "    random_state=34\n",
    "), \n",
    " param_grid = param_test2, scoring='neg_root_mean_squared_error',n_jobs=-1, cv=5)\n",
    "\n",
    "# Fit\n",
    "gsearch2.fit(X,Y1)\n",
    "\n",
    "# Display results\n",
    "print(\"Best: %f using %s\" % (gsearch2.best_score_, gsearch2.best_params_))\n",
    "means = gsearch2.cv_results_['mean_test_score']\n",
    "params = gsearch2.cv_results_['params']\n",
    "for mean, param in zip(means, params):\n",
    "    print(\"%f with: %r\" % (mean, param))"
   ]
  },
  {
   "cell_type": "code",
   "execution_count": 41,
   "metadata": {},
   "outputs": [
    {
     "name": "stdout",
     "output_type": "stream",
     "text": [
      "Best: -194.090124 using {'gamma': 4}\n",
      "-194.124014 with: {'gamma': 2}\n",
      "-194.095515 with: {'gamma': 3}\n",
      "-194.090124 with: {'gamma': 4}\n"
     ]
    }
   ],
   "source": [
    "# Step 2: gamma - more testing!\n",
    "\n",
    "# The parameters we want to test:\n",
    "param_test2 = {\n",
    " 'gamma':range(2,5)\n",
    "}\n",
    "\n",
    "# Automatic grid search!\n",
    "gsearch2 = GridSearchCV(estimator = XGBRegressor(\n",
    "    objective='reg:squarederror',\n",
    "    gamma=0.1,                 \n",
    "    eta=0.01,\n",
    "    max_depth=8,\n",
    "    n_estimators=10000,\n",
    "    min_child_weight=7,\n",
    "    subsample=0.8,\n",
    "    colsample_bytree=0.8,\n",
    "    random_state=34\n",
    "), \n",
    " param_grid = param_test2, scoring='neg_root_mean_squared_error',n_jobs=-1, cv=5)\n",
    "\n",
    "# Fit\n",
    "gsearch2.fit(X,Y1)\n",
    "\n",
    "# Display results\n",
    "print(\"Best: %f using %s\" % (gsearch2.best_score_, gsearch2.best_params_))\n",
    "means = gsearch2.cv_results_['mean_test_score']\n",
    "params = gsearch2.cv_results_['params']\n",
    "for mean, param in zip(means, params):\n",
    "    print(\"%f with: %r\" % (mean, param))"
   ]
  },
  {
   "cell_type": "code",
   "execution_count": 43,
   "metadata": {},
   "outputs": [
    {
     "name": "stdout",
     "output_type": "stream",
     "text": [
      "\n",
      "Model Report:\n",
      "Best number of estimators: 2511\n",
      "RMSE : 1.12\n",
      "nRMSE :  0.1213 % - The lower, the better!\n"
     ]
    },
    {
     "data": {
      "image/png": "[encoded data removed]",
      "text/plain": [
       "<Figure size 432x288 with 1 Axes>"
      ]
     },
     "metadata": {
      "needs_background": "light"
     },
     "output_type": "display_data"
    }
   ],
   "source": [
    "# Update 2 VOLUME \n",
    "xgb_WC3_Y1 = xgb.XGBRegressor(\n",
    "    objective='reg:squarederror',\n",
    "    gamma=4,                 \n",
    "    eta=0.01,\n",
    "    max_depth=8,\n",
    "    n_estimators=10000,\n",
    "    min_child_weight=7,\n",
    "    subsample=0.8,\n",
    "    colsample_bytree=0.8,\n",
    "    random_state=34\n",
    ") \n",
    "modelfit(xgb_WC3_Y1,X,Y1)"
   ]
  },
  {
   "cell_type": "code",
   "execution_count": 44,
   "metadata": {},
   "outputs": [
    {
     "name": "stdout",
     "output_type": "stream",
     "text": [
      "Best: -191.118910 using {'colsample_bytree': 0.9, 'subsample': 0.9}\n",
      "-201.010345 with: {'colsample_bytree': 0.6, 'subsample': 0.6}\n",
      "-199.413002 with: {'colsample_bytree': 0.6, 'subsample': 0.7}\n",
      "-198.930018 with: {'colsample_bytree': 0.6, 'subsample': 0.8}\n",
      "-197.573478 with: {'colsample_bytree': 0.6, 'subsample': 0.9}\n",
      "-199.555305 with: {'colsample_bytree': 0.7, 'subsample': 0.6}\n",
      "-199.383692 with: {'colsample_bytree': 0.7, 'subsample': 0.7}\n",
      "-197.017568 with: {'colsample_bytree': 0.7, 'subsample': 0.8}\n",
      "-196.947495 with: {'colsample_bytree': 0.7, 'subsample': 0.9}\n",
      "-194.504289 with: {'colsample_bytree': 0.8, 'subsample': 0.6}\n",
      "-195.031769 with: {'colsample_bytree': 0.8, 'subsample': 0.7}\n",
      "-194.090124 with: {'colsample_bytree': 0.8, 'subsample': 0.8}\n",
      "-195.216647 with: {'colsample_bytree': 0.8, 'subsample': 0.9}\n",
      "-193.801556 with: {'colsample_bytree': 0.9, 'subsample': 0.6}\n",
      "-191.497611 with: {'colsample_bytree': 0.9, 'subsample': 0.7}\n",
      "-194.777723 with: {'colsample_bytree': 0.9, 'subsample': 0.8}\n",
      "-191.118910 with: {'colsample_bytree': 0.9, 'subsample': 0.9}\n"
     ]
    }
   ],
   "source": [
    "# Step 3: Subsample & colsample\n",
    "\n",
    "# The parameters we want to test:\n",
    "param_test3 = {\n",
    " 'subsample':[i/10.0 for i in range(6,10)],\n",
    " 'colsample_bytree':[i/10.0 for i in range(6,10)]\n",
    "}\n",
    "\n",
    "# Automatic grid search!\n",
    "gsearch3 = GridSearchCV(estimator = XGBRegressor(\n",
    "    objective='reg:squarederror',\n",
    "    gamma=4,                 \n",
    "    eta=0.01,\n",
    "    max_depth=8,\n",
    "    n_estimators=10000,\n",
    "    min_child_weight=7,\n",
    "    subsample=0.8,\n",
    "    colsample_bytree=0.8,\n",
    "    random_state=34\n",
    "), \n",
    " param_grid = param_test3, scoring='neg_root_mean_squared_error',n_jobs=-1, cv=5)\n",
    "\n",
    "# Fit\n",
    "gsearch3.fit(X,Y1)\n",
    "\n",
    "# Display results\n",
    "print(\"Best: %f using %s\" % (gsearch3.best_score_, gsearch3.best_params_))\n",
    "means = gsearch3.cv_results_['mean_test_score']\n",
    "params = gsearch3.cv_results_['params']\n",
    "for mean, param in zip(means, params):\n",
    "    print(\"%f with: %r\" % (mean, param))"
   ]
  },
  {
   "cell_type": "code",
   "execution_count": 47,
   "metadata": {},
   "outputs": [
    {
     "name": "stdout",
     "output_type": "stream",
     "text": [
      "\n",
      "Model Report:\n",
      "Best number of estimators: 1394\n",
      "RMSE : 6.69\n",
      "nRMSE :  0.7217 % - The lower, the better!\n"
     ]
    },
    {
     "data": {
      "image/png": "[encoded data removed]",
      "text/plain": [
       "<Figure size 432x288 with 1 Axes>"
      ]
     },
     "metadata": {
      "needs_background": "light"
     },
     "output_type": "display_data"
    }
   ],
   "source": [
    "# Update 3 DURATION\n",
    "xgb_WC4_Y1 = xgb.XGBRegressor(\n",
    "    objective='reg:squarederror',\n",
    "    gamma=4,                 \n",
    "    eta=0.01,\n",
    "    max_depth=8,\n",
    "    n_estimators=10000,\n",
    "    min_child_weight=7,\n",
    "    subsample=0.9,\n",
    "    colsample_bytree=0.9,\n",
    "    random_state=34\n",
    ") \n",
    "modelfit(xgb_WC4_Y1,X,Y1)"
   ]
  },
  {
   "cell_type": "code",
   "execution_count": 50,
   "metadata": {},
   "outputs": [
    {
     "name": "stdout",
     "output_type": "stream",
     "text": [
      "Best: -285.057961 using {'reg_alpha': 0.001}\n",
      "-285.926990 with: {'reg_alpha': 0}\n",
      "-285.057961 with: {'reg_alpha': 0.001}\n",
      "-285.958411 with: {'reg_alpha': 0.005}\n",
      "-286.077525 with: {'reg_alpha': 0.01}\n",
      "-285.392836 with: {'reg_alpha': 0.05}\n"
     ]
    }
   ],
   "source": [
    "# Step 4: Regularization\n",
    "\n",
    "# The parameters we want to test:\n",
    "param_test4 = {\n",
    " 'reg_alpha':[0, 0.001, 0.005, 0.01, 0.05]\n",
    "}\n",
    "\n",
    "# Automatic grid search!\n",
    "gsearch4 = GridSearchCV(estimator = XGBRegressor(\n",
    "    objective='reg:squarederror',\n",
    "    gamma=0,                 \n",
    "    eta=0.01,\n",
    "    max_depth=2,\n",
    "    n_estimators=10000,\n",
    "    min_child_weight=1,\n",
    "    subsample=0.9,\n",
    "    colsample_bytree=0.6,\n",
    "    random_state=34\n",
    "), \n",
    " param_grid = param_test4, scoring='neg_root_mean_squared_error',n_jobs=-1, cv=5)\n",
    "\n",
    "# Fit\n",
    "gsearch4.fit(X,Y1)\n",
    "\n",
    "# Display results\n",
    "print(\"Best: %f using %s\" % (gsearch4.best_score_, gsearch4.best_params_))\n",
    "means = gsearch4.cv_results_['mean_test_score']\n",
    "params = gsearch4.cv_results_['params']\n",
    "for mean, param in zip(means, params):\n",
    "    print(\"%f with: %r\" % (mean, param))"
   ]
  },
  {
   "cell_type": "code",
   "execution_count": 52,
   "metadata": {},
   "outputs": [
    {
     "name": "stdout",
     "output_type": "stream",
     "text": [
      "\n",
      "Model Report:\n",
      "Best number of estimators: 1702\n",
      "RMSE : 3.94\n",
      "nRMSE :  0.4245 % - The lower, the better!\n"
     ]
    },
    {
     "data": {
      "image/png": "[encoded data removed]",
      "text/plain": [
       "<Figure size 432x288 with 1 Axes>"
      ]
     },
     "metadata": {
      "needs_background": "light"
     },
     "output_type": "display_data"
    }
   ],
   "source": [
    "# FINAL MODEL\n",
    "# Won't decrease learning rate because computational limits\n",
    "xgb_WC5_Y1 = xgb.XGBRegressor(\n",
    "    objective='reg:squarederror',\n",
    "    gamma=4,                 \n",
    "    eta=0.01,\n",
    "    max_depth=8,\n",
    "    n_estimators=10000,\n",
    "    min_child_weight=7,\n",
    "    subsample=0.9,\n",
    "    colsample_bytree=0.9,\n",
    "    reg_alpha = 0.001,\n",
    "    random_state=34\n",
    ") \n",
    "modelfit(xgb_WC5_Y1,X,Y1)"
   ]
  },
  {
   "cell_type": "markdown",
   "metadata": {},
   "source": [
    "DURATION"
   ]
  },
  {
   "cell_type": "code",
   "execution_count": 33,
   "metadata": {},
   "outputs": [
    {
     "name": "stdout",
     "output_type": "stream",
     "text": [
      "Best: -63.940243 using {'max_depth': 8, 'min_child_weight': 4}\n",
      "-68.281483 with: {'max_depth': 2, 'min_child_weight': 1}\n",
      "-67.649746 with: {'max_depth': 2, 'min_child_weight': 4}\n",
      "-67.330437 with: {'max_depth': 2, 'min_child_weight': 7}\n",
      "-68.588744 with: {'max_depth': 4, 'min_child_weight': 1}\n",
      "-68.752710 with: {'max_depth': 4, 'min_child_weight': 4}\n",
      "-69.002353 with: {'max_depth': 4, 'min_child_weight': 7}\n",
      "-65.373992 with: {'max_depth': 6, 'min_child_weight': 1}\n",
      "-65.691409 with: {'max_depth': 6, 'min_child_weight': 4}\n",
      "-65.530140 with: {'max_depth': 6, 'min_child_weight': 7}\n",
      "-64.079461 with: {'max_depth': 8, 'min_child_weight': 1}\n",
      "-63.940243 with: {'max_depth': 8, 'min_child_weight': 4}\n",
      "-64.422548 with: {'max_depth': 8, 'min_child_weight': 7}\n"
     ]
    }
   ],
   "source": [
    "# Detailed fit for DURATION\n",
    "# Tune-in of parameters from https://www.analyticsvidhya.com/blog/2016/03/complete-guide-parameter-tuning-xgboost-with-codes-python/ \n",
    "# Step 1: max_depth,min_child_weight\n",
    "\n",
    "# The parameters we want to test:\n",
    "param_test1 = {\n",
    " 'max_depth':range(2,10,2),\n",
    " 'min_child_weight':range(1,10,3)\n",
    "}\n",
    "\n",
    "# Automatic grid search!\n",
    "gsearch1 = GridSearchCV(estimator = XGBRegressor(\n",
    "    objective='reg:squarederror',\n",
    "    gamma=0.1,                 \n",
    "    eta=0.01,\n",
    "    max_depth=3,\n",
    "    n_estimators=10000,\n",
    "    min_child_weight=1,\n",
    "    subsample=0.8,\n",
    "    colsample_bytree=0.8,\n",
    "    random_state=34\n",
    "), \n",
    " param_grid = param_test1, scoring='neg_root_mean_squared_error',n_jobs=-1, cv=5)\n",
    "\n",
    "# Fit\n",
    "gsearch1.fit(X,Y2)\n",
    "\n",
    "# Display results\n",
    "print(\"Best: %f using %s\" % (gsearch1.best_score_, gsearch1.best_params_))\n",
    "means = gsearch1.cv_results_['mean_test_score']\n",
    "params = gsearch1.cv_results_['params']\n",
    "for mean, param in zip(means, params):\n",
    "    print(\"%f with: %r\" % (mean, param))"
   ]
  },
  {
   "cell_type": "code",
   "execution_count": 40,
   "metadata": {},
   "outputs": [
    {
     "name": "stdout",
     "output_type": "stream",
     "text": [
      "Best: -63.545278 using {'max_depth': 12, 'min_child_weight': 4}\n",
      "-63.940243 with: {'max_depth': 8, 'min_child_weight': 4}\n",
      "-64.422548 with: {'max_depth': 8, 'min_child_weight': 7}\n",
      "-64.843922 with: {'max_depth': 8, 'min_child_weight': 10}\n",
      "-63.725450 with: {'max_depth': 10, 'min_child_weight': 4}\n",
      "-64.109978 with: {'max_depth': 10, 'min_child_weight': 7}\n",
      "-64.565326 with: {'max_depth': 10, 'min_child_weight': 10}\n",
      "-63.545278 with: {'max_depth': 12, 'min_child_weight': 4}\n",
      "-63.641867 with: {'max_depth': 12, 'min_child_weight': 7}\n",
      "-64.112768 with: {'max_depth': 12, 'min_child_weight': 10}\n"
     ]
    }
   ],
   "source": [
    "# Additional testing is required:\n",
    "\n",
    "# The parameters we want to test:\n",
    "param_test1 = {\n",
    " 'max_depth':range(8,13,2),\n",
    " 'min_child_weight':range(4,11,3)\n",
    "}\n",
    "\n",
    "# Automatic grid search!\n",
    "gsearch1 = GridSearchCV(estimator = XGBRegressor(\n",
    "    objective='reg:squarederror',\n",
    "    gamma=0.1,                 \n",
    "    eta=0.01,\n",
    "    max_depth=3,\n",
    "    n_estimators=10000,\n",
    "    min_child_weight=1,\n",
    "    subsample=0.8,\n",
    "    colsample_bytree=0.8,\n",
    "    random_state=34\n",
    "), \n",
    " param_grid = param_test1, scoring='neg_root_mean_squared_error',n_jobs=-1, cv=5)\n",
    "\n",
    "# Fit\n",
    "gsearch1.fit(X,Y2)\n",
    "\n",
    "# Display results\n",
    "print(\"Best: %f using %s\" % (gsearch1.best_score_, gsearch1.best_params_))\n",
    "means = gsearch1.cv_results_['mean_test_score']\n",
    "params = gsearch1.cv_results_['params']\n",
    "for mean, param in zip(means, params):\n",
    "    print(\"%f with: %r\" % (mean, param))"
   ]
  },
  {
   "cell_type": "code",
   "execution_count": 35,
   "metadata": {},
   "outputs": [
    {
     "name": "stdout",
     "output_type": "stream",
     "text": [
      "\n",
      "Model Report:\n",
      "Best number of estimators: 126\n",
      "RMSE : 36.51\n",
      "nRMSE :  4.8339 % - The lower, the better!\n"
     ]
    },
    {
     "data": {
      "image/png": "[encoded data removed]",
      "text/plain": [
       "<Figure size 432x288 with 1 Axes>"
      ]
     },
     "metadata": {
      "needs_background": "light"
     },
     "output_type": "display_data"
    }
   ],
   "source": [
    "# Update 1 DURATION \n",
    "xgb_WC2_Y2 = xgb.XGBRegressor(\n",
    "    objective='reg:squarederror',\n",
    "    gamma=0.1,                 \n",
    "    eta=0.01,\n",
    "    max_depth=8,\n",
    "    n_estimators=10000,\n",
    "    min_child_weight=4,\n",
    "    subsample=0.8,\n",
    "    colsample_bytree=0.8,\n",
    "    random_state=34\n",
    ") \n",
    "modelfit(xgb_WC2_Y2,X,Y2)"
   ]
  },
  {
   "cell_type": "code",
   "execution_count": 42,
   "metadata": {},
   "outputs": [
    {
     "name": "stdout",
     "output_type": "stream",
     "text": [
      "Best: -63.809751 using {'gamma': 2}\n",
      "-63.953343 with: {'gamma': 0}\n",
      "-63.906707 with: {'gamma': 1}\n",
      "-63.809751 with: {'gamma': 2}\n",
      "-63.884591 with: {'gamma': 3}\n",
      "-64.153606 with: {'gamma': 4}\n"
     ]
    }
   ],
   "source": [
    "# Step 2: gamma\n",
    "\n",
    "# The parameters we want to test:\n",
    "param_test2 = {\n",
    " 'gamma':range(0,5)\n",
    "}\n",
    "\n",
    "# Automatic grid search!\n",
    "gsearch2 = GridSearchCV(estimator = XGBRegressor(\n",
    "    objective='reg:squarederror',\n",
    "    gamma=0.1,                 \n",
    "    eta=0.01,\n",
    "    max_depth=8,\n",
    "    n_estimators=10000,\n",
    "    min_child_weight=4,\n",
    "    subsample=0.8,\n",
    "    colsample_bytree=0.8,\n",
    "    random_state=34\n",
    "), \n",
    " param_grid = param_test2, scoring='neg_root_mean_squared_error',n_jobs=-1, cv=5)\n",
    "\n",
    "# Fit\n",
    "gsearch2.fit(X,Y2)\n",
    "\n",
    "# Display results\n",
    "print(\"Best: %f using %s\" % (gsearch2.best_score_, gsearch2.best_params_))\n",
    "means = gsearch2.cv_results_['mean_test_score']\n",
    "params = gsearch2.cv_results_['params']\n",
    "for mean, param in zip(means, params):\n",
    "    print(\"%f with: %r\" % (mean, param))"
   ]
  },
  {
   "cell_type": "code",
   "execution_count": 45,
   "metadata": {},
   "outputs": [
    {
     "name": "stdout",
     "output_type": "stream",
     "text": [
      "\n",
      "Model Report:\n",
      "Best number of estimators: 156\n",
      "RMSE : 33.40\n",
      "nRMSE :  4.4213 % - The lower, the better!\n"
     ]
    },
    {
     "data": {
      "image/png": "[encoded data removed]",
      "text/plain": [
       "<Figure size 432x288 with 1 Axes>"
      ]
     },
     "metadata": {
      "needs_background": "light"
     },
     "output_type": "display_data"
    }
   ],
   "source": [
    "# Update 2 DURATION\n",
    "xgb_WC3_Y2 = xgb.XGBRegressor(\n",
    "    objective='reg:squarederror',\n",
    "    gamma=2,                 \n",
    "    eta=0.01,\n",
    "    max_depth=8,\n",
    "    n_estimators=10000,\n",
    "    min_child_weight=4,\n",
    "    subsample=0.8,\n",
    "    colsample_bytree=0.8,\n",
    "    random_state=34\n",
    ") \n",
    "modelfit(xgb_WC3_Y2,X,Y2)"
   ]
  },
  {
   "cell_type": "code",
   "execution_count": 46,
   "metadata": {},
   "outputs": [
    {
     "name": "stdout",
     "output_type": "stream",
     "text": [
      "Best: -63.488082 using {'colsample_bytree': 0.6, 'subsample': 0.9}\n",
      "-64.847452 with: {'colsample_bytree': 0.6, 'subsample': 0.6}\n",
      "-64.540317 with: {'colsample_bytree': 0.6, 'subsample': 0.7}\n",
      "-63.941641 with: {'colsample_bytree': 0.6, 'subsample': 0.8}\n",
      "-63.488082 with: {'colsample_bytree': 0.6, 'subsample': 0.9}\n",
      "-64.833928 with: {'colsample_bytree': 0.7, 'subsample': 0.6}\n",
      "-64.618317 with: {'colsample_bytree': 0.7, 'subsample': 0.7}\n",
      "-64.250677 with: {'colsample_bytree': 0.7, 'subsample': 0.8}\n",
      "-63.836924 with: {'colsample_bytree': 0.7, 'subsample': 0.9}\n",
      "-65.116522 with: {'colsample_bytree': 0.8, 'subsample': 0.6}\n",
      "-64.679386 with: {'colsample_bytree': 0.8, 'subsample': 0.7}\n",
      "-63.809751 with: {'colsample_bytree': 0.8, 'subsample': 0.8}\n",
      "-63.858023 with: {'colsample_bytree': 0.8, 'subsample': 0.9}\n",
      "-65.997985 with: {'colsample_bytree': 0.9, 'subsample': 0.6}\n",
      "-64.995892 with: {'colsample_bytree': 0.9, 'subsample': 0.7}\n",
      "-64.224528 with: {'colsample_bytree': 0.9, 'subsample': 0.8}\n",
      "-64.184264 with: {'colsample_bytree': 0.9, 'subsample': 0.9}\n"
     ]
    }
   ],
   "source": [
    "# Step 3: Subsample & colsample\n",
    "\n",
    "# The parameters we want to test:\n",
    "param_test3 = {\n",
    " 'subsample':[i/10.0 for i in range(6,10)],\n",
    " 'colsample_bytree':[i/10.0 for i in range(6,10)]\n",
    "}\n",
    "\n",
    "# Automatic grid search!\n",
    "gsearch3 = GridSearchCV(estimator = XGBRegressor(\n",
    "    objective='reg:squarederror',\n",
    "    gamma=2,                 \n",
    "    eta=0.01,\n",
    "    max_depth=8,\n",
    "    n_estimators=10000,\n",
    "    min_child_weight=4,\n",
    "    subsample=0.8,\n",
    "    colsample_bytree=0.8,\n",
    "    random_state=34\n",
    "), \n",
    " param_grid = param_test3, scoring='neg_root_mean_squared_error',n_jobs=-1, cv=5)\n",
    "\n",
    "# Fit\n",
    "gsearch3.fit(X,Y2)\n",
    "\n",
    "# Display results\n",
    "print(\"Best: %f using %s\" % (gsearch3.best_score_, gsearch3.best_params_))\n",
    "means = gsearch3.cv_results_['mean_test_score']\n",
    "params = gsearch3.cv_results_['params']\n",
    "for mean, param in zip(means, params):\n",
    "    print(\"%f with: %r\" % (mean, param))"
   ]
  },
  {
   "cell_type": "code",
   "execution_count": 49,
   "metadata": {},
   "outputs": [
    {
     "name": "stdout",
     "output_type": "stream",
     "text": [
      "\n",
      "Model Report:\n",
      "Best number of estimators: 113\n",
      "RMSE : 37.22\n",
      "nRMSE :  4.9275 % - The lower, the better!\n"
     ]
    },
    {
     "data": {
      "image/png": "[encoded data removed]",
      "text/plain": [
       "<Figure size 432x288 with 1 Axes>"
      ]
     },
     "metadata": {
      "needs_background": "light"
     },
     "output_type": "display_data"
    }
   ],
   "source": [
    "# Update 3 DURATION\n",
    "xgb_WC4_Y2 = xgb.XGBRegressor(\n",
    "    objective='reg:squarederror',\n",
    "    gamma=2,                 \n",
    "    eta=0.01,\n",
    "    max_depth=8,\n",
    "    n_estimators=10000,\n",
    "    min_child_weight=4,\n",
    "    subsample=0.9,\n",
    "    colsample_bytree=0.6,\n",
    "    random_state=34\n",
    ") \n",
    "modelfit(xgb_WC4_Y2,X,Y2)"
   ]
  },
  {
   "cell_type": "code",
   "execution_count": 51,
   "metadata": {},
   "outputs": [
    {
     "name": "stdout",
     "output_type": "stream",
     "text": [
      "Best: -63.387168 using {'reg_alpha': 0.01}\n",
      "-63.488082 with: {'reg_alpha': 0}\n",
      "-63.626606 with: {'reg_alpha': 0.001}\n",
      "-63.406717 with: {'reg_alpha': 0.005}\n",
      "-63.387168 with: {'reg_alpha': 0.01}\n",
      "-63.531746 with: {'reg_alpha': 0.05}\n"
     ]
    }
   ],
   "source": [
    "# Step 4: Regularization\n",
    "\n",
    "# The parameters we want to test:\n",
    "param_test4 = {\n",
    " 'reg_alpha':[0, 0.001, 0.005, 0.01, 0.05]\n",
    "}\n",
    "\n",
    "# Automatic grid search!\n",
    "gsearch4 = GridSearchCV(estimator = XGBRegressor(\n",
    "    objective='reg:squarederror',\n",
    "    gamma=2,                 \n",
    "    eta=0.01,\n",
    "    max_depth=8,\n",
    "    n_estimators=10000,\n",
    "    min_child_weight=4,\n",
    "    subsample=0.9,\n",
    "    colsample_bytree=0.6,\n",
    "    random_state=34\n",
    "), \n",
    " param_grid = param_test4, scoring='neg_root_mean_squared_error',n_jobs=-1, cv=5)\n",
    "\n",
    "# Fit\n",
    "gsearch4.fit(X,Y2)\n",
    "\n",
    "# Display results\n",
    "print(\"Best: %f using %s\" % (gsearch4.best_score_, gsearch4.best_params_))\n",
    "means = gsearch4.cv_results_['mean_test_score']\n",
    "params = gsearch4.cv_results_['params']\n",
    "for mean, param in zip(means, params):\n",
    "    print(\"%f with: %r\" % (mean, param))"
   ]
  },
  {
   "cell_type": "code",
   "execution_count": 53,
   "metadata": {},
   "outputs": [
    {
     "name": "stdout",
     "output_type": "stream",
     "text": [
      "\n",
      "Model Report:\n",
      "Best number of estimators: 113\n",
      "RMSE : 37.54\n",
      "nRMSE :  4.9701 % - The lower, the better!\n"
     ]
    },
    {
     "data": {
      "image/png": "[encoded data removed]",
      "text/plain": [
       "<Figure size 432x288 with 1 Axes>"
      ]
     },
     "metadata": {
      "needs_background": "light"
     },
     "output_type": "display_data"
    }
   ],
   "source": [
    "# FINAL MODEL\n",
    "# Won't decrease learning rate because computational limits\n",
    "xgb_WC5_Y2 = xgb.XGBRegressor(\n",
    "    objective='reg:squarederror',\n",
    "    gamma=2,                 \n",
    "    eta=0.01,\n",
    "    max_depth=8,\n",
    "    n_estimators=10000,\n",
    "    min_child_weight=4,\n",
    "    subsample=0.9,\n",
    "    colsample_bytree=0.6,\n",
    "    reg_alpha=0.01,\n",
    "    random_state=34\n",
    ") \n",
    "modelfit(xgb_WC5_Y2,X,Y2)"
   ]
  },
  {
   "cell_type": "markdown",
   "metadata": {},
   "source": [
    "### 2.2.3. Calendar only"
   ]
  },
  {
   "cell_type": "code",
   "execution_count": 13,
   "metadata": {},
   "outputs": [],
   "source": [
    "# And now we only use ONLY calendar data\n",
    "X = hourly_train[['Year','Month','Day','Hour','Weekday','Holiday']]\n",
    "Y1 = hourly_train['Volume']\n",
    "Y2 = hourly_train['Duration']"
   ]
  },
  {
   "cell_type": "code",
   "execution_count": 14,
   "metadata": {},
   "outputs": [
    {
     "name": "stdout",
     "output_type": "stream",
     "text": [
      "\n",
      "Model Report:\n",
      "Best number of estimators: 4864\n",
      "RMSE : 241.30\n",
      "nRMSE :  26.0222 % - The lower, the better!\n"
     ]
    },
    {
     "data": {
      "image/png": "[encoded data removed]",
      "text/plain": [
       "<Figure size 432x288 with 1 Axes>"
      ]
     },
     "metadata": {
      "needs_background": "light"
     },
     "output_type": "display_data"
    }
   ],
   "source": [
    "# Basic Model (Calendar only) for VOLUME\n",
    "xgb_C1_Y = xgb.XGBRegressor(\n",
    "    objective='reg:squarederror',\n",
    "    gamma=0.1,                 \n",
    "    eta=0.01,\n",
    "    max_depth=3,\n",
    "    n_estimators=10000,\n",
    "    min_child_weight=1,\n",
    "    subsample=0.8,\n",
    "    colsample_bytree=0.8,\n",
    "    random_state=34\n",
    ") \n",
    "\n",
    "# Show fit for Volume\n",
    "modelfit(xgb_C1_Y,X,Y1)"
   ]
  },
  {
   "cell_type": "code",
   "execution_count": 15,
   "metadata": {},
   "outputs": [
    {
     "name": "stdout",
     "output_type": "stream",
     "text": [
      "\n",
      "Model Report:\n",
      "Best number of estimators: 3161\n",
      "RMSE : 66.37\n",
      "nRMSE :  8.7868 % - The lower, the better!\n"
     ]
    },
    {
     "data": {
      "image/png": "[encoded data removed]",
      "text/plain": [
       "<Figure size 432x288 with 1 Axes>"
      ]
     },
     "metadata": {
      "needs_background": "light"
     },
     "output_type": "display_data"
    }
   ],
   "source": [
    "# Show fit for duration\n",
    "modelfit(xgb_C1_Y,X,Y2)"
   ]
  },
  {
   "cell_type": "markdown",
   "metadata": {},
   "source": [
    "## 2.3. Daily XGBOOST Model"
   ]
  },
  {
   "cell_type": "markdown",
   "metadata": {},
   "source": [
    "### 2.3.3. Weather only"
   ]
  },
  {
   "cell_type": "code",
   "execution_count": null,
   "metadata": {},
   "outputs": [],
   "source": [
    "# First, let us use the weather data to predict only daily traffic\n",
    "\n",
    "# Only the variables explicatives remain in our train df\n",
    "X_train = daily_train.drop(['dateIDm', 'Year', 'Month', 'Day', 'Weekday', 'Holiday', 'Duration', 'Volume'], axis=1)\n",
    "X_test = daily_test.drop(['dateIDm', 'Year', 'Month', 'Day', 'Weekday', 'Holiday', 'Duration', 'Volume'], axis=1)\n",
    "# Only the target remains in our train df\n",
    "Y_train = daily_train['Volume']\n",
    "Y_test = daily_test['Volume']\n"
   ]
  },
  {
   "cell_type": "code",
   "execution_count": null,
   "metadata": {},
   "outputs": [],
   "source": [
    "# Define the Model (Weather only)\n",
    "mod4 = xgb.XGBRegressor(\n",
    "    gamma=1,                 \n",
    "    learning_rate=0.01,\n",
    "    max_depth=3,\n",
    "    n_estimators=10000,                                                                    \n",
    "    subsample=0.8,\n",
    "    random_state=34\n",
    ") \n",
    "\n",
    "mod4.fit(X_train, Y_train)\n",
    "predictions = mod4.predict(X_test)\n",
    "rmse = sqrt(mean_squared_error(Y_test, predictions))\n",
    "print(\"score: {0:,.0f}\".format(rmse))"
   ]
  },
  {
   "cell_type": "markdown",
   "metadata": {},
   "source": [
    "### 2.3.2. Calendar and weather"
   ]
  },
  {
   "cell_type": "code",
   "execution_count": null,
   "metadata": {},
   "outputs": [],
   "source": [
    "# Let's add the calendar data\n",
    "X_train = daily_train.drop(['dateIDm', 'Duration', 'Volume'], axis=1)\n",
    "X_test = daily_test.drop(['dateIDm', 'Duration', 'Volume'], axis=1)\n",
    "# Only the target remains in our train df\n",
    "Y_train = daily_train['Volume']\n",
    "Y_test = daily_test['Volume']"
   ]
  },
  {
   "cell_type": "code",
   "execution_count": null,
   "metadata": {},
   "outputs": [],
   "source": [
    "# Define the Model (Weather+Calendar only)\n",
    "mod5 = xgb.XGBRegressor(\n",
    "    gamma=1,                 \n",
    "    learning_rate=0.01,\n",
    "    max_depth=3,\n",
    "    n_estimators=10000,                                                                    \n",
    "    subsample=0.8,\n",
    "    random_state=34\n",
    ") \n",
    "\n",
    "mod5.fit(X_train, Y_train)\n",
    "predictions = mod5.predict(X_test)\n",
    "rmse = sqrt(mean_squared_error(Y_test, predictions))\n",
    "print(\"score: {0:,.0f}\".format(rmse))"
   ]
  },
  {
   "cell_type": "markdown",
   "metadata": {},
   "source": [
    "### 2.3.3. Calendar only"
   ]
  },
  {
   "cell_type": "code",
   "execution_count": null,
   "metadata": {},
   "outputs": [],
   "source": [
    "# And now we only use ONLY calendar data\n",
    "X_train = daily_train[['Year','Month','Day','Weekday','Holiday']]\n",
    "X_test = daily_test[['Year','Month','Day','Weekday','Holiday']]\n",
    "# Only the target remains in our train df\n",
    "Y_train = daily_train['Volume']\n",
    "Y_test = daily_test['Volume']"
   ]
  },
  {
   "cell_type": "code",
   "execution_count": null,
   "metadata": {},
   "outputs": [],
   "source": [
    "# Define the Model (Calendar only)\n",
    "mod6 = xgb.XGBRegressor(\n",
    "    gamma=1,                 \n",
    "    learning_rate=0.01,\n",
    "    max_depth=3,\n",
    "    n_estimators=10000,                                                                    \n",
    "    subsample=0.8,\n",
    "    random_state=34\n",
    ") \n",
    "\n",
    "mod6.fit(X_train, Y_train)\n",
    "predictions = mod6.predict(X_test)\n",
    "rmse = sqrt(mean_squared_error(Y_test, predictions))\n",
    "print(\"score: {0:,.0f}\".format(rmse))"
   ]
  },
  {
   "cell_type": "code",
   "execution_count": null,
   "metadata": {},
   "outputs": [],
   "source": [
    "print(Y_test.mean())"
   ]
  },
  {
   "cell_type": "markdown",
   "metadata": {
    "id": "kFH9Ad0OWdMj"
   },
   "source": [
    "# ANNEX: Testing the meteostat.net API"
   ]
  },
  {
   "cell_type": "code",
   "execution_count": null,
   "metadata": {
    "colab": {
     "base_uri": "https://localhost:8080/"
    },
    "id": "hAMSiVvUWxpi",
    "outputId": "c59b10f6-6c68-4cf5-ddfe-4edfa4c8edc6"
   },
   "outputs": [],
   "source": [
    "pip install meteostat"
   ]
  },
  {
   "cell_type": "code",
   "execution_count": null,
   "metadata": {
    "id": "bUH7dPNIXcfT"
   },
   "outputs": [],
   "source": [
    "# import all relevant meteostat packages\n",
    "from datetime import datetime\n",
    "from meteostat import Stations\n",
    "from meteostat import Daily\n",
    "from meteostat import Point"
   ]
  },
  {
   "cell_type": "code",
   "execution_count": null,
   "metadata": {
    "colab": {
     "base_uri": "https://localhost:8080/"
    },
    "id": "3iJ47zUmXeU_",
    "outputId": "0c005047-c898-4261-800a-785c31e26dfa"
   },
   "outputs": [],
   "source": [
    "# check stations available in the montreal area\n",
    "stations = Stations()\n",
    "stations = stations.nearby(49.2497, -73.5673)\n",
    "station = stations.fetch(1)\n",
    "\n",
    "print(station)\n",
    "\n",
    "# Remarque: la plupart des stations sont assez éloignées de Montréal."
   ]
  },
  {
   "cell_type": "code",
   "execution_count": null,
   "metadata": {
    "colab": {
     "base_uri": "https://localhost:8080/"
    },
    "id": "IDp5scgTctzw",
    "outputId": "13ea9379-afc3-462a-fb4a-5a1f3b212c94"
   },
   "outputs": [],
   "source": [
    "# Test pour voir si les données météo concordent avec ce qu'on trouve sur Météomédia malgré tout. Testons juin 2020.\n",
    "start = datetime(2020, 6, 1)\n",
    "end = datetime(2020, 6, 30)\n",
    "\n",
    "data = Daily(station, start=start, end=end)\n",
    "data = data.normalize()\n",
    "data = data.fetch()\n",
    "\n",
    "print(data)\n",
    "# Conclusion: Il manque beaucoup de données, et celles qu'on a ne sont pas fiables! Nous allons devoir télécharger les données d'Environnement Canada!"
   ]
  },
  {
   "cell_type": "code",
   "execution_count": null,
   "metadata": {
    "colab": {
     "base_uri": "https://localhost:8080/"
    },
    "id": "ca7poiTLgNs9",
    "outputId": "25b051c2-3501-4e80-f95a-0e6970e762d8"
   },
   "outputs": [],
   "source": [
    "# Je tente d'utiliser le module d'interpolation pour voir si ça donne de meilleurs résultats!\n",
    "datamtl = Point(49.2497, -73.5673)\n",
    "\n",
    "start = datetime(2021, 1, 1)\n",
    "end = datetime(2021, 1, 1)\n",
    "\n",
    "data = Daily(datamtl, start=start, end=end)\n",
    "data = data.normalize()\n",
    "data = data.fetch()\n",
    "\n",
    "print(data)\n",
    "\n",
    "# Météomedia donne -0.2 et -5.1, donc meteostat est vraiment dans le champ."
   ]
  },
  {
   "cell_type": "markdown",
   "metadata": {
    "id": "CheNHfsLk5aO"
   },
   "source": [
    "**CONCLUSION:**\n",
    "Meteostat fonctionne très bien, mais malheureusement les résultats sont très douteux. Je recommande que nous utilisions les données brutes des stations météo d'environnement Canada.\n",
    "\n",
    "On retrouve les donnnées au: https://climat.meteo.gc.ca/historical_data/search_historic_data_f.html ; il est facile de télécharger les données CSV pour la période qui nous intéresse!"
   ]
  }
 ],
 "metadata": {
  "colab": {
   "collapsed_sections": [],
   "name": "ML_Project_BIXI_Predictions.ipynb",
   "provenance": [],
   "toc_visible": true
  },
  "kernelspec": {
   "display_name": "Python 3",
   "language": "python",
   "name": "python3"
  },
  "language_info": {
   "codemirror_mode": {
    "name": "ipython",
    "version": 3
   },
   "file_extension": ".py",
   "mimetype": "text/x-python",
   "name": "python",
   "nbconvert_exporter": "python",
   "pygments_lexer": "ipython3",
   "version": "3.8.5"
  }
 },
 "nbformat": 4,
 "nbformat_minor": 4
}
