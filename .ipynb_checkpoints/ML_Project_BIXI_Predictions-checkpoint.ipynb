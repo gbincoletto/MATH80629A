{
 "cells": [
  {
   "cell_type": "markdown",
   "metadata": {
    "id": "JPwfFELTzKzm"
   },
   "source": [
    "#MATH80629A Project: Predicting BIXI bike usage based on historical weather data"
   ]
  },
  {
   "cell_type": "markdown",
   "metadata": {
    "id": "uUDdu9VO0-f7"
   },
   "source": [
    "A project by: \n",
    "* William Désilets\n",
    "* Simon Drolet (11178019)\n",
    "* Gabriella Bincoletto-Montpetit (11149602)"
   ]
  },
  {
   "cell_type": "markdown",
   "metadata": {
    "id": "GCjG2RDf1_HO"
   },
   "source": [
    "# Part 1: Data pre-processing"
   ]
  },
  {
   "cell_type": "markdown",
   "metadata": {
    "id": "0ezkpXF1dztJ"
   },
   "source": [
    "## 1.1. Import relevant packages"
   ]
  },
  {
   "cell_type": "code",
   "execution_count": null,
   "metadata": {},
   "outputs": [],
   "source": [
    "# Run this line into anaconda prompt: pip install holidays\n",
    "import holidays as holidays"
   ]
  },
  {
   "cell_type": "code",
   "execution_count": 1,
   "metadata": {
    "id": "YkiebpNsIMEa"
   },
   "outputs": [],
   "source": [
    "import pandas as pd\n",
    "import numpy as np\n",
    "import math as math\n",
    "import matplotlib.pyplot as plt\n",
    "#from google.colab import files\n",
    "import datetime as dt\n",
    "from sklearn.cluster import KMeans\n",
    "from sklearn.cluster import DBSCAN\n",
    "#from geopy import distance\n",
    "#from geopy.distance import great_circle\n",
    "#from shapely.geometry import MultiPoint\n",
    "#from geopy.distance import vincenty\n",
    "import matplotlib.cm as cm\n",
    "#import dask.dataframe as dd"
   ]
  },
  {
   "cell_type": "markdown",
   "metadata": {
    "id": "B15dh1t0v_CK"
   },
   "source": [
    "## 1.2. Weather Data"
   ]
  },
  {
   "cell_type": "markdown",
   "metadata": {
    "id": "9OAAhupNeFFi"
   },
   "source": [
    "### 1.2.1. Import weather files"
   ]
  },
  {
   "cell_type": "code",
   "execution_count": null,
   "metadata": {
    "id": "mbY6HCYLwGo_"
   },
   "outputs": [],
   "source": [
    "# Since I have 84 files (7 years, 12 months per year) over 3 stations, I'll loop!\n",
    "\n",
    "# This code lists the 252 weather URLs from our GitHub rep. Actually we only keep 162 because we remove Dec/Jan/Feb (No Bixis)!\n",
    "weather_urls = list()\n",
    "for s in [['7024745_','McTavish'],['7027329_','St-Hubert'],['7025251_','YUL']]: # McTavish, St-Hubert, YUL\n",
    "    for y in range(7):\n",
    "        for m in range(9):\n",
    "            year = str(y + 2014)\n",
    "            month = '0' + str(m+3) + '-'\n",
    "            if len(month) == 4 : month = month[1:]\n",
    "            url = 'https://raw.githubusercontent.com/gbincoletto/MATH80629A/main/' + s[1] + '/fr_climat_horaires_QC_' + s[0] + month + year + '_P1H.csv'\n",
    "            weather_urls.append(url)\n",
    "\n"
   ]
  },
  {
   "cell_type": "code",
   "execution_count": null,
   "metadata": {},
   "outputs": [],
   "source": []
  },
  {
   "cell_type": "code",
   "execution_count": null,
   "metadata": {},
   "outputs": [],
   "source": [
    "print('Take that Git!')"
   ]
  },
  {
   "cell_type": "code",
   "execution_count": null,
   "metadata": {
    "colab": {
     "base_uri": "https://localhost:8080/"
    },
    "id": "4zbI4MFu1rAU",
    "outputId": "afd6bbed-8258-4d7a-d853-7b0d1d347fe3"
   },
   "outputs": [],
   "source": [
    "# Let's make all these CSVs into proper Pandas\n",
    "weather_dfs = list()\n",
    "n = 0\n",
    "for file in weather_urls:\n",
    "    weather_dfs.append(pd.read_csv(file))\n",
    "  \n",
    "    # A lot of columns are always empty, so let's remove them before anything else!\n",
    "    weather_dfs[n] = weather_dfs[n].drop(['Date/Heure (HNL)','Temp Indicateur','Point de rosée Indicateur',\\\n",
    "                     'Hum. rel. Indicateur','Hauteur de précip. Indicateur',\\\n",
    "                     'Dir. du vent Indicateur','Vit. du vent Indicateur',\\\n",
    "                     'Visibilité Indicateur', 'Pression à la station Indicateur',\\\n",
    "                     'Hmdx Indicateur','Refroid. éolien Indicateur'],axis=1)\n",
    "  \n",
    "    # Let's clean up the \"Heure\" field so it's easier to use.\n",
    "    weather_dfs[n]['Heure (HNL)'] = weather_dfs[n]['Heure (HNL)'].str.strip('0')\n",
    "    weather_dfs[n]['Heure (HNL)'] = weather_dfs[n]['Heure (HNL)'].str.strip(':')\n",
    "    weather_dfs[n]['Heure (HNL)'].mask(weather_dfs[n]['Heure (HNL)'] == '', '0', inplace=True)\n",
    "    weather_dfs[n]['Heure (HNL)'] = weather_dfs[n]['Heure (HNL)'].astype(int)\n",
    "\n",
    "    # BIXIs are only available from March 15 to November 15. Let's remove the useless days (keeping the day before)\n",
    "    weather_dfs[n].drop(weather_dfs[n][(weather_dfs[n]['Mois'] == 3) & (weather_dfs[n]['Jour'] < 14)].index, inplace=True) # Mars\n",
    "    weather_dfs[n].drop(weather_dfs[n][(weather_dfs[n]['Mois'] == 11) & (weather_dfs[n]['Jour'] > 15)].index, inplace=True) # Novembre\n",
    "\n",
    "    # And we convert the field \"Temps\" to a list and remove NAN\n",
    "    weather_dfs[n]['Temps'] = weather_dfs[n]['Temps'].fillna('ND')\n",
    "    weather_dfs[n]['Temps'] = weather_dfs[n]['Temps'].str.split(',')\n",
    "\n",
    "    n = n + 1\n",
    "    if n % 21 == 0 : print('Upload %d percent complete' % (n/189*100)) # If I change the number of years this line won't work!"
   ]
  },
  {
   "cell_type": "markdown",
   "metadata": {
    "id": "_zMhM3HBeNdN"
   },
   "source": [
    "### 1.2.2. Cleaning"
   ]
  },
  {
   "cell_type": "code",
   "execution_count": null,
   "metadata": {
    "id": "M85G1j9Bq8fk"
   },
   "outputs": [],
   "source": [
    "# We find all the possible weather conditions that can be identified in \"Temps\" to create indicative variables\n",
    "# From: https://climat.meteo.gc.ca/glossary_f.html \n",
    "\n",
    "  # Here is the list that will be used\n",
    "\n",
    "\"\"\"\n",
    "  ND (0s everywhere)\n",
    "  nan (0s everywhere)\n",
    "  *\n",
    "  BROUILLARD: Brume sèche OU Fumée (1), Brouillard OU Chasse-poussière élevée (2), brouillard verglaçant (3)\n",
    "  PLUIE: Pluie OU Averses de pluie (1), Pluie modérée OU Averses de pluie modérée (2), Pluie forte OU Averses de pluie forte (3), Pluie verglaçante OU Averses de pluie verglaçante (4)\n",
    "  BRUINE: Bruine (1), bruine verglaçante (2)\n",
    "  ORAGES: Orages (1)\n",
    "  NEIGE: Neige OU Averses de neige OU Neige en grains (1), Neige modérée (2), Poudrerie élevée OU Averses de granules de glace ou de grésil OU Granules de glace ou grésil OU Grêle (3) \n",
    "  SOLEIL: Généralement dégagé (1), dégagé (2)\n",
    "  NUAGES: Généralement nuageux (1), nuageux (2)\n",
    "\"\"\"\n",
    "\n",
    "# NUAGES\n",
    "def fnuages(row):\n",
    "    if ('Généralement nuageux' in row['Temps']):\n",
    "        val = 1\n",
    "    elif ('Nuageux' in row['Temps']):\n",
    "        val = 2\n",
    "    else:\n",
    "        val = 0\n",
    "    return val\n",
    "\n",
    "# SOLEIL\n",
    "def fsoleil(row):\n",
    "    if ('Généralement dégagé' in row['Temps']):\n",
    "        val = 2\n",
    "    elif ('Dégagé' in row['Temps']):\n",
    "        val = 1\n",
    "    else:\n",
    "        val = 0\n",
    "    return val\n",
    "\n",
    "# ORAGES\n",
    "def forages(row):\n",
    "    if ('Orages' in row['Temps']) or ('Orage' in row['Temps']):\n",
    "        val = 1\n",
    "    else:\n",
    "        val = 0\n",
    "    return val\n",
    "\n",
    "# NEIGE\n",
    "def fneige(row):\n",
    "    if ('Poudrerie élevée' in row['Temps']) or ('Grêle' in row['Temps']) or ('Granules de glace ou grésil' in row['Temps']) or ('Averses de granules de glace ou de grésil' in row['Temps']):\n",
    "        val = 3\n",
    "    elif ('Neige modérée' in row['Temps']):\n",
    "        val = 2\n",
    "    elif ('Neige' in row['Temps']) or ('Averses de neige' in row['Temps']) or ('Neige en grains' in row['Temps']):\n",
    "        val = 1\n",
    "    else:\n",
    "        val = 0\n",
    "    return val\n",
    "\n",
    "# PLUIE\n",
    "def fpluie(row):\n",
    "    if ('Pluie verglaçante' in row['Temps']) or ('Averses de pluie verglaçante' in row['Temps']):\n",
    "        val = 4\n",
    "    elif ('Pluie forte' in row['Temps']) or ('Averses de pluie forte' in row['Temps']):\n",
    "        val = 3\n",
    "    elif ('Pluie modérée' in row['Temps']) or ('Averses de pluie modérées' in row['Temps']):\n",
    "        val = 2\n",
    "    elif ('Pluie' in row['Temps']) or ('Averses de pluie' in row['Temps']):\n",
    "        val = 1\n",
    "    else:\n",
    "        val = 0\n",
    "    return val\n",
    "\n",
    "# BROUILLARD\n",
    "def fbrouillard(row):\n",
    "  if ('Brouillard verglaçant' in row['Temps']):\n",
    "    val = 3\n",
    "  elif ('Brouillard' in row['Temps']) or ('Chasse-poussière élevée' in row['Temps']):\n",
    "    val = 2\n",
    "  elif ('Brume sèche' in row['Temps']) or ('Fumée' in row['Temps']):\n",
    "    val = 1\n",
    "  else:\n",
    "    val = 0\n",
    "  return val\n",
    "\n",
    "# BRUINE\n",
    "def fbruine(row):\n",
    "    if ('Bruine verglaçante' in row['Temps']):\n",
    "        val = 2\n",
    "    elif ('Bruine' in row['Temps']):\n",
    "        val = 1\n",
    "    else:\n",
    "        val = 0\n",
    "    return val\n",
    "\n",
    "# Applying all the functions\n",
    "for df in weather_dfs:\n",
    "    df['Pluie'] = df.apply(fpluie,axis=1)\n",
    "    df['Neige'] = df.apply(fneige,axis=1)\n",
    "    df['Orages'] = df.apply(forages,axis=1)\n",
    "    df['Bruine'] = df.apply(fbruine,axis=1)\n",
    "    df['Brouillard'] = df.apply(fbrouillard,axis=1)\n",
    "    df['Nuages'] = df.apply(fnuages,axis=1)\n",
    "    df['Soleil'] = df.apply(fsoleil,axis=1)\n",
    "\n",
    "\n"
   ]
  },
  {
   "cell_type": "code",
   "execution_count": null,
   "metadata": {
    "id": "iZ_eCVElgl1t"
   },
   "outputs": [],
   "source": [
    "# We will merge all the dataframes together into one huge table to make the splitting/aggregating easier\n",
    "weather_df = pd.DataFrame()\n",
    "for df in weather_dfs:\n",
    "    weather_df = pd.concat([weather_df, df], ignore_index=True)"
   ]
  },
  {
   "cell_type": "code",
   "execution_count": null,
   "metadata": {
    "id": "Ed_kW2b2wbiK"
   },
   "outputs": [],
   "source": [
    "# Some of the column which should contain floats or int contain strings. Let's fix!\n",
    "# NOTE: Only run this cell once! Else it will fail.\n",
    "\n",
    "# First we change commas to periods in numbers\n",
    "weather_df['Longitude (x)'] = (weather_df['Longitude (x)'].str.replace(',','.')).astype(float)\n",
    "weather_df['Latitude (y)'] = (weather_df['Latitude (y)'].str.replace(',','.')).astype(float)\n",
    "weather_df['Temp (°C)'] = (weather_df['Temp (°C)'].str.replace(',','.')).astype(float)\n",
    "weather_df['Point de rosée (°C)'] = (weather_df['Point de rosée (°C)'].str.replace(',','.')).astype(float)\n",
    "weather_df['Hauteur de précip. (mm)'] = (weather_df['Hauteur de précip. (mm)'].str.replace(',','.')).astype(float)\n",
    "weather_df['Visibilité (km)'] = (weather_df['Visibilité (km)'].str.replace(',','.')).astype(float)\n",
    "weather_df['Pression à la station (kPa)'] = (weather_df['Pression à la station (kPa)'].str.replace(',','.')).astype(float)\n",
    "\n",
    "# I'll also change the station IDs so it's easier to use later\n",
    "weather_df['ID climatologique'].mask(weather_df['ID climatologique'] == 7024745, 1, inplace=True)\n",
    "weather_df['ID climatologique'].mask(weather_df['ID climatologique'] == 7027329, 2, inplace=True)\n",
    "weather_df['ID climatologique'].mask(weather_df['ID climatologique'] == 7025251, 3, inplace=True)\n",
    "weather_df['stationID'] = weather_df['ID climatologique']\n",
    "\n",
    "# Finally, we can drop the fields which we have transformed earlier\n",
    "weather_df = weather_df.drop(['Temps','ID climatologique', 'Nom de la Station'], axis=1)"
   ]
  },
  {
   "cell_type": "code",
   "execution_count": null,
   "metadata": {},
   "outputs": [],
   "source": [
    "weather_df.head()"
   ]
  },
  {
   "cell_type": "markdown",
   "metadata": {
    "id": "WieWGKbRed7q"
   },
   "source": [
    "### 1.2.3. Relevant functions"
   ]
  },
  {
   "cell_type": "code",
   "execution_count": null,
   "metadata": {
    "id": "NAXYB1vDjQB8"
   },
   "outputs": [],
   "source": [
    "# Here are some functions that will be useful later (for weighted averages)\n",
    "\n",
    "# Distance (HAVERSINE)\n",
    "def distance(lon1,lat1,lon2,lat2):\n",
    "    R = 6367.5\n",
    "    dlon = np.abs(np.radians(lon2) - np.radians(lon1)) \n",
    "    dlat = np.abs(np.radians(lat2) - np.radians(lat1)) \n",
    "    a = np.sin(dlat/ 2)**2 + np.cos(np.radians(lat2)) * np.cos(np.radians(lat1)) * np.sin(dlon / 2)**2\n",
    "    L = R * 2 * np.arctan2(np.sqrt(a), np.sqrt(1 - a))\n",
    "    return L\n",
    "\n",
    "# Weigthed Average\n",
    "def weighted(x, cols, w=\"Distance\"):\n",
    "    return pd.Series(np.average(x[cols], weights=x[w], axis=0), cols)"
   ]
  },
  {
   "cell_type": "code",
   "execution_count": null,
   "metadata": {
    "id": "kRvOVdC17LaD"
   },
   "outputs": [],
   "source": [
    "# Let's write a function that allows to create a new df according to the specifications that we want!\n",
    "# First we can choose what data to keep (Which year, month, day)\n",
    "# Second we choose how to aggregate the data!\n",
    "\n",
    "def create_weather_df(years=[weather_df.Année.min(),weather_df.Année.max()]\\\n",
    "                      , months=[weather_df.Mois.min(),weather_df.Mois.max()]\\\n",
    "                      , days=[weather_df.Jour.min(),weather_df.Jour.max()]\\\n",
    "                      , hours=[weather_df['Heure (HNL)'].min(),weather_df['Heure (HNL)'].max()]\\\n",
    "                      , aggType = 1 # 1 = hourly ; 2 = daily ; 3 = monthly\n",
    "                      , geo = list()): # We can insert [Lon, Lat] \n",
    "  \n",
    "  # Filtre temporel\n",
    "    rdf = weather_df[(weather_df['Année'] >= years[0]) & (weather_df['Année'] <= years[1])]\n",
    "    rdf = rdf[(rdf['Mois'] >= months[0]) & (rdf['Mois'] <= months[1])]\n",
    "    rdf = rdf[(rdf['Jour'] >= days[0]) & (rdf['Jour'] <= days[1])]\n",
    "    rdf = rdf[(rdf['Heure (HNL)'] >= hours[0]) & (rdf['Heure (HNL)'] <= hours[1])]\n",
    "\n",
    "  # Creating a date ID (will vary based on type of aggregation)\n",
    "    rdf.Année = rdf.Année.astype(str)\n",
    "    rdf.Mois = rdf.Mois.astype(str)\n",
    "    rdf.Jour = rdf.Jour.astype(str)\n",
    "    rdf['Heure (HNL)'] = rdf['Heure (HNL)'].astype(str)\n",
    "    rdf.loc[rdf['Mois'].str.len() == 1, 'Mois'] = '0' + rdf['Mois']\n",
    "    rdf.loc[rdf['Jour'].str.len() == 1, 'Jour'] = '0' + rdf['Jour']\n",
    "    rdf.loc[rdf['Heure (HNL)'].str.len() == 1, 'Heure (HNL)'] = '0' + rdf['Heure (HNL)']\n",
    "    rdf['dateIDh'] = (rdf.Année + rdf.Mois + rdf.Jour + rdf['Heure (HNL)']).astype(int)\n",
    "    rdf['dateIDd'] = (rdf.Année + rdf.Mois + rdf.Jour).astype(int)\n",
    "    rdf['dateIDm'] = (rdf.Année + rdf.Mois).astype(int)\n",
    "    \n",
    "    # Return to int\n",
    "    rdf['Année'] = rdf.Année.astype(int)\n",
    "    rdf['Mois'] = rdf.Mois.astype(int)\n",
    "    rdf['Jour'] = rdf.Jour.astype(int)\n",
    "    rdf['Heure (HNL)'] = rdf['Heure (HNL)'].astype(int)\n",
    "  \n",
    "    if not geo: # Average across all three stations\n",
    "    # Aggregate hourly data by default\n",
    "        rdf = rdf.groupby('dateIDh').agg(Temp=(\"Temp (°C)\", \"mean\"),\n",
    "                                      DewPoint=(\"Point de rosée (°C)\", \"mean\"),\n",
    "                                      HumRel=(\"Hum. rel (%)\", \"mean\"),\n",
    "                                      PrecipitationHgt=(\"Hauteur de précip. (mm)\", \"mean\"),\n",
    "                                      WindDir=(\"Dir. du vent (10s deg)\", \"mean\"),\n",
    "                                      WindSpd=(\"Vit. du vent (km/h)\", \"mean\"),\n",
    "                                      Vis=(\"Visibilité (km)\", \"mean\"),\n",
    "                                      Pkpa=(\"Pression à la station (kPa)\", \"mean\"),\n",
    "                                      Hmdx=(\"Hmdx\", \"mean\"),\n",
    "                                      WindChill=(\"Refroid. éolien\", \"mean\"),\n",
    "                                      Rain=(\"Pluie\", \"max\"),\n",
    "                                      Snow=(\"Neige\", \"max\"),\n",
    "                                      Thunderstorm=(\"Orages\", \"max\"),\n",
    "                                      Drizzle=(\"Bruine\", \"max\"),\n",
    "                                      Fog=(\"Brouillard\", \"max\"),\n",
    "                                      Cloudy=(\"Nuages\", \"max\"),\n",
    "                                      Sunny=(\"Soleil\", \"max\"), \n",
    "                                      dateIDd=(\"dateIDd\",\"mean\"), \n",
    "                                      dateIDm=(\"dateIDm\",\"mean\"),\n",
    "                                      Year=(\"Année\",\"mean\"),\n",
    "                                      Month=(\"Mois\",\"mean\"),\n",
    "                                      Day=(\"Jour\",\"mean\"),\n",
    "                                      Hour=(\"Heure (HNL)\",\"mean\")   \n",
    "                                      )\n",
    "    \n",
    "\n",
    "    else: # When geo option is ACTIVE\n",
    "        # Ajouter une colonne de distance\n",
    "        rdf['Distance'] = rdf.apply(lambda x: distance(x['Longitude (x)'], x['Latitude (y)'], geo[0], geo[1]), axis=1)\n",
    "        # Date IDs\n",
    "        rdf_date = rdf.groupby('dateIDh').agg(dateIDd=(\"dateIDd\",\"mean\"), dateIDm=(\"dateIDm\",\"mean\"))  \n",
    "        # Hourly aggregation, weighted by distance (for continuous variables) # NOTE !!!! PRECIPITATION HEIGHT AND VIS NOT WORKING I THINK\n",
    "        rdf_grouped = rdf.groupby('dateIDh')\n",
    "        rdf_weighted = rdf_grouped.apply(weighted,[\"Temp (°C)\",\n",
    "                                       \"Point de rosée (°C)\",\n",
    "                                       \"Hum. rel (%)\",\n",
    "                                       \"Dir. du vent (10s deg)\",\n",
    "                                       \"Vit. du vent (km/h)\",\n",
    "                                       \"Pression à la station (kPa)\",\n",
    "                                       \"Hmdx\",\n",
    "                                       \"Refroid. éolien\"])\n",
    "        # We have to do it separately for the precipitation height and visibility because station 3 has all NAN fro Precipitation, and station 1 has all NAN for Visibility\n",
    "        # NOTE: This is not the most elegant as it's somehow hardcoded. It means the function will fail if we get new weather stations.\n",
    "        # Precipitation\n",
    "        rdf_precip = rdf.loc[rdf['stationID'].isin([1,2])]\n",
    "        rdf_grouped2 = rdf_precip.groupby('dateIDh')\n",
    "        rdf_weighted2 = rdf_grouped2.apply(weighted,[\"Hauteur de précip. (mm)\"])\n",
    "        rdf_weighted2.rename(columns={'Hauteur de précip. (mm)':'PrecipitationHgt'}, inplace=True)\n",
    "        # Visibility\n",
    "        rdf_vis = rdf.loc[rdf['stationID'].isin([2,3])]\n",
    "        rdf_grouped3 = rdf_vis.groupby('dateIDh')\n",
    "        rdf_weighted3 = rdf_grouped3.apply(weighted,[\"Visibilité (km)\"])\n",
    "        rdf_weighted3.rename(columns={'Visibilité (km)':'Vis'}, inplace=True)\n",
    "        # We rename the columns of the original big batch weighted averages\n",
    "        rdf_weighted.rename(columns={'Temp (°C)':'Temp',\n",
    "                                 'Point de rosée (°C)':'DewPoint',\n",
    "                                 'Hum. rel (%)':'HumRel',\n",
    "                                 'Dir. du vent (10s deg)':'WindDir',\n",
    "                                 'Vit. du vent (km/h)':'WindSpd',\n",
    "                                 'Pression à la station (kPa)':'Pkpa',\n",
    "                                 'Refroid. éolien':'WindChill'}, inplace=True)\n",
    "    \n",
    "        # For the categorical variables, we take the value closest to the location\n",
    "        rdf_min = rdf.loc[rdf['stationID'].isin([2,3])] # Pas de données texte pour la station 1!\n",
    "        rdf_min = rdf_min.loc[rdf['Distance'] == rdf_min['Distance'].min()]\n",
    "        rdf_min = rdf_min.set_index('dateIDh')\n",
    "        rdf_min = rdf_min[['Pluie','Neige','Orages','Brouillard']]\n",
    "        # Annnnnd rename again:\n",
    "        rdf_min = rdf_min.rename(columns={'Pluie':'Rain',\n",
    "                                     'Neige':'Snow',\n",
    "                                     'Orages':'Thunderstorm',\n",
    "                                     'Brouillard':'Fog'\n",
    "                                      })\n",
    "    \n",
    "        # Finally we add the column about cloud cover and drizzle, which are only available at one station\n",
    "        rdf_sun = rdf.groupby('dateIDh').agg(Drizzle=(\"Bruine\",\"max\"), Cloudy=(\"Nuages\",\"max\"), Sunny=(\"Soleil\",\"max\")) \n",
    "\n",
    "        # We concatenate all the pandas together. The resulting df has the same format has the 'non-geo' one so we can pass it to agg=2 or agg=3 easily\n",
    "        rdf = pd.concat([rdf_date,rdf_weighted,rdf_weighted2,rdf_weighted3,rdf_min,rdf_sun], axis=1)\n",
    "    \n",
    "      \n",
    "    if aggType == 2 or aggType == 3:\n",
    "        # Compute daily data\n",
    "        rdf.loc[rdf[\"PrecipitationHgt\"] > 0, 'RainToday'] = 1\n",
    "        rdf.loc[rdf[\"PrecipitationHgt\"] == 0, 'RainToday'] = 0\n",
    "        rdf = rdf.groupby('dateIDd').agg(avgTemp=(\"Temp\", \"mean\"),\n",
    "                                      maxTemp=(\"Temp\", \"max\"),\n",
    "                                      minTemp=(\"Temp\", \"min\"),\n",
    "                                      avgDewPoint=(\"DewPoint\", \"mean\"),\n",
    "                                      avgHumRel=(\"HumRel\", \"mean\"),\n",
    "                                      maxHumRel=(\"HumRel\", \"max\"),\n",
    "                                      minHumRel=(\"HumRel\", \"min\"),\n",
    "                                      sumPrecipitationHgt=(\"PrecipitationHgt\", \"sum\"),\n",
    "                                      timePrecipitation=(\"RainToday\", \"mean\"),\n",
    "                                      precipitationToday=(\"RainToday\", \"max\"),\n",
    "                                      avgWindDir=(\"WindDir\", \"mean\"),\n",
    "                                      avgWindSpd=(\"WindSpd\", \"mean\"),\n",
    "                                      maxWindSpd=(\"WindSpd\", \"max\"),\n",
    "                                      avgVis=(\"Vis\", \"mean\"),\n",
    "                                      avgPkpa=(\"Pkpa\", \"mean\"),\n",
    "                                      avgHmdx=(\"Hmdx\", \"mean\"),\n",
    "                                      avgWindChill=(\"WindChill\", \"mean\"),\n",
    "                                      maxWindChill=(\"WindChill\", \"max\"),\n",
    "                                      minWindChill=(\"WindChill\", \"min\"),\n",
    "                                      Rain=(\"Rain\", \"max\"), # Qualifie l'intensité maximale des précipitations dans la journée\n",
    "                                      Snow=(\"Snow\", \"max\"),\n",
    "                                      Thunderstorm=(\"Thunderstorm\", \"max\"),\n",
    "                                      Drizzle=(\"Drizzle\", \"mean\"),\n",
    "                                      Fog=(\"Fog\", \"mean\"),\n",
    "                                      percentCloudy=(\"Cloudy\", \"mean\"),\n",
    "                                      percentSunny=(\"Sunny\", \"mean\"),\n",
    "                                      dateIDm=(\"dateIDm\",\"mean\"),\n",
    "                                      Year=(\"Year\",\"mean\"),\n",
    "                                      Month=(\"Month\",\"mean\"),\n",
    "                                      Day=(\"Day\",\"mean\")   \n",
    "                                      )\n",
    "      \n",
    "        if aggType == 3:\n",
    "        # Dans un mois les max-min ne sont plus très utiles!\n",
    "            rdf = rdf.groupby('dateIDm').agg(avgTemp=(\"avgTemp\", \"mean\"),\n",
    "                                         avgHigh=(\"maxTemp\", \"mean\"),\n",
    "                                         avgLow=(\"minTemp\", \"mean\"),\n",
    "                                         avgHumRel=(\"avgHumRel\", \"mean\"),\n",
    "                                         sumPrecipitationHgt=(\"sumPrecipitationHgt\", \"sum\"),\n",
    "                                         avgDailyPrecipitation=(\"timePrecipitation\", \"mean\"),\n",
    "                                         daysRain=(\"precipitationToday\", \"sum\"), \n",
    "                                         avgWindSpd=(\"avgWindSpd\", \"mean\"),\n",
    "                                         avgWindChill=(\"avgWindChill\", \"mean\"),\n",
    "                                         avgHighWindchill=(\"maxWindChill\",\"mean\"),\n",
    "                                         avgLowWindchill=(\"minWindChill\",\"mean\"),\n",
    "                                         percentCloudy=(\"percentCloudy\", \"mean\"),\n",
    "                                         percentSunny=(\"percentSunny\", \"mean\"),\n",
    "                                         Year=(\"Year\",\"mean\"),\n",
    "                                         Month=(\"Month\",\"mean\")    \n",
    "                                         )\n",
    "\n",
    "    return rdf"
   ]
  },
  {
   "cell_type": "markdown",
   "metadata": {
    "id": "hImiDcmZeiA5"
   },
   "source": [
    "### 1.2.4. Create useful weather pandas"
   ]
  },
  {
   "cell_type": "code",
   "execution_count": null,
   "metadata": {
    "colab": {
     "base_uri": "https://localhost:8080/",
     "height": 541
    },
    "id": "1MRWdDhvsVLV",
    "outputId": "612d3ddf-1932-443d-9c35-ec07657b189c"
   },
   "outputs": [],
   "source": [
    "# You can then call the dataframe that you want with the \"create_weater_df\"\n",
    "#  ****** But, adventurer, watch out: it takes much more time to generate the dataframe you want when you call the function with the GEO option. Choose wisely.\n",
    "df = create_weather_df(years=[2018,2020], months=[7,11], days=[8,22], aggType=3) \n",
    "df.head()"
   ]
  },
  {
   "cell_type": "code",
   "execution_count": null,
   "metadata": {},
   "outputs": [],
   "source": [
    "# Weather data is compiled hourly (without location)\n",
    "weather_hourly = create_weather_df(aggType=1)\n",
    "weather_hourly.to_csv('weather_hourly.csv') "
   ]
  },
  {
   "cell_type": "code",
   "execution_count": null,
   "metadata": {},
   "outputs": [],
   "source": [
    "# Weather data is compiled daily (without location)\n",
    "weather_daily = create_weather_df(aggType=2)\n",
    "weather_daily.to_csv('weather_daily.csv') "
   ]
  },
  {
   "cell_type": "code",
   "execution_count": null,
   "metadata": {},
   "outputs": [],
   "source": [
    "# Weather data is compiled monthly (without location)\n",
    "weather_monthly = create_weather_df(aggType=3)\n",
    "weather_monthly.to_csv('weather_monthly.csv') "
   ]
  },
  {
   "cell_type": "markdown",
   "metadata": {
    "id": "tDNHFKLHv0SG"
   },
   "source": [
    "## 1.2. BIXI Data"
   ]
  },
  {
   "cell_type": "markdown",
   "metadata": {
    "id": "5KR8TeJGBXty"
   },
   "source": [
    " ### 1.2.1. Importing BIXI trip data"
   ]
  },
  {
   "cell_type": "code",
   "execution_count": null,
   "metadata": {
    "id": "KMp-DKCsR27r"
   },
   "outputs": [],
   "source": [
    "# The data has been pre-processed offline, and then separated into 40 dataframes (10 per year from 2017 to 2020). \n",
    "#The exact steps are available,annexed at the end of the collab.\n",
    "\n",
    "bixi_rides_urls = list()\n",
    "for y in [2017, 2018, 2019, 2020]:  \n",
    "    for m in range(1,10):\n",
    "        year = str(y)\n",
    "        dfnumber = str(m)\n",
    "        url = 'https://raw.githubusercontent.com/gbincoletto/MATH80629A/main/Final%20Bixi%20Data/bixi_' + year + '_' + dfnumber + '.csv'\n",
    "        bixi_rides_urls.append(url)\n",
    "\n"
   ]
  },
  {
   "cell_type": "code",
   "execution_count": null,
   "metadata": {
    "id": "b6AYFB5yh8fg"
   },
   "outputs": [],
   "source": [
    "# We can now turn the raw data located at these URLs into DFs **LONG RUNTIME ALERT**\n",
    "\n",
    "bixi_rides_dfs = list()\n",
    "for file in bixi_rides_urls:\n",
    "    bixi_rides_dfs.append(pd.read_csv(file))\n",
    "    \n",
    "# Then we can concatenate the 40 dataframes into one central dataset.\n",
    "\n",
    "bixi_master_data = pd.concat(bixi_rides_dfs)\n"
   ]
  },
  {
   "cell_type": "code",
   "execution_count": null,
   "metadata": {
    "colab": {
     "base_uri": "https://localhost:8080/",
     "height": 309
    },
    "id": "fALrRUT7SSKT",
    "outputId": "9c051f0e-0b33-483f-e16c-10d25c36c6bb"
   },
   "outputs": [],
   "source": [
    "bixi_master_data.head()"
   ]
  },
  {
   "cell_type": "code",
   "execution_count": null,
   "metadata": {
    "id": "0sgsJHwL7Y4q"
   },
   "outputs": [],
   "source": [
    "# Removing trips lasting less than one minute, as recommended by other studies in the field.\n",
    "\n",
    "bixi_master_data = bixi_master_data.drop(bixi_master_data[bixi_master_data.duration_sec <= 60].index)\n",
    "bixi_master_data"
   ]
  },
  {
   "cell_type": "code",
   "execution_count": null,
   "metadata": {
    "colab": {
     "base_uri": "https://localhost:8080/",
     "height": 34
    },
    "id": "34EQlqIMEl1M",
    "outputId": "bfdd155e-d4fd-49d0-d5f3-17edb3020415"
   },
   "outputs": [],
   "source": [
    "bixi_master_data.to_csv('bixi_master_data.csv') \n",
    "files.download('bixi_master_data.csv')"
   ]
  },
  {
   "cell_type": "markdown",
   "metadata": {
    "id": "NnbvqX9nBspz"
   },
   "source": [
    "### 1.2.2. Importing location of BIXI stations\n",
    "\n",
    "\n"
   ]
  },
  {
   "cell_type": "code",
   "execution_count": null,
   "metadata": {
    "id": "MWVUZ5y3kr3V"
   },
   "outputs": [],
   "source": [
    "# We will use our previous loop to import the annual Bixi station locations from GitHub. \n",
    "\n",
    "bixi_stations_urls = list()\n",
    "for y in [2017, 2018, 2019, 2020]:\n",
    "  year = str(y)\n",
    "  url_2 = 'https://raw.githubusercontent.com/gbincoletto/MATH80629A/main/bixidata/Stations_' + year + '.csv'\n",
    "  bixi_stations_urls.append(url_2)"
   ]
  },
  {
   "cell_type": "code",
   "execution_count": null,
   "metadata": {
    "id": "MlSAyn9oJPVV"
   },
   "outputs": [],
   "source": [
    "# Using the URLs assembled in our list, we will then create proper pandas dataframes from the raw data.\n",
    "\n",
    "bixi_stations_dfs = list()\n",
    "for file in bixi_stations_urls:\n",
    "    bixi_stations_dfs.append(pd.read_csv(file))"
   ]
  },
  {
   "cell_type": "code",
   "execution_count": null,
   "metadata": {
    "id": "s4QYMRg7EVnS"
   },
   "outputs": [],
   "source": [
    "# Quickly declare individually our reference documents.\n",
    "#stations_2014 = bixi_stations_dfs[0]\n",
    "##stations_2015 = bixi_stations_dfs[1]\n",
    "#stations_2016 = bixi_stations_dfs[2]\n",
    "stations_2017 = bixi_stations_dfs[3]\n",
    "stations_2018 = bixi_stations_dfs[4]\n",
    "stations_2019 = bixi_stations_dfs[5]\n",
    "stations_2020 = bixi_stations_dfs[6]\n",
    "\n",
    "# Correcting data irregularities\n",
    "stations_2019['code'] = stations_2019['Code']\n",
    "stations_2019 = stations_2019.drop(['Code'], axis=1)\n",
    "stations_2017 = stations_2017.drop(['is_public'], axis=1)\n",
    "\n",
    "# Then, we will create a new key variable, specifically designed to join Longitude/Latitude values to our trip data. \n",
    "\n",
    "#stations_2014['Station_Key_ID'] = '2014' + stations_2014['code'].map(str)\n",
    "#stations_2015['Station_Key_ID'] = '2015' + stations_2015['code'].map(str)\n",
    "#stations_2016['Station_Key_ID'] = '2016' + stations_2016['code'].map(str)\n",
    "stations_2017['Station_Key_ID'] = '2017' + stations_2017['code'].map(str)\n",
    "stations_2018['Station_Key_ID'] = '2018' + stations_2018['code'].map(str)\n",
    "stations_2019['Station_Key_ID'] = '2019' + stations_2019['code'].map(str) \n",
    "stations_2020['Station_Key_ID'] = '2020' + stations_2020['code'].map(str)\n",
    "\n",
    "# Then, we can concatenate the dataframes into one final reference document.\n",
    "\n",
    "bixi_master_stations = pd.concat([stations_2014, stations_2015, stations_2016, stations_2017, stations_2018, stations_2019,stations_2020])\n"
   ]
  },
  {
   "cell_type": "markdown",
   "metadata": {
    "id": "-Hf2CEw2wcH6"
   },
   "source": [
    "### 1.2.3. Adding geographical location to the BIXI trip dataset"
   ]
  },
  {
   "cell_type": "code",
   "execution_count": null,
   "metadata": {
    "id": "odVyafBfxpok"
   },
   "outputs": [],
   "source": [
    "# Due to limited RAM, we will have to split our main dataset to create new variables and effectuate operations. **RUNTIME ALERT - Limite côté RAM!!*\n",
    "\n",
    "#master_2014 = bixi_master_data.loc[bixi_master_data['start_date'].astype(str).str[0:4] == '2014']\n",
    "#master_2015 = bixi_master_data.loc[bixi_master_data['start_date'].astype(str).str[0:4] == '2015']\n",
    "#master_2016 = bixi_master_data.loc[bixi_master_data['start_date'].astype(str).str[0:4] == '2016']\n",
    "#\n",
    "#\n",
    "#\n",
    "#"
   ]
  },
  {
   "cell_type": "code",
   "execution_count": null,
   "metadata": {
    "id": "21VO1IX5Ezts"
   },
   "outputs": [],
   "source": [
    "#master_2017 = bixi_master_data.loc[bixi_master_data['start_date'].astype(str).str[0:4] == '2017']"
   ]
  },
  {
   "cell_type": "code",
   "execution_count": null,
   "metadata": {
    "id": "miywKdin26rM"
   },
   "outputs": [],
   "source": [
    "#master_2018 = bixi_master_data.loc[bixi_master_data['start_date'].astype(str).str[0:4] == '2018']"
   ]
  },
  {
   "cell_type": "code",
   "execution_count": null,
   "metadata": {
    "id": "5LD6sqiB28f7"
   },
   "outputs": [],
   "source": [
    "#master_2019 = bixi_master_data.loc[bixi_master_data['start_date'].astype(str).str[0:4] == '2019']"
   ]
  },
  {
   "cell_type": "code",
   "execution_count": null,
   "metadata": {
    "id": "gtwX-_fv28Ms"
   },
   "outputs": [],
   "source": [
    "#master_2020 = bixi_master_data.loc[bixi_master_data['start_date'].astype(str).str[0:4] == '2020']"
   ]
  },
  {
   "cell_type": "code",
   "execution_count": null,
   "metadata": {
    "id": "D89a3Yp_vKxW"
   },
   "outputs": [],
   "source": [
    "# Creating two sub-DFs to facilitate the merging process. \n",
    "\n",
    "start_long_lat = bixi_master_stations[['Station_Key_ID', 'longitude', 'latitude']]\n",
    "start_long_lat.columns = ['Start_Station_Key_ID', 'start_longitude', 'start_latitude']\n",
    "\n",
    "end_long_lat = bixi_master_stations[['Station_Key_ID', 'longitude', 'latitude']]\n",
    "end_long_lat.columns = ['End_Station_Key_ID', 'end_longitude', 'end_latitude']"
   ]
  },
  {
   "cell_type": "code",
   "execution_count": null,
   "metadata": {
    "id": "Rrgy4Ik9Kws0"
   },
   "outputs": [],
   "source": [
    "# We will now create a loop to insert our merge key in the bike trips dataset, and then add the geographical values (Lon/Lat) based on this key.\n",
    "\n",
    "for i in [master_2017, master_2018, master_2019, master_2020]:# master_2014, master_2015, master_2016, \n",
    "  i['Start_Station_Key_ID'] =  i['start_date'].astype(str).str[0:4] + i['start_station_code'].astype(str)\n",
    "  i['End_Station_Key_ID'] =  i['end_date'].astype(str).str[0:4] + i['end_station_code'].astype(str)\n",
    "\n",
    " "
   ]
  },
  {
   "cell_type": "code",
   "execution_count": null,
   "metadata": {
    "id": "iWYU0x0x3fC_"
   },
   "outputs": [],
   "source": [
    "# Finally, adding the geographical values and then recreating our master_data set. **NOT SURPRISINGLY, LONG RUNTIME ALERT**\n",
    "\n",
    "master_2017 = master_2017.merge(start_long_lat, on ='Start_Station_Key_ID')\n",
    "master_2017 = master_2017.merge(end_long_lat, on ='End_Station_Key_ID')\n",
    "\n",
    "master_2018 = master_2018.merge(start_long_lat, on ='Start_Station_Key_ID')\n",
    "master_2018 = master_2018.merge(end_long_lat, on ='End_Station_Key_ID')\n",
    "\n",
    "master_2019 = master_2019.merge(start_long_lat, on ='Start_Station_Key_ID')\n",
    "master_2019 = master_2019.merge(end_long_lat, on ='End_Station_Key_ID')\n",
    "\n",
    "master_2020 = master_2020.merge(start_long_lat, on ='Start_Station_Key_ID')\n",
    "master_2020 = master_2020.merge(end_long_lat, on ='End_Station_Key_ID')\n",
    "\n",
    "bixi_master_data = pd.concat([master_2017, master_2018, master_2019, master_2020])"
   ]
  },
  {
   "cell_type": "code",
   "execution_count": null,
   "metadata": {
    "colab": {
     "base_uri": "https://localhost:8080/"
    },
    "id": "KpLxezrpVm5B",
    "outputId": "64b4e864-977e-44ee-fe87-c678dcf847aa"
   },
   "outputs": [],
   "source": [
    "bixi_master_data.head "
   ]
  },
  {
   "cell_type": "markdown",
   "metadata": {
    "id": "yhaaruYGgp09"
   },
   "source": [
    "### 1.2.4. Aggregating function"
   ]
  },
  {
   "cell_type": "code",
   "execution_count": null,
   "metadata": {
    "id": "Eh2pwIQhgu9M"
   },
   "outputs": [],
   "source": [
    "# ******* WIP, please do not panic if this function fails *******\n",
    "\n",
    "# This function will allow us to calculate the amount of bike rentals in ANY given time period\n",
    "# It will also output calendar data (weekday, holiday) when appropriate\n",
    "# Note: by any I mean hourly, daily or monthly\n",
    "# Note#2: must also be part of the dataset - no information is available on pre-2017 dates\n",
    "\n",
    "def calc_bike_volumes(df, years, months, days, hours, aggtype = 1): # Format [20XX,20XX], it's an interval! Same format for the other arguments please. No default values.\n",
    "  \n",
    "    pd.options.mode.chained_assignment = None  # default='warn'\n",
    "    rdf = df\n",
    "\n",
    "    # Creating a date ID (will vary based on type of aggregation)\n",
    "    rdf['Année'] = rdf['start_date'].astype(str).str[0:4]\n",
    "    rdf['Mois'] = rdf['start_date'].astype(str).str[5:7]\n",
    "    rdf['Jour'] = rdf['start_date'].astype(str).str[8:10]\n",
    "    rdf['Heure'] = rdf['start_date'].astype(str).str[11:13]\n",
    "    rdf['dateIDh'] = (rdf.Année + rdf.Mois + rdf.Jour + rdf['Heure']).astype(int)\n",
    "    rdf['dateIDd'] = (rdf.Année + rdf.Mois + rdf.Jour).astype(int)\n",
    "    rdf['dateIDm'] = (rdf.Année + rdf.Mois).astype(int)\n",
    "    \n",
    "    # Creating columns to indicate weekdays and holidays\n",
    "    rdf['start_date'] = pd.to_datetime(rdf['start_date']) \n",
    "    rdf['Semaine'] = rdf['start_date'].map(lambda x: x.weekday())\n",
    "    rdf.loc[rdf['Semaine'] <= 4, 'Semaine'] = 1\n",
    "    rdf.loc[rdf['Semaine'] > 4, 'Semaine'] = 0\n",
    "    \n",
    "    qc_holidays = []\n",
    "    for date in holidays.Canada(years = [2014,2015,2016,2017,2018,2019,2020], prov='QC').items():\n",
    "        qc_holidays.append(str(date[0]))\n",
    "        \n",
    "    rdf['Holidays'] = [1 if str(val).split()[0] in qc_holidays else 0 for val in rdf['start_date']]\n",
    "\n",
    "    # Filtre temporel\n",
    "    rdf = rdf[(rdf['Année'].astype(int) >= years[0]) & (df['Année'].astype(int) <= years[1])]\n",
    "    rdf = rdf[(rdf['Mois'].astype(int) >= months[0]) & (rdf['Mois'].astype(int) <= months[1])]\n",
    "    rdf = rdf[(rdf['Jour'].astype(int) >= days[0]) & (rdf['Jour'].astype(int) <= days[1])]\n",
    "    rdf = rdf[(rdf['Heure'].astype(int) >= hours[0]) & (rdf['Heure'].astype(int) <= hours[1])]\n",
    "\n",
    "    if (not years) or (not months) or (not days) or (not hours):\n",
    "        print('Please input all the required arguments?')\n",
    "  \n",
    "    # This will aggregate what we need to get the number of trips in the given timeframe (by blocks) and average trip length.\n",
    "    else:\n",
    "\n",
    "    # Aggregate using the hour ID\n",
    "        if aggtype == 1:\n",
    "            rdf = rdf.groupby('dateIDh').agg(Weekday=(\"Semaine\", \"max\"), Holiday=(\"Holidays\", \"max\"),\n",
    "                                             Duration=(\"duration_sec\", \"mean\"),\n",
    "                                             Volume=(\"duration_sec\", \"count\"))\n",
    "            return rdf\n",
    "\n",
    "    # Aggregate using the day ID\n",
    "        if aggtype == 2 :\n",
    "            rdf = rdf.groupby('dateIDd').agg(Weekday=(\"Semaine\", \"max\"), Holiday=(\"Holidays\", \"max\"),\n",
    "                                             Duration=(\"duration_sec\", \"mean\"),\n",
    "                                             Volume=(\"duration_sec\", \"count\"))\n",
    "            return rdf\n",
    "\n",
    "    # Aggregate using the month ID\n",
    "        if aggtype == 3:\n",
    "            rdf = rdf.groupby('dateIDm').agg(Duration=(\"duration_sec\", \"mean\"),\n",
    "                                       Volume=(\"duration_sec\", \"count\"))\n",
    "            return rdf\n"
   ]
  },
  {
   "cell_type": "code",
   "execution_count": null,
   "metadata": {
    "colab": {
     "base_uri": "https://localhost:8080/",
     "height": 452
    },
    "id": "7aGPlcGyTCg1",
    "outputId": "6fb5b8df-89c4-4d8c-c98b-dd49e0f7415c"
   },
   "outputs": [],
   "source": [
    "# Testing the function (it works!)\n",
    "rdf = calc_bike_volumes(bixi_master_data,[2017,2019],[3,11],[1,31],[0,23],aggtype=2)\n",
    "rdf.head()"
   ]
  },
  {
   "cell_type": "code",
   "execution_count": null,
   "metadata": {},
   "outputs": [],
   "source": [
    "# Calculating the data I need\n",
    "\n",
    "# Daily Data\n",
    "data_daily = calc_bike_volumes(bixi_master_data,[2017,2020],[3,11],[1,31],[0,23],aggtype=2)"
   ]
  },
  {
   "cell_type": "code",
   "execution_count": null,
   "metadata": {},
   "outputs": [],
   "source": [
    "data_daily.to_csv('data_daily.csv') "
   ]
  },
  {
   "cell_type": "code",
   "execution_count": null,
   "metadata": {},
   "outputs": [],
   "source": [
    "# Hourly Data\n",
    "data_hourly = calc_bike_volumes(bixi_master_data,[2017,2020],[3,11],[1,31],[0,23],aggtype=1)"
   ]
  },
  {
   "cell_type": "code",
   "execution_count": null,
   "metadata": {},
   "outputs": [],
   "source": [
    "data_hourly.to_csv('data_hourly.csv') "
   ]
  },
  {
   "cell_type": "code",
   "execution_count": null,
   "metadata": {},
   "outputs": [],
   "source": [
    "# Monthly Data\n",
    "data_monthly = calc_bike_volumes(bixi_master_data,[2017,2020],[3,11],[1,31],[0,23],aggtype=3)"
   ]
  },
  {
   "cell_type": "code",
   "execution_count": null,
   "metadata": {},
   "outputs": [],
   "source": [
    "data_monthly.to_csv('data_monthly.csv') "
   ]
  },
  {
   "cell_type": "markdown",
   "metadata": {
    "id": "FdnqUp4x-wBI"
   },
   "source": [
    "## 1.3. Neighbourhood Clusters"
   ]
  },
  {
   "cell_type": "markdown",
   "metadata": {
    "id": "_X99MqC0jKw-"
   },
   "source": [
    "### 1.3.1. Setting up the data"
   ]
  },
  {
   "cell_type": "code",
   "execution_count": null,
   "metadata": {
    "colab": {
     "base_uri": "https://localhost:8080/",
     "height": 201
    },
    "id": "YammxboAPk9s",
    "outputId": "eaaa5f2a-fe00-42eb-cdc6-6f4e62e8ee58"
   },
   "outputs": [],
   "source": [
    "# We will attemps to create neighbourhood clusters for BIXI stations using their latitude and longitude. \n",
    "# We will ignore the variable 'code' and will use the Station_Key_ID as the primary key.\n",
    "\n",
    "bixi_master_stations.head()"
   ]
  },
  {
   "cell_type": "code",
   "execution_count": null,
   "metadata": {
    "colab": {
     "base_uri": "https://localhost:8080/",
     "height": 201
    },
    "id": "N6dwpw6nYEq7",
    "outputId": "330e581b-df43-4e93-d26d-cad81b87f9e2"
   },
   "outputs": [],
   "source": [
    "# First, we see that there a lot of duplicates of the same stations.\n",
    "bixi_master_stations.loc[bixi_master_stations['name']=='Square St-Louis']\n",
    "\n",
    "# We are only interested in 2020 stations, so we will only keep Station_Key_ID starting with 2020. There are 640 stations.\n",
    "bixi_master_stations = bixi_master_stations[bixi_master_stations['Station_Key_ID'].astype(str).str.startswith('2020')]\n",
    "bixi_master_stations.tail()"
   ]
  },
  {
   "cell_type": "code",
   "execution_count": null,
   "metadata": {
    "colab": {
     "base_uri": "https://localhost:8080/",
     "height": 295
    },
    "id": "6hAEk9u3C43O",
    "outputId": "44ec925c-ee4b-489d-e012-22a567cfdb4c"
   },
   "outputs": [],
   "source": [
    "# We then plot the geographical points; good news: it indeed looks like the BIXI station map! \n",
    "plot_bixi_master_stations = plt.plot(bixi_master_stations['longitude'], bixi_master_stations['latitude'],\n",
    "             marker='.', linewidth=0, color='#128128')\n",
    "plot_bixi_master_stations = plt.grid(which='major', color='#cccccc', alpha=0.45)\n",
    "plot_bixi_master_stations = plt.title ('Geographical distribution of BIXI stations', family='DejaVu Sans', fontsize=12)\n",
    "plot_bixi_master_stations = plt.xlabel('Longitude')\n",
    "plot_bixi_master_stations = plt.ylabel('Latitude')\n",
    "plot_bixi_master_stations = plt.show()"
   ]
  },
  {
   "cell_type": "code",
   "execution_count": null,
   "metadata": {
    "colab": {
     "base_uri": "https://localhost:8080/",
     "height": 201
    },
    "id": "XwdEWTZrgydA",
    "outputId": "c2639e30-0976-40a0-b585-7833043eab5b"
   },
   "outputs": [],
   "source": [
    "# We then create a new dataframe to only keep the variables Station_Key_ID, Longitude and Latitude for our clustering analysis\n",
    "cluster_bixi_stations=bixi_master_stations.loc[:,['Station_Key_ID','latitude','longitude']]\n",
    "cluster_bixi_stations.head()"
   ]
  },
  {
   "cell_type": "markdown",
   "metadata": {
    "id": "3MIDtpXIjjIC"
   },
   "source": [
    "### 1.3.2. K-Means method"
   ]
  },
  {
   "cell_type": "code",
   "execution_count": null,
   "metadata": {
    "colab": {
     "base_uri": "https://localhost:8080/",
     "height": 295
    },
    "id": "yRuFCzq4JhdY",
    "outputId": "e36fafba-cfcf-416a-a802-a8d9d3e171cc"
   },
   "outputs": [],
   "source": [
    "# We will validate the number of clusters by using the elbow method \n",
    "K_clusters = range(1,10)\n",
    "kmeans = [KMeans(n_clusters=i) for i in K_clusters]\n",
    "Y_axis = cluster_bixi_stations[['latitude']]\n",
    "X_axis = cluster_bixi_stations[['longitude']]\n",
    "score = [kmeans[i].fit(Y_axis).score(Y_axis) for i in range(len(kmeans))]\n",
    "\n",
    "# Visualize the graph -- we see that 3 or 4 clusters could be interesting.\n",
    "plt.plot(K_clusters, score)\n",
    "plt.xlabel('Number of Clusters')\n",
    "plt.ylabel('Score')\n",
    "plt.title('Elbow Curve')\n",
    "plt.show()"
   ]
  },
  {
   "cell_type": "code",
   "execution_count": null,
   "metadata": {
    "colab": {
     "base_uri": "https://localhost:8080/",
     "height": 354
    },
    "id": "3c0jpg2igQmg",
    "outputId": "a32623a8-d52b-4c59-c4c1-f7b782426c1b"
   },
   "outputs": [],
   "source": [
    "# Computer K-means clustering using 4 clusters\n",
    "\n",
    "kmeans = KMeans(n_clusters = 4, init ='k-means++')\n",
    "kmeans.fit(cluster_bixi_stations[cluster_bixi_stations.columns[1:3]])\n",
    "cluster_bixi_stations['cluster_label'] = kmeans.fit_predict(cluster_bixi_stations[cluster_bixi_stations.columns[1:4]])\n",
    "centers = kmeans.cluster_centers_ # Coordinates of cluster centers.\n",
    "labels = kmeans.predict(cluster_bixi_stations[cluster_bixi_stations.columns[1:4]]) # Labels of each point\n",
    "cluster_bixi_stations.tail(10)"
   ]
  },
  {
   "cell_type": "code",
   "execution_count": null,
   "metadata": {
    "colab": {
     "base_uri": "https://localhost:8080/",
     "height": 275
    },
    "id": "2W70iOsvhCAW",
    "outputId": "afdc8b2f-7c84-4b18-aa80-b60776bb77fe"
   },
   "outputs": [],
   "source": [
    "# Visualize the clusters and centroids \n",
    "\n",
    "cluster_bixi_stations.plot.scatter(x = 'latitude', y = 'longitude', c=labels, s=50, cmap='viridis')\n",
    "plt.scatter(centers[:, 0], centers[:, 1], c='black', s=200, alpha=0.5)"
   ]
  },
  {
   "cell_type": "markdown",
   "metadata": {
    "id": "reAQzpImkmHL"
   },
   "source": [
    "### 1.3.3. DBSCAN method"
   ]
  },
  {
   "cell_type": "code",
   "execution_count": null,
   "metadata": {
    "colab": {
     "base_uri": "https://localhost:8080/",
     "height": 199
    },
    "id": "RqTNfc0wTHfW",
    "outputId": "2ba8aa07-98d3-4ed6-f395-f1bf6ffc6876"
   },
   "outputs": [],
   "source": [
    "# We now create a new dataframe to only keep the variables Station_Key_ID, Longitude and Latitude for our clustering analysis\n",
    "cluster_bixi_stations2=bixi_master_stations.loc[:,['Station_Key_ID','latitude','longitude']]\n",
    "cluster_bixi_stations2.head()"
   ]
  },
  {
   "cell_type": "code",
   "execution_count": null,
   "metadata": {
    "id": "0AN20d-DQqib"
   },
   "outputs": [],
   "source": [
    "# define the number of kilometers in one radiation\n",
    "# which will be used to convert esp from km to radiation\n",
    "kms_per_rad = 6371.0088"
   ]
  },
  {
   "cell_type": "code",
   "execution_count": null,
   "metadata": {
    "colab": {
     "base_uri": "https://localhost:8080/"
    },
    "id": "lGpfaiGnQukx",
    "outputId": "02b1e500-267c-4254-8c2c-8400fb730c1a"
   },
   "outputs": [],
   "source": [
    "# define a function to calculate the geographic coordinate \n",
    "# centroid of a cluster of geographic points\n",
    "# it will be used later to calculate the centroids of DBSCAN cluster\n",
    "# because Scikit-learn DBSCAN cluster class does not come with centroid attribute.\n",
    "def get_centroid(cluster):\n",
    "  \"\"\"calculate the centroid of a cluster of geographic coordinate points\n",
    "  Args:\n",
    "    cluster coordinates, nx2 array-like (array, list of lists, etc) \n",
    "    n is the number of points(latitude, longitude)in the cluster.\n",
    "  Return:\n",
    "    geometry centroid of the cluster\n",
    "    \n",
    "  \"\"\"\n",
    "  cluster_ary = np.asarray(cluster)\n",
    "  centroid = cluster_ary.mean(axis = 0)\n",
    "  return centroid\n",
    "\n",
    "# testing get_centroid function\n",
    "test_cluster= [[ 43.70487299, -79.57753802], \n",
    "               [ 43.71138367, -79.56524418],\n",
    "               [ 43.72616079, -79.57319998],\n",
    "               [ 43.73547907, -79.56258364],\n",
    "               [ 43.72070325, -79.57202018],\n",
    "               [ 43.73126031, -79.5598719 ]]\n",
    "test_centroid = get_centroid(test_cluster)\n",
    "print(test_centroid)"
   ]
  },
  {
   "cell_type": "code",
   "execution_count": null,
   "metadata": {
    "colab": {
     "base_uri": "https://localhost:8080/",
     "height": 182
    },
    "id": "GyJupJRyTsrf",
    "outputId": "4d93ef42-bda2-4fb0-88e7-a6e5064ae08b"
   },
   "outputs": [],
   "source": [
    "# convert eps to radians for use by haversine\n",
    "epsilon = 0.1/kms_per_rad"
   ]
  },
  {
   "cell_type": "code",
   "execution_count": null,
   "metadata": {
    "id": "5CHkqwC-TuGB"
   },
   "outputs": [],
   "source": [
    "# Extract intersection coordinates (latitude, longitude)\n",
    "bixi_coords = cluster_bixi_stations2[['latitude', 'longitude']].values"
   ]
  },
  {
   "cell_type": "code",
   "execution_count": null,
   "metadata": {
    "id": "J5TMNTPbUIwd"
   },
   "outputs": [],
   "source": [
    "import time\n",
    "from sklearn import metrics\n",
    "\n",
    "start_time = time.time()\n",
    "dbsc = (DBSCAN(eps=epsilon, min_samples=1, algorithm='ball_tree', metric='haversine')\n",
    "        .fit(np.radians(bixi_coords)))\n",
    "bixi_cluster_labels = dbsc.labels_"
   ]
  },
  {
   "cell_type": "code",
   "execution_count": null,
   "metadata": {
    "colab": {
     "base_uri": "https://localhost:8080/"
    },
    "id": "ZTvUZyg4UdGp",
    "outputId": "5236cc2f-28a4-4e69-e833-7b9107961cde"
   },
   "outputs": [],
   "source": [
    "# get the number of clusters\n",
    "num_clusters = len(set(dbsc.labels_))\n",
    "print(num_clusters)"
   ]
  },
  {
   "cell_type": "code",
   "execution_count": null,
   "metadata": {
    "colab": {
     "base_uri": "https://localhost:8080/"
    },
    "id": "PkE19KyHUtsD",
    "outputId": "6e7fa204-8ddb-4cdb-b7b2-9fa82303c95f"
   },
   "outputs": [],
   "source": [
    "# print the outcome\n",
    "message = 'Clustered {:,} points down to {:,} clusters, for {:.1f}% compression in {:,.2f} seconds'\n",
    "print(message.format(len(cluster_bixi_stations2), num_clusters, 100*(1 - float(num_clusters) / len(cluster_bixi_stations2)), time.time()-start_time))\n",
    "print('Silhouette coefficient: {:0.03f}'.format(metrics.silhouette_score(bixi_coords, bixi_cluster_labels)))\n"
   ]
  },
  {
   "cell_type": "code",
   "execution_count": null,
   "metadata": {
    "id": "47UZDn9qVn-b"
   },
   "outputs": [],
   "source": [
    "# turn the clusters into a pandas series, where each element is a cluster of points\n",
    "dbsc_clusters = pd.Series([bixi_coords[bixi_cluster_labels==n] for n in range(num_clusters)])"
   ]
  },
  {
   "cell_type": "code",
   "execution_count": null,
   "metadata": {
    "colab": {
     "base_uri": "https://localhost:8080/"
    },
    "id": "QQXGjFiMWs9v",
    "outputId": "4e2377c3-ec64-49de-d3d5-c2bb03a889ab"
   },
   "outputs": [],
   "source": [
    "# get centroid of each cluster\n",
    "bixi_centroids = dbsc_clusters.map(get_centroid)\n",
    "# unzip the list of centroid points (lat, lon) tuples into separate lat and lon lists\n",
    "cent_lats, cent_lons = zip(*bixi_centroids)\n",
    "# from these lats/lons create a new df of one representative point for each cluster\n",
    "centroids_pd = pd.DataFrame({'longitude':cent_lons, 'latitude':cent_lats})\n",
    "\n",
    "print(centroids_pd)"
   ]
  },
  {
   "cell_type": "code",
   "execution_count": null,
   "metadata": {
    "colab": {
     "base_uri": "https://localhost:8080/",
     "height": 714
    },
    "id": "zJLJEC6FXsz4",
    "outputId": "27da40de-fa7c-4114-89c5-5ac56d37a160"
   },
   "outputs": [],
   "source": [
    "# Plot the clusters and cluster centroid\n",
    "fig, ax = plt.subplots(figsize=[20, 12])\n",
    "bixi_scatter = ax.scatter(cluster_bixi_stations2['longitude'], cluster_bixi_stations2['latitude'], c=bixi_cluster_labels, cmap = cm.Dark2, edgecolor='None', alpha=0.7, s=120)\n",
    "centroid_scatter = ax.scatter(centroids_pd['longitude'], centroids_pd['latitude'], marker='x', linewidths=2, c='k', s=50)\n",
    "ax.set_title('BIXI Clusters & Centroid', fontsize = 30)\n",
    "ax.set_xlabel('Longitude', fontsize=24)\n",
    "ax.set_ylabel('Latitude', fontsize = 24)\n",
    "ax.legend([bixi_scatter, centroid_scatter], ['Bixi stations', 'Neighbourhood Centroid'], loc='upper right', fontsize = 20)"
   ]
  },
  {
   "cell_type": "code",
   "execution_count": null,
   "metadata": {
    "id": "FG3KBtKsRFWj"
   },
   "outputs": [],
   "source": [
    "# convert eps to radians for use by haversine\n",
    "epsilon = 1.5/kms_per_rad\n",
    "\n",
    "# Extract intersection coordinates (latitude, longitude)\n",
    "bixi_coords = cluster_bixi_stations2.as_matrix(columns = ['latitude', 'longitude'])\n",
    "\n",
    "start_time = time.time()\n",
    "dbsc = (DBSCAN(eps=epsilon, min_samples=1, algorithm='ball_tree', metric='haversine')\n",
    "        .fit(np.radians(bixi_coords)))\n",
    "bixi_cluster_labels = dbsc.labels_\n",
    "\n",
    "# get the number of clusters\n",
    "num_clusters = len(set(dbsc.labels_))\n",
    "\n",
    "# print the outcome\n",
    "message = 'Clustered {:,} points down to {:,} clusters, for {:.1f}% compression in {:,.2f} seconds'\n",
    "print(message.format(len(facility_pd), num_clusters, 100*(1 - float(num_clusters) / len(facility_pd)), time.time()-start_time))\n",
    "print('Silhouette coefficient: {:0.03f}'.format(metrics.silhouette_score(fac_coords, fac_cluster_labels)))\n",
    "\n",
    "# turn the clusters into a pandas series,where each element is a cluster of points\n",
    "dbsc_clusters = pd.Series([fac_coords[fac_cluster_labels==n] for n in range(num_clusters)])\n",
    "Clustered 1,396 points down to 20 clusters, for 98.6% compression in 0.13 seconds\n",
    "Silhouette coefficient: -0.166\n",
    "\n"
   ]
  },
  {
   "cell_type": "code",
   "execution_count": null,
   "metadata": {
    "id": "KimvXgFrzH8w"
   },
   "outputs": [],
   "source": [
    "X = cluster_bixi_stations[['latitude', 'longitude']].values"
   ]
  },
  {
   "cell_type": "code",
   "execution_count": null,
   "metadata": {
    "id": "ShP1liptyri4"
   },
   "outputs": [],
   "source": [
    "def greatCircleDistance(x, y):\n",
    "    lat1, lon1 = x[0], x[1]\n",
    "    lat2, lon2 = y[0], y[1]\n",
    "    return vincenty((lat1, lon1), (lat2, lon2)).meters"
   ]
  },
  {
   "cell_type": "code",
   "execution_count": null,
   "metadata": {
    "colab": {
     "base_uri": "https://localhost:8080/",
     "height": 1000
    },
    "id": "5T7BFvcXsrhe",
    "outputId": "023ae2a0-c9cc-4f49-d5a3-59b71968747e"
   },
   "outputs": [],
   "source": [
    "eps = [500, 600, 700]    # unit: meter\n",
    "min_sample = [8, 10]\n",
    "n1, n2 = len(eps), len(min_sample)\n",
    "plt.subplots(nrows=n2, ncols=n1, figsize=(20, 15))\n",
    "\n",
    "for j in range(n2):\n",
    "  for i in range(n1):\n",
    "    est = DBSCAN(eps=eps[i], min_samples=min_sample[j], metric=greatCircleDistance).fit(X)\n",
    "    cluster_bixi_stations['cluster'] = est.labels_.tolist()\n",
    "\n",
    "    ax = plt.subplot(n2, n1, n1*j+i+1)\n",
    "    ax.set_title(\"DBSCAN ('greatCircle', eps={}, min_sample={})\".format(eps[i], min_sample[j]))\n",
    "\n",
    "plot_stations_map(ax, cluster_bixi_stations)\n"
   ]
  },
  {
   "cell_type": "code",
   "execution_count": null,
   "metadata": {
    "colab": {
     "base_uri": "https://localhost:8080/",
     "height": 1000
    },
    "id": "yq9ztvMOnRsn",
    "outputId": "4313f5d9-5177-4694-8dad-af635c8e4785"
   },
   "outputs": [],
   "source": [
    "# Merge cluster labels in bixi_master_stations dataframe\n",
    "clustering_bixi_stations = clustering_bixi_stations[['code','cluster_label']]\n",
    "clustering_bixi_stations.head(5)\n",
    "\n",
    "bixi_master_stations = bixi_master_stations.merge(clustering_bixi_stations, left_on='code', right_on='code')\n",
    "bixi_master_stations.head(50)"
   ]
  },
  {
   "cell_type": "markdown",
   "metadata": {},
   "source": [
    "## Classification Model"
   ]
  },
  {
   "cell_type": "markdown",
   "metadata": {},
   "source": [
    "### 1. Libraries"
   ]
  },
  {
   "cell_type": "code",
   "execution_count": 1,
   "metadata": {},
   "outputs": [],
   "source": [
    "from sklearn import datasets\n",
    "from sklearn.model_selection import train_test_split\n",
    "from sklearn.ensemble import RandomForestClassifier\n",
    "from sklearn.datasets import make_classification\n",
    "import pandas as pd\n",
    "import numpy as np\n",
    "import matplotlib.pyplot as plt\n",
    "import seaborn as sns\n",
    "from sklearn.preprocessing import LabelEncoder\n",
    "from sklearn.feature_extraction import DictVectorizer\n",
    "plt.style.use('ggplot') # This make plots look better"
   ]
  },
  {
   "cell_type": "markdown",
   "metadata": {},
   "source": [
    "### 2. Data pre-processing"
   ]
  },
  {
   "cell_type": "code",
   "execution_count": null,
   "metadata": {},
   "outputs": [],
   "source": [
    "url = 'https://raw.githubusercontent.com/gbincoletto/MATH80629A/main/Classification_Latitude_Longitude.csv'\n",
    "quartier = pd.read_csv(url)"
   ]
  },
  {
   "cell_type": "code",
   "execution_count": null,
   "metadata": {},
   "outputs": [],
   "source": [
    "quartier.head()"
   ]
  },
  {
   "cell_type": "code",
   "execution_count": null,
   "metadata": {},
   "outputs": [],
   "source": [
    "print(quartier.shape)\n",
    "# We see that there are 3155 observations."
   ]
  },
  {
   "cell_type": "code",
   "execution_count": null,
   "metadata": {},
   "outputs": [],
   "source": [
    "print(quartier.groupby('Code').size())\n",
    "# Here, we observe that there are two neighbourhoods with less than 10 observations. We'll have to keep an eye on those."
   ]
  },
  {
   "cell_type": "code",
   "execution_count": null,
   "metadata": {},
   "outputs": [],
   "source": [
    "print (quartier.describe())\n",
    "# We see that there are no missing values, or extreme values."
   ]
  },
  {
   "cell_type": "code",
   "execution_count": null,
   "metadata": {},
   "outputs": [],
   "source": [
    "quartier.plot.scatter(x=\"Latitude\", y=\"Longitude\")\n",
    "plt.show()\n",
    "# By plotting the latitude and longitude, we notice it indeed looks like the island of Montreal! There are however two big pockets (East end of Montreal and around PET Airport). "
   ]
  },
  {
   "cell_type": "code",
   "execution_count": null,
   "metadata": {},
   "outputs": [],
   "source": [
    "sns.FacetGrid(quartier, \n",
    "    hue=\"Code\").map(plt.scatter, \"Latitude\", \"Longitude\").add_legend()\n",
    "plt.show()\n",
    "# Good news - from the plot below, we see that the neighbourhoods are clustered together in well defined groups!"
   ]
  },
  {
   "cell_type": "code",
   "execution_count": null,
   "metadata": {},
   "outputs": [],
   "source": [
    "# Currently, all the data is encoded in a DataFrame, but sklearn doesn't work with pandas' DataFrames, so we need to extract the features and labels and convert them into numpy arrays instead.\n",
    "labels = np.asarray(quartier.Code)"
   ]
  },
  {
   "cell_type": "code",
   "execution_count": null,
   "metadata": {},
   "outputs": [],
   "source": [
    "# Because the Arrondissement's data type is string (and not numeric), we will run into problems when evaluating the model. Luckily, sklearn provides a tool that encodes label-strings as numerical representations. It works by going through an array of labels, and encode the first unique label as 0, then the next unique label as 1 and so on.\n",
    "#le = LabelEncoder()\n",
    "#le.fit(labels)\n",
    "\n",
    "# apply encoding to labels\n",
    "#labels = le.transform(labels)"
   ]
  },
  {
   "cell_type": "code",
   "execution_count": null,
   "metadata": {},
   "outputs": [],
   "source": [
    "# First, we want to remove all the feature columns that we don't want from the DataFrame. Now we only have the columns Latitude and Longitude left.\n",
    "quartier_selected = quartier.drop(['Code', 'Arrondissement'], axis=1)\n",
    "print(quartier_selected)"
   ]
  },
  {
   "cell_type": "code",
   "execution_count": null,
   "metadata": {},
   "outputs": [],
   "source": [
    "# Since we want to use more than one column, we can't just simply use np.asarray(). Instead, we can use the to_dict() method together with sklearn's DictVectorizer.\n",
    "quartier_features = quartier_selected.to_dict(orient='records')"
   ]
  },
  {
   "cell_type": "code",
   "execution_count": null,
   "metadata": {},
   "outputs": [],
   "source": [
    "# The sklearn interface for using the DictVectorizer class is similar to that of the LabelEncoder. One notable difference is the .toarray() method that is used with fit_transform.\n",
    "vec = DictVectorizer()\n",
    "features = vec.fit_transform(quartier_features).toarray()"
   ]
  },
  {
   "cell_type": "markdown",
   "metadata": {},
   "source": [
    "### 3. Classification model"
   ]
  },
  {
   "cell_type": "code",
   "execution_count": null,
   "metadata": {},
   "outputs": [],
   "source": [
    "# Now that we have numerical features and label arrays, there's only one thing left to do: split our data up into a training and a test set.\n",
    "# Sometimes, with algorithms particularly prone to overfitting, you also have a validation set. We will try with only a training and test set for now.\n",
    "# Data split (70% training and 30% test). \n",
    "# The value of the random_state is not really important as it's just a seed number, but the act of randomizing the data is important, because right now, the data i \n",
    "from sklearn.model_selection import train_test_split\n",
    "features_train, features_test, labels_train, labels_test = train_test_split(\n",
    "    features, labels, \n",
    "    test_size=0.30, random_state=0)"
   ]
  },
  {
   "cell_type": "markdown",
   "metadata": {},
   "source": [
    "### 3.1. Random Forest Classifier"
   ]
  },
  {
   "cell_type": "code",
   "execution_count": null,
   "metadata": {},
   "outputs": [],
   "source": [
    "# We will start out with a Random Forest classifier. Random Forests are simple, flexible in that they work well with a wide variety of data, and rarely overfit. One notable downside to Random Forests is that they are non-deterministic in nature, so they don't necessarily produce the same results every time you train them.\n",
    "# Import\n",
    "from sklearn.ensemble import RandomForestClassifier\n",
    "\n",
    "# Initialize\n",
    "clf = RandomForestClassifier()\n",
    "\n",
    "# Train the classifier using the training data\n",
    "clf.fit(features_train, labels_train)"
   ]
  },
  {
   "cell_type": "code",
   "execution_count": null,
   "metadata": {},
   "outputs": [],
   "source": [
    "# Compute accuracy using training data\n",
    "acc_train = clf.score(features_train, labels_train)\n",
    "\n",
    "print (\"Train Accuracy:\", acc_train)\n",
    "# Train Accuracy: 100%"
   ]
  },
  {
   "cell_type": "code",
   "execution_count": null,
   "metadata": {},
   "outputs": [],
   "source": [
    "# Compute accuracy using test data\n",
    "acc_test = clf.score(features_test, labels_test)\n",
    "\n",
    "print (\"Test Accuracy:\", acc_test)\n",
    "# Test Accuracy: 94% - since this is less than the train accuracy, it suggests that the model slightly overfits, but the results are still quite good."
   ]
  },
  {
   "cell_type": "markdown",
   "metadata": {},
   "source": [
    "### 4. Prediction on new data"
   ]
  },
  {
   "cell_type": "code",
   "execution_count": null,
   "metadata": {},
   "outputs": [],
   "source": [
    "# Test for the BIXI station at the intersection of Milton and Clark\n",
    "bixi = [45.512520,-73.570620]\n",
    "print(clf.predict([bixi]))\n",
    "# Prediction: Neighbourhood 12 i.e. Le Plateau Mont Royal - success!!"
   ]
  },
  {
   "cell_type": "code",
   "execution_count": null,
   "metadata": {},
   "outputs": [],
   "source": [
    "# Test for the BIXI station at the intersection of Milton and Clark\n",
    "bixi = [45.512520,-73.570620]\n",
    "print(clf.predict([bixi]))\n",
    "# Prediction: Neighbourhood 12 i.e. Le Plateau Mont Royal - success!!"
   ]
  },
  {
   "cell_type": "markdown",
   "metadata": {
    "id": "kFH9Ad0OWdMj"
   },
   "source": [
    "# PART 2: Modeling"
   ]
  },
  {
   "cell_type": "code",
   "execution_count": 2,
   "metadata": {
    "colab": {
     "base_uri": "https://localhost:8080/"
    },
    "id": "rFvJBtj1TpwY",
    "outputId": "acaa3097-4a29-4862-c4d0-bbd2628e45fe"
   },
   "outputs": [],
   "source": [
    "# Run this line into anaconda prompt to install XGBOOST: conda install -c anaconda py-xgboost\n",
    "# XGBOOST stands for extreme gradient boosting. It is a tree based method:\n",
    "# https://machinelearningmastery.com/extreme-gradient-boosting-ensemble-in-python/ \n",
    "import xgboost as xgb\n",
    "\n",
    "# And other stuff\n",
    "from math import sqrt\n",
    "from sklearn.model_selection import train_test_split\n",
    "from sklearn.metrics import mean_squared_error\n",
    "from xgboost.sklearn import XGBRegressor\n",
    "from sklearn.model_selection import GridSearchCV\n",
    "import sklearn.metrics as metrics\n",
    "\n",
    "\n",
    "# NOTES:\n",
    "# It's a stochastic model. It will output a slightly different model every time it is run, even when fed with the same data.\n",
    "# PARAMETERS:\n",
    "# 1. n_estimators - the number of trees\n",
    "# 2. max_depth - the depth of each tree (modest depth is best)\n",
    "# 3. learning_rate (eta) - the contribution of each tree on the total\n",
    "# 4. subsample - the percetage of data on which each subtree is trained\n",
    "# 5. gamma - the loss reduction required to further split a tree. Large gamma = conservative algo.\n",
    "# 6. colsample_bytree - the amount of features used on each tree\n",
    "\n",
    "# Handles missing values built-in\n",
    "\n",
    "# Sources:\n",
    "# https://machinelearningmastery.com/extreme-gradient-boosting-ensemble-in-python/\n",
    "# https://machinelearningmastery.com/tune-learning-rate-for-gradient-boosting-with-xgboost-in-python/\n",
    "# https://www.analyticsvidhya.com/blog/2016/03/complete-guide-parameter-tuning-xgboost-with-codes-python/"
   ]
  },
  {
   "cell_type": "markdown",
   "metadata": {},
   "source": [
    "## 2.1. Getting the data ready"
   ]
  },
  {
   "cell_type": "code",
   "execution_count": 3,
   "metadata": {},
   "outputs": [],
   "source": [
    "# Let's fetch the CSVs\n",
    "# BIXI data\n",
    "url_data_hourly = 'https://raw.githubusercontent.com/gbincoletto/MATH80629A/main/data_hourly.csv'\n",
    "data_hourly = pd.read_csv(url_data_hourly)\n",
    "data_hourly = data_hourly.set_index(['dateIDh'])\n",
    "url_data_daily = 'https://raw.githubusercontent.com/gbincoletto/MATH80629A/main/data_daily.csv'\n",
    "data_daily = pd.read_csv(url_data_daily)\n",
    "data_daily = data_daily.set_index(['dateIDd'])\n",
    "url_data_monthly = 'https://raw.githubusercontent.com/gbincoletto/MATH80629A/main/data_monthly.csv'\n",
    "data_monthly = pd.read_csv(url_data_monthly)\n",
    "data_monthly = data_monthly.set_index(['dateIDm'])\n",
    "\n",
    "# Weather data\n",
    "url_weather_hourly = 'https://raw.githubusercontent.com/gbincoletto/MATH80629A/main/weather_hourly.csv'\n",
    "weather_hourly = pd.read_csv(url_weather_hourly)\n",
    "weather_hourly = weather_hourly.set_index(['dateIDh'])\n",
    "url_weather_daily = 'https://raw.githubusercontent.com/gbincoletto/MATH80629A/main/weather_daily.csv'\n",
    "weather_daily = pd.read_csv(url_weather_daily)\n",
    "weather_daily = weather_daily.set_index(['dateIDd'])\n",
    "url_weather_monthly = 'https://raw.githubusercontent.com/gbincoletto/MATH80629A/main/weather_monthly.csv'\n",
    "weather_monthly = pd.read_csv(url_weather_monthly)\n",
    "weather_monthly = weather_monthly.set_index(['dateIDm'])"
   ]
  },
  {
   "cell_type": "code",
   "execution_count": 4,
   "metadata": {},
   "outputs": [],
   "source": [
    "# I'll merge bixi data with weather data so that I have proper food to feed to xgboost\n",
    "hourly = pd.concat([weather_hourly, data_hourly], axis=1, join=\"inner\")\n",
    "hourly.to_csv('global_hourly.csv')\n",
    "daily = pd.concat([weather_daily, data_daily], axis=1, join=\"inner\")\n",
    "daily.to_csv('global_daily.csv')\n",
    "monthly = pd.concat([weather_monthly, data_monthly], axis=1, join=\"inner\")\n",
    "monthly.to_csv('global_monthly.csv')"
   ]
  },
  {
   "cell_type": "code",
   "execution_count": 5,
   "metadata": {},
   "outputs": [],
   "source": [
    "# I'm only keeping data from 2019 and past for now (training purposes)\n",
    "hourly_train = hourly[(hourly['Year'] != 2020)]\n",
    "daily_train = daily[(daily['Year'] != 2020)]\n",
    "monthly_train = monthly[(monthly['Year'] != 2020)]\n"
   ]
  },
  {
   "cell_type": "markdown",
   "metadata": {},
   "source": [
    "## 2.1.1. Preparing model evaluation function"
   ]
  },
  {
   "cell_type": "code",
   "execution_count": 6,
   "metadata": {},
   "outputs": [],
   "source": [
    "# INSPIRED BY: https://www.analyticsvidhya.com/blog/2016/03/complete-guide-parameter-tuning-xgboost-with-codes-python/\n",
    "\n",
    "def modelfit(alg, X, Y, useTrainCV=True, cv_folds=5, early_stopping_rounds=50):\n",
    "    \n",
    "    if useTrainCV:\n",
    "        xgb_param = alg.get_xgb_params()\n",
    "        xgtrain = xgb.DMatrix(X.values, label=Y.values)\n",
    "        cvresult = xgb.cv(xgb_param, xgtrain, num_boost_round=alg.get_params()['n_estimators'], nfold=cv_folds,\n",
    "            metrics='rmse', early_stopping_rounds=early_stopping_rounds)\n",
    "        alg.set_params(n_estimators=cvresult.shape[0])\n",
    "    \n",
    "    #Fit the algorithm on the data\n",
    "    alg.fit(X, Y,eval_metric='rmse')\n",
    "        \n",
    "    #Predict training set:\n",
    "    dtrain_predictions = alg.predict(X)\n",
    "        \n",
    "    #Print model report:\n",
    "    print(\"\\nModel Report:\")\n",
    "    print(\"Best number of estimators:\", cvresult.shape[0])\n",
    "    print(\"RMSE : %.2f\" % sqrt(metrics.mean_squared_error(Y.values, dtrain_predictions)))\n",
    "    print(\"nRMSE : \", round(sqrt(metrics.mean_squared_error(Y.values, dtrain_predictions))/Y.mean()*100,4), '% - The lower, the better!')\n",
    "                    \n",
    "    feat_imp = pd.Series(alg.get_booster().get_score(importance_type='weight')).sort_values(ascending=False)\n",
    "    feat_imp.plot(kind='bar', title='Feature Importances')\n",
    "    plt.ylabel('Feature Importance Score')"
   ]
  },
  {
   "cell_type": "markdown",
   "metadata": {},
   "source": [
    "## 2.2. Hourly XGBOOST Model"
   ]
  },
  {
   "cell_type": "markdown",
   "metadata": {},
   "source": [
    "### 2.2.1. Weather only"
   ]
  },
  {
   "cell_type": "code",
   "execution_count": 55,
   "metadata": {},
   "outputs": [],
   "source": [
    "# First, let us use the weather data to predict only hourly traffic\n",
    "# TEST CV\n",
    "X = hourly_train.drop(['dateIDd', 'dateIDm', 'Year', 'Month', 'Day', 'Hour', 'Weekday', 'Holiday', 'Duration', 'Volume'], axis=1)\n",
    "Y1 = hourly_train['Volume']\n",
    "Y2 = hourly_train['Duration']\n"
   ]
  },
  {
   "cell_type": "code",
   "execution_count": 56,
   "metadata": {},
   "outputs": [
    {
     "name": "stdout",
     "output_type": "stream",
     "text": [
      "\n",
      "Model Report:\n",
      "Best number of estimators: 198\n",
      "RMSE : 447.35\n",
      "nRMSE :  48.2433 % - The lower, the better!\n"
     ]
    },
    {
     "data": {
      "image/png": "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\n",
      "text/plain": [
       "<Figure size 432x288 with 1 Axes>"
      ]
     },
     "metadata": {
      "needs_background": "light"
     },
     "output_type": "display_data"
    }
   ],
   "source": [
    "# Define the initial model with near-random parameters. (by near random, I mean that I am choosing them)\n",
    "# This one predicts volume...\n",
    "xgb_W1_Y = xgb.XGBRegressor(\n",
    "    objective='reg:squarederror',\n",
    "    gamma=1,                 \n",
    "    eta=0.1,\n",
    "    max_depth=6,\n",
    "    n_estimators=10000,\n",
    "    min_child_weight=5,\n",
    "    subsample=0.8,\n",
    "    colsample_bytree=0.8,\n",
    "    random_state=34\n",
    ") \n",
    "\n",
    "# Fit for volume\n",
    "modelfit(xgb_W1_Y,X,Y1)"
   ]
  },
  {
   "cell_type": "code",
   "execution_count": 57,
   "metadata": {},
   "outputs": [
    {
     "name": "stdout",
     "output_type": "stream",
     "text": [
      "\n",
      "Model Report:\n",
      "Best number of estimators: 198\n",
      "RMSE : 63.33\n",
      "nRMSE :  8.3844 % - The lower, the better!\n"
     ]
    },
    {
     "data": {
      "image/png": "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\n",
      "text/plain": [
       "<Figure size 432x288 with 1 Axes>"
      ]
     },
     "metadata": {
      "needs_background": "light"
     },
     "output_type": "display_data"
    }
   ],
   "source": [
    "# Fit for duration\n",
    "modelfit(xgb_W1_Y,X,Y2)"
   ]
  },
  {
   "cell_type": "code",
   "execution_count": null,
   "metadata": {},
   "outputs": [],
   "source": [
    "# Tune-in of parameters from https://www.analyticsvidhya.com/blog/2016/03/complete-guide-parameter-tuning-xgboost-with-codes-python/ \n",
    "# Step 1: max_depth,min_child_weight\n",
    "\n",
    "\n",
    "# The paramters we want to test:\n",
    "param_test1 = {\n",
    " 'max_depth':range(3,7,2),\n",
    " 'min_child_weight':range(1,4,2)\n",
    "}\n",
    "\n",
    "# Automatic grid search!\n",
    "gsearch1 = GridSearchCV(estimator = XGBRegressor(\n",
    "    objective='reg:squarederror',\n",
    "    gamma=0.1,                 \n",
    "    eta=0.01,\n",
    "    max_depth=3,\n",
    "    n_estimators=10000,\n",
    "    min_child_weight=1,\n",
    "    subsample=0.8,\n",
    "    colsample_bytree=0.8,\n",
    "    random_state=34\n",
    "), \n",
    " param_grid = param_test1, scoring='neg_root_mean_squared_error',n_jobs=-1, cv=5)\n",
    "gsearch1.fit(X,Y)\n",
    "\n",
    "# Display results\n",
    "print(\"Best: %f using %s\" % (gsearch1.best_score_, gsearch1.best_params_))\n",
    "means = gsearch1.cv_results_['mean_test_score']\n",
    "params = gsearch1.cv_results_['params']\n",
    "for mean, param in zip(means, params):\n",
    "    print(\"%f with: %r\" % (mean, param))"
   ]
  },
  {
   "cell_type": "code",
   "execution_count": null,
   "metadata": {},
   "outputs": [],
   "source": [
    "print(\"Best: %f using %s\" % (gsearch1.best_score_, gsearch1.best_params_))\n",
    "means = gsearch1.cv_results_['mean_test_score']\n",
    "params = gsearch1.cv_results_['params']\n",
    "for mean, param in zip(means, params):\n",
    "    print(\"%f with: %r\" % (mean, param))"
   ]
  },
  {
   "cell_type": "code",
   "execution_count": null,
   "metadata": {},
   "outputs": [],
   "source": [
    "# Update the model with the results from the first grid search\n",
    "mod2 = xgb.XGBRegressor(\n",
    "    objective='reg:squarederror',\n",
    "    gamma=0.1,                 \n",
    "    eta=0.01,\n",
    "    max_depth=3,\n",
    "    n_estimators=10000,\n",
    "    min_child_weight=3,\n",
    "    subsample=0.8,\n",
    "    colsample_bytree=0.8,\n",
    "    random_state=34\n",
    ") \n",
    "modelfit(mod2,X,Y)"
   ]
  },
  {
   "cell_type": "markdown",
   "metadata": {},
   "source": [
    "### 2.2.2. Calendar and weather"
   ]
  },
  {
   "cell_type": "code",
<<<<<<< HEAD
   "execution_count": 58,
=======
   "execution_count": 29,
>>>>>>> cc009c9bebff3a78ebb1a521da892668d58197b3
   "metadata": {},
   "outputs": [],
   "source": [
    "# SPlITTING DATA\n",
    "X = hourly_train.drop(['dateIDd', 'dateIDm', 'Duration', 'Volume'], axis=1)\n",
    "Y1 = hourly_train['Volume']\n",
    "Y2 = hourly_train['Duration']"
   ]
  },
  {
   "cell_type": "code",
<<<<<<< HEAD
   "execution_count": 59,
=======
   "execution_count": 30,
>>>>>>> cc009c9bebff3a78ebb1a521da892668d58197b3
   "metadata": {},
   "outputs": [
    {
     "name": "stdout",
     "output_type": "stream",
     "text": [
      "\n",
      "Model Report:\n",
      "Best number of estimators: 2204\n",
      "RMSE : 15.44\n",
      "nRMSE :  1.6646 % - The lower, the better!\n"
     ]
    },
    {
     "data": {
      "image/png": "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\n",
      "text/plain": [
       "<Figure size 432x288 with 1 Axes>"
      ]
     },
     "metadata": {
      "needs_background": "light"
     },
     "output_type": "display_data"
    }
   ],
   "source": [
    "# Basic Model (Weather+Calendar only) for VOLUME\n",
    "xgb_WC1_Y = xgb.XGBRegressor(\n",
    "    objective='reg:squarederror',\n",
    "    gamma=1,                 \n",
    "    eta=0.1,\n",
    "    max_depth=6,\n",
    "    n_estimators=10000,\n",
    "    min_child_weight=5,\n",
    "    subsample=0.8,\n",
    "    colsample_bytree=0.8,\n",
    "    random_state=34\n",
    ") \n",
    "\n",
    "# Show fit\n",
    "modelfit(xgb_WC1_Y,X,Y1)"
   ]
  },
  {
   "cell_type": "code",
<<<<<<< HEAD
   "execution_count": 60,
=======
   "execution_count": 31,
>>>>>>> cc009c9bebff3a78ebb1a521da892668d58197b3
   "metadata": {},
   "outputs": [
    {
     "name": "stdout",
     "output_type": "stream",
     "text": [
      "\n",
      "Model Report:\n",
      "Best number of estimators: 278\n",
      "RMSE : 39.07\n",
      "nRMSE :  5.1728 % - The lower, the better!\n"
     ]
    },
    {
     "data": {
      "image/png": "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\n",
      "text/plain": [
       "<Figure size 432x288 with 1 Axes>"
      ]
     },
     "metadata": {
      "needs_background": "light"
     },
     "output_type": "display_data"
    }
   ],
   "source": [
    "# Show fit for duration\n",
    "modelfit(xgb_WC1_Y,X,Y2)"
   ]
  },
  {
   "cell_type": "markdown",
   "metadata": {},
   "source": [
    "VOLUME"
   ]
  },
  {
   "cell_type": "code",
   "execution_count": 32,
   "metadata": {},
   "outputs": [
    {
     "name": "stdout",
     "output_type": "stream",
     "text": [
      "Best: -193.946270 using {'max_depth': 8, 'min_child_weight': 7}\n",
      "-271.578820 with: {'max_depth': 2, 'min_child_weight': 1}\n",
      "-270.168204 with: {'max_depth': 2, 'min_child_weight': 4}\n",
      "-269.650267 with: {'max_depth': 2, 'min_child_weight': 7}\n",
      "-207.114866 with: {'max_depth': 4, 'min_child_weight': 1}\n",
      "-210.614586 with: {'max_depth': 4, 'min_child_weight': 4}\n",
      "-209.268866 with: {'max_depth': 4, 'min_child_weight': 7}\n",
      "-194.497958 with: {'max_depth': 6, 'min_child_weight': 1}\n",
      "-195.984876 with: {'max_depth': 6, 'min_child_weight': 4}\n",
      "-195.513930 with: {'max_depth': 6, 'min_child_weight': 7}\n",
      "-197.618765 with: {'max_depth': 8, 'min_child_weight': 1}\n",
      "-194.917401 with: {'max_depth': 8, 'min_child_weight': 4}\n",
      "-193.946270 with: {'max_depth': 8, 'min_child_weight': 7}\n"
     ]
    }
   ],
   "source": [
    "# Detailed fit for VOLUME\n",
    "# Tune-in of parameters from https://www.analyticsvidhya.com/blog/2016/03/complete-guide-parameter-tuning-xgboost-with-codes-python/ \n",
    "# Step 1: max_depth,min_child_weight\n",
    "\n",
    "# The parameters we want to test:\n",
    "param_test1 = {\n",
    " 'max_depth':range(2,10,2),\n",
    " 'min_child_weight':range(1,10,3)\n",
    "}\n",
    "\n",
    "# Automatic grid search!\n",
    "gsearch1 = GridSearchCV(estimator = XGBRegressor(\n",
    "    objective='reg:squarederror',\n",
    "    gamma=0.1,                 \n",
    "    eta=0.01,\n",
    "    max_depth=3,\n",
    "    n_estimators=10000,\n",
    "    min_child_weight=1,\n",
    "    subsample=0.8,\n",
    "    colsample_bytree=0.8,\n",
    "    random_state=34\n",
    "), \n",
    " param_grid = param_test1, scoring='neg_root_mean_squared_error',n_jobs=-1, cv=5)\n",
    "\n",
    "# Fit\n",
    "gsearch1.fit(X,Y1)\n",
    "\n",
    "# Display results\n",
    "print(\"Best: %f using %s\" % (gsearch1.best_score_, gsearch1.best_params_))\n",
    "means = gsearch1.cv_results_['mean_test_score']\n",
    "params = gsearch1.cv_results_['params']\n",
    "for mean, param in zip(means, params):\n",
    "    print(\"%f with: %r\" % (mean, param))"
   ]
  },
  {
   "cell_type": "code",
   "execution_count": 36,
   "metadata": {},
   "outputs": [
    {
     "name": "stdout",
     "output_type": "stream",
     "text": [
      "Best: -193.946270 using {'max_depth': 8, 'min_child_weight': 7}\n",
      "-194.917401 with: {'max_depth': 8, 'min_child_weight': 4}\n",
      "-193.946270 with: {'max_depth': 8, 'min_child_weight': 7}\n",
      "-194.613792 with: {'max_depth': 8, 'min_child_weight': 10}\n",
      "-204.455753 with: {'max_depth': 10, 'min_child_weight': 4}\n",
      "-203.841303 with: {'max_depth': 10, 'min_child_weight': 7}\n",
      "-202.202081 with: {'max_depth': 10, 'min_child_weight': 10}\n",
      "-216.335630 with: {'max_depth': 12, 'min_child_weight': 4}\n",
      "-210.334468 with: {'max_depth': 12, 'min_child_weight': 7}\n",
      "-206.788179 with: {'max_depth': 12, 'min_child_weight': 10}\n"
     ]
    }
   ],
   "source": [
    "# Additional testing is required:\n",
    "\n",
    "# The parameters we want to test:\n",
    "param_test1 = {\n",
    " 'max_depth':range(8,13,2),\n",
    " 'min_child_weight':range(4,11,3)\n",
    "}\n",
    "\n",
    "# Automatic grid search!\n",
    "gsearch1 = GridSearchCV(estimator = XGBRegressor(\n",
    "    objective='reg:squarederror',\n",
    "    gamma=0.1,                 \n",
    "    eta=0.01,\n",
    "    max_depth=3,\n",
    "    n_estimators=10000,\n",
    "    min_child_weight=1,\n",
    "    subsample=0.8,\n",
    "    colsample_bytree=0.8,\n",
    "    random_state=34\n",
    "), \n",
    " param_grid = param_test1, scoring='neg_root_mean_squared_error',n_jobs=-1, cv=5)\n",
    "\n",
    "# Fit\n",
    "gsearch1.fit(X,Y1)\n",
    "\n",
    "# Display results\n",
    "print(\"Best: %f using %s\" % (gsearch1.best_score_, gsearch1.best_params_))\n",
    "means = gsearch1.cv_results_['mean_test_score']\n",
    "params = gsearch1.cv_results_['params']\n",
    "for mean, param in zip(means, params):\n",
    "    print(\"%f with: %r\" % (mean, param))"
   ]
  },
  {
   "cell_type": "code",
   "execution_count": 34,
   "metadata": {},
   "outputs": [
    {
     "name": "stdout",
     "output_type": "stream",
     "text": [
      "\n",
      "Model Report:\n",
      "Best number of estimators: 2223\n",
      "RMSE : 1.52\n",
      "nRMSE :  0.164 % - The lower, the better!\n"
     ]
    },
    {
     "data": {
      "image/png": "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\n",
      "text/plain": [
       "<Figure size 432x288 with 1 Axes>"
      ]
     },
     "metadata": {
      "needs_background": "light"
     },
     "output_type": "display_data"
    }
   ],
   "source": [
    "# Update 1 VOLUME \n",
    "xgb_WC2_Y1 = xgb.XGBRegressor(\n",
    "    objective='reg:squarederror',\n",
    "    gamma=0.1,                 \n",
    "    eta=0.01,\n",
    "    max_depth=8,\n",
    "    n_estimators=10000,\n",
    "    min_child_weight=7,\n",
    "    subsample=0.8,\n",
    "    colsample_bytree=0.8,\n",
    "    random_state=34\n",
    ") \n",
    "modelfit(xgb_WC2_Y1,X,Y1)"
   ]
  },
  {
   "cell_type": "code",
   "execution_count": 39,
   "metadata": {},
   "outputs": [
    {
     "name": "stdout",
     "output_type": "stream",
     "text": [
      "Best: -193.876874 using {'gamma': 1.0}\n",
      "-193.918617 with: {'gamma': 0.0}\n",
      "-193.962339 with: {'gamma': 0.2}\n",
      "-193.917811 with: {'gamma': 0.4}\n",
      "-193.908998 with: {'gamma': 0.6}\n",
      "-193.928721 with: {'gamma': 0.8}\n",
      "-193.876874 with: {'gamma': 1.0}\n"
     ]
    }
   ],
   "source": [
    "# Step 2: gamma\n",
    "\n",
    "# The parameters we want to test:\n",
    "param_test2 = {\n",
    " 'gamma':[i/10 for i in range(0,11,2)]\n",
    "}\n",
    "\n",
    "# Automatic grid search!\n",
    "gsearch2 = GridSearchCV(estimator = XGBRegressor(\n",
    "    objective='reg:squarederror',\n",
    "    gamma=0.1,                 \n",
    "    eta=0.01,\n",
    "    max_depth=8,\n",
    "    n_estimators=10000,\n",
    "    min_child_weight=7,\n",
    "    subsample=0.8,\n",
    "    colsample_bytree=0.8,\n",
    "    random_state=34\n",
    "), \n",
    " param_grid = param_test2, scoring='neg_root_mean_squared_error',n_jobs=-1, cv=5)\n",
    "\n",
    "# Fit\n",
    "gsearch2.fit(X,Y1)\n",
    "\n",
    "# Display results\n",
    "print(\"Best: %f using %s\" % (gsearch2.best_score_, gsearch2.best_params_))\n",
    "means = gsearch2.cv_results_['mean_test_score']\n",
    "params = gsearch2.cv_results_['params']\n",
    "for mean, param in zip(means, params):\n",
    "    print(\"%f with: %r\" % (mean, param))"
   ]
  },
  {
   "cell_type": "code",
   "execution_count": 41,
   "metadata": {},
   "outputs": [
    {
     "name": "stdout",
     "output_type": "stream",
     "text": [
      "Best: -194.090124 using {'gamma': 4}\n",
      "-194.124014 with: {'gamma': 2}\n",
      "-194.095515 with: {'gamma': 3}\n",
      "-194.090124 with: {'gamma': 4}\n"
     ]
    }
   ],
   "source": [
    "# Step 2: gamma - more testing!\n",
    "\n",
    "# The parameters we want to test:\n",
    "param_test2 = {\n",
    " 'gamma':range(2,5)\n",
    "}\n",
    "\n",
    "# Automatic grid search!\n",
    "gsearch2 = GridSearchCV(estimator = XGBRegressor(\n",
    "    objective='reg:squarederror',\n",
    "    gamma=0.1,                 \n",
    "    eta=0.01,\n",
    "    max_depth=8,\n",
    "    n_estimators=10000,\n",
    "    min_child_weight=7,\n",
    "    subsample=0.8,\n",
    "    colsample_bytree=0.8,\n",
    "    random_state=34\n",
    "), \n",
    " param_grid = param_test2, scoring='neg_root_mean_squared_error',n_jobs=-1, cv=5)\n",
    "\n",
    "# Fit\n",
    "gsearch2.fit(X,Y1)\n",
    "\n",
    "# Display results\n",
    "print(\"Best: %f using %s\" % (gsearch2.best_score_, gsearch2.best_params_))\n",
    "means = gsearch2.cv_results_['mean_test_score']\n",
    "params = gsearch2.cv_results_['params']\n",
    "for mean, param in zip(means, params):\n",
    "    print(\"%f with: %r\" % (mean, param))"
   ]
  },
  {
   "cell_type": "code",
   "execution_count": 43,
   "metadata": {},
   "outputs": [
    {
     "name": "stdout",
     "output_type": "stream",
     "text": [
      "\n",
      "Model Report:\n",
      "Best number of estimators: 2511\n",
      "RMSE : 1.12\n",
      "nRMSE :  0.1213 % - The lower, the better!\n"
     ]
    },
    {
     "data": {
      "image/png": "iVBORw0KGgoAAAANSUhEUgAAAZEAAAFPCAYAAACMFfMIAAAABHNCSVQICAgIfAhkiAAAAAlwSFlzAAALEgAACxIB0t1+/AAAADh0RVh0U29mdHdhcmUAbWF0cGxvdGxpYiB2ZXJzaW9uMy4yLjIsIGh0dHA6Ly9tYXRwbG90bGliLm9yZy+WH4yJAAAgAElEQVR4nO3dd7hcVb3/8fcngQCXklAChhrAWBBpRkDliqJ0ESwoKEVEowgqYkO9SlGv4E/Fi1fx0ptSBISoKESqdBIIkFAkBpAAQpAqKBL4/v5Ya8jOZMqefc7MyeR8Xs8zz5m9Zq+91sw5Z9ZeXRGBmZlZFSOGOgNmZta/XIiYmVllLkTMzKwyFyJmZlaZCxEzM6vMhYiZmVXmQsTMzCpzIWKLJEn3S/qnpH8UHqsPwjXfPVh5LJHe4ZLO7FV6rUj6mKRrhjoftvhxIWKLsl0iYrnC4+GhzIykJYYy/ar6Nd/WH1yIWF+RNFrSSZIekfSQpO9IGplfW1/S5ZL+LulxSb+QNCa/dgawNvCbXKv5iqR3SJpTd/1Xaiu5JnGepDMlPQN8rFX6JfIekj4j6V5Jz0r6ds7z9ZKekXSupFH53HdImiPp6/m93C/po3Wfw+mS5kp6QNJ/SRqRX/uYpGslHSPpCeAc4OfAW/J7fyqft7OkW3PaD0o6vHD98Tm/+0r6a87DNwqvj8x5+0t+L9MkrZVfe52kKZKekHSPpA8V4u0k6c4c5yFJXyr9y7dFkgsR6zenAfOAVwObAtsBn8ivCfgesDrwemAt4HCAiNgb+CvzazffL5nersB5wBjgF23SL2MH4E3AlsBXgOOBj+a8bgjsWTj3VcAqwBrAvsDxkl6bX/sJMBpYD9ga2AfYrxB3C2A2sCqwF/Bp4Pr83sfkc57L8cYAOwMHSNqtLr9bAa8F3gV8S9Lrc/ghOa87ASsAHweel7QsMAX4ZU57T+Bnkt6Q450EfCoils/v9/JSn5otslyI2KLsQklP5ceFklYDdgQOjojnIuIx4BhgD4CImBURUyLihYiYC/yI9AU7ENdHxIUR8TLpy7Jp+iUdHRHPRMRMYAZwaUTMjoingd+TCqaib+b3cxXwO+BDuebzYeBrEfFsRNwP/BDYuxDv4Yj4SUTMi4h/NspIRFwZEXdExMsRcTtwFgt/XkdExD8j4jbgNmDjHP4J4L8i4p5IbouIvwPvAe6PiFNy2rcA5wMfzPFeBDaQtEJEPJlftz7mtlJblO0WEX+sHUjaHFgSeERSLXgE8GB+fVXgWOA/geXza08OMA8PFp6v0yr9kh4tPP9ng+NXFY6fjIjnCscPkGpZqwCj8nHxtTWa5LshSVsAR5FqBKOApYBf1Z32t8Lz54Hl8vO1gL80uOw6wBa1JrNsCeCM/PwDwH8BR0m6HTg0Iq5vl1dbdLkmYv3kQeAFYJWIGJMfK0REranke0AAG0XECqRmHBXi1y9Z/RzwH7WDfIc/tu6cYpx26Q+2FXPzUM3awMPA46Q7+nXqXnuoSb4bHUNqcpoMrBURo0n9JmpwXiMPAus3Cb+q8PmMyU1oBwBExM0RsSupqetC4NyS6dkiyoWI9Y2IeAS4FPihpBUkjcgd07UmmOWBfwBPSVoD+HLdJR4l9SHU/BlYOncwL0m6Q15qAOl3wxGSRkn6T1JT0a8i4iXSl+93JS0vaR1SH0Wr4cSPAmvWOu6z5YEnIuJfuZb3kQ7ydSLwbUkTlGwkaWXgt8BrJO0tacn8eLOk1+f38VFJoyPiReAZ4KUO0rRFkAsR6zf7kJpe7iQ1VZ0HjMuvHQFsBjxN6j+4oC7u94D/yn0sX8r9EJ8hfSE+RKqZzKG1VukPtr/lNB4mdep/OiLuzq99lpTf2cA1pFrFyS2udTkwE/ibpMdz2GeAIyU9C3yLzmoFP8rnX0oqDE4ClomIZ0mDDfbI+f4bcDTzC+e9gfvzaLdPk2qL1sfkTanMFj2S3gGcGRFrDnVezFpxTcTMzCpzIWJmZpW5OcvMzCpzTcTMzCpzIWJmZpUNuxnrq6yySowfP36os2Fm1lemTZv2eETUT8YdfoXI+PHjmTp16lBnw8ysr0h6oFG4m7PMzKwyFyJmZlaZCxEzM6vMhYiZmVXmQsTMzCpzIWJmZpW5EDEzs8pciJiZWWXDbrJh0fhDf9fy9fuP2rlHOTEz60+uiZiZWWUuRMzMrDIXImZmVpkLETMzq8yFiJmZVeZCxMzMKutaISJpaUk3SbpN0kxJR+TwUyXdJ2l6fmySwyXpWEmzJN0uabPCtfaVdG9+7FsIf5OkO3KcYyWpW+/HzMwW1s15Ii8A20TEPyQtCVwj6ff5tS9HxHl15+8ITMiPLYDjgC0krQQcBkwEApgmaXJEPJnPmQTcAFwM7AD8HjMz64mu1UQi+Uc+XDI/okWUXYHTc7wbgDGSxgHbA1Mi4olccEwBdsivrRAR10dEAKcDu3Xr/ZiZ2cK62iciaaSk6cBjpILgxvzSd3OT1TGSlsphawAPFqLPyWGtwuc0CDczsx7paiESES9FxCbAmsDmkjYEvga8DngzsBLw1Xx6o/6MqBC+EEmTJE2VNHXu3LkdvgszM2umJ6OzIuIp4Epgh4h4JDdZvQCcAmyeT5sDrFWItibwcJvwNRuEN0r/+IiYGBETx44dOwjvyMzMoLujs8ZKGpOfLwO8G7g792WQR1LtBszIUSYD++RRWlsCT0fEI8AlwHaSVpS0IrAdcEl+7VlJW+Zr7QNc1K33Y2ZmC+vm6KxxwGmSRpIKq3Mj4reSLpc0ltQcNR34dD7/YmAnYBbwPLAfQEQ8IenbwM35vCMj4on8/ADgVGAZ0qgsj8wyM+uhrhUiEXE7sGmD8G2anB/AgU1eOxk4uUH4VGDDgeXUzMyq8ox1MzOrzIWImZlVNqx3NhyIVrsiekdEMxsuXBMxM7PKXIiYmVllLkTMzKwyFyJmZlaZCxEzM6vMhYiZmVXmQsTMzCpzIWJmZpW5EDEzs8pciJiZWWUuRMzMrDIXImZmVpkLETMzq8yFiJmZVeZCxMzMKnMhYmZmlZUuRCQt28mFJS0t6SZJt0maKemIHL6upBsl3SvpHEmjcvhS+XhWfn184Vpfy+H3SNq+EL5DDpsl6dBO8mdmZgPXthCR9FZJdwJ35eONJf2sxLVfALaJiI2BTYAdJG0JHA0cExETgCeB/fP5+wNPRsSrgWPyeUjaANgDeAOwA/AzSSMljQR+CuwIbADsmc81M7MeKbM97jHA9sBkgIi4TdLb20WKiAD+kQ+XzI8AtgE+ksNPAw4HjgN2zc8BzgP+V5Jy+NkR8QJwn6RZwOb5vFkRMRtA0tn53DtLvKch02pbXfDWumbWX0o1Z0XEg3VBL5WJl2sM04HHgCnAX4CnImJePmUOsEZ+vgbwYE5vHvA0sHIxvC5Os3AzM+uRMoXIg5LeCoSkUZK+RG7aaiciXoqITYA1SbWH1zc6Lf9Uk9c6DV+IpEmSpkqaOnfu3PYZNzOzUsoUIp8GDiTd5c8h9W8c2EkiEfEUcCWwJTBGUq0ZbU3g4fx8DrAWQH59NPBEMbwuTrPwRukfHxETI2Li2LFjO8m6mZm10LIQyZ3XP46Ij0bEahGxakTsFRF/b3dhSWMljcnPlwHeTarBXAF8MJ+2L3BRfj45H5Nfvzz3q0wG9sijt9YFJgA3ATcDE/Jor1GkzvfJpd+5mZkNWMuO9Yh4KRcGoyLi3x1eexxwWi6IRgDnRsRv80ivsyV9B7gVOCmffxJwRu44f4JUKBARMyWdS+ownwccGBEvAUg6CLgEGAmcHBEzO8yjmZkNQJnRWfcD10qaDDxXC4yIH7WKFBG3A5s2CJ/N/NFVxfB/Abs3udZ3ge82CL8YuLh19s3MrFvKFCIP58cIYPnuZsfMzPpJ20IkImozzZdPh/GPNlHMzGyYKDNjfUNJtwIzgJmSpkl6Q/ezZmZmi7oyQ3yPBw6JiHUiYh3gi8AJ3c2WmZn1gzKFyLIRcUXtICKuBDpajNHMzBZPZTrWZ0v6JnBGPt4LuK97WTIzs35RpibycWAscEF+rALs181MmZlZfygzOutJ4HM9yIu10WoFYK/+a2ZDoczorCm15Uvy8YqSLulutszMrB+Uac5aJS+gCLxSM1m1e1kyM7N+UaYQeVnS2rUDSevQZMl1MzMbXsqMzvoGcI2kq/Lx24FJ3cuSmZn1izId63+QtBlpLxCAL0TE493NlpmZ9YOmzVmS1pE0GiAXGs8B2wL75P07zMxsmGtVEzkXeB/wtKRNgF8B3wM2Bn4GfKL72bPB4uHBZtYNrQqRZSKitt3sXqRNn34oaQQwvftZMzOzRV2r0VkqPN8GuAwgIl7uao7MzKxvtKqJXJ63pX0EWBG4HEDSOKDTrXKtT7kZzMxaaVWIHAx8mLRX+lYR8WIOfxVp2K+ZmQ1zTZuzIjk7Io6JiIcK4bdGRNtlTyStJekKSXdJminp8zn8cEkPSZqeHzsV4nxN0ixJ90javhC+Qw6bJenQQvi6km6UdK+kczxqzMyst8rMWK9qHvDFiHg9aY7JgZI2yK8dExGb5MfFAPm1PYA3ADsAP5M0UtJI4KfAjsAGwJ6F6xydrzUBeBLYv4vvx8zM6nStEImIRyLilvz8WeAuYI0WUXYFzo6IFyLiPmAWsHl+zIqI2RHxb+BsYFdJInX4n5fjnwbs1p13Y2ZmjZQqRCQtI+m1VRORNB7YFLgxBx0k6XZJJ0taMYetATxYiDYnhzULXxl4KiLm1YWbmVmPlFkKfhfSvJA/5ONNJE0um4Ck5YDzgYMj4hngOGB9YBPSyK8f1k5tED0qhDfKwyRJUyVNnTt3btmsm5lZG2VqIoeTmpSeAoiI6cD4MheXtCSpAPlFRFyQ4z8aES/l+SYn5GtDqkmsVYi+JvBwi/DHgTGSlqgLX0hEHB8REyNi4tixY8tk3czMSihTiMyLiKc7vXDuszgJuCsiflQIH1c47X3AjPx8MrCHpKUkrQtMAG4CbgYm5JFYo0id75MjIoArgA/m+PsCF3WaTzMzq67MUvAzJH0EGClpAmmr3OtKxHsbsDdwh6TaMilfJ42u2oTU9HQ/8CmAiJiZJzfeSRrZdWBEvAQg6SDgEmAkafmVmfl6XwXOlvQd4FZSoWVmZj1SphD5LGly4QvAL0lf5t9pFykirqFxv8XFLeJ8F/hug/CLG8WLiNnMbw4zM7MeK7OfyPOkQsSz1M3MbAFlRmdNkTSmcLyipLYz1s3MbPFXpmN9lYh4qnYQEU8Cq3YvS2Zm1i/KFCIvS1q7diBpHZrMxzAzs+GlTMf6N4BrJF2Vj98OTOpelszMrF+U6Vj/g6TNSIsoCvhC3nPdzMyGuTI1EYClgCfy+RtIIiKu7l62zMysH7QtRCQdTdqcaiZQ2xo3ABciZmbDXJmayG7AayPihW5nxszM+kuZ0VmzgSW7nREzM+s/ZWoizwPTJV1GWvoEgIj4XNdyZYuF8Yf+rulr9x+1cw9zYmbdUqYQmZwfZmZmCygzxPe0XmTEzMz6T5nRWROA7wEbAEvXwiNivS7my8zM+kCZjvVTSFvazgPeCZwOnNHNTJmZWX8oU4gsExGXAYqIByLicGCb7mbLzMz6QZmO9X9JGgHcm3cYfAiv4mtmZpSriRwM/AdpW9w3AXsB+3QzU2Zm1h/KFCLjI+IfETEnIvaLiA8Aa7eNZWZmi70yhcjXSoYtQNJakq6QdJekmZI+n8NXyrsl3pt/rpjDJelYSbMk3Z5XDq5da998/r2S9i2Ev0nSHTnOsZIa7eluZmZd0rRPRNKOwE7AGpKOLby0AmmkVjvzgC9GxC2SlgemSZoCfAy4LCKOknQocCjwVWBHYEJ+bEEaEbaFpJWAw4CJpIUfp0manHdYPI60t8kNwMXADsDvy755MzMbmFY1kYeBqcC/gGmFx2Rg+3YXjohHIuKW/PxZ4C5gDWBXoDaB8TTSAo/k8NMjuQEYI2lcTmtKRDyRC44pwA75tRUi4vqICNLQ49q1zMysB5rWRCLiNkkzgO0GOmtd0nhgU+BGYLWIeCSn8Yik2kivNYAHC9Hm5LBW4XMahJuZWY+07BOJiJeAlSWNqpqApOWA84GDI+KZVqc2ykKF8EZ5mCRpqqSpc+fObZdlMzMrqcw8kQeAayVNBp6rBUbEj9pFlLQkqQD5RURckIMflTQu10LGAY/l8DnAWoXoa5Ka1OYA76gLvzKHr9ng/IVExPHA8QATJ05sWNCYmVnnyozOehj4bT53+cKjpTxS6iTgrroCZzJQG2G1L3BRIXyfPEprS+Dp3Ox1CbCdpBXzSK7tgEvya89K2jKntU/hWmZm1gNlVvE9AiCPsIqI+EfJa78N2Bu4Q9L0HPZ14CjgXEn7A38Fds+vXUwaDTaLtIfJfjn9JyR9G7g5n3dkRDyRnx8AnAosQxqV5ZFZZmY9VGYV3w1JCy6ulI8fB/aJiJmt4kXENTTutwB4V4PzAziwybVOBk5uED4V2LBVPszMrHvKNGcdDxwSEetExDrAF4ETupstMzPrB2UKkWUj4oraQURcCSzbtRyZmVnfKDM6a7akbzJ/D5G9gPu6lyUzM+sXZWoiHwfGAhcAv87P9+tmpszMrD+UGZ31JPA5SaOBl/MSJmZmZu1rIpLeLOkO4DbScN3bJL2p+1kzM7NFXZk+kZOAz0TEnwAkbUXad32jbmbMzMwWfWX6RJ6tFSDwyvwPN2mZmVmpmshNkv4POIu0wOGHgStrm0bVlns3GyzjD/1dy9fvP2rnHuXEzNopU4hskn8eVhf+VlKhss2g5sjMzPpGmdFZ7+xFRszMrP+UWTtrDGmF3PHF8yPic93LlpmZ9YMyzVkXk/YwvwN4ubvZMTOzflKmEFk6Ig7pek7MzKzvlBnie4akT0oaJ2ml2qPrOTMzs0VemZrIv4H/B3yD+XuYB7BetzJlZmb9oUwhcgjw6oh4vNuZMTOz/lKmOWsmabtaMzOzBZSpibwETJd0BfBCLdBDfM3MrExN5ELgu8B1wLTCoyVJJ0t6TNKMQtjhkh6SND0/diq89jVJsyTdI2n7QvgOOWyWpEML4etKulHSvZLOkTSq3Fs2M7PBUmbG+mkVr30q8L/A6XXhx0TED4oBkjYA9gDeAKwO/FHSa/LLPwW2BeYAN0uaHBF3Akfna50t6efA/sBxFfNqZmYVNC1E8h4i0ez1iGi5FHxEXC1pfMl87AqcHREvAPdJmgVsnl+bFRGzc57OBnaVdBdpza6P5HNOAw7HhYiZWU+1qom8p0tpHiRpH2Aq8MW8c+IapFnxNXNyGMCDdeFbACsDT0XEvAbnm5lZjzTtE4mIB1o9KqZ3HLA+aWXgR4Af5nA1ykKF8IYkTZI0VdLUuXPndpZjMzNrqkzH+qCJiEcj4qWIeBk4gflNVnOAtQqnrgk83CL8cWCMpCXqwpule3xETIyIiWPHjh2cN2NmZr0tRCSNKxy+D6iN3JoM7CFpKUnrAhOAm4CbgQl5JNYoUuf75IgI4Arggzn+vsBFvXgPZmY2X5l5IkhaBlg7Iu4pe2FJZwHvAFaRNIe0qdU7JG1Canq6H/gUQETMlHQucCcwDzgwIl7K1zkIuAQYCZwcETNzEl8Fzpb0HeBW0l7wZmbWQ2X2E9kF+AEwClg3FwJHRsR7W8WLiD0bBDf9oo+I75Lmo9SHX0xajr4+fDbzm8PMzGwIlGnOOpz0Zf0UQERMJ21QZWZmw1yZQmReRDzd9ZyYmVnfKdMnMkPSR4CRkiYAnyMtgWJmZsNcmZrIZ0nLkbwA/BJ4Gji4m5kyM7P+0LImImkkaUjtu0mbUpmZmb2iZU0kD7N9XtLoHuXHzMz6SJk+kX8Bd0iaAjxXC/R+ImZmVqYQ+V1+mJmZLaCb+4mYmdlirsyM9ftosEJuRKzXlRyZmVnfKNOcNbHwfGlgd2Cl7mTHzMz6Sdt5IhHx98LjoYj4MWlXQTMzG+bKNGdtVjgcQaqZLN+1HJmZWd8o05z1w8LzecB9wIe6kx0zM+snZQqR/fOy66/IG0eZmdkwV2btrPNKhpmZ2TDTtCYi6XWkhRdHS3p/4aUVSKO0zMxsmGvVnPVa4D3AGGCXQvizwCe7mSkzM+sPTQuRiLgIuEjSWyLi+h7myczM+kSZPpFbJR0o6WeSTq492kXK5z0maUYhbCVJUyTdm3+umMMl6VhJsyTdXhxWLGnffP69kvYthL9J0h05zrGS1OF7NzOzASpTiJwBvArYHrgKWJPUpNXOqcAOdWGHApdFxATgsnwMsCMwIT8mAcdBKnSAw4AtSPu8H1YrePI5kwrx6tMyM7MuK1OIvDoivgk8lxdj3Bl4Y7tIEXE18ERd8K5AbUHH04DdCuGnR3IDMEbSOFLBNSUinoiIJ4EpwA75tRUi4vqICOD0wrXMzKxHyhQiL+afT0naEBgNjK+Y3moR8QhA/rlqDl8DeLBw3pwc1ip8ToNwMzProTKTDY/PTUjfBCYDywHfGuR8NOrPiArhjS8uTSI1fbH22mtXyZ+ZmTVQZgHGEyPiyYi4KiLWi4hVI+LnFdN7NDdFkX8+lsPnAGsVzlsTeLhN+JoNwpu9h+MjYmJETBw7dmzFrJuZWb22hYik1SSdJOn3+XgDSftXTG8yUBthtS9wUSF8nzxKa0vg6dzcdQmwnaQVc21oO+CS/NqzkrbMo7L2KVzLzMx6pEyfyKmkL/PV8/GfgYPbRZJ0FnA98FpJc3LBcxSwraR7gW3zMcDFwGxgFnAC8BmAiHgC+DZwc34cmcMADgBOzHH+Avy+xHsxM7NBVKZPZJWIOFfS1wAiYp6kl9pFiog9m7z0rgbnBnBgk+ucDCw0LyUipgIbtsuHmZl1T5mayHOSViZ3XNeam7qaKzMz6wtlaiKHkPos1pd0LTAW+GBXc2VmZn2h1Sq+a0fEXyPiFklbkxZkFHBPRLzYLJ6ZmQ0frZqzLiw8PyciZkbEDBcgZmZW06oQKU7oW6/bGTEzs/7TqhCJJs/NzMyA1h3rG0t6hlQjWSY/Jx9HRKzQ9dyZmdkirdWmVCN7mREzM+s/ZeaJmJmZNeRCxMzMKnMhYmZmlbkQMTOzysose2LWN8Yf+rumr91/1M6V4rWLazacuSZiZmaVuRAxM7PKXIiYmVllLkTMzKwyFyJmZlaZCxEzM6vMhYiZmVU2JIWIpPsl3SFpuqSpOWwlSVMk3Zt/rpjDJelYSbMk3S5ps8J19s3n3ytp36F4L2Zmw9lQTjZ8Z0Q8Xjg+FLgsIo6SdGg+/iqwIzAhP7YAjgO2kLQScBgwkbTfyTRJkyPiyV6+CbOqExzNFgeL0oz1XYF35OenAVeSCpFdgdMjIoAbJI2RNC6fOyUingCQNAXYATirt9k2q8az5G1xMFR9IgFcKmmapEk5bLWIeAQg/1w1h68BPFiIOyeHNQtfiKRJkqZKmjp37txBfBtmZsPbUNVE3hYRD0taFZgi6e4W56pBWLQIXzgw4njgeICJEyd6q18zs0EyJDWRiHg4/3wM+DWwOfBobqYi/3wsnz4HWKsQfU3g4RbhZmbWIz0vRCQtK2n52nNgO2AGMBmojbDaF7goP58M7JNHaW0JPJ2buy4BtpO0Yh7JtV0OMzOzHhmK5qzVgF9LqqX/y4j4g6SbgXMl7Q/8Fdg9n38xsBMwC3ge2A8gIp6Q9G3g5nzekbVOdjMz642eFyIRMRvYuEH434F3NQgP4MAm1zoZOHmw82hmZuV4xrqZmVXmQsTMzCpzIWJmZpW5EDEzs8pciJiZWWUuRMzMrDIXImZmVtmitIqvmZXk5edtUeFCxGyYcQFkg8nNWWZmVpkLETMzq8zNWWZWipvBrBHXRMzMrDIXImZmVpmbs8ys69wUtvhyTcTMzCpzTcTMFlmtajDgWsyiwDURMzOrzIWImZlV1vfNWZJ2AP4HGAmcGBFHDXGWzGwR4M783ujrQkTSSOCnwLbAHOBmSZMj4s6hzZmZ9Sv3w3SmrwsRYHNgVkTMBpB0NrAr4ELEzHquau2nnwuufi9E1gAeLBzPAbYYoryYmfXcQJrtBqPJTxFR6sRFkaTdge0j4hP5eG9g84j4bN15k4BJ+fC1wD1NLrkK8HjF7FSN6zQXrzQHEtdpLl5pDiTuopjmOhExdqHQiOjbB/AW4JLC8deArw3gelN7HddpLl5p9lt+neaiGbef0uz3Ib43AxMkrStpFLAHMHmI82RmNmz0dZ9IRMyTdBBwCWmI78kRMXOIs2VmNmz0dSECEBEXAxcP0uWOH4K4TnPxSnMgcZ3m4pXmQOL2TZp93bFuZmZDq9/7RMzMbAi5EDEzs8pciFQgaWlJh0i6QNL5kr4gaekO4n++TNhwJuk9khbpv09JIyTNGKRrrShpow7O33AAaS1VJqzBOSOrpjkUBvIZ9ZM8OvVH+ftocu1RMu42kv5jQOm7TyT9AwMTgFcKgoi4usX55wLPAmfmoD2BFSNi95Lp3RIRm9WF3RoRm3aa95LpjQBuj4jS/1SSNmv1ekTcMthp1sU/kzQP6HzglIi4q4O4bwXGUxg4EhGnl4h3BnBQRDydj9chjfh7V4s4vyDNTfpr2fwV4l4JvDfnczowF7gqIg4pEfcaYBRwKvDLiHiqg3Qb/f0tFNYg3n3AeaTfR0dLC0maCpyS8/pkJ3Fz/JHAaiz4O235mXf6GQ30b75wnTuA+i/Wp4GpwHci4u8t4m4FTIiIUySNBZaLiPvapHcbcBJwB/ByIb9Xlcjr6cCWwN+BP+XHNZ38jvp+dNZASfoE8HlgTdI/8pbA9cA2LaK9NiI2LhxfkX+R7dLaE/gIsG7dncLypF9iq7jPMv8PU/ln5OcRESs0ixsRL0u6TdLaHXzZ/TD/XBqYCNyW09oIuBHYqlXkimkW4+8laQVSAX2KpCB9CZ0VEc82i5cLgvVJv8uXapcD2hYiwDXAjZIOIS2p82Xgi23ijANmSroJeK6Q//eWSG90RDyT/wZPiYjDJN1eIh4RsZWkCcDHgak5/VMiYkqzOJJeRXpfy0jalPl/RysAZe5GNyLNxTox3yScDJwdEc+UiLsHsB9pkdRagXJplLiLlfRZ4DDgUeZ/SVWUHRQAAB+5SURBVEbOT1MVPqMfNgmvpdfqO6Ho96S/vV/m4z3yz2dIBdoujSJJOoz0v/Za0uezJOlG9W1t0vtXRBxbMm8LiIh9ctqrAx8kLWi7Op2UDVVnRS4uD1LpvTQwPR+/DjinTZxTgS0Lx1sAPyuR1jrAO0iF1NaFx2bAEl1+n5eTak+XkSZkTgYml4h3NvDGwvGGwKndTLPuGqsABwP3k/457wU+2+L8u8g17Iqf01bAi8AjwKtKnL91o0cHf3vjgEuBN+ew2zvM70jgA8BD+b3fDby/ybn7Alfk38kVhcfkZnFapPv2nOZzwGnAq0vGG0GqfT1EWvfuCGClNnFmASsP4Hda+jMajAdwbbMw4I4W8aaTCvZbC2Ft/x5IN6aHkWrum9UeJfO6F/B/wHX57+ArwFs6eb/DviZCKsX/JQlJS0XE3ZJe2ybOFsA+kmp32GsDd9WqsRHR8A4pIh4AHiD9siurq/KuAiwfbaq8pH/WKl4XEXfUDiJihqRNSsatmiaSdiHdQa4PnEFaE+2x3H57F/CTJlFnAK8iFQKdprk38E1gH9Jd7sWS9ouIprXMKNFk0MKRpImy10TEzZLWIxWSZfK6EenOfmdgCrBLRNyS7yivBy5okNfTgNMkfSAizu80s7lJaeec7njSnfsvgP8kzdV6Tck870RqpvwFqdC+HGj1N/UgqTmo0/x29BlJen+r60XEQp9pE8tJ2iIibszX3RxYLr82r0W8f0dE5Fo3kpYtmd4bgb1JNaViTa1MzenHwF+AnwNXRMT9JdN8xbDvE5H0a9If2sGkD/1JYMmI2KlFnHVaXTMXFq3SfD9wNLAq6c6jbZNUIe4rVd6IeE3+h/hVRLSr8lYi6SzS3eaZpD/MvUjttHt2I71CuqeTNhlbqG9K0rsi4rK6sN/k/C1P+kK6CXih9nqUaF6SdCEwKSIey8ebA8dHRNMvOElbkgq015Pa30cCz5X5XQ6EpKuBE4DzIuKfda/tHRFntIjbqM/laWBaRExvEW82qeZyUkRcV/fasRHxuRZxpwFPkdruz4+IFwqvXRARTb/AJZ1EauL5HQv+Tn/ULE6O19FnJOmUFpeLiPh4q/QK13kzqalvOdL/9jPA/qQtKnaOiHObxPsSqW92W+B7pJuoX0ZEsxumWry7gY0i4t9l8tcg/htINcutcvr3RMTepeMP90KkSNLWwGjgD+1+Ibkzfi0W7Ogr2/E2i3RXVLqzuBB3OrApcEvkjnhJtzer/Ui6JlLbcLFPBUoWXEqjzg4g/ZEBXA0cFxH/KpHXYpqjSG28XfmCzb+7pqrWGCSNavW3kNv39wB+RSrc9yHVEr/eIs5XIuL7kn7Cwh2wtPoyHgySfknK629y0M6kdeheR7oh+X6TeMtFxD8qprle5H1/KsQ9rFF4RFSu6faCpNGk79hOBj1sC2xH+v+8JFr0cRXinENq4n2sQh5XIPW5bE2qUa4C3BAR+5a9hpuzeGVUxlakf+hrSxQg3wY+RqoG1r4EOul4e7RKAZJ1VOWNiK3yz+WrJJab+n5KanJ4mXSXUuqOpz5NSbuRNhJrq9M7/FohIenoiPhq3bWOBpoWIs2+zAtafqlHxCxJIyPiJdIggOtanQ98StK1pNE6leQO4+8BG7DgqML1SkRfmdRm/o98rcNIo67eDkwDFihEip+PJOqVLPQekvQRFh41d2S7iFULi04/I0l7RcSZTWpqbWs+heuMJvVRvD0fXwUcGXnUXyu50GhbcNRZDbhb0s10WPsmDSapPf43IuZ0mLYLEUnfAnZnfvvoKZJ+FRHfaRHtQ8D6VauPpJEi5wAXsuAvvUyb67mS/g8YI+mTpGryie0iSXoj6U4T4M4ouVClpJ1J7aV/Id0drSvpUxHx+zLxiyLiQkmHljz9f1n4Dv/VJeJtC3y1LmzHBmFFtS/zt5G+cM7Jx7uTvlRbeV5pBenpkr5P6otp15b9E+AHpE71c0gjzpo2IzVxCumL6hjgnaQm2YW/4RtbGyj+7b5I2ivin5JeaHD+QD6fmovITWYU/uZbkfTjiDi40FS5gBJfkp1+RrXfW6UbroKTSX1zH8rHe+e8NGyyK9TYRYXWAtJ7rKTWgiFpeVrfSDU17JuzJN0FbFprnpG0DKmp6PUt4pwPHFCl+pjjN2p77aTNtXSVN98VXUT64qgN030j8Fdg12gzPDO3t74nImbl4/WB30XE61rFy+cW/2lGkAqDrSOi7cACSVMjYmKxqU7SdRHx1ibnHwB8BliPVODVLA9cFxEfLZHmFcB2EfFiPl6SNAz1nS3irEMaejoK+AKpOfRntc+rTXrrkArKPUh3ymeRCpS2neuSpkXEmyTdERFvzGF/ioj/LBH3m8D7SH8XkIacTiZ1lB/f7LOq8vkU4s6IDucMSXpTRExr1lTZrolyIJ/RQEiaXt+P1ihskNIa6HysDUkDV1YifTfMBfaNiNKTaId9TYQ0dHRpoNbGvxQLfgk18j3gVqXZyp1WH4mI/TrP5iujY1asVXnzHfDHJN3VotD7NulOcpuIeDlfZwRwFPBd4LNN4tU8VveFOBsoW3gWx8PPI33Wu5aM2+kd/i9JQ4C/BxRrO89GxBMl01ydVOjUzl8uhzUVEQ/kG49xnTa7RBqAcTRwtNK8jZNJd5VlZob/K/8e71XaDuEh0kCNMul+W9LFpCZcAZ+OiFpto1Vh2/HnU3CdpDdGYaRfiXxOyz+rjoCr9BkpTfL7JAs3vZW6yQP+KWmriLgmX+9twD/bxKkNIPhJsVYq6fCIOLxZnBjgfCzSyr2HRMQVOb135LCGN2sN8+2aiC4E3kxqhwxSc8g15C/KRu29kmaSxlZ3NEN0IB2qkvbIaT5HGgZ6OOkO4mbg28069SXdSRq5Ma8ufAnSmPWmNa583nGk+S3n5jzvTtpe+Nqc57LDHjsywDv8jmc353j7kT7XK3LQ1sAREXFqizi7kJqmRkXEukrDn48sc0OR7+R3INVE3kXqtzkrIi4sEffNpKHOY0g3CqOB70fEDS3irNTqmu0K2yafz+GRhg63y++dpObI+0g3XrWmmrZLvVTt/6nyGeV415Fmbk9j/oRVouSwaEkbkya3js5BT5Lu7ltOJJU0h7Q97TG1z1TlVhK4nPQd1vGEV0m3xYITpxuGtbyGCxG1HIXQ6B9E0lUR0XI0UJO0domI3zRLs9U/Y6717JY7cTcjjXPfIyJ+3SbNptXoMlXsJk1vhSw3vzuTtCap/f9tpALoGuDzZTvv8h0hETG3zPk5zkGkL7oFZjeX+bLK8V9FmgcEcGNE/K3N+dNIAyqujBKj5fLr25Jm4u9M+sc/G7gwIp5rFmcwKC1bUmt7Hwc8XHuJ9Bm17ZTv9PMpxGs4LD7aDIfPca9hft/GLuS+jYio3BfQJr1KTU/1tQGlkU+0azIunH8LaTLyL0jNzZ8Hbo42yyFVbe7LcX8N3EK6IYU0hH9iROxWJs/gQuSVdte6sF0i4jct4vyIdDc1mQWbs0oN8S1cZ/kUrf2wyfo7Ekl3l+yXuJv0hVXfoSjgzHY1kYGQNIXUzFT8A/1oRGzbIo5IXxgH5TyOIDWF/SRKjORRGj69RbRYn6hN/I1YuBmjaW1L0o0RsYUKa5+VKESuIH0u53fQ1FaL27CTuZDXUk2qqrBWm6S3NwqPFuvM1cWvWkPsqG9joJ+RpO+Q+tE62uyu+D8q6fyI+ECH8Yt/Q4eTWkXGlSzcVyPVRgBuipL9tUpTFY5gftPm1aTapdfO6sAJkvattdUqrW91MPPH0DdS++fbshBWeohvfWeWpLnAPtF6xNSqWnDo4XLF42g+/PBvQKvXmuXxk6S763vzF/tJpKUjHiBVzW9tkdeasRFRrMmcKungNnEOJtVc3hx5Fr7STO7jJH0hIo5pE7/S7OaczsmkmeozWXDm70KFSO5TOBCYoTR0dWRudvkcaQmJpqJER3QLP8g/30+amV9cBPT+Dq5T5e7xy4XnS5OGa9dqYi2p4vpXWad9G5U+Iy04SurrSiPVXoTSo6SKN2plhlrXe2U9vYg4XGkOUpnFOD8E/D/gypyHn0j6ckSc1y5uLiwGNi8purR+TL88SL/sW0jzET5Jagsd3eU0rwPeWTh+B+nOp1Wcw1o9upDHGaSZ+5DW5plGml/wbuBPJa/xR1LtY2R+7AVc1ibOrcAqDcLHUlhTqEX8k0jNZl8j/QMeQuo4LJPfOzv4fD4E/Jm0TMp/k/qmbga+AyzVg7/bq8uEtYh/yyDkYS1SH06Zcyuvf0W6w16OtEjqKaRCfYtuf0YV8nlLo+cdxP8msFZd2KQS8W4DVi0cjwVuK5nma0gd6ZeS5oJdDlzeSb6HfU0kImbnTusLSXex20XdEgn1ctXxv4HVI2JHSRuQFi07qWSyy0YeDZHzcKXaTxqsOuGq6npA8yIP5QTeA5weqYnoj0qjpcr4OGm+xzGkO7zrclgrS0bE4w3yOTd3RLfz1/wYlR+duF7SBlFimfOIOFfS74BvkTrHz2D+3f2BNK/9DZaxKswCl7Qu6cujqbqabH3Nlig5ma5gDmlBzjIq1xAj4ub89B/AfnlQyIdJq0m30tFnJGl70jp059WFfwSYG+1nj28s6RlSbWCZ/BzK12Q+C+wp6cDC98Onab/3+YhYsPnq75TfK+pXpHlgJ1IYRNCJYVuIaOE1/1ci3S3fKIlo3RF7KumO6Bv5+M+kCVhlC5HZSmP1i30F7RZQrOV7XdIf23gWbFtu1s5bG2a7KmnY3uX5+J2k6m+zQuRlSeNII0veRRoOXLNMmbxGau8u1UZf0GoCZ9vJnbXCtpP+poLTSAXJ3yg3guhF0miYpUh3yr3sYPwCcKXSelaQ/h4+1SZOcRLdCXQ4qU4LjiocQVqjrO0WCNlsUn5Lr3+VO6YPJC1fP5k0gvJA4Es53V+0SbPTz+gIGi/Tfjnwa9rMJI+IgW7a9RBpCPyvJJ0XEf+PhfsyG/mDpEtI84wgFbBlJwPPi4jjOs/qfMO2Y73ZaJGaaDBqRNISETFP0s0R8ea6jrDSIzrqOrMgdWYdESU6s1RxAxpJvwU+GRGP5ONxwE+jycJ3kt5DGlI8EvhNRHwyh28NfCUidm6RVstlRKL1UOaXKAxTLL4ELB0RLWsjdf1NkIZMtutvqsWdRWr+qv9sG/0t7ECqbUwmDel9vt31B5vSboS1wRV3A0RhYcMupFccVTgPuD8iri0Zt+P1ryRdRLqJuZ50I7MiqXb5+Sg5w7/+M2r1+bQaENFusMRgqH2fKK1XdxzpxuSNUX5i7yud49Fm1GYh3uGk6Qy/ZsHCvfSAj2FbEyF18H2aNHb9DtLKpK2WaYY0HHMz4DlJKzN/PaEtKVFVz38cxTS/WGgyKqvqBjTjawVI9igtlu6OiN/mgnb5usJtKulOp5XimlBH0MGyDINwN9do8tQJlJs89deIKLWtKKkWunuZwqkbJJ0caXj1bfl4WVKB1nQXxkLcSpPpIuI0pQmgtb+be8rmt2Jz7HoxfzTWiaQbgrWjxaZk+dxtIuLyBk256+dWhma176VrN4p111uSkrXvAZoKab06UrPdgcCb2kXS/PXiLmgQ1k7txuBLdeGlBwYM55rIOaTmiD+R1lZ6ICJa7nNeuFPYjDT/YUNSB/RY4IPRfjJRfZr3R0S70Ur11/gIabnmS+lgeLGk/83xziIVfnsAsyKi4Yz1AfSl1F+na9v+Nkmv8uQpST8jTUz7DZ2vadZTSouArhIRB+Sa7e+AE2LB0XDN4laaTJcL5NNII5xE6ljfN0oM8VUa1txogm3TkV1aeFh724l3+bwjIu0S2dHyQpKOIg1BPijynJ1cOB8LPF7yS7nnGn0u7WpOShMxH4w8zyfXMj9A+t0e3klNZDgXIsUx50uQxla3mxk6h/kdpiNIbeEifeG81K5jskqaDa7xPdKCbn9hwcl0ZYZZvp+03DO0qfIW/gEb9qU0awZrcJ1S//iDRQOYPNXpl85QU1qdeDTpbvWodoVAIV7VyXTTgI9ExD35+DWk0Vll7paL5yxN+sKaFxFfaRGn2LQpUm3gecp3VHck/09+B/gEaSh7raA8CfhmhVaDsumeGxEfatBPC8xfJLFBvFbrxV0bEXu1SPMW4N0R8YTS/J+zSX2tmwCvj4gPls3/cG7OeuUPIvdzlIkzkvkbzRSV2Z+6apr13keq5ne8gnC+oy51Vx15fa/cl7JBfV9Kp2n30MdJTWgXMH/yVKm1yqLimma9VFdDvIk0LPQmICS9v2St6beSdooOJ9ORRs690oQVEX9WuRFzRN2EXuBapSXSW8Wp1LSpJku5F67b8GYvN2MdKukI5q8YPSvajNYcBLUWkPd0GG8g68WNLJzzYdLCm+cD5yvtWVTacK6JdHyXM9C76kKatdKj4zsrVdyARhV3U1Td6qsqsWqoFtyM6j9I75GyafbaQAYC9FqT2lJNqVpT/v0sSxrtVruxKfO3cDLpc6rV8j4KLFGm8NWC63bVVnT+n4hotxV1x5p14tc0658ZrCbcKpRm818SEe+uEHd9YE5EvJCbHDciDclvuhmW0jJKm+Sb2btJ81Gurr3W6v+73rCtiVS8y6lUdRhgmvWqbkDzfartpnil5g8frPWlXNEqQlTcAGsgJLXsEG/z+VQeCNBrg1FbGsDv5wDSENvPMb+W97OScacxv6Curei8f8V8tFSxEx8WHg5/Gel9thsOP2AR8ZKk5yWNjhKbV9U5H5go6dWkprfJpFpK0y2+Sf/PV0l6nLTC8J8A8jU6Sn/Y1kSqkLRSJx1OLa5zJOkf8ProcNE9Vd9b4dqouA97J30pQ0Vp6ZgHSf8cN1JX4Lf7fArX6elAgKpyf8RxwGoRsaHSml/vjdabqRXjv5f5Wx5fGRG/7VI+B60Dt0LalRYAVYfD4Qcxv+eSllKawoKr8basCddaSCR9BfhnRPykzN+x0qjScaQ9YWoDCV4DLBcdrAPoQmQISPo4aUz3W4BnSXcBV0fERS0jDizN/yGtI1RlN8VFXm4OqK2OuxFptNJZ0eEQ3F4PBKgq9yd8Gfi/mD9XqVQzRB6F9GbmT9bbE5gWEQ13nWzW4VvTZhTQoHXgdkoVFgDN8Tpuwh0MqrC6d453I/Bj0rDzXSLivk6bpAbChcgQUlpW+0OkMdorlmlmqOtvGAUsSYu9xwvxKo08qtqXMpSUJpjtSVqU7siI+EkHcfulEKk84VXS7aT28NomZSNJ65I1GwU0gdSM+mDdS+sAD0eLPV5UGF4t6aek5UMO7yS/VTW6fpk01eFw+MGkatsfbECaf3Z9RJyltKrFhyPiqC5lcwHDtk9kKClNnNqANOHvT8AHScNS26ovaCTtRlpNtV28qm3pVftSei4XHjuTCpDxpPH9bWta9QMB1PmaR0Ph8dyhWpvw+kHS7o9ljWH+DoWjW51IWvvs61E3cz9/4dX2+GhmpOZP4HsXMKnwWre/fx6XtBfzlwPZk7SuVEsRcVBdE+7x3WzClRbe/kBSqe0P8g3A16MwnDfS6tc9KUDAhchQWZk0XPgp0j/y49F+tnxDEXGhpIbNEAAawG6K2aN9UoCcRpr8+XvSEjKl94geioEAg+BA0uz810l6iLT2WtN5AXVq2ztfQfrSejtp1eNmxkeDibQRMVXS+DZpDVoHbgVVFgAFOhsOPwgqb3+QO+THShoVFYb9DwY3Zw0hSa8HtictFDcyItYsEafYuVcbKrl1RLylyfnfBP4AbEwa0lnf4dyuvbUv+lIkvcz8zsjiH/WiXJsYMKUZ1SOizVIgDeKNI/WLiDY7FEqaFRGv7vS1wjmD0oHbK71uwpV0K7Bt1K1enWt6l5boIP8/0nJMk1mwQ77bK0kDrokMCaXFDf+TdAe4Imk2+J9KRi82HdSGSu7a4vzRwP+Q9ku5jXQ3di2p/bTMyJgVSPM8tiuENdyoaShFRNmlrxcLqrAdgaTXRcTdSsv2QFrKHWB1Sau3+EK/WdInI+KEuuvtTxq621I02NM8Iv7cLl5VzWrdhbTb1b573YQ70O0PHs6PEXS4MvNgcE1kCOQOxqtJmzs93O78QUpzFKnW8lbSqLC3AE9FxAa9SN8Gl6Tfk7cjiIiNlZbsuDXysjpN4hwfEZNyM1a9iCZL5+QC69ekmmyt0JhIGtjxvla1mKFQN8ppoXk/JWrflYfDV9FqMEcnAz0kLRsdThkYDC5EhojSCrkTIuKPkpYhzfxt2iQx0LsrSaNJBcfb8s8xwB3NOtwHoS/FumiAo7OWjrRSbMuwBvHeyfxNqGZGxOWtzl8UlJkv0SBOT5twNfDtD95CmmS4XESsLWlj4FMR8ZnBz+3C3Jw1BJT2L59E2vNifdK2nz+n9TLelWZVSzoeeANpPsqNpOasH0X7vUuWUpoodhsN+lJsyFXajiC7jtSG3i5sAZGW12+5WsEiqMpdck+bcGPgK1n8mNS3Ojlf77Y8J6cnXIgMjQNJw3JvBIiIeyWt2ipCsQou6eB2VfKCtUmrDd9L2jltDmlUWDsD7UuxLpB0MOn38BXgImA9SdeStiPYvU3cV5F2CVxG0qbMvzFYgfKLiC72BjAcfshExINacEHXSlvdVuFCZGi8EBH/rv3Sc3t2J3dMpc+NiB3yOPQ3kPpDvghsKOkJUoHQbMe5L+W8FftSPg6cIMl9KUNnTVLh/jrSboZTSOs6ndOoc7bO9sDH8jWKI3eeBb4+2BkdKlXn/fRxE+6Dkt5KWsl5FGlts54Ny3chMjSukvR10h3htqQ9AX7TrcQidXzNkPQUqcnjadKy05vTvllsGdKd6uj8eJi0K6MNgSaF+zbAN9oV7rn2epqkD0TJvUf60QDm/fRrE+6nSTcWa5BaGi4ltXb0hDvWh4DSWjz7k9pcBVwCnBgtfhn1d1eUXF5d0udIXzRvIy37fS1pz+prSR3rLzeJV9+XcgNwQ4m+FOuBTgdKNIi/M+n3u3QtrN3s6MWdpB+Q/lfchNsBFyJDpMoaORXT+RH5nyEW3GO9Xbw/AKuQtv+9jlTwzGhV0Fn3DUbhLunnpBuRdwInkpbduSkiurI0e7/pl+HwgzAfZlAMqwlaQ03J4XkJiLuBeyTNlfStbqUZEYdExHmdFCA53g6kGc0/yEFfJE06u1Rp5zcbGrWBEn+js4ESRW+NiH2AJyPtvfEW0jawljRqwr1xSHPU2FTSvJ2lSSPr7s2PTehhx7prIj0k6QukjWIm1a+RA/yh1Ro5Q0lpX4a3ke7M3gOsHBFjhjZXw1fdQIm3kuZutBwoURf/xojYQtINwPtJixLOiIgJXcz2Iq9fm3Dz5NHtIu8Bn2e5XxoR7+xF+q6J9NY+wJ61AgQgImaTFs7bZ8hy1YCkz0k6W9KDpNn17wHuIX3prNQysnVVJDOAi0kLTl5Lmm/0+ZYR5/utpDGkpfJvIS2dc3YXstpvBqOWNxRWZ8HlTpbLYT3hmkgPqcVGMa1eGwpV+1Ksu6oOlKi7xlIR8ULtOak55F+1sOFsoLW8oSBpP+Bw5k8E3Zq0a2TZuWQDS9+FSO8M1ho5NnwNRuHe6G/Nf38L6rcm3DyRdIt82HJV5sHmeSK9tXFh4lORKAy1NGsmIg6pGtcz1ltrUcs7mUV/btRIYC7pO/01kl4TEVf3ImEXIj00CGvkmA3EsJixPgDjgfOAL/RTE66ko4EPAzOBWnNmkPoyu5++m7PMhpfFfcb6cCPpHmCjoerTck3EbJiQtFdEnAmMl7RQs1j0aCc8G3SzgSUpLFvfSy5EzIaPZfPP5YY0FzbYngemS7qMBfc/6cmMdTdnmZn1sbqdHF/hIb5m1hV5lYT/AbYkdcBeT+pMnj2kGbO+5OYss+Hnl8BPgffl4z2As5g/z8D6iKT7aLz/yXq9SN+FiNnwo4g4o3B8pqSDhiw3NlATC8+XJu1w2bOlidycZTbMSDqKtCbU2aQ72A+T1oz6KYD3zuh/kq6JiK16kpYLEbPhJTd/NBO9agaxwSGpuFzNCFLN5ICI2Lgn6bsQMTPrX3kp+Jp5pFWZfxAR9/QkfRciZsODpG0i4nJJ72/0ekRc0Os8Wf9zx7rZ8LE1cDmwS4PXAnAh0ofycv4fIK399cp3ekQc2ZP0XRMxM+tfkv4APE3aKveVbXEj4oc9Sd+FiNnwIum/ge9HxFP5eEXgixHxX0ObM6tiqDe08/a4ZsPPjrUCBCDvIb7TEObHBuY6SW8cqsTdJ2I2/Iys2yJ3GdI8EesjkmaQ9g9ZAthP0mzSAowiDdXeqBf5cCFiNvycCVwm6RRSh/rHgZ4s1meDag1gk6HOhPtEzIYhSTsA7ybdtV4aEZcMcZasQ5JuiYjN2p/ZXa6JmA1PdwHzIuKPkv5D0vIR8exQZ8o6smqjzcVqerXJmAsRs2FG0ieBSaRF+tYnNYv8HHjXUObLOjaStMGYhjITbs4yG2YkTQc2B26MiE1z2B0RMWQjfKxzi0pzlof4mg0/L0TEv2sHkpagwX4Utsgb0hpIjQsRs+HnKklfB5aRtC3wK+A3Q5wn69wi0fzo5iyzYUaSgE8A25HuZi8BTgx/GVgFLkTMhhFJI4Dbh3KZDFu8uDnLbBiJiJeB2yStPdR5scWDh/iaDT/jgJmSbgKeqwVGxHuHLkvWr1yImA0/Rwx1Bmzx4ULEbJiQtDTwaeDVwB3ASRExb2hzZf3OHetmw4Skc4AXgT8BOwIPRMTnhzZX1u9ciJgNE8VZ6XmC4U2Lwoxn628enWU2fLxYe+JmLBssromYDROSXmL+aCwBywDPM38ToxWGKm/Wv1yImJlZZW7OMjOzylyImJlZZS5EzMysMhciZmZWmQsRMzOr7P8DJictiWuSBz4AAAAASUVORK5CYII=\n",
      "text/plain": [
       "<Figure size 432x288 with 1 Axes>"
      ]
     },
     "metadata": {
      "needs_background": "light"
     },
     "output_type": "display_data"
    }
   ],
   "source": [
    "# Update 2 VOLUME \n",
    "xgb_WC3_Y1 = xgb.XGBRegressor(\n",
    "    objective='reg:squarederror',\n",
    "    gamma=4,                 \n",
    "    eta=0.01,\n",
    "    max_depth=8,\n",
    "    n_estimators=10000,\n",
    "    min_child_weight=7,\n",
    "    subsample=0.8,\n",
    "    colsample_bytree=0.8,\n",
    "    random_state=34\n",
    ") \n",
    "modelfit(xgb_WC3_Y1,X,Y1)"
   ]
  },
  {
   "cell_type": "code",
   "execution_count": 44,
   "metadata": {},
   "outputs": [
    {
     "name": "stdout",
     "output_type": "stream",
     "text": [
      "Best: -191.118910 using {'colsample_bytree': 0.9, 'subsample': 0.9}\n",
      "-201.010345 with: {'colsample_bytree': 0.6, 'subsample': 0.6}\n",
      "-199.413002 with: {'colsample_bytree': 0.6, 'subsample': 0.7}\n",
      "-198.930018 with: {'colsample_bytree': 0.6, 'subsample': 0.8}\n",
      "-197.573478 with: {'colsample_bytree': 0.6, 'subsample': 0.9}\n",
      "-199.555305 with: {'colsample_bytree': 0.7, 'subsample': 0.6}\n",
      "-199.383692 with: {'colsample_bytree': 0.7, 'subsample': 0.7}\n",
      "-197.017568 with: {'colsample_bytree': 0.7, 'subsample': 0.8}\n",
      "-196.947495 with: {'colsample_bytree': 0.7, 'subsample': 0.9}\n",
      "-194.504289 with: {'colsample_bytree': 0.8, 'subsample': 0.6}\n",
      "-195.031769 with: {'colsample_bytree': 0.8, 'subsample': 0.7}\n",
      "-194.090124 with: {'colsample_bytree': 0.8, 'subsample': 0.8}\n",
      "-195.216647 with: {'colsample_bytree': 0.8, 'subsample': 0.9}\n",
      "-193.801556 with: {'colsample_bytree': 0.9, 'subsample': 0.6}\n",
      "-191.497611 with: {'colsample_bytree': 0.9, 'subsample': 0.7}\n",
      "-194.777723 with: {'colsample_bytree': 0.9, 'subsample': 0.8}\n",
      "-191.118910 with: {'colsample_bytree': 0.9, 'subsample': 0.9}\n"
     ]
    }
   ],
   "source": [
    "# Step 3: Subsample & colsample\n",
    "\n",
    "# The parameters we want to test:\n",
    "param_test3 = {\n",
    " 'subsample':[i/10.0 for i in range(6,10)],\n",
    " 'colsample_bytree':[i/10.0 for i in range(6,10)]\n",
    "}\n",
    "\n",
    "# Automatic grid search!\n",
    "gsearch3 = GridSearchCV(estimator = XGBRegressor(\n",
    "    objective='reg:squarederror',\n",
    "    gamma=4,                 \n",
    "    eta=0.01,\n",
    "    max_depth=8,\n",
    "    n_estimators=10000,\n",
    "    min_child_weight=7,\n",
    "    subsample=0.8,\n",
    "    colsample_bytree=0.8,\n",
    "    random_state=34\n",
    "), \n",
    " param_grid = param_test3, scoring='neg_root_mean_squared_error',n_jobs=-1, cv=5)\n",
    "\n",
    "# Fit\n",
    "gsearch3.fit(X,Y1)\n",
    "\n",
    "# Display results\n",
    "print(\"Best: %f using %s\" % (gsearch3.best_score_, gsearch3.best_params_))\n",
    "means = gsearch3.cv_results_['mean_test_score']\n",
    "params = gsearch3.cv_results_['params']\n",
    "for mean, param in zip(means, params):\n",
    "    print(\"%f with: %r\" % (mean, param))"
   ]
  },
  {
   "cell_type": "code",
   "execution_count": 47,
   "metadata": {},
   "outputs": [
    {
     "name": "stdout",
     "output_type": "stream",
     "text": [
      "\n",
      "Model Report:\n",
      "Best number of estimators: 1394\n",
      "RMSE : 6.69\n",
      "nRMSE :  0.7217 % - The lower, the better!\n"
     ]
    },
    {
     "data": {
      "image/png": "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\n",
      "text/plain": [
       "<Figure size 432x288 with 1 Axes>"
      ]
     },
     "metadata": {
      "needs_background": "light"
     },
     "output_type": "display_data"
    }
   ],
   "source": [
    "# Update 3 DURATION\n",
    "xgb_WC4_Y1 = xgb.XGBRegressor(\n",
    "    objective='reg:squarederror',\n",
    "    gamma=4,                 \n",
    "    eta=0.01,\n",
    "    max_depth=8,\n",
    "    n_estimators=10000,\n",
    "    min_child_weight=7,\n",
    "    subsample=0.9,\n",
    "    colsample_bytree=0.9,\n",
    "    random_state=34\n",
    ") \n",
    "modelfit(xgb_WC4_Y1,X,Y1)"
   ]
  },
  {
   "cell_type": "code",
   "execution_count": 50,
   "metadata": {},
   "outputs": [
    {
     "name": "stdout",
     "output_type": "stream",
     "text": [
      "Best: -285.057961 using {'reg_alpha': 0.001}\n",
      "-285.926990 with: {'reg_alpha': 0}\n",
      "-285.057961 with: {'reg_alpha': 0.001}\n",
      "-285.958411 with: {'reg_alpha': 0.005}\n",
      "-286.077525 with: {'reg_alpha': 0.01}\n",
      "-285.392836 with: {'reg_alpha': 0.05}\n"
     ]
    }
   ],
   "source": [
    "# Step 4: Regularization\n",
    "\n",
    "# The parameters we want to test:\n",
    "param_test4 = {\n",
    " 'reg_alpha':[0, 0.001, 0.005, 0.01, 0.05]\n",
    "}\n",
    "\n",
    "# Automatic grid search!\n",
    "gsearch4 = GridSearchCV(estimator = XGBRegressor(\n",
    "    objective='reg:squarederror',\n",
    "    gamma=0,                 \n",
    "    eta=0.01,\n",
    "    max_depth=2,\n",
    "    n_estimators=10000,\n",
    "    min_child_weight=1,\n",
    "    subsample=0.9,\n",
    "    colsample_bytree=0.6,\n",
    "    random_state=34\n",
    "), \n",
    " param_grid = param_test4, scoring='neg_root_mean_squared_error',n_jobs=-1, cv=5)\n",
    "\n",
    "# Fit\n",
    "gsearch4.fit(X,Y1)\n",
    "\n",
    "# Display results\n",
    "print(\"Best: %f using %s\" % (gsearch4.best_score_, gsearch4.best_params_))\n",
    "means = gsearch4.cv_results_['mean_test_score']\n",
    "params = gsearch4.cv_results_['params']\n",
    "for mean, param in zip(means, params):\n",
    "    print(\"%f with: %r\" % (mean, param))"
   ]
  },
  {
   "cell_type": "code",
   "execution_count": 52,
   "metadata": {},
   "outputs": [
    {
     "name": "stdout",
     "output_type": "stream",
     "text": [
      "\n",
      "Model Report:\n",
      "Best number of estimators: 1702\n",
      "RMSE : 3.94\n",
      "nRMSE :  0.4245 % - The lower, the better!\n"
     ]
    },
    {
     "data": {
      "image/png": "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\n",
      "text/plain": [
       "<Figure size 432x288 with 1 Axes>"
      ]
     },
     "metadata": {
      "needs_background": "light"
     },
     "output_type": "display_data"
    }
   ],
   "source": [
    "# FINAL MODEL\n",
    "# Won't decrease learning rate because computational limits\n",
    "xgb_WC5_Y1 = xgb.XGBRegressor(\n",
    "    objective='reg:squarederror',\n",
    "    gamma=4,                 \n",
    "    eta=0.01,\n",
    "    max_depth=8,\n",
    "    n_estimators=10000,\n",
    "    min_child_weight=7,\n",
    "    subsample=0.9,\n",
    "    colsample_bytree=0.9,\n",
    "    reg_alpha = 0.001,\n",
    "    random_state=34\n",
    ") \n",
    "modelfit(xgb_WC5_Y1,X,Y1)"
   ]
  },
  {
   "cell_type": "markdown",
   "metadata": {},
   "source": [
    "DURATION"
   ]
  },
  {
   "cell_type": "code",
   "execution_count": 33,
   "metadata": {},
   "outputs": [
    {
     "name": "stdout",
     "output_type": "stream",
     "text": [
      "Best: -63.940243 using {'max_depth': 8, 'min_child_weight': 4}\n",
      "-68.281483 with: {'max_depth': 2, 'min_child_weight': 1}\n",
      "-67.649746 with: {'max_depth': 2, 'min_child_weight': 4}\n",
      "-67.330437 with: {'max_depth': 2, 'min_child_weight': 7}\n",
      "-68.588744 with: {'max_depth': 4, 'min_child_weight': 1}\n",
      "-68.752710 with: {'max_depth': 4, 'min_child_weight': 4}\n",
      "-69.002353 with: {'max_depth': 4, 'min_child_weight': 7}\n",
      "-65.373992 with: {'max_depth': 6, 'min_child_weight': 1}\n",
      "-65.691409 with: {'max_depth': 6, 'min_child_weight': 4}\n",
      "-65.530140 with: {'max_depth': 6, 'min_child_weight': 7}\n",
      "-64.079461 with: {'max_depth': 8, 'min_child_weight': 1}\n",
      "-63.940243 with: {'max_depth': 8, 'min_child_weight': 4}\n",
      "-64.422548 with: {'max_depth': 8, 'min_child_weight': 7}\n"
     ]
    }
   ],
   "source": [
    "# Detailed fit for DURATION\n",
    "# Tune-in of parameters from https://www.analyticsvidhya.com/blog/2016/03/complete-guide-parameter-tuning-xgboost-with-codes-python/ \n",
    "# Step 1: max_depth,min_child_weight\n",
    "\n",
    "# The parameters we want to test:\n",
    "param_test1 = {\n",
    " 'max_depth':range(2,10,2),\n",
    " 'min_child_weight':range(1,10,3)\n",
    "}\n",
    "\n",
    "# Automatic grid search!\n",
    "gsearch1 = GridSearchCV(estimator = XGBRegressor(\n",
    "    objective='reg:squarederror',\n",
    "    gamma=0.1,                 \n",
    "    eta=0.01,\n",
    "    max_depth=3,\n",
    "    n_estimators=10000,\n",
    "    min_child_weight=1,\n",
    "    subsample=0.8,\n",
    "    colsample_bytree=0.8,\n",
    "    random_state=34\n",
    "), \n",
    " param_grid = param_test1, scoring='neg_root_mean_squared_error',n_jobs=-1, cv=5)\n",
    "\n",
    "# Fit\n",
    "gsearch1.fit(X,Y2)\n",
    "\n",
    "# Display results\n",
    "print(\"Best: %f using %s\" % (gsearch1.best_score_, gsearch1.best_params_))\n",
    "means = gsearch1.cv_results_['mean_test_score']\n",
    "params = gsearch1.cv_results_['params']\n",
    "for mean, param in zip(means, params):\n",
    "    print(\"%f with: %r\" % (mean, param))"
   ]
  },
  {
   "cell_type": "code",
   "execution_count": 40,
   "metadata": {},
   "outputs": [
    {
     "name": "stdout",
     "output_type": "stream",
     "text": [
      "Best: -63.545278 using {'max_depth': 12, 'min_child_weight': 4}\n",
      "-63.940243 with: {'max_depth': 8, 'min_child_weight': 4}\n",
      "-64.422548 with: {'max_depth': 8, 'min_child_weight': 7}\n",
      "-64.843922 with: {'max_depth': 8, 'min_child_weight': 10}\n",
      "-63.725450 with: {'max_depth': 10, 'min_child_weight': 4}\n",
      "-64.109978 with: {'max_depth': 10, 'min_child_weight': 7}\n",
      "-64.565326 with: {'max_depth': 10, 'min_child_weight': 10}\n",
      "-63.545278 with: {'max_depth': 12, 'min_child_weight': 4}\n",
      "-63.641867 with: {'max_depth': 12, 'min_child_weight': 7}\n",
      "-64.112768 with: {'max_depth': 12, 'min_child_weight': 10}\n"
     ]
    }
   ],
   "source": [
    "# Additional testing is required:\n",
    "\n",
    "# The parameters we want to test:\n",
    "param_test1 = {\n",
    " 'max_depth':range(8,13,2),\n",
    " 'min_child_weight':range(4,11,3)\n",
    "}\n",
    "\n",
    "# Automatic grid search!\n",
    "gsearch1 = GridSearchCV(estimator = XGBRegressor(\n",
    "    objective='reg:squarederror',\n",
    "    gamma=0.1,                 \n",
    "    eta=0.01,\n",
    "    max_depth=3,\n",
    "    n_estimators=10000,\n",
    "    min_child_weight=1,\n",
    "    subsample=0.8,\n",
    "    colsample_bytree=0.8,\n",
    "    random_state=34\n",
    "), \n",
    " param_grid = param_test1, scoring='neg_root_mean_squared_error',n_jobs=-1, cv=5)\n",
    "\n",
    "# Fit\n",
    "gsearch1.fit(X,Y2)\n",
    "\n",
    "# Display results\n",
    "print(\"Best: %f using %s\" % (gsearch1.best_score_, gsearch1.best_params_))\n",
    "means = gsearch1.cv_results_['mean_test_score']\n",
    "params = gsearch1.cv_results_['params']\n",
    "for mean, param in zip(means, params):\n",
    "    print(\"%f with: %r\" % (mean, param))"
   ]
  },
  {
   "cell_type": "code",
   "execution_count": 35,
   "metadata": {},
   "outputs": [
    {
     "name": "stdout",
     "output_type": "stream",
     "text": [
      "\n",
      "Model Report:\n",
      "Best number of estimators: 126\n",
      "RMSE : 36.51\n",
      "nRMSE :  4.8339 % - The lower, the better!\n"
     ]
    },
    {
     "data": {
      "image/png": "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\n",
      "text/plain": [
       "<Figure size 432x288 with 1 Axes>"
      ]
     },
     "metadata": {
      "needs_background": "light"
     },
     "output_type": "display_data"
    }
   ],
   "source": [
    "# Update 1 DURATION \n",
    "xgb_WC2_Y2 = xgb.XGBRegressor(\n",
    "    objective='reg:squarederror',\n",
    "    gamma=0.1,                 \n",
    "    eta=0.01,\n",
    "    max_depth=8,\n",
    "    n_estimators=10000,\n",
    "    min_child_weight=4,\n",
    "    subsample=0.8,\n",
    "    colsample_bytree=0.8,\n",
    "    random_state=34\n",
    ") \n",
    "modelfit(xgb_WC2_Y2,X,Y2)"
   ]
  },
  {
   "cell_type": "code",
   "execution_count": 42,
   "metadata": {},
   "outputs": [
    {
     "name": "stdout",
     "output_type": "stream",
     "text": [
      "Best: -63.809751 using {'gamma': 2}\n",
      "-63.953343 with: {'gamma': 0}\n",
      "-63.906707 with: {'gamma': 1}\n",
      "-63.809751 with: {'gamma': 2}\n",
      "-63.884591 with: {'gamma': 3}\n",
      "-64.153606 with: {'gamma': 4}\n"
     ]
    }
   ],
   "source": [
    "# Step 2: gamma\n",
    "\n",
    "# The parameters we want to test:\n",
    "param_test2 = {\n",
    " 'gamma':range(0,5)\n",
    "}\n",
    "\n",
    "# Automatic grid search!\n",
    "gsearch2 = GridSearchCV(estimator = XGBRegressor(\n",
    "    objective='reg:squarederror',\n",
    "    gamma=0.1,                 \n",
    "    eta=0.01,\n",
    "    max_depth=8,\n",
    "    n_estimators=10000,\n",
    "    min_child_weight=4,\n",
    "    subsample=0.8,\n",
    "    colsample_bytree=0.8,\n",
    "    random_state=34\n",
    "), \n",
    " param_grid = param_test2, scoring='neg_root_mean_squared_error',n_jobs=-1, cv=5)\n",
    "\n",
    "# Fit\n",
    "gsearch2.fit(X,Y2)\n",
    "\n",
    "# Display results\n",
    "print(\"Best: %f using %s\" % (gsearch2.best_score_, gsearch2.best_params_))\n",
    "means = gsearch2.cv_results_['mean_test_score']\n",
    "params = gsearch2.cv_results_['params']\n",
    "for mean, param in zip(means, params):\n",
    "    print(\"%f with: %r\" % (mean, param))"
   ]
  },
  {
   "cell_type": "code",
   "execution_count": 45,
   "metadata": {},
   "outputs": [
    {
     "name": "stdout",
     "output_type": "stream",
     "text": [
      "\n",
      "Model Report:\n",
      "Best number of estimators: 156\n",
      "RMSE : 33.40\n",
      "nRMSE :  4.4213 % - The lower, the better!\n"
     ]
    },
    {
     "data": {
      "image/png": "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\n",
      "text/plain": [
       "<Figure size 432x288 with 1 Axes>"
      ]
     },
     "metadata": {
      "needs_background": "light"
     },
     "output_type": "display_data"
    }
   ],
   "source": [
    "# Update 2 DURATION\n",
    "xgb_WC3_Y2 = xgb.XGBRegressor(\n",
    "    objective='reg:squarederror',\n",
    "    gamma=2,                 \n",
    "    eta=0.01,\n",
    "    max_depth=8,\n",
    "    n_estimators=10000,\n",
    "    min_child_weight=4,\n",
    "    subsample=0.8,\n",
    "    colsample_bytree=0.8,\n",
    "    random_state=34\n",
    ") \n",
    "modelfit(xgb_WC3_Y2,X,Y2)"
   ]
  },
  {
   "cell_type": "code",
   "execution_count": 46,
   "metadata": {},
   "outputs": [
    {
     "name": "stdout",
     "output_type": "stream",
     "text": [
      "Best: -63.488082 using {'colsample_bytree': 0.6, 'subsample': 0.9}\n",
      "-64.847452 with: {'colsample_bytree': 0.6, 'subsample': 0.6}\n",
      "-64.540317 with: {'colsample_bytree': 0.6, 'subsample': 0.7}\n",
      "-63.941641 with: {'colsample_bytree': 0.6, 'subsample': 0.8}\n",
      "-63.488082 with: {'colsample_bytree': 0.6, 'subsample': 0.9}\n",
      "-64.833928 with: {'colsample_bytree': 0.7, 'subsample': 0.6}\n",
      "-64.618317 with: {'colsample_bytree': 0.7, 'subsample': 0.7}\n",
      "-64.250677 with: {'colsample_bytree': 0.7, 'subsample': 0.8}\n",
      "-63.836924 with: {'colsample_bytree': 0.7, 'subsample': 0.9}\n",
      "-65.116522 with: {'colsample_bytree': 0.8, 'subsample': 0.6}\n",
      "-64.679386 with: {'colsample_bytree': 0.8, 'subsample': 0.7}\n",
      "-63.809751 with: {'colsample_bytree': 0.8, 'subsample': 0.8}\n",
      "-63.858023 with: {'colsample_bytree': 0.8, 'subsample': 0.9}\n",
      "-65.997985 with: {'colsample_bytree': 0.9, 'subsample': 0.6}\n",
      "-64.995892 with: {'colsample_bytree': 0.9, 'subsample': 0.7}\n",
      "-64.224528 with: {'colsample_bytree': 0.9, 'subsample': 0.8}\n",
      "-64.184264 with: {'colsample_bytree': 0.9, 'subsample': 0.9}\n"
     ]
    }
   ],
   "source": [
    "# Step 3: Subsample & colsample\n",
    "\n",
    "# The parameters we want to test:\n",
    "param_test3 = {\n",
    " 'subsample':[i/10.0 for i in range(6,10)],\n",
    " 'colsample_bytree':[i/10.0 for i in range(6,10)]\n",
    "}\n",
    "\n",
    "# Automatic grid search!\n",
    "gsearch3 = GridSearchCV(estimator = XGBRegressor(\n",
    "    objective='reg:squarederror',\n",
    "    gamma=2,                 \n",
    "    eta=0.01,\n",
    "    max_depth=8,\n",
    "    n_estimators=10000,\n",
    "    min_child_weight=4,\n",
    "    subsample=0.8,\n",
    "    colsample_bytree=0.8,\n",
    "    random_state=34\n",
    "), \n",
    " param_grid = param_test3, scoring='neg_root_mean_squared_error',n_jobs=-1, cv=5)\n",
    "\n",
    "# Fit\n",
    "gsearch3.fit(X,Y2)\n",
    "\n",
    "# Display results\n",
    "print(\"Best: %f using %s\" % (gsearch3.best_score_, gsearch3.best_params_))\n",
    "means = gsearch3.cv_results_['mean_test_score']\n",
    "params = gsearch3.cv_results_['params']\n",
    "for mean, param in zip(means, params):\n",
    "    print(\"%f with: %r\" % (mean, param))"
   ]
  },
  {
   "cell_type": "code",
   "execution_count": 49,
   "metadata": {},
   "outputs": [
    {
     "name": "stdout",
     "output_type": "stream",
     "text": [
      "\n",
      "Model Report:\n",
      "Best number of estimators: 113\n",
      "RMSE : 37.22\n",
      "nRMSE :  4.9275 % - The lower, the better!\n"
     ]
    },
    {
     "data": {
      "image/png": "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\n",
      "text/plain": [
       "<Figure size 432x288 with 1 Axes>"
      ]
     },
     "metadata": {
      "needs_background": "light"
     },
     "output_type": "display_data"
    }
   ],
   "source": [
    "# Update 3 DURATION\n",
    "xgb_WC4_Y2 = xgb.XGBRegressor(\n",
    "    objective='reg:squarederror',\n",
    "    gamma=2,                 \n",
    "    eta=0.01,\n",
    "    max_depth=8,\n",
    "    n_estimators=10000,\n",
    "    min_child_weight=4,\n",
    "    subsample=0.9,\n",
    "    colsample_bytree=0.6,\n",
    "    random_state=34\n",
    ") \n",
    "modelfit(xgb_WC4_Y2,X,Y2)"
   ]
  },
  {
   "cell_type": "code",
   "execution_count": 51,
   "metadata": {},
   "outputs": [
    {
     "name": "stdout",
     "output_type": "stream",
     "text": [
      "Best: -63.387168 using {'reg_alpha': 0.01}\n",
      "-63.488082 with: {'reg_alpha': 0}\n",
      "-63.626606 with: {'reg_alpha': 0.001}\n",
      "-63.406717 with: {'reg_alpha': 0.005}\n",
      "-63.387168 with: {'reg_alpha': 0.01}\n",
      "-63.531746 with: {'reg_alpha': 0.05}\n"
     ]
    }
   ],
   "source": [
    "# Step 4: Regularization\n",
    "\n",
    "# The parameters we want to test:\n",
    "param_test4 = {\n",
    " 'reg_alpha':[0, 0.001, 0.005, 0.01, 0.05]\n",
    "}\n",
    "\n",
    "# Automatic grid search!\n",
    "gsearch4 = GridSearchCV(estimator = XGBRegressor(\n",
    "    objective='reg:squarederror',\n",
    "    gamma=2,                 \n",
    "    eta=0.01,\n",
    "    max_depth=8,\n",
    "    n_estimators=10000,\n",
    "    min_child_weight=4,\n",
    "    subsample=0.9,\n",
    "    colsample_bytree=0.6,\n",
    "    random_state=34\n",
    "), \n",
    " param_grid = param_test4, scoring='neg_root_mean_squared_error',n_jobs=-1, cv=5)\n",
    "\n",
    "# Fit\n",
    "gsearch4.fit(X,Y2)\n",
    "\n",
    "# Display results\n",
    "print(\"Best: %f using %s\" % (gsearch4.best_score_, gsearch4.best_params_))\n",
    "means = gsearch4.cv_results_['mean_test_score']\n",
    "params = gsearch4.cv_results_['params']\n",
    "for mean, param in zip(means, params):\n",
    "    print(\"%f with: %r\" % (mean, param))"
   ]
  },
  {
   "cell_type": "code",
   "execution_count": 53,
   "metadata": {},
   "outputs": [
    {
     "name": "stdout",
     "output_type": "stream",
     "text": [
      "\n",
      "Model Report:\n",
      "Best number of estimators: 113\n",
      "RMSE : 37.54\n",
      "nRMSE :  4.9701 % - The lower, the better!\n"
     ]
    },
    {
     "data": {
      "image/png": "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\n",
      "text/plain": [
       "<Figure size 432x288 with 1 Axes>"
      ]
     },
     "metadata": {
      "needs_background": "light"
     },
     "output_type": "display_data"
    }
   ],
   "source": [
    "# FINAL MODEL\n",
    "# Won't decrease learning rate because computational limits\n",
    "xgb_WC5_Y2 = xgb.XGBRegressor(\n",
    "    objective='reg:squarederror',\n",
    "    gamma=2,                 \n",
    "    eta=0.01,\n",
    "    max_depth=8,\n",
    "    n_estimators=10000,\n",
    "    min_child_weight=4,\n",
    "    subsample=0.9,\n",
    "    colsample_bytree=0.6,\n",
    "    reg_alpha=0.01,\n",
    "    random_state=34\n",
    ") \n",
    "modelfit(xgb_WC5_Y2,X,Y2)"
   ]
  },
  {
   "cell_type": "markdown",
   "metadata": {},
   "source": [
    "### 2.2.3. Calendar only"
   ]
  },
  {
   "cell_type": "code",
   "execution_count": 61,
   "metadata": {},
   "outputs": [],
   "source": [
    "# And now we only use ONLY calendar data\n",
    "X = hourly_train[['Year','Month','Day','Hour','Weekday','Holiday']]\n",
    "Y1 = hourly_train['Volume']\n",
    "Y2 = hourly_train['Duration']"
   ]
  },
  {
   "cell_type": "code",
   "execution_count": 62,
   "metadata": {},
   "outputs": [
    {
     "name": "stdout",
     "output_type": "stream",
     "text": [
      "\n",
      "Model Report:\n",
      "Best number of estimators: 1968\n",
      "RMSE : 152.92\n",
      "nRMSE :  16.4906 % - The lower, the better!\n"
     ]
    },
    {
     "data": {
      "image/png": "iVBORw0KGgoAAAANSUhEUgAAAZEAAAEsCAYAAAACdY78AAAABHNCSVQICAgIfAhkiAAAAAlwSFlzAAALEgAACxIB0t1+/AAAADh0RVh0U29mdHdhcmUAbWF0cGxvdGxpYiB2ZXJzaW9uMy4yLjIsIGh0dHA6Ly9tYXRwbG90bGliLm9yZy+WH4yJAAAgAElEQVR4nO3de5xdZX3v8c+XSBAxEC4DIhCCmCKBo1Gj4KVesGIAFdqiBQVS1MYLiIA9Nd4KeDlCT9UWL/QECQaqIuKFtKCYci0WhADhEilNjAFCEIjhEkDRhO/5Yz1bNsOemcVm9uzZM9/367Ves9ez1trrt6LMb57Leh7ZJiIioh0bdTuAiIjoXUkiERHRtiSRiIhoW5JIRES0LUkkIiLaliQSERFtSxKJiIi2JYnEqCRppaTfSnq4aXv+MHznnw1XjDXud6Kkfx2p+w1G0l9LurLbccTYkyQSo9nbbD+3aVvdzWAkPaub929Xr8YdvSFJJHqKpC0knSHpbkl3SfqcpAnl2K6SLpH0G0lrJH1L0uRy7GxgCvBvpVbzd5LeIGlVv+//Y22l1CTOk/Svkh4C/nqw+9eI3ZI+JGmZpHWSPltivkrSQ5LOlTSxnPsGSaskfaI8y0pJ7+7373CWpPsk3S7pU5I2Ksf+WtLPJH1Z0lrgu8C/AK8qz/5AOe8ASTeUe98p6cSm759a4p0t6Y4Swyebjk8osf2yPMt1knYqx14kaZGktZJuk/TOpuv2l/SLcs1dkv629v/4MSoliUSvWQCsB14IvBTYF3hfOSbgC8Dzgd2BnYATAWwfDtzBE7Wbf6h5vwOB84DJwLeGuH8ds4CXA3sDfwfMA95dYt0TOLTp3OcB2wA7ALOBeZJ2K8e+AmwBvAB4PXAEcGTTtXsBK4BtgcOADwBXlWefXM55pFw3GTgA+KCkg/rF+1pgN+BNwN9L2r2UH19i3R/YHHgP8KikzYBFwLfLvQ8Fvi5pj3LdGcD7bU8qz3tJrX+1GLWSRGI0+5GkB8r2I0nbAfsBx9p+xPa9wJeBQwBsL7e9yPZjtu8DvkT1C/aZuMr2j2w/TvXLcsD713SK7YdsLwVuAX5qe4XtB4EfUyWmZp8uz3M5cAHwzlLz+Svg47bX2V4JfBE4vOm61ba/Ynu97d+2CsT2ZbZvtv247ZuA7/DUf6+TbP/W9o3AjcBLSvn7gE/Zvs2VG23/BngrsNL2meXe1wPfBw4u1/0BmC5pc9v3l+PRw9JWGqPZQbb/o7Ej6ZXAxsDdkhrFGwF3luPbAqcCfwpMKsfuf4Yx3Nn0eefB7l/TPU2ff9ti/3lN+/fbfqRp/3aqWtY2wMSy33xshwHibknSXsDJVDWCicAmwPf6nfbrps+PAs8tn3cCftnia3cG9mo0mRXPAs4un/8S+BRwsqSbgLm2rxoq1hi9UhOJXnIn8Biwje3JZdvcdqOp5AuAgRfb3pyqGUdN1/efsvoR4DmNnfIXfl+/c5qvGer+w23L0jzUMAVYDayh+ot+537H7hog7lb7UDU5LQR2sr0FVb+JWpzXyp3ArgOUX9707zO5NKF9EMD2tbYPpGrq+hFwbs37xSiVJBI9w/bdwE+BL0raXNJGpWO60QQzCXgYeEDSDsD/7vcV91D1ITT8D/Ds0sG8MdVfyJs8g/t3wkmSJkr6U6qmou/Z3kD1y/fzkiZJ2pmqj2Kw4cT3ADs2Ou6LScBa278rtbx3PY24vgF8VtI0VV4saWvg34E/kXS4pI3L9gpJu5fneLekLWz/AXgI2PA07hmjUJJI9JojqJpefkHVVHUesH05dhLwMuBBqv6DH/S79gvAp0ofy9+WfogPUf1CvIuqZrKKwQ12/+H263KP1VSd+h+w/d/l2Iep4l0BXElVq5g/yHddAiwFfi1pTSn7EPAZSeuAv+fp1Qq+VM7/KVUyOAPY1PY6qsEGh5S4fw2cwhPJ+XBgZRnt9gGq2mL0MGVRqojRR9IbgH+1vWO3Y4kYTGoiERHRtiSRiIhoW5qzIiKibamJRERE25JEIiKibePujfVtttnGU6dO7XYYERE95brrrltju//LuOMviUydOpXFixd3O4yIiJ4i6fZW5WnOioiItiWJRERE25JEIiKibUkiERHRtiSRiIhoW5JIRES0rWNJRNKzJV0j6UZJSyWdVMp3kfRzScskfbexvoGkTcr+8nJ8atN3fbyU3ybpLU3ls0rZcklzO/UsERHRWidrIo8B+9h+CTADmCVpb6q1Bb5sexrVWgnvLee/l2o50BdSrVt9CoCk6VRrE+wBzAK+LmlCWYXua1RrXk8HDi3nRkTECOnYy4auZnZ8uOxuXDYD+/DECmoLgBOB04ADy2eoFvr5qqqFrA8EzrH9GPArScuBV5bzltteASDpnHLuLzrxPFPnXtCJrx3QypMPGNH7RUS0o6N9IqXGsAS4F1gE/BJ4wPb6csoqYIfyeQeq9Zkpxx8Etm4u73fNQOWt4pgjabGkxffdd99wPFpERNDhJGJ7g+0ZwI5UtYfdW51WfmqAY0+3vFUc82zPtD2zr+8pU79ERESbRmR0lu0HgMuAvYHJkhrNaDtSrcMMVU1iJ4ByfAtgbXN5v2sGKo+IiBHSydFZfZIml8+bAn8G3ApcChxcTpsNnF8+Lyz7lOOXlH6VhcAhZfTWLsA04BrgWmBaGe01karzfWGnniciIp6qk7P4bg8sKKOoNgLOtf3vkn4BnCPpc8ANwBnl/DOAs0vH+VqqpIDtpZLOpeowXw8cZXsDgKSjgYuACcB820s7+DwREdFPJ0dn3QS8tEX5Cp4YXdVc/jvgHQN81+eBz7covxC48BkHGxERbckb6xER0bYkkYiIaFuSSEREtC1JJCIi2pYkEhERbUsSiYiItiWJRERE25JEIiKibUkiERHRtiSRiIhoW5JIRES0rZMTMEaPyKqNEdGu1EQiIqJtSSIREdG2JJGIiGhbkkhERLQtSSQiItqWJBIREW1LEomIiLYliURERNuSRCIiom1JIhER0bYkkYiIaFuSSEREtC1JJCIi2taxJCJpJ0mXSrpV0lJJHynlJ0q6S9KSsu3fdM3HJS2XdJuktzSVzyplyyXNbSrfRdLPJS2T9F1JEzv1PBER8VSdrImsBz5qe3dgb+AoSdPLsS/bnlG2CwHKsUOAPYBZwNclTZA0AfgasB8wHTi06XtOKd81DbgfeG8HnyciIvrpWBKxfbft68vndcCtwA6DXHIgcI7tx2z/ClgOvLJsy22vsP174BzgQEkC9gHOK9cvAA7qzNNEREQrtZOIpM3avYmkqcBLgZ+XoqMl3SRpvqQtS9kOwJ1Nl60qZQOVbw08YHt9v/JW958jabGkxffdd1+7jxEREf0MmUQkvVrSL6hqEkh6iaSv172BpOcC3weOtf0QcBqwKzADuBv4YuPUFpe7jfKnFtrzbM+0PbOvr69u6BERMYQ6NZEvA28BfgNg+0bgdXW+XNLGVAnkW7Z/UK6/x/YG248Dp1M1V0FVk9ip6fIdgdWDlK8BJkt6Vr/yiIgYIbWas2zf2a9ow1DXlD6LM4BbbX+pqXz7ptP+HLilfF4IHCJpE0m7ANOAa4BrgWllJNZEqs73hbYNXAocXK6fDZxf53kiImJ4PGvoU7hT0qsBl1/ix1CatobwGuBw4GZJS0rZJ6hGV82ganpaCbwfwPZSSecCv6Aa2XWU7Q0Ako4GLgImAPNtLy3f9zHgHEmfA26gSloRETFC6iSRDwD/TNVpvQr4KXDUUBfZvpLW/RYXDnLN54HPtyi/sNV1tlfwRHNYRESMsEGTSHlH459sv3uE4omIiB4yaJ9IaU7qy5vgERHRSp3mrJXAzyQtBB5pFDZ3lkdExPhUJ4msLttGwKTOhhMREb1kyCRi+yQASZOqXT/c8agihtHUuReM6P1WnnzAiN4vopvqvLG+p6QbqN7nWCrpOkl7dD60iIgY7eq8bDgPON72zrZ3Bj5K9aZ5RESMc3WSyGa2L23s2L4MaHsyxoiIGDvqdKyvkPRp4Oyyfxjwq86FFBERvaJOTeQ9QB/wg7JtAxzZyaAiIqI31BmddT/VfFkRERFPUmd01iJJk5v2t5R0UWfDioiIXlCnOWsb2w80dkrNZNvOhRQREb2iThJ5XNKUxo6knRlgBcGIiBhf6ozO+iRwpaTLy/7rgDmdCykiInpFnY71n0h6GbB3KTrO9prOhhUREb1gwOYsSTtL2gKgJI1HgDcDR2Rq+IiIgMH7RM6lvJlelrP9HnAH8BLg650PLSIiRrvBmrM2tb26fD6Mam3zL0raCFgyyHURETFODFYTaV4ffR/gYgDbj3c0ooiI6BmD1UQukXQucDewJXAJgKTtgd+PQGwRETHKDZZEjgX+CtgeeK3tP5Ty51EN+42IiHFuwCRi28A5Lcpv6GhEERHRM+q8sR4REdFSkkhERLStVhKRtKmk3Z7OF0vaSdKlkm6VtFTSR0r5VmVm4GXl55alXJJOlbRc0k3lLfnGd80u5y+TNLup/OWSbi7XnCpJT40kIiI6pc5U8G+jei/kJ2V/hqSFNb57PfBR27tTTZlylKTpwFzgYtvTqIYNzy3n7wdMK9sc4LRyv62AE4C9gFcCJzQSTzlnTtN1s2rEFRERw6ROTeREql/eDwDYXgJMHeoi23fbvr58XgfcCuwAHAgsKKctAA4qnw8EznLlamByGU78FmCR7bVlGvpFwKxybHPbV5VBAGc1fVdERIyAOklkve0Hn8lNJE0FXgr8HNjO9t1QJRqeWJtkB+DOpstWlbLByle1KI+IiBFSJ4ncIuldwARJ0yR9BfivujeQ9Fzg+8Cxth8a7NQWZW6jvFUMcyQtlrT4vvvuGyrkiIioqU4S+TCwB/AY8G3gQaoXEYckaWOqBPIt2z8oxfeUpqjG2+/3lvJVwE5Nl+8IrB6ifMcW5U9he57tmbZn9vX11Qk9IiJqGDKJ2H7U9idtv6Jsn7L9u6GuKyOlzgButf2lpkMLgcYIq9nA+U3lR5RRWnsDD5bmrouAfcva7lsC+wIXlWPrJO1d7nVE03dFRMQIqDM6a5GkyU37W0q6qMZ3vwY4HNhH0pKy7Q+cDLxZ0jKq9UlOLudfCKwAlgOnAx8CsL0W+Cxwbdk+U8oAPgh8o1zzS+DHNeKKiIhhUmd53G1sP9DYsX2/pG0Hu6CcdyWt+y0A3tTifANHDfBd84H5LcoXA3sOFUtERHRGnT6RxyVNaexI2pkBOrAjImJ8qVMT+SRwpaTLy/7rqF7wi4iIcW7IJGL7J2UKkr2pmqeOK2uuR0TEOFenJgKwCbC2nD9dErav6FxYERHRC4ZMIpJOoVqcainQWBrXQJJIRMQ4V6cmchCwm+3HOh1MRET0ljqjs1YAG3c6kIiI6D11aiKPAkskXUw19QkAto/pWFQREdET6iSRhWWLiIh4kjpDfBcMdU5ERIxPdUZnTQO+AEwHnt0ot/2CDsYVERE9oE7H+plUy9CuB95ItYLg2Z0MKiIiekOdJLKp7YsB2b7d9onAPp0NKyIiekGdjvXfSdoIWCbpaOAunljSNiIixrE6NZFjgecAxwAvBw6jWgAqIiLGuTpJZKrth22vsn2k7b8Epgx5VUREjHl1ksjHa5ZFRMQ4M2CfiKT9gP2BHSSd2nRoc6qRWhERMc4N1rG+GlgMvB24rql8HXBcJ4OKiIjeMGASsX2jpFuAffPWekREtDJon4jtDcDWkiaOUDwREdFD6rwncjvwM0kLgUcahba/1LGoIiKiJ9RJIqvLthEwqbPhREREL6kzi+9JAJImVbt+uONRRURETxjyPRFJe0q6AbgFWCrpOkl7dD60iIgY7eq8bDgPON72zrZ3Bj4KnN7ZsCIiohfUSSKb2b60sWP7MmCzoS6SNF/SvWWYcKPsREl3SVpStv2bjn1c0nJJt0l6S1P5rFK2XNLcpvJdJP1c0jJJ380IsoiIkVcniayQ9GlJU8v2KeBXNa77JjCrRfmXbc8o24UAkqYDhwB7lGu+LmmCpAnA14D9qBbFOrScC3BK+a5pwP3Ae2vEFBERw6hOEnkP0Af8APhh+XzkUBfZvgJYWzOOA4FzbD9m+1fAcuCVZVtue4Xt3wPnAAdKEtWaJueV6xcAB9W8V0REDJM6o7PuB46RtAXwuO11z/CeR0s6gmpKlY+W798BuLrpnFWlDODOfuV7AVsDD9he3+L8p5A0B5gDMGVKJiCOiBgudUZnvULSzcCNwM2SbpT08jbvdxqwKzADuBv4YuM2Lc51G+Ut2Z5ne6btmX19fU8v4oiIGFCdlw3PAD5k+z8BJL2Wat31Fz/dm9m+p/FZ0unAv5fdVcBOTafuSPWCIwOUrwEmS3pWqY00nx8xrkyde8GI3m/lyQeM6P1idKvTJ7KukUAAbF9JNZPv0yZp+6bdP6d69wRgIXCIpE0k7QJMA64BrgWmlZFYE6k63xfaNnApcHC5fjZwfjsxRURE++rURK6R9P+A71A1Gf0VcJmklwHYvr7VRZK+A7wB2EbSKuAE4A2SZpTvWQm8v3zHUknnAr+gWqvkqDL5I2Vd94uACcB820vLLT4GnCPpc8ANVDWmiIgYQXWSyIzy84R+5a+mSgb7tLrI9qEtigf8RW/788DnW5RfCFzYonwF1eitiIjokjqjs944EoFERETvGTKJSJoMHAFMbT7f9jGdCysiInpBneasC6ne4bgZeLyz4URERC+pk0Sebfv4jkcSERE9p84Q37Ml/Y2k7SVt1dg6HllERIx6dWoivwf+L/BJnngr3MALOhVURET0hjpJ5HjghbbXdDqYiIjoLXWas5YCj3Y6kIiI6D11aiIbgCWSLgUeaxRmiG9ERNRJIj8qW0RExJPUeWN9wUgEEhERvWfAJFLWEBlsjY6nPRV8RESMLYPVRN46YlFERERPGjCJ2L59JAOJiIjeU2eIb0REREtJIhER0bZaSUTSppJ263QwERHRW4ZMIpLeBiwBflL2Z0ha2OnAIiJi9KtTEzmRahnaBwBsL6FaoCoiIsa5Oklkve0HOx5JRET0nDrTntwi6V3ABEnTgGOA/+psWBER0Qvq1EQ+DOxBNfnit4EHgWM7GVRERPSGQWsikiYAC23/GdWiVBEREX80aE3E9gbgUUlbjFA8ERHRQ+r0ifwOuFnSIuCRRmHWE4mIiDp9IhcAnwauAK5r2gYlab6keyXd0lS2laRFkpaVn1uWckk6VdJySTdJelnTNbPL+cskzW4qf7mkm8s1p0pS/ceOiIjh0Mn1RL4JfBU4q6lsLnCx7ZMlzS37HwP2A6aVbS/gNGAvSVsBJwAzqaalv07SQtv3l3PmAFcDFwKzgB+3GWtERLShzhvrv5K0ov821HW2rwDW9is+EGgkpQXAQU3lZ7lyNTBZ0vbAW4BFtteWxLEImFWObW77KtumSlQHERERI6pOn8jMps/PBt4BbNXm/bazfTeA7bslbVvKdwDubDpvVSkbrHxVi/KWJM2hqrUwZcqUNkOPiIj+hqyJ2P5N03aX7X8C9hnmOFr1Z7iN8pZsz7M90/bMvr6+NkOMiIj+hqyJNHdyUyWdmcCkNu93j6TtSy1ke+DeUr4K2KnpvB2B1aX8Df3KLyvlO7Y4PyIiRlCd0VlfbNq+ALwMeGeb91sINEZYzQbObyo/oozS2ht4sDR7XQTsK2nLMpJrX+CicmydpL3LqKwjmr4rIiJGSJ0+kffaflJHuqRdhrpI0neoahHbSFpFNcrqZOBcSe8F7qDqX4FqdNX+wHLgUeBIANtrJX0WuLac9xnbjc76D1KNANuUalRWRmZFRIywOknkPKraR/+ylw92ke1DBzj0phbnGjhqgO+ZD8xvUb4Y2HOwGCIiorMGTCKSXkQ18eIWkv6i6dDmVKO0IiI6burcC0b0fitPPmBE79frBquJ7Aa8FZgMvK2pfB3wN50MKiIiesOAScT2+cD5kl5l+6oRjCkiInpEnT6RGyQdRdW09cdmLNvv6VhUERHRE+oM8T0beB7VFCSXU72Tsa6TQUVERG+ok0ReaPvTwCNlMsYDgP/V2bAiIqIX1Ekifyg/H5C0J7AFMLVjEUVERM+o0ycyr7wt/mmqN8ufC/x9R6OKiIieUGc9kW+Uj5cDL+hsOBER0UvqrCeynaQzJP247E8v05ZERMQ4V6dP5JtUEyE+v+z/D3BspwKKiIjeUSeJbGP7XOBxANvrgQ0djSoiInpCnSTyiKStKYs+NaZq72hUERHRE+qMzjqealTWrpJ+BvQBB3c0qoiI6AmDzeI7xfYdtq+X9HqqCRkF3Gb7DwNdFxER48dgzVk/avr8XdtLbd+SBBIREQ2DJRE1fc77IRER8RSDJREP8DkiIgIYvGP9JZIeoqqRbFo+U/Zte/OORxcREaPaYItSTRjJQCIiovfUeU8kIiKipSSRiIhoW5JIRES0LUkkIiLaliQSERFt60oSkbRS0s2SlkhaXMq2krRI0rLyc8tSLkmnSlou6SZJL2v6ntnl/GWSZnfjWSIixrNu1kTeaHuG7Zllfy5wse1pwMVlH2A/YFrZ5gCnQZV0gBOAvYBXAic0Ek9ERIyM0dScdSCwoHxeABzUVH6WK1cDkyVtD7wFWGR7re37gUXArJEOOiJiPOtWEjHwU0nXSZpTyrazfTdA+bltKd8BuLPp2lWlbKDyiIgYIXXWE+mE19heLWlbYJGk/x7kXLUo8yDlT/2CKlHNAZgyZcrTjTUiIgbQlZqI7dXl573AD6n6NO4pzVSUn/eW01cBOzVdviOwepDyVvebZ3um7Zl9fX3D+SgREePaiCcRSZtJmtT4DOwL3EK1emJjhNVs4PzyeSFwRBmltTfwYGnuugjYV9KWpUN931IWEREjpBvNWdsBP5TUuP+3bf9E0rXAuZLeC9wBvKOcfyGwP7AceBQ4EsD2WkmfBa4t533G9tqRe4yIiBjxJGJ7BfCSFuW/Ad7UotzAUQN813xg/nDHGBER9YymIb4REdFjujU6KyIigKlzLxjR+608+YBh/b7URCIiom1JIhER0bYkkYiIaFuSSEREtC1JJCIi2pYkEhERbUsSiYiItiWJRERE25JEIiKibUkiERHRtiSRiIhoW5JIRES0LUkkIiLaliQSERFtSxKJiIi2JYlERETbkkQiIqJtSSIREdG2JJGIiGhbkkhERLQtSSQiItqWJBIREW1LEomIiLYliURERNt6PolImiXpNknLJc3tdjwREeNJTycRSROArwH7AdOBQyVN725UERHjR08nEeCVwHLbK2z/HjgHOLDLMUVEjBuy3e0Y2ibpYGCW7feV/cOBvWwf3e+8OcCcsrsbcNsIhrkNsGYE7zeSxvKzQZ6v1+X5htfOtvv6Fz5rBAPoBLUoe0pWtD0PmNf5cJ5K0mLbM7tx704by88Geb5el+cbGb3enLUK2Klpf0dgdZdiiYgYd3o9iVwLTJO0i6SJwCHAwi7HFBExbvR0c5bt9ZKOBi4CJgDzbS/tclj9daUZbYSM5WeDPF+vy/ONgJ7uWI+IiO7q9easiIjooiSRiIhoW5JIRES0LUmkAyS9VVL+bWPUkLSRpFu6HUcnSdqz2zF02mh8xvyi64xDgGWS/kHS7t0OZriMh19EAJJeLeldko5obN2O6Zmy/Thwo6Qp3Y6lg/5F0jWSPiRpcreD6ZBR94w9PcR3tLJ9mKTNgUOBMyUZOBP4ju113Y2ufbYfl3SjpCm27+h2PJ0g6WxgV2AJsKEUGzira0ENn+2BpZKuAR5pFNp+e/dCGj62XytpGvAeYHF5zjNtL+pyaMNmND5jhvh2kKRtgMOAY4FbgRcCp9r+SlcDewYkXQK8AhiTv4gk3QpM9xj8D0PS61uV2758pGPppDK790HAqcBDVNMjfcL2D7oa2DAaTc+YJNIBkt5G9ZfCrsDZwALb90p6DnCr7Z27GuAzMNZ/EUn6HnCM7bu7HUs8PZJeDBwJHAAsAs6wfb2k5wNX9fJ/dw2j8RmTRDpA0lnAN2xf0eLYm2xf3IWwYhCS/o2q2WoSMIOqpvVY4/hYqGlJ2hv4CrA7MJFqlodHbG/e1cCGiaQrgNOB82z/tt+xw22f3Z3Ihs9ofMYkkXhaJK3jiZmSJwIbMwZ+EQ1Uw2oYCzUtSYupBn18D5gJHAFMs/2JrgYWPS0d6x0wlv/isz2peV/SQVSLg/W0RpKQdIrtjzUfk3QK0PNJBMD2ckkTbG+gGvTxX92OabiUDucvUK1y+uxGue0XdC2oYTYanzFDfDvjq1Qjs5YBmwLvo0oqY47tHwH7dDuOYfTmFmX7jXgUnfFome16SRl+fhywWbeDGkZnAqcB64E3Uo2o6/kmrH5G3TOmJtIhY/UvPkl/0bS7EVWzSM+3iUr6IPAh4AWSbmo6NAkYE//bAYdT/W92NHAc1Vo8f9nViIbXprYvliTbtwMnSvpP4IRuBzaMRt0zJol0xpP+4gPuZuz8xfe2ps/rgZWMjXXtvw38mKqpYG5T+Trba7sT0vCyfbukTYHtbZ/U7Xg64HdlpohlZYmIu4BtuxzTcBt1z5iO9Q6QtDNwD1V/yHHAFsDXbS/vamBRSxmDvx1Nf2SNhZcry9DzfwQm2t5F0gzgM2Nh5BmApFdQvY81Gfgs1X93/2D76q4GNoxG4zMmiXSIpD4A2/d1O5bhJGlHqv6d11A1Y10JfMT2qq4GNkzKX3cnUv0R8Hgptu0Xdy2oYSLpOqr+q8tsv7SU3TQWni26J81Zw0iSqNomj6Z6g3QjSeuBr9j+TFeDGz5nUjX9vKPsH1bKWnVI96Jjgd1s/6bbgXTAetsPVv83HTua3vFpaSzUtEbzM2Z01vA6luov9FfY3tr2lsBewGvKSJixoM/2mbbXl+2bQF+3gxpGdwIPdjuI4STpQkm7ALdIehcwQdI0SV9hbAwa+Efgi8CvgN9SvYx3OvAwMFYmDB21z5jmrGEk6QbgzbbX9CvvA37aaELoZZL+A/gm8J1SdChwpO03dS2oYSTpDGA34AKe/Mb6l7oW1DMk6Z3A56iGgm7KE7XGi4DP2n5soGt7iaQrbL9uqLJeNhqfMTWR4bVx/wQCf+wX2bgL8XTCe5XIfHgAAASNSURBVIB3Ar+mGnV2cCkbK+6gmpNoItXw3sbWs2yfC7wUeC7VnEvfBc4B7geO6mJow61P0h9fuiu1r7FUS4ZR+IzpExlev2/zWM8oo5R6vo15II2hr5ImVbt+uMshDZc/UM26vAlVMhmLTRDHAZdJWlH2pwLv7144HTHqnjHNWcNI0gaapkdvPgQ823bP1kZK+/lgHXvHjGA4HVNWjjsb2KoUrQGOsL20e1E9M5JmAV8CFlIN6X20yyF1jKRNgBeV3f8GGCvNdQ39n7Hbz5eayDCyPaHbMXTQ4qbPJzG23gJuNg843valAJLeQNWB+epuBvUMfRJ4Ry8nwjokzbf9HuDGsr8ZVeLs+f46SfvYvqTfjBEAu0qim2ulJIlELbYXND5LOrZ5f4zZrJFAAGxfVn4Z9Szbf9rtGEbIXZJOs/1BSVtSDY44vdtBDZPXA5fw5BkjGgx0LYmkOSueNknX235Zt+PoBEk/BK7niUntDgNm2j6oe1FFXWXG5S2AlwMn2/5+l0Ma85JE4mkb40lkS6rmutdS9WVdAZxo+/6uBhYD6tfEI+DTVIuK/QToalPPcJF0/GDHuzkEPc1ZUUu/xaieI+mhxiGqUUw9v1YKQEkWY2KQwDjSv4nnBqoh9W+jy009w2jUDjNPTSQCkLRwsONjYeqMiE5ITSSi8iqqKU++A/ycqoYVPUTSn1At2LSd7T0lvRh4u+3PdTm0YTMaJ0DNG+sRlecBnwD2BP6ZamqQNbYvHwvrq48TpwMfp3qxEts3Ua0pP5acSTVs+fnADsC/lbKuSRKJAGxvsP0T27OBvYHlVG8Gf7jLoUV9z7F9Tb+y9V2JpHNG3QSoac6KKMqbwAdQTSo5FTiVsdEpO16skbQrZQCIpIOp5ncbS9ZIOownT4Da1WUL0rEeAUhaQNWU9WPgHNtjZQrxcaNMTDiPanaB+6mmTT/M9spuxjWcJE0BvkrVh2eqqfw/UtZb705MSSIRIOlxnpj3rPk/ijE1hHk8KDMMbGR7XbdjGQ+SRCJiTJC0HfB/gOfb3k/SdOBVts/ocmjP2GieADUd6xExVnyTaqGt55f9/6FabXQsWAxcV7a3N31ubF2TmkhEjAmSrrX9Ckk3NFYRlbTE9oxuxzacmp9vNEhNJCLGikckbc0To7P2Bh7sbkgdMar+8s8Q34joaZKOBX4G/B1wPvACST+jen/iHd2MbTxIc1ZE9DRJ/0g1rPdFVKsZ3gVcBnzX9pouhjZs+k+ACjRWp+z66MEkkYgYEyRNBGZSJZRXle0B29O7GtgYl+asiBgrNgU2p1qUagtgNXBzVyMaB1ITiYieJmkesAewjmoG5quBq7OQ2MjI6KyI6HVTgE2AX1P1h6wCHuhqRONIaiIR0fMkiao28uqy7QmsBa6yfUI3YxvrkkQiYswoiza9hiqRvBXY2vbk7kY1tiWJRERPk3QMVdJ4DdWCVD8Drio/b7b9eBfDG/MyOisiet1U4DzgONtjbf2QUS81kYiIaFtGZ0VERNuSRCIiom1JIhER0bYkkYiIaFuSSEREtO3/A2QmYA22JgTFAAAAAElFTkSuQmCC\n",
      "text/plain": [
       "<Figure size 432x288 with 1 Axes>"
      ]
     },
     "metadata": {
      "needs_background": "light"
     },
     "output_type": "display_data"
    }
   ],
   "source": [
    "# Basic Model (Calendar only) for VOLUME\n",
    "xgb_C1_Y = xgb.XGBRegressor(\n",
    "    objective='reg:squarederror',\n",
    "    gamma=1,                 \n",
    "    eta=0.1,\n",
    "    max_depth=6,\n",
    "    n_estimators=10000,\n",
    "    min_child_weight=5,\n",
    "    subsample=0.8,\n",
    "    colsample_bytree=0.8,\n",
    "    random_state=34\n",
    ") \n",
    "\n",
    "# Show fit for Volume\n",
    "modelfit(xgb_C1_Y,X,Y1)"
   ]
  },
  {
   "cell_type": "code",
   "execution_count": 63,
   "metadata": {},
   "outputs": [
    {
     "name": "stdout",
     "output_type": "stream",
     "text": [
      "\n",
      "Model Report:\n",
      "Best number of estimators: 559\n",
      "RMSE : 54.21\n",
      "nRMSE :  7.1768 % - The lower, the better!\n"
     ]
    },
    {
     "data": {
      "image/png": "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\n",
      "text/plain": [
       "<Figure size 432x288 with 1 Axes>"
      ]
     },
     "metadata": {
      "needs_background": "light"
     },
     "output_type": "display_data"
    }
   ],
   "source": [
    "# Show fit for duration\n",
    "modelfit(xgb_C1_Y,X,Y2)"
   ]
  },
  {
   "cell_type": "markdown",
   "metadata": {},
   "source": [
    "## 2.3. Daily XGBOOST Model"
   ]
  },
  {
   "cell_type": "markdown",
   "metadata": {},
   "source": [
    "### 2.3.3. Weather only"
   ]
  },
  {
   "cell_type": "code",
   "execution_count": null,
   "metadata": {},
   "outputs": [],
   "source": [
    "# First, let us use the weather data to predict only daily traffic\n",
    "\n",
    "# Only the variables explicatives remain in our train df\n",
    "X_train = daily_train.drop(['dateIDm', 'Year', 'Month', 'Day', 'Weekday', 'Holiday', 'Duration', 'Volume'], axis=1)\n",
    "X_test = daily_test.drop(['dateIDm', 'Year', 'Month', 'Day', 'Weekday', 'Holiday', 'Duration', 'Volume'], axis=1)\n",
    "# Only the target remains in our train df\n",
    "Y_train = daily_train['Volume']\n",
    "Y_test = daily_test['Volume']\n"
   ]
  },
  {
   "cell_type": "code",
   "execution_count": null,
   "metadata": {},
   "outputs": [],
   "source": [
    "# Define the Model (Weather only)\n",
    "mod4 = xgb.XGBRegressor(\n",
    "    objective='reg:squarederror',\n",
    "    gamma=1,                 \n",
    "    eta=0.1,\n",
    "    max_depth=6,\n",
    "    n_estimators=10000,\n",
    "    min_child_weight=5,\n",
    "    subsample=0.8,\n",
    "    colsample_bytree=0.8,\n",
    "    random_state=34\n",
    ") \n",
    "\n",
    "mod4.fit(X_train, Y_train)\n",
    "predictions = mod4.predict(X_test)\n",
    "rmse = sqrt(mean_squared_error(Y_test, predictions))\n",
    "print(\"score: {0:,.0f}\".format(rmse))"
   ]
  },
  {
   "cell_type": "markdown",
   "metadata": {},
   "source": [
    "### 2.3.2. Calendar and weather"
   ]
  },
  {
   "cell_type": "code",
   "execution_count": null,
   "metadata": {},
   "outputs": [],
   "source": [
    "# Let's add the calendar data\n",
    "X_train = daily_train.drop(['dateIDm', 'Duration', 'Volume'], axis=1)\n",
    "X_test = daily_test.drop(['dateIDm', 'Duration', 'Volume'], axis=1)\n",
    "# Only the target remains in our train df\n",
    "Y_train = daily_train['Volume']\n",
    "Y_test = daily_test['Volume']"
   ]
  },
  {
   "cell_type": "code",
   "execution_count": null,
   "metadata": {},
   "outputs": [],
   "source": [
    "# Define the Model (Weather+Calendar only)\n",
    "mod5 = xgb.XGBRegressor(\n",
    "    objective='reg:squarederror',\n",
    "    gamma=1,                 \n",
    "    eta=0.1,\n",
    "    max_depth=6,\n",
    "    n_estimators=10000,\n",
    "    min_child_weight=5,\n",
    "    subsample=0.8,\n",
    "    colsample_bytree=0.8,\n",
    "    random_state=34\n",
    ") \n",
    "\n",
    "mod5.fit(X_train, Y_train)\n",
    "predictions = mod5.predict(X_test)\n",
    "rmse = sqrt(mean_squared_error(Y_test, predictions))\n",
    "print(\"score: {0:,.0f}\".format(rmse))"
   ]
  },
  {
   "cell_type": "markdown",
   "metadata": {},
   "source": [
    "### 2.3.3. Calendar only"
   ]
  },
  {
   "cell_type": "code",
   "execution_count": null,
   "metadata": {},
   "outputs": [],
   "source": [
    "# And now we only use ONLY calendar data\n",
    "X_train = daily_train[['Year','Month','Day','Weekday','Holiday']]\n",
    "X_test = daily_test[['Year','Month','Day','Weekday','Holiday']]\n",
    "# Only the target remains in our train df\n",
    "Y_train = daily_train['Volume']\n",
    "Y_test = daily_test['Volume']"
   ]
  },
  {
   "cell_type": "code",
   "execution_count": null,
   "metadata": {},
   "outputs": [],
   "source": [
    "# Define the Model (Calendar only)\n",
    "mod6 = xgb.XGBRegressor(\n",
    "    objective='reg:squarederror',\n",
    "    gamma=1,                 \n",
    "    eta=0.1,\n",
    "    max_depth=6,\n",
    "    n_estimators=10000,\n",
    "    min_child_weight=5,\n",
    "    subsample=0.8,\n",
    "    colsample_bytree=0.8,\n",
    "    random_state=34\n",
    ") \n",
    "\n",
    "mod6.fit(X_train, Y_train)\n",
    "predictions = mod6.predict(X_test)\n",
    "rmse = sqrt(mean_squared_error(Y_test, predictions))\n",
    "print(\"score: {0:,.0f}\".format(rmse))"
   ]
  },
  {
   "cell_type": "code",
   "execution_count": null,
   "metadata": {},
   "outputs": [],
   "source": [
    "print(Y_test.mean())"
   ]
  },
  {
   "cell_type": "markdown",
   "metadata": {
    "id": "kFH9Ad0OWdMj"
   },
   "source": [
    "# ANNEX: Testing the meteostat.net API"
   ]
  },
  {
   "cell_type": "code",
   "execution_count": null,
   "metadata": {
    "colab": {
     "base_uri": "https://localhost:8080/"
    },
    "id": "hAMSiVvUWxpi",
    "outputId": "c59b10f6-6c68-4cf5-ddfe-4edfa4c8edc6"
   },
   "outputs": [],
   "source": [
    "pip install meteostat"
   ]
  },
  {
   "cell_type": "code",
   "execution_count": null,
   "metadata": {
    "id": "bUH7dPNIXcfT"
   },
   "outputs": [],
   "source": [
    "# import all relevant meteostat packages\n",
    "from datetime import datetime\n",
    "from meteostat import Stations\n",
    "from meteostat import Daily\n",
    "from meteostat import Point"
   ]
  },
  {
   "cell_type": "code",
   "execution_count": null,
   "metadata": {
    "colab": {
     "base_uri": "https://localhost:8080/"
    },
    "id": "3iJ47zUmXeU_",
    "outputId": "0c005047-c898-4261-800a-785c31e26dfa"
   },
   "outputs": [],
   "source": [
    "# check stations available in the montreal area\n",
    "stations = Stations()\n",
    "stations = stations.nearby(49.2497, -73.5673)\n",
    "station = stations.fetch(1)\n",
    "\n",
    "print(station)\n",
    "\n",
    "# Remarque: la plupart des stations sont assez éloignées de Montréal."
   ]
  },
  {
   "cell_type": "code",
   "execution_count": null,
   "metadata": {
    "colab": {
     "base_uri": "https://localhost:8080/"
    },
    "id": "IDp5scgTctzw",
    "outputId": "13ea9379-afc3-462a-fb4a-5a1f3b212c94"
   },
   "outputs": [],
   "source": [
    "# Test pour voir si les données météo concordent avec ce qu'on trouve sur Météomédia malgré tout. Testons juin 2020.\n",
    "start = datetime(2020, 6, 1)\n",
    "end = datetime(2020, 6, 30)\n",
    "\n",
    "data = Daily(station, start=start, end=end)\n",
    "data = data.normalize()\n",
    "data = data.fetch()\n",
    "\n",
    "print(data)\n",
    "# Conclusion: Il manque beaucoup de données, et celles qu'on a ne sont pas fiables! Nous allons devoir télécharger les données d'Environnement Canada!"
   ]
  },
  {
   "cell_type": "code",
   "execution_count": null,
   "metadata": {
    "colab": {
     "base_uri": "https://localhost:8080/"
    },
    "id": "ca7poiTLgNs9",
    "outputId": "25b051c2-3501-4e80-f95a-0e6970e762d8"
   },
   "outputs": [],
   "source": [
    "# Je tente d'utiliser le module d'interpolation pour voir si ça donne de meilleurs résultats!\n",
    "datamtl = Point(49.2497, -73.5673)\n",
    "\n",
    "start = datetime(2021, 1, 1)\n",
    "end = datetime(2021, 1, 1)\n",
    "\n",
    "data = Daily(datamtl, start=start, end=end)\n",
    "data = data.normalize()\n",
    "data = data.fetch()\n",
    "\n",
    "print(data)\n",
    "\n",
    "# Météomedia donne -0.2 et -5.1, donc meteostat est vraiment dans le champ."
   ]
  },
  {
   "cell_type": "markdown",
   "metadata": {
    "id": "CheNHfsLk5aO"
   },
   "source": [
    "**CONCLUSION:**\n",
    "Meteostat fonctionne très bien, mais malheureusement les résultats sont très douteux. Je recommande que nous utilisions les données brutes des stations météo d'environnement Canada.\n",
    "\n",
    "On retrouve les donnnées au: https://climat.meteo.gc.ca/historical_data/search_historic_data_f.html ; il est facile de télécharger les données CSV pour la période qui nous intéresse!"
   ]
  }
 ],
 "metadata": {
  "colab": {
   "collapsed_sections": [],
   "name": "ML_Project_BIXI_Predictions.ipynb",
   "provenance": [],
   "toc_visible": true
  },
  "kernelspec": {
   "display_name": "Python 3",
   "language": "python",
   "name": "python3"
  },
  "language_info": {
   "codemirror_mode": {
    "name": "ipython",
    "version": 3
   },
   "file_extension": ".py",
   "mimetype": "text/x-python",
   "name": "python",
   "nbconvert_exporter": "python",
   "pygments_lexer": "ipython3",
   "version": "3.8.5"
  }
 },
 "nbformat": 4,
 "nbformat_minor": 4
}
