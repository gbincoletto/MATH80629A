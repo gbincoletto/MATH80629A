{
 "cells": [
  {
   "cell_type": "markdown",
   "metadata": {
    "id": "JPwfFELTzKzm"
   },
   "source": [
    "#MATH80629A Project: Predicting BIXI bike usage based on historical weather data"
   ]
  },
  {
   "cell_type": "markdown",
   "metadata": {
    "id": "uUDdu9VO0-f7"
   },
   "source": [
    "A project by: \n",
    "* William Désilets\n",
    "* Simon Drolet (11178019)\n",
    "* Gabriella Bincoletto-Montpetit (11149602)"
   ]
  },
  {
   "cell_type": "markdown",
   "metadata": {
    "id": "GCjG2RDf1_HO"
   },
   "source": [
    "# Part 1: Data pre-processing"
   ]
  },
  {
   "cell_type": "markdown",
   "metadata": {
    "id": "0ezkpXF1dztJ"
   },
   "source": [
    "## 1.1. Import relevant packages"
   ]
  },
  {
   "cell_type": "code",
   "execution_count": 1,
   "metadata": {
    "colab": {
     "base_uri": "https://localhost:8080/"
    },
    "id": "rFvJBtj1TpwY",
    "outputId": "acaa3097-4a29-4862-c4d0-bbd2628e45fe"
   },
   "outputs": [],
   "source": [
    "# Run this line into anaconda prompt to install XGBOOST: conda install -c anaconda py-xgboost\n",
    "import xgboost"
   ]
  },
  {
   "cell_type": "code",
   "execution_count": 1,
   "metadata": {},
   "outputs": [],
   "source": [
    "# Run this line into anaconda prompt: pip install holidays\n",
    "import holidays as holidays"
   ]
  },
  {
   "cell_type": "code",
   "execution_count": 2,
   "metadata": {
    "id": "YkiebpNsIMEa"
   },
   "outputs": [],
   "source": [
    "import pandas as pd\n",
    "import numpy as np\n",
    "import math as math\n",
    "import matplotlib.pyplot as plt\n",
    "#from google.colab import files\n",
    "import datetime as dt\n",
    "from sklearn.cluster import KMeans\n",
    "from sklearn.cluster import DBSCAN\n",
    "#from geopy import distance\n",
    "#from geopy.distance import great_circle\n",
    "#from shapely.geometry import MultiPoint\n",
    "#from geopy.distance import vincenty\n",
    "import matplotlib.cm as cm\n",
    "#import dask.dataframe as dd"
   ]
  },
  {
   "cell_type": "markdown",
   "metadata": {
    "id": "B15dh1t0v_CK"
   },
   "source": [
    "## 1.2. Weather Data"
   ]
  },
  {
   "cell_type": "markdown",
   "metadata": {
    "id": "9OAAhupNeFFi"
   },
   "source": [
    "### 1.2.1. Import weather files"
   ]
  },
  {
   "cell_type": "code",
   "execution_count": 2,
   "metadata": {
    "id": "mbY6HCYLwGo_"
   },
   "outputs": [
    {
     "name": "stdout",
     "output_type": "stream",
     "text": [
      "I would like to die once please.\n",
      "This is one extra test\n",
      "Bonjour!\n"
     ]
    }
   ],
   "source": [
    "# Since I have 84 files (7 years, 12 months per year) over 3 stations, I'll loop!\n",
    "\n",
    "# This code lists the 252 weather URLs from our GitHub rep. Actually we only keep 162 because we remove Dec/Jan/Feb (No Bixis)!\n",
    "weather_urls = list()\n",
    "for s in [['7024745_','McTavish'],['7027329_','St-Hubert'],['7025251_','YUL']]: # McTavish, St-Hubert, YUL\n",
    "    for y in range(7):\n",
    "        for m in range(9):\n",
    "            year = str(y + 2014)\n",
    "            month = '0' + str(m+3) + '-'\n",
    "            if len(month) == 4 : month = month[1:]\n",
    "            url = 'https://raw.githubusercontent.com/gbincoletto/MATH80629A/main/' + s[1] + '/fr_climat_horaires_QC_' + s[0] + month + year + '_P1H.csv'\n",
    "            weather_urls.append(url)\n",
    "\n"
   ]
  },
  {
   "cell_type": "code",
   "execution_count": 3,
   "metadata": {
    "colab": {
     "base_uri": "https://localhost:8080/"
    },
    "id": "4zbI4MFu1rAU",
    "outputId": "afd6bbed-8258-4d7a-d853-7b0d1d347fe3"
   },
   "outputs": [
    {
     "name": "stdout",
     "output_type": "stream",
     "text": [
      "Upload 11 percent complete\n",
      "Upload 22 percent complete\n",
      "Upload 33 percent complete\n",
      "Upload 44 percent complete\n",
      "Upload 55 percent complete\n",
      "Upload 66 percent complete\n",
      "Upload 77 percent complete\n",
      "Upload 88 percent complete\n",
      "Upload 100 percent complete\n"
     ]
    }
   ],
   "source": [
    "# Let's make all these CSVs into proper Pandas\n",
    "weather_dfs = list()\n",
    "n = 0\n",
    "for file in weather_urls:\n",
    "    weather_dfs.append(pd.read_csv(file))\n",
    "  \n",
    "    # A lot of columns are always empty, so let's remove them before anything else!\n",
    "    weather_dfs[n] = weather_dfs[n].drop(['Date/Heure (HNL)','Temp Indicateur','Point de rosée Indicateur',\\\n",
    "                     'Hum. rel. Indicateur','Hauteur de précip. Indicateur',\\\n",
    "                     'Dir. du vent Indicateur','Vit. du vent Indicateur',\\\n",
    "                     'Visibilité Indicateur', 'Pression à la station Indicateur',\\\n",
    "                     'Hmdx Indicateur','Refroid. éolien Indicateur'],axis=1)\n",
    "  \n",
    "    # Let's clean up the \"Heure\" field so it's easier to use.\n",
    "    weather_dfs[n]['Heure (HNL)'] = weather_dfs[n]['Heure (HNL)'].str.strip('0')\n",
    "    weather_dfs[n]['Heure (HNL)'] = weather_dfs[n]['Heure (HNL)'].str.strip(':')\n",
    "    weather_dfs[n]['Heure (HNL)'].mask(weather_dfs[n]['Heure (HNL)'] == '', '0', inplace=True)\n",
    "    weather_dfs[n]['Heure (HNL)'] = weather_dfs[n]['Heure (HNL)'].astype(int)\n",
    "\n",
    "    # BIXIs are only available from March 15 to November 15. Let's remove the useless days (keeping the day before)\n",
    "    weather_dfs[n].drop(weather_dfs[n][(weather_dfs[n]['Mois'] == 3) & (weather_dfs[n]['Jour'] < 14)].index, inplace=True) # Mars\n",
    "    weather_dfs[n].drop(weather_dfs[n][(weather_dfs[n]['Mois'] == 11) & (weather_dfs[n]['Jour'] > 15)].index, inplace=True) # Novembre\n",
    "\n",
    "    # And we convert the field \"Temps\" to a list and remove NAN\n",
    "    weather_dfs[n]['Temps'] = weather_dfs[n]['Temps'].fillna('ND')\n",
    "    weather_dfs[n]['Temps'] = weather_dfs[n]['Temps'].str.split(',')\n",
    "\n",
    "    n = n + 1\n",
    "    if n % 21 == 0 : print('Upload %d percent complete' % (n/189*100)) # If I change the number of years this line won't work!"
   ]
  },
  {
   "cell_type": "markdown",
   "metadata": {
    "id": "_zMhM3HBeNdN"
   },
   "source": [
    "### 1.2.2. Cleaning"
   ]
  },
  {
   "cell_type": "code",
   "execution_count": 4,
   "metadata": {
    "id": "M85G1j9Bq8fk"
   },
   "outputs": [],
   "source": [
    "# We find all the possible weather conditions that can be identified in \"Temps\" to create indicative variables\n",
    "# From: https://climat.meteo.gc.ca/glossary_f.html \n",
    "\n",
    "  # Here is the list that will be used\n",
    "\n",
    "\"\"\"\n",
    "  ND (0s everywhere)\n",
    "  nan (0s everywhere)\n",
    "  *\n",
    "  BROUILLARD: Brume sèche OU Fumée (1), Brouillard OU Chasse-poussière élevée (2), brouillard verglaçant (3)\n",
    "  PLUIE: Pluie OU Averses de pluie (1), Pluie modérée OU Averses de pluie modérée (2), Pluie forte OU Averses de pluie forte (3), Pluie verglaçante OU Averses de pluie verglaçante (4)\n",
    "  BRUINE: Bruine (1), bruine verglaçante (2)\n",
    "  ORAGES: Orages (1)\n",
    "  NEIGE: Neige OU Averses de neige OU Neige en grains (1), Neige modérée (2), Poudrerie élevée OU Averses de granules de glace ou de grésil OU Granules de glace ou grésil OU Grêle (3) \n",
    "  SOLEIL: Généralement dégagé (1), dégagé (2)\n",
    "  NUAGES: Généralement nuageux (1), nuageux (2)\n",
    "\"\"\"\n",
    "\n",
    "# NUAGES\n",
    "def fnuages(row):\n",
    "    if ('Généralement nuageux' in row['Temps']):\n",
    "        val = 1\n",
    "    elif ('Nuageux' in row['Temps']):\n",
    "        val = 2\n",
    "    else:\n",
    "        val = 0\n",
    "    return val\n",
    "\n",
    "# SOLEIL\n",
    "def fsoleil(row):\n",
    "    if ('Généralement dégagé' in row['Temps']):\n",
    "        val = 2\n",
    "    elif ('Dégagé' in row['Temps']):\n",
    "        val = 1\n",
    "    else:\n",
    "        val = 0\n",
    "    return val\n",
    "\n",
    "# ORAGES\n",
    "def forages(row):\n",
    "    if ('Orages' in row['Temps']) or ('Orage' in row['Temps']):\n",
    "        val = 1\n",
    "    else:\n",
    "        val = 0\n",
    "    return val\n",
    "\n",
    "# NEIGE\n",
    "def fneige(row):\n",
    "    if ('Poudrerie élevée' in row['Temps']) or ('Grêle' in row['Temps']) or ('Granules de glace ou grésil' in row['Temps']) or ('Averses de granules de glace ou de grésil' in row['Temps']):\n",
    "        val = 3\n",
    "    elif ('Neige modérée' in row['Temps']):\n",
    "        val = 2\n",
    "    elif ('Neige' in row['Temps']) or ('Averses de neige' in row['Temps']) or ('Neige en grains' in row['Temps']):\n",
    "        val = 1\n",
    "    else:\n",
    "        val = 0\n",
    "    return val\n",
    "\n",
    "# PLUIE\n",
    "def fpluie(row):\n",
    "    if ('Pluie verglaçante' in row['Temps']) or ('Averses de pluie verglaçante' in row['Temps']):\n",
    "        val = 4\n",
    "    elif ('Pluie forte' in row['Temps']) or ('Averses de pluie forte' in row['Temps']):\n",
    "        val = 3\n",
    "    elif ('Pluie modérée' in row['Temps']) or ('Averses de pluie modérées' in row['Temps']):\n",
    "        val = 2\n",
    "    elif ('Pluie' in row['Temps']) or ('Averses de pluie' in row['Temps']):\n",
    "        val = 1\n",
    "    else:\n",
    "        val = 0\n",
    "    return val\n",
    "\n",
    "# BROUILLARD\n",
    "def fbrouillard(row):\n",
    "  if ('Brouillard verglaçant' in row['Temps']):\n",
    "    val = 3\n",
    "  elif ('Brouillard' in row['Temps']) or ('Chasse-poussière élevée' in row['Temps']):\n",
    "    val = 2\n",
    "  elif ('Brume sèche' in row['Temps']) or ('Fumée' in row['Temps']):\n",
    "    val = 1\n",
    "  else:\n",
    "    val = 0\n",
    "  return val\n",
    "\n",
    "# BRUINE\n",
    "def fbruine(row):\n",
    "    if ('Bruine verglaçante' in row['Temps']):\n",
    "        val = 2\n",
    "    elif ('Bruine' in row['Temps']):\n",
    "        val = 1\n",
    "    else:\n",
    "        val = 0\n",
    "    return val\n",
    "\n",
    "# Applying all the functions\n",
    "for df in weather_dfs:\n",
    "    df['Pluie'] = df.apply(fpluie,axis=1)\n",
    "    df['Neige'] = df.apply(fneige,axis=1)\n",
    "    df['Orages'] = df.apply(forages,axis=1)\n",
    "    df['Bruine'] = df.apply(fbruine,axis=1)\n",
    "    df['Brouillard'] = df.apply(fbrouillard,axis=1)\n",
    "    df['Nuages'] = df.apply(fnuages,axis=1)\n",
    "    df['Soleil'] = df.apply(fsoleil,axis=1)\n",
    "\n",
    "\n"
   ]
  },
  {
   "cell_type": "code",
   "execution_count": 5,
   "metadata": {
    "id": "iZ_eCVElgl1t"
   },
   "outputs": [],
   "source": [
    "# We will merge all the dataframes together into one huge table to make the splitting/aggregating easier\n",
    "weather_df = pd.DataFrame()\n",
    "for df in weather_dfs:\n",
    "    weather_df = pd.concat([weather_df, df], ignore_index=True)"
   ]
  },
  {
   "cell_type": "code",
   "execution_count": 6,
   "metadata": {
    "id": "Ed_kW2b2wbiK"
   },
   "outputs": [],
   "source": [
    "# Some of the column which should contain floats or int contain strings. Let's fix!\n",
    "# NOTE: Only run this cell once! Else it will fail.\n",
    "\n",
    "# First we change commas to periods in numbers\n",
    "weather_df['Longitude (x)'] = (weather_df['Longitude (x)'].str.replace(',','.')).astype(float)\n",
    "weather_df['Latitude (y)'] = (weather_df['Latitude (y)'].str.replace(',','.')).astype(float)\n",
    "weather_df['Temp (°C)'] = (weather_df['Temp (°C)'].str.replace(',','.')).astype(float)\n",
    "weather_df['Point de rosée (°C)'] = (weather_df['Point de rosée (°C)'].str.replace(',','.')).astype(float)\n",
    "weather_df['Hauteur de précip. (mm)'] = (weather_df['Hauteur de précip. (mm)'].str.replace(',','.')).astype(float)\n",
    "weather_df['Visibilité (km)'] = (weather_df['Visibilité (km)'].str.replace(',','.')).astype(float)\n",
    "weather_df['Pression à la station (kPa)'] = (weather_df['Pression à la station (kPa)'].str.replace(',','.')).astype(float)\n",
    "\n",
    "# I'll also change the station IDs so it's easier to use later\n",
    "weather_df['ID climatologique'].mask(weather_df['ID climatologique'] == 7024745, 1, inplace=True)\n",
    "weather_df['ID climatologique'].mask(weather_df['ID climatologique'] == 7027329, 2, inplace=True)\n",
    "weather_df['ID climatologique'].mask(weather_df['ID climatologique'] == 7025251, 3, inplace=True)\n",
    "weather_df['stationID'] = weather_df['ID climatologique']\n",
    "\n",
    "# Finally, we can drop the fields which we have transformed earlier\n",
    "weather_df = weather_df.drop(['Temps','ID climatologique', 'Nom de la Station'], axis=1)"
   ]
  },
  {
   "cell_type": "markdown",
   "metadata": {
    "id": "WieWGKbRed7q"
   },
   "source": [
    "### 1.2.3. Relevant functions"
   ]
  },
  {
   "cell_type": "code",
   "execution_count": 7,
   "metadata": {
    "id": "NAXYB1vDjQB8"
   },
   "outputs": [],
   "source": [
    "# Here are some functions that will be useful later (for weighted averages)\n",
    "\n",
    "# Distance (HAVERSINE)\n",
    "def distance(lon1,lat1,lon2,lat2):\n",
    "    R = 6367.5\n",
    "    dlon = np.abs(np.radians(lon2) - np.radians(lon1)) \n",
    "    dlat = np.abs(np.radians(lat2) - np.radians(lat1)) \n",
    "    a = np.sin(dlat/ 2)**2 + np.cos(np.radians(lat2)) * np.cos(np.radians(lat1)) * np.sin(dlon / 2)**2\n",
    "    L = R * 2 * np.arctan2(np.sqrt(a), np.sqrt(1 - a))\n",
    "    return L\n",
    "\n",
    "# Weigthed Average\n",
    "def weighted(x, cols, w=\"Distance\"):\n",
    "    return pd.Series(np.average(x[cols], weights=x[w], axis=0), cols)"
   ]
  },
  {
   "cell_type": "code",
   "execution_count": 8,
   "metadata": {
    "id": "kRvOVdC17LaD"
   },
   "outputs": [],
   "source": [
    "# Let's write a function that allows to create a new df according to the specifications that we want!\n",
    "# First we can choose what data to keep (Which year, month, day)\n",
    "# Second we choose how to aggregate the data!\n",
    "\n",
    "def create_weather_df(years=[weather_df.Année.min(),weather_df.Année.max()]\\\n",
    "                      , months=[weather_df.Mois.min(),weather_df.Mois.max()]\\\n",
    "                      , days=[weather_df.Jour.min(),weather_df.Jour.max()]\\\n",
    "                      , hours=[weather_df['Heure (HNL)'].min(),weather_df['Heure (HNL)'].max()]\\\n",
    "                      , aggType = 1 # 1 = hourly ; 2 = daily ; 3 = monthly\n",
    "                      , geo = list()): # We can insert [Lon, Lat] \n",
    "  \n",
    "  # Filtre temporel\n",
    "    rdf = weather_df[(weather_df['Année'] >= years[0]) & (weather_df['Année'] <= years[1])]\n",
    "    rdf = rdf[(rdf['Mois'] >= months[0]) & (rdf['Mois'] <= months[1])]\n",
    "    rdf = rdf[(rdf['Jour'] >= days[0]) & (rdf['Jour'] <= days[1])]\n",
    "    rdf = rdf[(rdf['Heure (HNL)'] >= hours[0]) & (rdf['Heure (HNL)'] <= hours[1])]\n",
    "\n",
    "  # Creating a date ID (will vary based on type of aggregation)\n",
    "    rdf.Année = rdf.Année.astype(str)\n",
    "    rdf.Mois = rdf.Mois.astype(str)\n",
    "    rdf.Jour = rdf.Jour.astype(str)\n",
    "    rdf['Heure (HNL)'] = rdf['Heure (HNL)'].astype(str)\n",
    "    rdf.loc[rdf['Mois'].str.len() == 1, 'Mois'] = '0' + rdf['Mois']\n",
    "    rdf.loc[rdf['Jour'].str.len() == 1, 'Jour'] = '0' + rdf['Jour']\n",
    "    rdf.loc[rdf['Heure (HNL)'].str.len() == 1, 'Heure (HNL)'] = '0' + rdf['Heure (HNL)']\n",
    "    rdf['dateIDh'] = (rdf.Année + rdf.Mois + rdf.Jour + rdf['Heure (HNL)']).astype(int)\n",
    "    rdf['dateIDd'] = (rdf.Année + rdf.Mois + rdf.Jour).astype(int)\n",
    "    rdf['dateIDm'] = (rdf.Année + rdf.Mois).astype(int)\n",
    "\n",
    "  \n",
    "    if not geo: # Average across all three stations\n",
    "    # Aggregate hourly data by default\n",
    "        rdf = rdf.groupby('dateIDh').agg(Temp=(\"Temp (°C)\", \"mean\"),\n",
    "                                      DewPoint=(\"Point de rosée (°C)\", \"mean\"),\n",
    "                                      HumRel=(\"Hum. rel (%)\", \"mean\"),\n",
    "                                      PrecipitationHgt=(\"Hauteur de précip. (mm)\", \"mean\"),\n",
    "                                      WindDir=(\"Dir. du vent (10s deg)\", \"mean\"),\n",
    "                                      WindSpd=(\"Vit. du vent (km/h)\", \"mean\"),\n",
    "                                      Vis=(\"Visibilité (km)\", \"mean\"),\n",
    "                                      Pkpa=(\"Pression à la station (kPa)\", \"mean\"),\n",
    "                                      Hmdx=(\"Hmdx\", \"mean\"),\n",
    "                                      WindChill=(\"Refroid. éolien\", \"mean\"),\n",
    "                                      Rain=(\"Pluie\", \"max\"),\n",
    "                                      Snow=(\"Neige\", \"max\"),\n",
    "                                      Thunderstorm=(\"Orages\", \"max\"),\n",
    "                                      Drizzle=(\"Bruine\", \"max\"),\n",
    "                                      Fog=(\"Brouillard\", \"max\"),\n",
    "                                      Cloudy=(\"Nuages\", \"max\"),\n",
    "                                      Sunny=(\"Soleil\", \"max\"),\n",
    "                                      dateIDd=(\"dateIDd\",\"mean\"),\n",
    "                                      dateIDm=(\"dateIDm\",\"mean\"),\n",
    "                                      )\n",
    "    \n",
    "\n",
    "    else: # When geo option is ACTIVE\n",
    "        # Ajouter une colonne de distance\n",
    "        rdf['Distance'] = rdf.apply(lambda x: distance(x['Longitude (x)'], x['Latitude (y)'], geo[0], geo[1]), axis=1)\n",
    "        # Date IDs\n",
    "        rdf_date = rdf.groupby('dateIDh').agg(dateIDd=(\"dateIDd\",\"mean\"), dateIDm=(\"dateIDm\",\"mean\"))  \n",
    "        # Hourly aggregation, weighted by distance (for continuous variables) # NOTE !!!! PRECIPITATION HEIGHT AND VIS NOT WORKING I THINK\n",
    "        rdf_grouped = rdf.groupby('dateIDh')\n",
    "        rdf_weighted = rdf_grouped.apply(weighted,[\"Temp (°C)\",\n",
    "                                       \"Point de rosée (°C)\",\n",
    "                                       \"Hum. rel (%)\",\n",
    "                                       \"Dir. du vent (10s deg)\",\n",
    "                                       \"Vit. du vent (km/h)\",\n",
    "                                       \"Pression à la station (kPa)\",\n",
    "                                       \"Hmdx\",\n",
    "                                       \"Refroid. éolien\"])\n",
    "        # We have to do it separately for the precipitation height and visibility because station 3 has all NAN fro Precipitation, and station 1 has all NAN for Visibility\n",
    "        # NOTE: This is not the most elegant as it's somehow hardcoded. It means the function will fail if we get new weather stations.\n",
    "        # Precipitation\n",
    "        rdf_precip = rdf.loc[rdf['stationID'].isin([1,2])]\n",
    "        rdf_grouped2 = rdf_precip.groupby('dateIDh')\n",
    "        rdf_weighted2 = rdf_grouped2.apply(weighted,[\"Hauteur de précip. (mm)\"])\n",
    "        rdf_weighted2.rename(columns={'Hauteur de précip. (mm)':'PrecipitationHgt'}, inplace=True)\n",
    "        # Visibility\n",
    "        rdf_vis = rdf.loc[rdf['stationID'].isin([2,3])]\n",
    "        rdf_grouped3 = rdf_vis.groupby('dateIDh')\n",
    "        rdf_weighted3 = rdf_grouped3.apply(weighted,[\"Visibilité (km)\"])\n",
    "        rdf_weighted3.rename(columns={'Visibilité (km)':'Vis'}, inplace=True)\n",
    "        # We rename the columns of the original big batch weighted averages\n",
    "        rdf_weighted.rename(columns={'Temp (°C)':'Temp',\n",
    "                                 'Point de rosée (°C)':'DewPoint',\n",
    "                                 'Hum. rel (%)':'HumRel',\n",
    "                                 'Dir. du vent (10s deg)':'WindDir',\n",
    "                                 'Vit. du vent (km/h)':'WindSpd',\n",
    "                                 'Pression à la station (kPa)':'Pkpa',\n",
    "                                 'Refroid. éolien':'WindChill'}, inplace=True)\n",
    "    \n",
    "        # For the categorical variables, we take the value closest to the location\n",
    "        rdf_min = rdf.loc[rdf['stationID'].isin([2,3])] # Pas de données texte pour la station 1!\n",
    "        rdf_min = rdf_min.loc[rdf['Distance'] == rdf_min['Distance'].min()]\n",
    "        rdf_min = rdf_min.set_index('dateIDh')\n",
    "        rdf_min = rdf_min[['Pluie','Neige','Orages','Brouillard']]\n",
    "        # Annnnnd rename again:\n",
    "        rdf_min = rdf_min.rename(columns={'Pluie':'Rain',\n",
    "                                     'Neige':'Snow',\n",
    "                                     'Orages':'Thunderstorm',\n",
    "                                     'Brouillard':'Fog'\n",
    "                                      })\n",
    "    \n",
    "        # Finally we add the column about cloud cover and drizzle, which are only available at one station\n",
    "        rdf_sun = rdf.groupby('dateIDh').agg(Drizzle=(\"Bruine\",\"max\"), Cloudy=(\"Nuages\",\"max\"), Sunny=(\"Soleil\",\"max\")) \n",
    "\n",
    "        # We concatenate all the pandas together. The resulting df has the same format has the 'non-geo' one so we can pass it to agg=2 or agg=3 easily\n",
    "        rdf = pd.concat([rdf_date,rdf_weighted,rdf_weighted2,rdf_weighted3,rdf_min,rdf_sun], axis=1)\n",
    "    \n",
    "      \n",
    "    if aggType == 2 or aggType == 3:\n",
    "        # Compute daily data\n",
    "        rdf.loc[rdf[\"PrecipitationHgt\"] > 0, 'RainToday'] = 1\n",
    "        rdf.loc[rdf[\"PrecipitationHgt\"] == 0, 'RainToday'] = 0\n",
    "        rdf = rdf.groupby('dateIDd').agg(avgTemp=(\"Temp\", \"mean\"),\n",
    "                                      maxTemp=(\"Temp\", \"max\"),\n",
    "                                      minTemp=(\"Temp\", \"min\"),\n",
    "                                      avgDewPoint=(\"DewPoint\", \"mean\"),\n",
    "                                      avgHumRel=(\"HumRel\", \"mean\"),\n",
    "                                      maxHumRel=(\"HumRel\", \"max\"),\n",
    "                                      minHumRel=(\"HumRel\", \"min\"),\n",
    "                                      sumPrecipitationHgt=(\"PrecipitationHgt\", \"sum\"),\n",
    "                                      timePrecipitation=(\"RainToday\", \"mean\"),\n",
    "                                      precipitationToday=(\"RainToday\", \"max\"),\n",
    "                                      avgWindDir=(\"WindDir\", \"mean\"),\n",
    "                                      avgWindSpd=(\"WindSpd\", \"mean\"),\n",
    "                                      maxWindSpd=(\"WindSpd\", \"max\"),\n",
    "                                      avgVis=(\"Vis\", \"mean\"),\n",
    "                                      avgPkpa=(\"Pkpa\", \"mean\"),\n",
    "                                      avgHmdx=(\"Hmdx\", \"mean\"),\n",
    "                                      avgWindChill=(\"WindChill\", \"mean\"),\n",
    "                                      maxWindChill=(\"WindChill\", \"max\"),\n",
    "                                      minWindChill=(\"WindChill\", \"min\"),\n",
    "                                      Rain=(\"Rain\", \"max\"), # Qualifie l'intensité maximale des précipitations dans la journée\n",
    "                                      Snow=(\"Snow\", \"max\"),\n",
    "                                      Thunderstorm=(\"Thunderstorm\", \"max\"),\n",
    "                                      Drizzle=(\"Drizzle\", \"mean\"),\n",
    "                                      Fog=(\"Fog\", \"mean\"),\n",
    "                                      percentCloudy=(\"Cloudy\", \"mean\"),\n",
    "                                      percentSunny=(\"Sunny\", \"mean\"),\n",
    "                                      dateIDm=(\"dateIDm\",\"mean\")\n",
    "                                      )\n",
    "      \n",
    "        if aggType == 3:\n",
    "        # Dans un mois les max-min ne sont plus très utiles!\n",
    "            rdf = rdf.groupby('dateIDm').agg(avgTemp=(\"avgTemp\", \"mean\"),\n",
    "                                         avgHigh=(\"maxTemp\", \"mean\"),\n",
    "                                         avgLow=(\"minTemp\", \"mean\"),\n",
    "                                         avgHumRel=(\"avgHumRel\", \"mean\"),\n",
    "                                         sumPrecipitationHgt=(\"sumPrecipitationHgt\", \"sum\"),\n",
    "                                         avgDailyPrecipitation=(\"timePrecipitation\", \"mean\"),\n",
    "                                         daysRain=(\"precipitationToday\", \"sum\"), \n",
    "                                         avgWindSpd=(\"avgWindSpd\", \"mean\"),\n",
    "                                         avgWindChill=(\"avgWindChill\", \"mean\"),\n",
    "                                         avgHighWindchill=(\"maxWindChill\",\"mean\"),\n",
    "                                         avgLowWindchill=(\"minWindChill\",\"mean\"),\n",
    "                                         percentCloudy=(\"percentCloudy\", \"mean\"),\n",
    "                                         percentSunny=(\"percentSunny\", \"mean\")\n",
    "                                         )\n",
    "\n",
    "    return rdf"
   ]
  },
  {
   "cell_type": "markdown",
   "metadata": {
    "id": "hImiDcmZeiA5"
   },
   "source": [
    "### 1.2.4. Create useful weather pandas"
   ]
  },
  {
   "cell_type": "code",
   "execution_count": 13,
   "metadata": {
    "colab": {
     "base_uri": "https://localhost:8080/",
     "height": 541
    },
    "id": "1MRWdDhvsVLV",
    "outputId": "612d3ddf-1932-443d-9c35-ec07657b189c"
   },
   "outputs": [
    {
     "data": {
      "text/html": [
       "<div>\n",
       "<style scoped>\n",
       "    .dataframe tbody tr th:only-of-type {\n",
       "        vertical-align: middle;\n",
       "    }\n",
       "\n",
       "    .dataframe tbody tr th {\n",
       "        vertical-align: top;\n",
       "    }\n",
       "\n",
       "    .dataframe thead th {\n",
       "        text-align: right;\n",
       "    }\n",
       "</style>\n",
       "<table border=\"1\" class=\"dataframe\">\n",
       "  <thead>\n",
       "    <tr style=\"text-align: right;\">\n",
       "      <th></th>\n",
       "      <th>avgTemp</th>\n",
       "      <th>avgHigh</th>\n",
       "      <th>avgLow</th>\n",
       "      <th>avgHumRel</th>\n",
       "      <th>sumPrecipitationHgt</th>\n",
       "      <th>avgDailyPrecipitation</th>\n",
       "      <th>daysRain</th>\n",
       "      <th>avgWindSpd</th>\n",
       "      <th>avgWindChill</th>\n",
       "      <th>avgHighWindchill</th>\n",
       "      <th>avgLowWindchill</th>\n",
       "      <th>percentCloudy</th>\n",
       "      <th>percentSunny</th>\n",
       "    </tr>\n",
       "    <tr>\n",
       "      <th>dateIDm</th>\n",
       "      <th></th>\n",
       "      <th></th>\n",
       "      <th></th>\n",
       "      <th></th>\n",
       "      <th></th>\n",
       "      <th></th>\n",
       "      <th></th>\n",
       "      <th></th>\n",
       "      <th></th>\n",
       "      <th></th>\n",
       "      <th></th>\n",
       "      <th></th>\n",
       "      <th></th>\n",
       "    </tr>\n",
       "  </thead>\n",
       "  <tbody>\n",
       "    <tr>\n",
       "      <th>201807</th>\n",
       "      <td>23.655741</td>\n",
       "      <td>28.673333</td>\n",
       "      <td>17.995556</td>\n",
       "      <td>54.248148</td>\n",
       "      <td>25.80</td>\n",
       "      <td>0.041667</td>\n",
       "      <td>4.0</td>\n",
       "      <td>11.308333</td>\n",
       "      <td>NaN</td>\n",
       "      <td>NaN</td>\n",
       "      <td>NaN</td>\n",
       "      <td>0.166667</td>\n",
       "      <td>0.280556</td>\n",
       "    </tr>\n",
       "    <tr>\n",
       "      <th>201808</th>\n",
       "      <td>22.345648</td>\n",
       "      <td>26.575556</td>\n",
       "      <td>17.922222</td>\n",
       "      <td>69.792593</td>\n",
       "      <td>18.50</td>\n",
       "      <td>0.086111</td>\n",
       "      <td>9.0</td>\n",
       "      <td>9.856481</td>\n",
       "      <td>NaN</td>\n",
       "      <td>NaN</td>\n",
       "      <td>NaN</td>\n",
       "      <td>0.233333</td>\n",
       "      <td>0.233333</td>\n",
       "    </tr>\n",
       "    <tr>\n",
       "      <th>201809</th>\n",
       "      <td>17.477222</td>\n",
       "      <td>22.111111</td>\n",
       "      <td>12.864444</td>\n",
       "      <td>73.441667</td>\n",
       "      <td>57.20</td>\n",
       "      <td>0.069444</td>\n",
       "      <td>6.0</td>\n",
       "      <td>10.213889</td>\n",
       "      <td>NaN</td>\n",
       "      <td>NaN</td>\n",
       "      <td>NaN</td>\n",
       "      <td>0.188889</td>\n",
       "      <td>0.250000</td>\n",
       "    </tr>\n",
       "    <tr>\n",
       "      <th>201810</th>\n",
       "      <td>8.167130</td>\n",
       "      <td>11.497778</td>\n",
       "      <td>4.402222</td>\n",
       "      <td>69.633796</td>\n",
       "      <td>46.65</td>\n",
       "      <td>0.100000</td>\n",
       "      <td>9.0</td>\n",
       "      <td>15.274537</td>\n",
       "      <td>-3.888889</td>\n",
       "      <td>-2.666667</td>\n",
       "      <td>-5.000000</td>\n",
       "      <td>0.308333</td>\n",
       "      <td>0.130556</td>\n",
       "    </tr>\n",
       "    <tr>\n",
       "      <th>201811</th>\n",
       "      <td>-1.118229</td>\n",
       "      <td>1.291667</td>\n",
       "      <td>-4.279167</td>\n",
       "      <td>68.427083</td>\n",
       "      <td>27.00</td>\n",
       "      <td>0.130208</td>\n",
       "      <td>3.0</td>\n",
       "      <td>14.513889</td>\n",
       "      <td>-7.762584</td>\n",
       "      <td>-5.595238</td>\n",
       "      <td>-10.571429</td>\n",
       "      <td>0.260417</td>\n",
       "      <td>0.156250</td>\n",
       "    </tr>\n",
       "  </tbody>\n",
       "</table>\n",
       "</div>"
      ],
      "text/plain": [
       "           avgTemp    avgHigh     avgLow  avgHumRel  sumPrecipitationHgt  \\\n",
       "dateIDm                                                                    \n",
       "201807   23.655741  28.673333  17.995556  54.248148                25.80   \n",
       "201808   22.345648  26.575556  17.922222  69.792593                18.50   \n",
       "201809   17.477222  22.111111  12.864444  73.441667                57.20   \n",
       "201810    8.167130  11.497778   4.402222  69.633796                46.65   \n",
       "201811   -1.118229   1.291667  -4.279167  68.427083                27.00   \n",
       "\n",
       "         avgDailyPrecipitation  daysRain  avgWindSpd  avgWindChill  \\\n",
       "dateIDm                                                              \n",
       "201807                0.041667       4.0   11.308333           NaN   \n",
       "201808                0.086111       9.0    9.856481           NaN   \n",
       "201809                0.069444       6.0   10.213889           NaN   \n",
       "201810                0.100000       9.0   15.274537     -3.888889   \n",
       "201811                0.130208       3.0   14.513889     -7.762584   \n",
       "\n",
       "         avgHighWindchill  avgLowWindchill  percentCloudy  percentSunny  \n",
       "dateIDm                                                                  \n",
       "201807                NaN              NaN       0.166667      0.280556  \n",
       "201808                NaN              NaN       0.233333      0.233333  \n",
       "201809                NaN              NaN       0.188889      0.250000  \n",
       "201810          -2.666667        -5.000000       0.308333      0.130556  \n",
       "201811          -5.595238       -10.571429       0.260417      0.156250  "
      ]
     },
     "execution_count": 13,
     "metadata": {},
     "output_type": "execute_result"
    }
   ],
   "source": [
    "# You can then call the dataframe that you want with the \"create_weater_df\"\n",
    "#  ****** But, adventurer, watch out: it takes much more time to generate the dataframe you want when you call the function with the GEO option. Choose wisely.\n",
    "df = create_weather_df(years=[2018,2020], months=[7,11], days=[8,22], aggType=3) \n",
    "df.head()"
   ]
  },
  {
   "cell_type": "code",
   "execution_count": 10,
   "metadata": {},
   "outputs": [],
   "source": [
    "# Weather data is compiled hourly (without location)\n",
    "weather_hourly = create_weather_df(aggType=1)\n",
    "weather_hourly.to_csv('weather_hourly.csv') "
   ]
  },
  {
   "cell_type": "code",
   "execution_count": 11,
   "metadata": {},
   "outputs": [],
   "source": [
    "# Weather data is compiled daily (without location)\n",
    "weather_daily = create_weather_df(aggType=2)\n",
    "weather_daily.to_csv('weather_daily.csv') "
   ]
  },
  {
   "cell_type": "code",
   "execution_count": 12,
   "metadata": {},
   "outputs": [],
   "source": [
    "# Weather data is compiled monthly (without location)\n",
    "weather_monthly = create_weather_df(aggType=3)\n",
    "weather_monthly.to_csv('weather_monthly.csv') "
   ]
  },
  {
   "cell_type": "markdown",
   "metadata": {
    "id": "tDNHFKLHv0SG"
   },
   "source": [
    "## 1.2. BIXI Data"
   ]
  },
  {
   "cell_type": "markdown",
   "metadata": {
    "id": "5KR8TeJGBXty"
   },
   "source": [
    " ### 1.2.1. Importing BIXI trip data"
   ]
  },
  {
   "cell_type": "code",
   "execution_count": 3,
   "metadata": {
    "id": "KMp-DKCsR27r"
   },
   "outputs": [],
   "source": [
    "# The data has been pre-processed offline, and then separated into 40 dataframes (10 per year from 2017 to 2020). \n",
    "#The exact steps are available,annexed at the end of the collab.\n",
    "\n",
    "bixi_rides_urls = list()\n",
    "for y in [2017, 2018, 2019, 2020]:  \n",
    "    for m in range(1,10):\n",
    "        year = str(y)\n",
    "        dfnumber = str(m)\n",
    "        url = 'https://raw.githubusercontent.com/gbincoletto/MATH80629A/main/Final%20Bixi%20Data/bixi_' + year + '_' + dfnumber + '.csv'\n",
    "        bixi_rides_urls.append(url)\n",
    "\n"
   ]
  },
  {
   "cell_type": "code",
   "execution_count": 4,
   "metadata": {
    "id": "b6AYFB5yh8fg"
   },
   "outputs": [],
   "source": [
    "# We can now turn the raw data located at these URLs into DFs **LONG RUNTIME ALERT**\n",
    "\n",
    "bixi_rides_dfs = list()\n",
    "for file in bixi_rides_urls:\n",
    "    bixi_rides_dfs.append(pd.read_csv(file))\n",
    "    \n",
    "# Then we can concatenate the 40 dataframes into one central dataset.\n",
    "\n",
    "bixi_master_data = pd.concat(bixi_rides_dfs)\n"
   ]
  },
  {
   "cell_type": "code",
   "execution_count": 17,
   "metadata": {
    "colab": {
     "base_uri": "https://localhost:8080/",
     "height": 309
    },
    "id": "fALrRUT7SSKT",
    "outputId": "9c051f0e-0b33-483f-e16c-10d25c36c6bb"
   },
   "outputs": [
    {
     "data": {
      "text/html": [
       "<div>\n",
       "<style scoped>\n",
       "    .dataframe tbody tr th:only-of-type {\n",
       "        vertical-align: middle;\n",
       "    }\n",
       "\n",
       "    .dataframe tbody tr th {\n",
       "        vertical-align: top;\n",
       "    }\n",
       "\n",
       "    .dataframe thead th {\n",
       "        text-align: right;\n",
       "    }\n",
       "</style>\n",
       "<table border=\"1\" class=\"dataframe\">\n",
       "  <thead>\n",
       "    <tr style=\"text-align: right;\">\n",
       "      <th></th>\n",
       "      <th>start_date</th>\n",
       "      <th>start_station_code</th>\n",
       "      <th>end_date</th>\n",
       "      <th>end_station_code</th>\n",
       "      <th>duration_sec</th>\n",
       "      <th>is_member</th>\n",
       "      <th>Start_Station_Key_ID</th>\n",
       "      <th>End_Station_Key_ID</th>\n",
       "      <th>start_longitude</th>\n",
       "      <th>start_latitude</th>\n",
       "      <th>end_longitude</th>\n",
       "      <th>end_latitude</th>\n",
       "    </tr>\n",
       "  </thead>\n",
       "  <tbody>\n",
       "    <tr>\n",
       "      <th>0</th>\n",
       "      <td>2017-04-15 00:00</td>\n",
       "      <td>7060</td>\n",
       "      <td>2017-04-15 00:31</td>\n",
       "      <td>7060</td>\n",
       "      <td>1841</td>\n",
       "      <td>1</td>\n",
       "      <td>20177060</td>\n",
       "      <td>20177060</td>\n",
       "      <td>-73.571569</td>\n",
       "      <td>45.463001</td>\n",
       "      <td>-73.571569</td>\n",
       "      <td>45.463001</td>\n",
       "    </tr>\n",
       "    <tr>\n",
       "      <th>1</th>\n",
       "      <td>2017-04-17 15:33</td>\n",
       "      <td>7060</td>\n",
       "      <td>2017-04-17 15:36</td>\n",
       "      <td>7060</td>\n",
       "      <td>211</td>\n",
       "      <td>1</td>\n",
       "      <td>20177060</td>\n",
       "      <td>20177060</td>\n",
       "      <td>-73.571569</td>\n",
       "      <td>45.463001</td>\n",
       "      <td>-73.571569</td>\n",
       "      <td>45.463001</td>\n",
       "    </tr>\n",
       "    <tr>\n",
       "      <th>2</th>\n",
       "      <td>2017-04-21 18:55</td>\n",
       "      <td>7060</td>\n",
       "      <td>2017-04-21 19:26</td>\n",
       "      <td>7060</td>\n",
       "      <td>1851</td>\n",
       "      <td>1</td>\n",
       "      <td>20177060</td>\n",
       "      <td>20177060</td>\n",
       "      <td>-73.571569</td>\n",
       "      <td>45.463001</td>\n",
       "      <td>-73.571569</td>\n",
       "      <td>45.463001</td>\n",
       "    </tr>\n",
       "    <tr>\n",
       "      <th>3</th>\n",
       "      <td>2017-04-21 18:55</td>\n",
       "      <td>7060</td>\n",
       "      <td>2017-04-21 19:26</td>\n",
       "      <td>7060</td>\n",
       "      <td>1846</td>\n",
       "      <td>1</td>\n",
       "      <td>20177060</td>\n",
       "      <td>20177060</td>\n",
       "      <td>-73.571569</td>\n",
       "      <td>45.463001</td>\n",
       "      <td>-73.571569</td>\n",
       "      <td>45.463001</td>\n",
       "    </tr>\n",
       "    <tr>\n",
       "      <th>4</th>\n",
       "      <td>2017-05-12 15:46</td>\n",
       "      <td>7060</td>\n",
       "      <td>2017-05-12 17:16</td>\n",
       "      <td>7060</td>\n",
       "      <td>5396</td>\n",
       "      <td>0</td>\n",
       "      <td>20177060</td>\n",
       "      <td>20177060</td>\n",
       "      <td>-73.571569</td>\n",
       "      <td>45.463001</td>\n",
       "      <td>-73.571569</td>\n",
       "      <td>45.463001</td>\n",
       "    </tr>\n",
       "  </tbody>\n",
       "</table>\n",
       "</div>"
      ],
      "text/plain": [
       "         start_date  start_station_code          end_date  end_station_code  \\\n",
       "0  2017-04-15 00:00                7060  2017-04-15 00:31              7060   \n",
       "1  2017-04-17 15:33                7060  2017-04-17 15:36              7060   \n",
       "2  2017-04-21 18:55                7060  2017-04-21 19:26              7060   \n",
       "3  2017-04-21 18:55                7060  2017-04-21 19:26              7060   \n",
       "4  2017-05-12 15:46                7060  2017-05-12 17:16              7060   \n",
       "\n",
       "   duration_sec  is_member  Start_Station_Key_ID  End_Station_Key_ID  \\\n",
       "0          1841          1              20177060            20177060   \n",
       "1           211          1              20177060            20177060   \n",
       "2          1851          1              20177060            20177060   \n",
       "3          1846          1              20177060            20177060   \n",
       "4          5396          0              20177060            20177060   \n",
       "\n",
       "   start_longitude  start_latitude  end_longitude  end_latitude  \n",
       "0       -73.571569       45.463001     -73.571569     45.463001  \n",
       "1       -73.571569       45.463001     -73.571569     45.463001  \n",
       "2       -73.571569       45.463001     -73.571569     45.463001  \n",
       "3       -73.571569       45.463001     -73.571569     45.463001  \n",
       "4       -73.571569       45.463001     -73.571569     45.463001  "
      ]
     },
     "execution_count": 17,
     "metadata": {},
     "output_type": "execute_result"
    }
   ],
   "source": [
    "bixi_master_data.head()"
   ]
  },
  {
   "cell_type": "code",
   "execution_count": 5,
   "metadata": {
    "id": "0sgsJHwL7Y4q"
   },
   "outputs": [
    {
     "data": {
      "text/html": [
       "<div>\n",
       "<style scoped>\n",
       "    .dataframe tbody tr th:only-of-type {\n",
       "        vertical-align: middle;\n",
       "    }\n",
       "\n",
       "    .dataframe tbody tr th {\n",
       "        vertical-align: top;\n",
       "    }\n",
       "\n",
       "    .dataframe thead th {\n",
       "        text-align: right;\n",
       "    }\n",
       "</style>\n",
       "<table border=\"1\" class=\"dataframe\">\n",
       "  <thead>\n",
       "    <tr style=\"text-align: right;\">\n",
       "      <th></th>\n",
       "      <th>start_date</th>\n",
       "      <th>start_station_code</th>\n",
       "      <th>end_date</th>\n",
       "      <th>end_station_code</th>\n",
       "      <th>duration_sec</th>\n",
       "      <th>is_member</th>\n",
       "      <th>Start_Station_Key_ID</th>\n",
       "      <th>End_Station_Key_ID</th>\n",
       "      <th>start_longitude</th>\n",
       "      <th>start_latitude</th>\n",
       "      <th>end_longitude</th>\n",
       "      <th>end_latitude</th>\n",
       "    </tr>\n",
       "  </thead>\n",
       "  <tbody>\n",
       "    <tr>\n",
       "      <th>0</th>\n",
       "      <td>2017-04-15 00:00</td>\n",
       "      <td>7060</td>\n",
       "      <td>2017-04-15 00:31</td>\n",
       "      <td>7060</td>\n",
       "      <td>1841</td>\n",
       "      <td>1</td>\n",
       "      <td>20177060</td>\n",
       "      <td>20177060</td>\n",
       "      <td>-73.571569</td>\n",
       "      <td>45.463001</td>\n",
       "      <td>-73.571569</td>\n",
       "      <td>45.463001</td>\n",
       "    </tr>\n",
       "    <tr>\n",
       "      <th>1</th>\n",
       "      <td>2017-04-17 15:33</td>\n",
       "      <td>7060</td>\n",
       "      <td>2017-04-17 15:36</td>\n",
       "      <td>7060</td>\n",
       "      <td>211</td>\n",
       "      <td>1</td>\n",
       "      <td>20177060</td>\n",
       "      <td>20177060</td>\n",
       "      <td>-73.571569</td>\n",
       "      <td>45.463001</td>\n",
       "      <td>-73.571569</td>\n",
       "      <td>45.463001</td>\n",
       "    </tr>\n",
       "    <tr>\n",
       "      <th>2</th>\n",
       "      <td>2017-04-21 18:55</td>\n",
       "      <td>7060</td>\n",
       "      <td>2017-04-21 19:26</td>\n",
       "      <td>7060</td>\n",
       "      <td>1851</td>\n",
       "      <td>1</td>\n",
       "      <td>20177060</td>\n",
       "      <td>20177060</td>\n",
       "      <td>-73.571569</td>\n",
       "      <td>45.463001</td>\n",
       "      <td>-73.571569</td>\n",
       "      <td>45.463001</td>\n",
       "    </tr>\n",
       "    <tr>\n",
       "      <th>3</th>\n",
       "      <td>2017-04-21 18:55</td>\n",
       "      <td>7060</td>\n",
       "      <td>2017-04-21 19:26</td>\n",
       "      <td>7060</td>\n",
       "      <td>1846</td>\n",
       "      <td>1</td>\n",
       "      <td>20177060</td>\n",
       "      <td>20177060</td>\n",
       "      <td>-73.571569</td>\n",
       "      <td>45.463001</td>\n",
       "      <td>-73.571569</td>\n",
       "      <td>45.463001</td>\n",
       "    </tr>\n",
       "    <tr>\n",
       "      <th>4</th>\n",
       "      <td>2017-05-12 15:46</td>\n",
       "      <td>7060</td>\n",
       "      <td>2017-05-12 17:16</td>\n",
       "      <td>7060</td>\n",
       "      <td>5396</td>\n",
       "      <td>0</td>\n",
       "      <td>20177060</td>\n",
       "      <td>20177060</td>\n",
       "      <td>-73.571569</td>\n",
       "      <td>45.463001</td>\n",
       "      <td>-73.571569</td>\n",
       "      <td>45.463001</td>\n",
       "    </tr>\n",
       "    <tr>\n",
       "      <th>...</th>\n",
       "      <td>...</td>\n",
       "      <td>...</td>\n",
       "      <td>...</td>\n",
       "      <td>...</td>\n",
       "      <td>...</td>\n",
       "      <td>...</td>\n",
       "      <td>...</td>\n",
       "      <td>...</td>\n",
       "      <td>...</td>\n",
       "      <td>...</td>\n",
       "      <td>...</td>\n",
       "      <td>...</td>\n",
       "    </tr>\n",
       "    <tr>\n",
       "      <th>49995</th>\n",
       "      <td>2020-09-29 18:02:15</td>\n",
       "      <td>6410</td>\n",
       "      <td>2020-09-29 18:10:35</td>\n",
       "      <td>7148</td>\n",
       "      <td>499</td>\n",
       "      <td>1</td>\n",
       "      <td>20206410</td>\n",
       "      <td>20207148</td>\n",
       "      <td>-73.638428</td>\n",
       "      <td>45.546408</td>\n",
       "      <td>-73.633568</td>\n",
       "      <td>45.559884</td>\n",
       "    </tr>\n",
       "    <tr>\n",
       "      <th>49996</th>\n",
       "      <td>2020-09-30 18:03:10</td>\n",
       "      <td>6410</td>\n",
       "      <td>2020-09-30 18:10:40</td>\n",
       "      <td>7148</td>\n",
       "      <td>450</td>\n",
       "      <td>1</td>\n",
       "      <td>20206410</td>\n",
       "      <td>20207148</td>\n",
       "      <td>-73.638428</td>\n",
       "      <td>45.546408</td>\n",
       "      <td>-73.633568</td>\n",
       "      <td>45.559884</td>\n",
       "    </tr>\n",
       "    <tr>\n",
       "      <th>49997</th>\n",
       "      <td>2020-10-01 14:43:03</td>\n",
       "      <td>6410</td>\n",
       "      <td>2020-10-01 14:49:43</td>\n",
       "      <td>7148</td>\n",
       "      <td>399</td>\n",
       "      <td>1</td>\n",
       "      <td>20206410</td>\n",
       "      <td>20207148</td>\n",
       "      <td>-73.638428</td>\n",
       "      <td>45.546408</td>\n",
       "      <td>-73.633568</td>\n",
       "      <td>45.559884</td>\n",
       "    </tr>\n",
       "    <tr>\n",
       "      <th>49998</th>\n",
       "      <td>2020-10-01 22:06:49</td>\n",
       "      <td>6410</td>\n",
       "      <td>2020-10-01 22:14:29</td>\n",
       "      <td>7148</td>\n",
       "      <td>460</td>\n",
       "      <td>1</td>\n",
       "      <td>20206410</td>\n",
       "      <td>20207148</td>\n",
       "      <td>-73.638428</td>\n",
       "      <td>45.546408</td>\n",
       "      <td>-73.633568</td>\n",
       "      <td>45.559884</td>\n",
       "    </tr>\n",
       "    <tr>\n",
       "      <th>49999</th>\n",
       "      <td>2020-10-03 05:11:34</td>\n",
       "      <td>6410</td>\n",
       "      <td>2020-10-03 05:18:34</td>\n",
       "      <td>7148</td>\n",
       "      <td>419</td>\n",
       "      <td>0</td>\n",
       "      <td>20206410</td>\n",
       "      <td>20207148</td>\n",
       "      <td>-73.638428</td>\n",
       "      <td>45.546408</td>\n",
       "      <td>-73.633568</td>\n",
       "      <td>45.559884</td>\n",
       "    </tr>\n",
       "  </tbody>\n",
       "</table>\n",
       "<p>16987439 rows × 12 columns</p>\n",
       "</div>"
      ],
      "text/plain": [
       "                start_date  start_station_code             end_date  \\\n",
       "0         2017-04-15 00:00                7060     2017-04-15 00:31   \n",
       "1         2017-04-17 15:33                7060     2017-04-17 15:36   \n",
       "2         2017-04-21 18:55                7060     2017-04-21 19:26   \n",
       "3         2017-04-21 18:55                7060     2017-04-21 19:26   \n",
       "4         2017-05-12 15:46                7060     2017-05-12 17:16   \n",
       "...                    ...                 ...                  ...   \n",
       "49995  2020-09-29 18:02:15                6410  2020-09-29 18:10:35   \n",
       "49996  2020-09-30 18:03:10                6410  2020-09-30 18:10:40   \n",
       "49997  2020-10-01 14:43:03                6410  2020-10-01 14:49:43   \n",
       "49998  2020-10-01 22:06:49                6410  2020-10-01 22:14:29   \n",
       "49999  2020-10-03 05:11:34                6410  2020-10-03 05:18:34   \n",
       "\n",
       "       end_station_code  duration_sec  is_member  Start_Station_Key_ID  \\\n",
       "0                  7060          1841          1              20177060   \n",
       "1                  7060           211          1              20177060   \n",
       "2                  7060          1851          1              20177060   \n",
       "3                  7060          1846          1              20177060   \n",
       "4                  7060          5396          0              20177060   \n",
       "...                 ...           ...        ...                   ...   \n",
       "49995              7148           499          1              20206410   \n",
       "49996              7148           450          1              20206410   \n",
       "49997              7148           399          1              20206410   \n",
       "49998              7148           460          1              20206410   \n",
       "49999              7148           419          0              20206410   \n",
       "\n",
       "       End_Station_Key_ID  start_longitude  start_latitude  end_longitude  \\\n",
       "0                20177060       -73.571569       45.463001     -73.571569   \n",
       "1                20177060       -73.571569       45.463001     -73.571569   \n",
       "2                20177060       -73.571569       45.463001     -73.571569   \n",
       "3                20177060       -73.571569       45.463001     -73.571569   \n",
       "4                20177060       -73.571569       45.463001     -73.571569   \n",
       "...                   ...              ...             ...            ...   \n",
       "49995            20207148       -73.638428       45.546408     -73.633568   \n",
       "49996            20207148       -73.638428       45.546408     -73.633568   \n",
       "49997            20207148       -73.638428       45.546408     -73.633568   \n",
       "49998            20207148       -73.638428       45.546408     -73.633568   \n",
       "49999            20207148       -73.638428       45.546408     -73.633568   \n",
       "\n",
       "       end_latitude  \n",
       "0         45.463001  \n",
       "1         45.463001  \n",
       "2         45.463001  \n",
       "3         45.463001  \n",
       "4         45.463001  \n",
       "...             ...  \n",
       "49995     45.559884  \n",
       "49996     45.559884  \n",
       "49997     45.559884  \n",
       "49998     45.559884  \n",
       "49999     45.559884  \n",
       "\n",
       "[16987439 rows x 12 columns]"
      ]
     },
     "execution_count": 5,
     "metadata": {},
     "output_type": "execute_result"
    }
   ],
   "source": [
    "# Removing trips lasting less than one minute, as recommended by other studies in the field.\n",
    "\n",
    "bixi_master_data = bixi_master_data.drop(bixi_master_data[bixi_master_data.duration_sec <= 60].index)\n",
    "bixi_master_data"
   ]
  },
  {
   "cell_type": "code",
   "execution_count": null,
   "metadata": {
    "colab": {
     "base_uri": "https://localhost:8080/",
     "height": 34
    },
    "id": "34EQlqIMEl1M",
    "outputId": "bfdd155e-d4fd-49d0-d5f3-17edb3020415"
   },
   "outputs": [
    {
     "data": {
      "application/javascript": [
       "\n",
       "    async function download(id, filename, size) {\n",
       "      if (!google.colab.kernel.accessAllowed) {\n",
       "        return;\n",
       "      }\n",
       "      const div = document.createElement('div');\n",
       "      const label = document.createElement('label');\n",
       "      label.textContent = `Downloading \"${filename}\": `;\n",
       "      div.appendChild(label);\n",
       "      const progress = document.createElement('progress');\n",
       "      progress.max = size;\n",
       "      div.appendChild(progress);\n",
       "      document.body.appendChild(div);\n",
       "\n",
       "      const buffers = [];\n",
       "      let downloaded = 0;\n",
       "\n",
       "      const channel = await google.colab.kernel.comms.open(id);\n",
       "      // Send a message to notify the kernel that we're ready.\n",
       "      channel.send({})\n",
       "\n",
       "      for await (const message of channel.messages) {\n",
       "        // Send a message to notify the kernel that we're ready.\n",
       "        channel.send({})\n",
       "        if (message.buffers) {\n",
       "          for (const buffer of message.buffers) {\n",
       "            buffers.push(buffer);\n",
       "            downloaded += buffer.byteLength;\n",
       "            progress.value = downloaded;\n",
       "          }\n",
       "        }\n",
       "      }\n",
       "      const blob = new Blob(buffers, {type: 'application/binary'});\n",
       "      const a = document.createElement('a');\n",
       "      a.href = window.URL.createObjectURL(blob);\n",
       "      a.download = filename;\n",
       "      div.appendChild(a);\n",
       "      a.click();\n",
       "      div.remove();\n",
       "    }\n",
       "  "
      ],
      "text/plain": [
       "<IPython.core.display.Javascript object>"
      ]
     },
     "metadata": {
      "tags": []
     },
     "output_type": "display_data"
    },
    {
     "data": {
      "application/javascript": [
       "download(\"download_6a5ed852-e86c-40cd-b91f-4f729b2f65a5\", \"bixi_master_data.csv\", 2316539527)"
      ],
      "text/plain": [
       "<IPython.core.display.Javascript object>"
      ]
     },
     "metadata": {
      "tags": []
     },
     "output_type": "display_data"
    }
   ],
   "source": [
    "bixi_master_data.to_csv('bixi_master_data.csv') \n",
    "files.download('bixi_master_data.csv')"
   ]
  },
  {
   "cell_type": "markdown",
   "metadata": {
    "id": "NnbvqX9nBspz"
   },
   "source": [
    "### 1.2.2. Importing location of BIXI stations\n",
    "\n",
    "\n"
   ]
  },
  {
   "cell_type": "code",
   "execution_count": null,
   "metadata": {
    "id": "MWVUZ5y3kr3V"
   },
   "outputs": [],
   "source": [
    "# We will use our previous loop to import the annual Bixi station locations from GitHub. \n",
    "\n",
    "bixi_stations_urls = list()\n",
    "for y in [2017, 2018, 2019, 2020]:\n",
    "  year = str(y)\n",
    "  url_2 = 'https://raw.githubusercontent.com/gbincoletto/MATH80629A/main/bixidata/Stations_' + year + '.csv'\n",
    "  bixi_stations_urls.append(url_2)"
   ]
  },
  {
   "cell_type": "code",
   "execution_count": null,
   "metadata": {
    "id": "MlSAyn9oJPVV"
   },
   "outputs": [],
   "source": [
    "# Using the URLs assembled in our list, we will then create proper pandas dataframes from the raw data.\n",
    "\n",
    "bixi_stations_dfs = list()\n",
    "for file in bixi_stations_urls:\n",
    "    bixi_stations_dfs.append(pd.read_csv(file))"
   ]
  },
  {
   "cell_type": "code",
   "execution_count": null,
   "metadata": {
    "id": "s4QYMRg7EVnS"
   },
   "outputs": [],
   "source": [
    "# Quickly declare individually our reference documents.\n",
    "#stations_2014 = bixi_stations_dfs[0]\n",
    "##stations_2015 = bixi_stations_dfs[1]\n",
    "#stations_2016 = bixi_stations_dfs[2]\n",
    "stations_2017 = bixi_stations_dfs[3]\n",
    "stations_2018 = bixi_stations_dfs[4]\n",
    "stations_2019 = bixi_stations_dfs[5]\n",
    "stations_2020 = bixi_stations_dfs[6]\n",
    "\n",
    "# Correcting data irregularities\n",
    "stations_2019['code'] = stations_2019['Code']\n",
    "stations_2019 = stations_2019.drop(['Code'], axis=1)\n",
    "stations_2017 = stations_2017.drop(['is_public'], axis=1)\n",
    "\n",
    "# Then, we will create a new key variable, specifically designed to join Longitude/Latitude values to our trip data. \n",
    "\n",
    "#stations_2014['Station_Key_ID'] = '2014' + stations_2014['code'].map(str)\n",
    "#stations_2015['Station_Key_ID'] = '2015' + stations_2015['code'].map(str)\n",
    "#stations_2016['Station_Key_ID'] = '2016' + stations_2016['code'].map(str)\n",
    "stations_2017['Station_Key_ID'] = '2017' + stations_2017['code'].map(str)\n",
    "stations_2018['Station_Key_ID'] = '2018' + stations_2018['code'].map(str)\n",
    "stations_2019['Station_Key_ID'] = '2019' + stations_2019['code'].map(str) \n",
    "stations_2020['Station_Key_ID'] = '2020' + stations_2020['code'].map(str)\n",
    "\n",
    "# Then, we can concatenate the dataframes into one final reference document.\n",
    "\n",
    "bixi_master_stations = pd.concat([stations_2014, stations_2015, stations_2016, stations_2017, stations_2018, stations_2019,stations_2020])\n"
   ]
  },
  {
   "cell_type": "markdown",
   "metadata": {
    "id": "-Hf2CEw2wcH6"
   },
   "source": [
    "### 1.2.3. Adding geographical location to the BIXI trip dataset"
   ]
  },
  {
   "cell_type": "code",
   "execution_count": null,
   "metadata": {
    "id": "odVyafBfxpok"
   },
   "outputs": [],
   "source": [
    "# Due to limited RAM, we will have to split our main dataset to create new variables and effectuate operations. **RUNTIME ALERT - Limite côté RAM!!*\n",
    "\n",
    "#master_2014 = bixi_master_data.loc[bixi_master_data['start_date'].astype(str).str[0:4] == '2014']\n",
    "#master_2015 = bixi_master_data.loc[bixi_master_data['start_date'].astype(str).str[0:4] == '2015']\n",
    "#master_2016 = bixi_master_data.loc[bixi_master_data['start_date'].astype(str).str[0:4] == '2016']\n",
    "#\n",
    "#\n",
    "#\n",
    "#"
   ]
  },
  {
   "cell_type": "code",
   "execution_count": null,
   "metadata": {
    "id": "21VO1IX5Ezts"
   },
   "outputs": [],
   "source": [
    "#master_2017 = bixi_master_data.loc[bixi_master_data['start_date'].astype(str).str[0:4] == '2017']"
   ]
  },
  {
   "cell_type": "code",
   "execution_count": null,
   "metadata": {
    "id": "miywKdin26rM"
   },
   "outputs": [],
   "source": [
    "#master_2018 = bixi_master_data.loc[bixi_master_data['start_date'].astype(str).str[0:4] == '2018']"
   ]
  },
  {
   "cell_type": "code",
   "execution_count": null,
   "metadata": {
    "id": "5LD6sqiB28f7"
   },
   "outputs": [],
   "source": [
    "#master_2019 = bixi_master_data.loc[bixi_master_data['start_date'].astype(str).str[0:4] == '2019']"
   ]
  },
  {
   "cell_type": "code",
   "execution_count": null,
   "metadata": {
    "id": "gtwX-_fv28Ms"
   },
   "outputs": [],
   "source": [
    "#master_2020 = bixi_master_data.loc[bixi_master_data['start_date'].astype(str).str[0:4] == '2020']"
   ]
  },
  {
   "cell_type": "code",
   "execution_count": null,
   "metadata": {
    "id": "D89a3Yp_vKxW"
   },
   "outputs": [],
   "source": [
    "# Creating two sub-DFs to facilitate the merging process. \n",
    "\n",
    "start_long_lat = bixi_master_stations[['Station_Key_ID', 'longitude', 'latitude']]\n",
    "start_long_lat.columns = ['Start_Station_Key_ID', 'start_longitude', 'start_latitude']\n",
    "\n",
    "end_long_lat = bixi_master_stations[['Station_Key_ID', 'longitude', 'latitude']]\n",
    "end_long_lat.columns = ['End_Station_Key_ID', 'end_longitude', 'end_latitude']"
   ]
  },
  {
   "cell_type": "code",
   "execution_count": null,
   "metadata": {
    "id": "Rrgy4Ik9Kws0"
   },
   "outputs": [],
   "source": [
    "# We will now create a loop to insert our merge key in the bike trips dataset, and then add the geographical values (Lon/Lat) based on this key.\n",
    "\n",
    "for i in [master_2017, master_2018, master_2019, master_2020]:# master_2014, master_2015, master_2016, \n",
    "  i['Start_Station_Key_ID'] =  i['start_date'].astype(str).str[0:4] + i['start_station_code'].astype(str)\n",
    "  i['End_Station_Key_ID'] =  i['end_date'].astype(str).str[0:4] + i['end_station_code'].astype(str)\n",
    "\n",
    " "
   ]
  },
  {
   "cell_type": "code",
   "execution_count": null,
   "metadata": {
    "id": "iWYU0x0x3fC_"
   },
   "outputs": [],
   "source": [
    "# Finally, adding the geographical values and then recreating our master_data set. **NOT SURPRISINGLY, LONG RUNTIME ALERT**\n",
    "\n",
    "master_2017 = master_2017.merge(start_long_lat, on ='Start_Station_Key_ID')\n",
    "master_2017 = master_2017.merge(end_long_lat, on ='End_Station_Key_ID')\n",
    "\n",
    "master_2018 = master_2018.merge(start_long_lat, on ='Start_Station_Key_ID')\n",
    "master_2018 = master_2018.merge(end_long_lat, on ='End_Station_Key_ID')\n",
    "\n",
    "master_2019 = master_2019.merge(start_long_lat, on ='Start_Station_Key_ID')\n",
    "master_2019 = master_2019.merge(end_long_lat, on ='End_Station_Key_ID')\n",
    "\n",
    "master_2020 = master_2020.merge(start_long_lat, on ='Start_Station_Key_ID')\n",
    "master_2020 = master_2020.merge(end_long_lat, on ='End_Station_Key_ID')\n",
    "\n",
    "bixi_master_data = pd.concat([master_2017, master_2018, master_2019, master_2020])"
   ]
  },
  {
   "cell_type": "code",
   "execution_count": null,
   "metadata": {
    "colab": {
     "base_uri": "https://localhost:8080/"
    },
    "id": "KpLxezrpVm5B",
    "outputId": "64b4e864-977e-44ee-fe87-c678dcf847aa"
   },
   "outputs": [
    {
     "data": {
      "text/plain": [
       "<bound method NDFrame.head of                   start_date start_station_code  ... end_longitude end_latitude\n",
       "0           2017-04-15 00:00               7060  ...    -73.571569    45.463001\n",
       "1           2017-04-17 15:33               7060  ...    -73.571569    45.463001\n",
       "2           2017-04-21 18:55               7060  ...    -73.571569    45.463001\n",
       "3           2017-04-21 18:55               7060  ...    -73.571569    45.463001\n",
       "4           2017-05-12 15:46               7060  ...    -73.571569    45.463001\n",
       "...                      ...                ...  ...           ...          ...\n",
       "3264736  2020-11-14 18:48:20               4001  ...    -73.691449    45.514734\n",
       "3264737  2020-11-01 14:47:49               8068  ...    -73.691449    45.514734\n",
       "3264738  2020-11-07 21:52:14               8022  ...    -73.691449    45.514734\n",
       "3264739  2020-11-10 21:40:29               8022  ...    -73.691449    45.514734\n",
       "3264740  2020-11-12 21:46:21               8022  ...    -73.691449    45.514734\n",
       "\n",
       "[18855996 rows x 12 columns]>"
      ]
     },
     "execution_count": 17,
     "metadata": {
      "tags": []
     },
     "output_type": "execute_result"
    }
   ],
   "source": [
    "bixi_master_data.head "
   ]
  },
  {
   "cell_type": "markdown",
   "metadata": {
    "id": "yhaaruYGgp09"
   },
   "source": [
    "### 1.2.4. Aggregating function"
   ]
  },
  {
   "cell_type": "code",
   "execution_count": 6,
   "metadata": {
    "id": "Eh2pwIQhgu9M"
   },
   "outputs": [],
   "source": [
    "# ******* WIP, please do not panic if this function fails *******\n",
    "\n",
    "# This function will allow us to calculate the amount of bike rentals in ANY given time period\n",
    "# It will also output calendar data (weekday, holiday) when appropriate\n",
    "# Note: by any I mean hourly, daily or monthly\n",
    "# Note#2: must also be part of the dataset - no information is available on pre-2017 dates\n",
    "\n",
    "def calc_bike_volumes(df, years, months, days, hours, aggtype = 1): # Format [20XX,20XX], it's an interval! Same format for the other arguments please. No default values.\n",
    "  \n",
    "    pd.options.mode.chained_assignment = None  # default='warn'\n",
    "    rdf = df\n",
    "\n",
    "    # Creating a date ID (will vary based on type of aggregation)\n",
    "    rdf['Année'] = rdf['start_date'].astype(str).str[0:4]\n",
    "    rdf['Mois'] = rdf['start_date'].astype(str).str[5:7]\n",
    "    rdf['Jour'] = rdf['start_date'].astype(str).str[8:10]\n",
    "    rdf['Heure'] = rdf['start_date'].astype(str).str[11:13]\n",
    "    rdf['dateIDh'] = (rdf.Année + rdf.Mois + rdf.Jour + rdf['Heure']).astype(int)\n",
    "    rdf['dateIDd'] = (rdf.Année + rdf.Mois + rdf.Jour).astype(int)\n",
    "    rdf['dateIDm'] = (rdf.Année + rdf.Mois).astype(int)\n",
    "    \n",
    "    # Creating columns to indicate weekdays and holidays\n",
    "    rdf['start_date'] = pd.to_datetime(rdf['start_date']) \n",
    "    rdf['Semaine'] = rdf['start_date'].map(lambda x: x.weekday())\n",
    "    rdf.loc[rdf['Semaine'] <= 4, 'Semaine'] = 1\n",
    "    rdf.loc[rdf['Semaine'] > 4, 'Semaine'] = 0\n",
    "    \n",
    "    qc_holidays = []\n",
    "    for date in holidays.Canada(years = [2014,2015,2016,2017,2018,2019,2020], prov='QC').items():\n",
    "        qc_holidays.append(str(date[0]))\n",
    "        \n",
    "    rdf['Holidays'] = [1 if str(val).split()[0] in qc_holidays else 0 for val in rdf['start_date']]\n",
    "\n",
    "    # Filtre temporel\n",
    "    rdf = rdf[(rdf['Année'].astype(int) >= years[0]) & (df['Année'].astype(int) <= years[1])]\n",
    "    rdf = rdf[(rdf['Mois'].astype(int) >= months[0]) & (rdf['Mois'].astype(int) <= months[1])]\n",
    "    rdf = rdf[(rdf['Jour'].astype(int) >= days[0]) & (rdf['Jour'].astype(int) <= days[1])]\n",
    "    rdf = rdf[(rdf['Heure'].astype(int) >= hours[0]) & (rdf['Heure'].astype(int) <= hours[1])]\n",
    "\n",
    "    if (not years) or (not months) or (not days) or (not hours):\n",
    "        print('Please input all the required arguments?')\n",
    "  \n",
    "    # This will aggregate what we need to get the number of trips in the given timeframe (by blocks) and average trip length.\n",
    "    else:\n",
    "\n",
    "    # Aggregate using the hour ID\n",
    "        if aggtype == 1:\n",
    "            rdf = rdf.groupby('dateIDh').agg(Weekday=(\"Semaine\", \"max\"), Holiday=(\"Holidays\", \"max\"),\n",
    "                                             Duration=(\"duration_sec\", \"mean\"),\n",
    "                                             Volume=(\"duration_sec\", \"count\"))\n",
    "            return rdf\n",
    "\n",
    "    # Aggregate using the day ID\n",
    "        if aggtype == 2 :\n",
    "            rdf = rdf.groupby('dateIDd').agg(Weekday=(\"Semaine\", \"max\"), Holiday=(\"Holidays\", \"max\"),\n",
    "                                             Duration=(\"duration_sec\", \"mean\"),\n",
    "                                             Volume=(\"duration_sec\", \"count\"))\n",
    "            return rdf\n",
    "\n",
    "    # Aggregate using the month ID\n",
    "        if aggtype == 3:\n",
    "            rdf = rdf.groupby('dateIDm').agg(Duration=(\"duration_sec\", \"mean\"),\n",
    "                                       Volume=(\"duration_sec\", \"count\"))\n",
    "            return rdf\n"
   ]
  },
  {
   "cell_type": "code",
   "execution_count": 8,
   "metadata": {
    "colab": {
     "base_uri": "https://localhost:8080/",
     "height": 452
    },
    "id": "7aGPlcGyTCg1",
    "outputId": "6fb5b8df-89c4-4d8c-c98b-dd49e0f7415c"
   },
   "outputs": [
    {
     "data": {
      "text/html": [
       "<div>\n",
       "<style scoped>\n",
       "    .dataframe tbody tr th:only-of-type {\n",
       "        vertical-align: middle;\n",
       "    }\n",
       "\n",
       "    .dataframe tbody tr th {\n",
       "        vertical-align: top;\n",
       "    }\n",
       "\n",
       "    .dataframe thead th {\n",
       "        text-align: right;\n",
       "    }\n",
       "</style>\n",
       "<table border=\"1\" class=\"dataframe\">\n",
       "  <thead>\n",
       "    <tr style=\"text-align: right;\">\n",
       "      <th></th>\n",
       "      <th>Weekday</th>\n",
       "      <th>Holiday</th>\n",
       "      <th>Duration</th>\n",
       "      <th>Volume</th>\n",
       "    </tr>\n",
       "    <tr>\n",
       "      <th>dateIDd</th>\n",
       "      <th></th>\n",
       "      <th></th>\n",
       "      <th></th>\n",
       "      <th></th>\n",
       "    </tr>\n",
       "  </thead>\n",
       "  <tbody>\n",
       "    <tr>\n",
       "      <th>20170501</th>\n",
       "      <td>1</td>\n",
       "      <td>0</td>\n",
       "      <td>430.454545</td>\n",
       "      <td>33</td>\n",
       "    </tr>\n",
       "    <tr>\n",
       "      <th>20170502</th>\n",
       "      <td>1</td>\n",
       "      <td>0</td>\n",
       "      <td>802.743902</td>\n",
       "      <td>82</td>\n",
       "    </tr>\n",
       "    <tr>\n",
       "      <th>20170503</th>\n",
       "      <td>1</td>\n",
       "      <td>0</td>\n",
       "      <td>648.926667</td>\n",
       "      <td>150</td>\n",
       "    </tr>\n",
       "    <tr>\n",
       "      <th>20170504</th>\n",
       "      <td>1</td>\n",
       "      <td>0</td>\n",
       "      <td>905.582353</td>\n",
       "      <td>170</td>\n",
       "    </tr>\n",
       "    <tr>\n",
       "      <th>20170505</th>\n",
       "      <td>1</td>\n",
       "      <td>0</td>\n",
       "      <td>741.436019</td>\n",
       "      <td>211</td>\n",
       "    </tr>\n",
       "  </tbody>\n",
       "</table>\n",
       "</div>"
      ],
      "text/plain": [
       "          Weekday  Holiday    Duration  Volume\n",
       "dateIDd                                       \n",
       "20170501        1        0  430.454545      33\n",
       "20170502        1        0  802.743902      82\n",
       "20170503        1        0  648.926667     150\n",
       "20170504        1        0  905.582353     170\n",
       "20170505        1        0  741.436019     211"
      ]
     },
     "execution_count": 8,
     "metadata": {},
     "output_type": "execute_result"
    }
   ],
   "source": [
    "# Testing the function (it works!)\n",
    "rdf = calc_bike_volumes(bixi_master_data,[2017,2019],[3,11],[1,31],[0,23],aggtype=2)\n",
    "rdf.head()"
   ]
  },
  {
   "cell_type": "code",
   "execution_count": 7,
   "metadata": {},
   "outputs": [],
   "source": [
    "# Calculating the data I need\n",
    "\n",
    "# Daily Data\n",
    "data_daily = calc_bike_volumes(bixi_master_data,[2017,2020],[3,11],[1,31],[0,23],aggtype=2)"
   ]
  },
  {
   "cell_type": "code",
   "execution_count": 8,
   "metadata": {},
   "outputs": [],
   "source": [
    "data_daily.to_csv('data_daily.csv') "
   ]
  },
  {
   "cell_type": "code",
   "execution_count": 9,
   "metadata": {},
   "outputs": [],
   "source": [
    "# Hourly Data\n",
    "data_hourly = calc_bike_volumes(bixi_master_data,[2017,2020],[3,11],[1,31],[0,23],aggtype=1)"
   ]
  },
  {
   "cell_type": "code",
   "execution_count": 10,
   "metadata": {},
   "outputs": [],
   "source": [
    "data_hourly.to_csv('data_hourly.csv') "
   ]
  },
  {
   "cell_type": "code",
   "execution_count": 11,
   "metadata": {},
   "outputs": [],
   "source": [
    "# Monthly Data\n",
    "data_monthly = calc_bike_volumes(bixi_master_data,[2017,2020],[3,11],[1,31],[0,23],aggtype=3)"
   ]
  },
  {
   "cell_type": "code",
   "execution_count": 12,
   "metadata": {},
   "outputs": [],
   "source": [
    "data_monthly.to_csv('data_monthly.csv') "
   ]
  },
  {
   "cell_type": "markdown",
   "metadata": {
    "id": "FdnqUp4x-wBI"
   },
   "source": [
    "## 1.3. Neighbourhood Clusters"
   ]
  },
  {
   "cell_type": "markdown",
   "metadata": {
    "id": "_X99MqC0jKw-"
   },
   "source": [
    "### 1.3.1. Setting up the data"
   ]
  },
  {
   "cell_type": "code",
   "execution_count": null,
   "metadata": {
    "colab": {
     "base_uri": "https://localhost:8080/",
     "height": 201
    },
    "id": "YammxboAPk9s",
    "outputId": "eaaa5f2a-fe00-42eb-cdc6-6f4e62e8ee58"
   },
   "outputs": [
    {
     "data": {
      "text/html": [
       "<div>\n",
       "<style scoped>\n",
       "    .dataframe tbody tr th:only-of-type {\n",
       "        vertical-align: middle;\n",
       "    }\n",
       "\n",
       "    .dataframe tbody tr th {\n",
       "        vertical-align: top;\n",
       "    }\n",
       "\n",
       "    .dataframe thead th {\n",
       "        text-align: right;\n",
       "    }\n",
       "</style>\n",
       "<table border=\"1\" class=\"dataframe\">\n",
       "  <thead>\n",
       "    <tr style=\"text-align: right;\">\n",
       "      <th></th>\n",
       "      <th>code</th>\n",
       "      <th>name</th>\n",
       "      <th>latitude</th>\n",
       "      <th>longitude</th>\n",
       "      <th>Station_Key_ID</th>\n",
       "    </tr>\n",
       "  </thead>\n",
       "  <tbody>\n",
       "    <tr>\n",
       "      <th>0</th>\n",
       "      <td>6209</td>\n",
       "      <td>Milton / Clark</td>\n",
       "      <td>45.512520</td>\n",
       "      <td>-73.570620</td>\n",
       "      <td>20146209</td>\n",
       "    </tr>\n",
       "    <tr>\n",
       "      <th>1</th>\n",
       "      <td>6436</td>\n",
       "      <td>Côte St-Antoine / Clarke</td>\n",
       "      <td>45.486452</td>\n",
       "      <td>-73.595234</td>\n",
       "      <td>20146436</td>\n",
       "    </tr>\n",
       "    <tr>\n",
       "      <th>2</th>\n",
       "      <td>6214</td>\n",
       "      <td>Square St-Louis</td>\n",
       "      <td>45.517350</td>\n",
       "      <td>-73.569060</td>\n",
       "      <td>20146214</td>\n",
       "    </tr>\n",
       "    <tr>\n",
       "      <th>3</th>\n",
       "      <td>6248</td>\n",
       "      <td>St-Dominique / Rachel</td>\n",
       "      <td>45.518593</td>\n",
       "      <td>-73.581566</td>\n",
       "      <td>20146248</td>\n",
       "    </tr>\n",
       "    <tr>\n",
       "      <th>4</th>\n",
       "      <td>6164</td>\n",
       "      <td>Chambord / Laurier</td>\n",
       "      <td>45.532955</td>\n",
       "      <td>-73.584194</td>\n",
       "      <td>20146164</td>\n",
       "    </tr>\n",
       "  </tbody>\n",
       "</table>\n",
       "</div>"
      ],
      "text/plain": [
       "   code                      name   latitude  longitude Station_Key_ID\n",
       "0  6209            Milton / Clark  45.512520 -73.570620       20146209\n",
       "1  6436  Côte St-Antoine / Clarke  45.486452 -73.595234       20146436\n",
       "2  6214           Square St-Louis  45.517350 -73.569060       20146214\n",
       "3  6248     St-Dominique / Rachel  45.518593 -73.581566       20146248\n",
       "4  6164        Chambord / Laurier  45.532955 -73.584194       20146164"
      ]
     },
     "execution_count": 21,
     "metadata": {
      "tags": []
     },
     "output_type": "execute_result"
    }
   ],
   "source": [
    "# We will attemps to create neighbourhood clusters for BIXI stations using their latitude and longitude. \n",
    "# We will ignore the variable 'code' and will use the Station_Key_ID as the primary key.\n",
    "\n",
    "bixi_master_stations.head()"
   ]
  },
  {
   "cell_type": "code",
   "execution_count": null,
   "metadata": {
    "colab": {
     "base_uri": "https://localhost:8080/",
     "height": 201
    },
    "id": "N6dwpw6nYEq7",
    "outputId": "330e581b-df43-4e93-d26d-cad81b87f9e2"
   },
   "outputs": [
    {
     "data": {
      "text/html": [
       "<div>\n",
       "<style scoped>\n",
       "    .dataframe tbody tr th:only-of-type {\n",
       "        vertical-align: middle;\n",
       "    }\n",
       "\n",
       "    .dataframe tbody tr th {\n",
       "        vertical-align: top;\n",
       "    }\n",
       "\n",
       "    .dataframe thead th {\n",
       "        text-align: right;\n",
       "    }\n",
       "</style>\n",
       "<table border=\"1\" class=\"dataframe\">\n",
       "  <thead>\n",
       "    <tr style=\"text-align: right;\">\n",
       "      <th></th>\n",
       "      <th>code</th>\n",
       "      <th>name</th>\n",
       "      <th>latitude</th>\n",
       "      <th>longitude</th>\n",
       "      <th>Station_Key_ID</th>\n",
       "    </tr>\n",
       "  </thead>\n",
       "  <tbody>\n",
       "    <tr>\n",
       "      <th>636</th>\n",
       "      <td>8046</td>\n",
       "      <td>Mairie d'arrondissement Montréal-Nord (Hébert ...</td>\n",
       "      <td>45.593945</td>\n",
       "      <td>-73.638444</td>\n",
       "      <td>20208046</td>\n",
       "    </tr>\n",
       "    <tr>\n",
       "      <th>637</th>\n",
       "      <td>8071</td>\n",
       "      <td>Gare d'autocars de Montréal (Berri / Ontario)</td>\n",
       "      <td>45.516926</td>\n",
       "      <td>-73.564257</td>\n",
       "      <td>20208071</td>\n",
       "    </tr>\n",
       "    <tr>\n",
       "      <th>638</th>\n",
       "      <td>8036</td>\n",
       "      <td>Messier / St-Joseph</td>\n",
       "      <td>45.539461</td>\n",
       "      <td>-73.576056</td>\n",
       "      <td>20208036</td>\n",
       "    </tr>\n",
       "    <tr>\n",
       "      <th>639</th>\n",
       "      <td>8069</td>\n",
       "      <td>Ateliers municipaux de St-Laurent (Cavendish /...</td>\n",
       "      <td>45.506176</td>\n",
       "      <td>-73.711186</td>\n",
       "      <td>20208069</td>\n",
       "    </tr>\n",
       "    <tr>\n",
       "      <th>640</th>\n",
       "      <td>8022</td>\n",
       "      <td>Centre des loisirs (Tassé / Grenet)</td>\n",
       "      <td>45.514734</td>\n",
       "      <td>-73.691449</td>\n",
       "      <td>20208022</td>\n",
       "    </tr>\n",
       "  </tbody>\n",
       "</table>\n",
       "</div>"
      ],
      "text/plain": [
       "     code  ... Station_Key_ID\n",
       "636  8046  ...       20208046\n",
       "637  8071  ...       20208071\n",
       "638  8036  ...       20208036\n",
       "639  8069  ...       20208069\n",
       "640  8022  ...       20208022\n",
       "\n",
       "[5 rows x 5 columns]"
      ]
     },
     "execution_count": 22,
     "metadata": {
      "tags": []
     },
     "output_type": "execute_result"
    }
   ],
   "source": [
    "# First, we see that there a lot of duplicates of the same stations.\n",
    "bixi_master_stations.loc[bixi_master_stations['name']=='Square St-Louis']\n",
    "\n",
    "# We are only interested in 2020 stations, so we will only keep Station_Key_ID starting with 2020. There are 640 stations.\n",
    "bixi_master_stations = bixi_master_stations[bixi_master_stations['Station_Key_ID'].astype(str).str.startswith('2020')]\n",
    "bixi_master_stations.tail()"
   ]
  },
  {
   "cell_type": "code",
   "execution_count": null,
   "metadata": {
    "colab": {
     "base_uri": "https://localhost:8080/",
     "height": 295
    },
    "id": "6hAEk9u3C43O",
    "outputId": "44ec925c-ee4b-489d-e012-22a567cfdb4c"
   },
   "outputs": [
    {
     "data": {
      "image/png": "[encoded data removed]",
      "text/plain": [
       "<Figure size 432x288 with 1 Axes>"
      ]
     },
     "metadata": {
      "needs_background": "light",
      "tags": []
     },
     "output_type": "display_data"
    }
   ],
   "source": [
    "# We then plot the geographical points; good news: it indeed looks like the BIXI station map! \n",
    "plot_bixi_master_stations = plt.plot(bixi_master_stations['longitude'], bixi_master_stations['latitude'],\n",
    "             marker='.', linewidth=0, color='#128128')\n",
    "plot_bixi_master_stations = plt.grid(which='major', color='#cccccc', alpha=0.45)\n",
    "plot_bixi_master_stations = plt.title ('Geographical distribution of BIXI stations', family='DejaVu Sans', fontsize=12)\n",
    "plot_bixi_master_stations = plt.xlabel('Longitude')\n",
    "plot_bixi_master_stations = plt.ylabel('Latitude')\n",
    "plot_bixi_master_stations = plt.show()"
   ]
  },
  {
   "cell_type": "code",
   "execution_count": null,
   "metadata": {
    "colab": {
     "base_uri": "https://localhost:8080/",
     "height": 201
    },
    "id": "XwdEWTZrgydA",
    "outputId": "c2639e30-0976-40a0-b585-7833043eab5b"
   },
   "outputs": [
    {
     "data": {
      "text/html": [
       "<div>\n",
       "<style scoped>\n",
       "    .dataframe tbody tr th:only-of-type {\n",
       "        vertical-align: middle;\n",
       "    }\n",
       "\n",
       "    .dataframe tbody tr th {\n",
       "        vertical-align: top;\n",
       "    }\n",
       "\n",
       "    .dataframe thead th {\n",
       "        text-align: right;\n",
       "    }\n",
       "</style>\n",
       "<table border=\"1\" class=\"dataframe\">\n",
       "  <thead>\n",
       "    <tr style=\"text-align: right;\">\n",
       "      <th></th>\n",
       "      <th>Station_Key_ID</th>\n",
       "      <th>latitude</th>\n",
       "      <th>longitude</th>\n",
       "    </tr>\n",
       "  </thead>\n",
       "  <tbody>\n",
       "    <tr>\n",
       "      <th>0</th>\n",
       "      <td>20206001</td>\n",
       "      <td>45.510163</td>\n",
       "      <td>-73.556637</td>\n",
       "    </tr>\n",
       "    <tr>\n",
       "      <th>1</th>\n",
       "      <td>20206002</td>\n",
       "      <td>45.539385</td>\n",
       "      <td>-73.541000</td>\n",
       "    </tr>\n",
       "    <tr>\n",
       "      <th>2</th>\n",
       "      <td>20206003</td>\n",
       "      <td>45.510824</td>\n",
       "      <td>-73.567172</td>\n",
       "    </tr>\n",
       "    <tr>\n",
       "      <th>3</th>\n",
       "      <td>20206004</td>\n",
       "      <td>45.509655</td>\n",
       "      <td>-73.554009</td>\n",
       "    </tr>\n",
       "    <tr>\n",
       "      <th>4</th>\n",
       "      <td>20206005</td>\n",
       "      <td>45.500208</td>\n",
       "      <td>-73.571138</td>\n",
       "    </tr>\n",
       "  </tbody>\n",
       "</table>\n",
       "</div>"
      ],
      "text/plain": [
       "  Station_Key_ID   latitude  longitude\n",
       "0       20206001  45.510163 -73.556637\n",
       "1       20206002  45.539385 -73.541000\n",
       "2       20206003  45.510824 -73.567172\n",
       "3       20206004  45.509655 -73.554009\n",
       "4       20206005  45.500208 -73.571138"
      ]
     },
     "execution_count": 31,
     "metadata": {
      "tags": []
     },
     "output_type": "execute_result"
    }
   ],
   "source": [
    "# We then create a new dataframe to only keep the variables Station_Key_ID, Longitude and Latitude for our clustering analysis\n",
    "cluster_bixi_stations=bixi_master_stations.loc[:,['Station_Key_ID','latitude','longitude']]\n",
    "cluster_bixi_stations.head()"
   ]
  },
  {
   "cell_type": "markdown",
   "metadata": {
    "id": "3MIDtpXIjjIC"
   },
   "source": [
    "### 1.3.2. K-Means method"
   ]
  },
  {
   "cell_type": "code",
   "execution_count": null,
   "metadata": {
    "colab": {
     "base_uri": "https://localhost:8080/",
     "height": 295
    },
    "id": "yRuFCzq4JhdY",
    "outputId": "e36fafba-cfcf-416a-a802-a8d9d3e171cc"
   },
   "outputs": [
    {
     "data": {
      "image/png": "[encoded data removed]",
      "text/plain": [
       "<Figure size 432x288 with 1 Axes>"
      ]
     },
     "metadata": {
      "needs_background": "light",
      "tags": []
     },
     "output_type": "display_data"
    }
   ],
   "source": [
    "# We will validate the number of clusters by using the elbow method \n",
    "K_clusters = range(1,10)\n",
    "kmeans = [KMeans(n_clusters=i) for i in K_clusters]\n",
    "Y_axis = cluster_bixi_stations[['latitude']]\n",
    "X_axis = cluster_bixi_stations[['longitude']]\n",
    "score = [kmeans[i].fit(Y_axis).score(Y_axis) for i in range(len(kmeans))]\n",
    "\n",
    "# Visualize the graph -- we see that 3 or 4 clusters could be interesting.\n",
    "plt.plot(K_clusters, score)\n",
    "plt.xlabel('Number of Clusters')\n",
    "plt.ylabel('Score')\n",
    "plt.title('Elbow Curve')\n",
    "plt.show()"
   ]
  },
  {
   "cell_type": "code",
   "execution_count": null,
   "metadata": {
    "colab": {
     "base_uri": "https://localhost:8080/",
     "height": 354
    },
    "id": "3c0jpg2igQmg",
    "outputId": "a32623a8-d52b-4c59-c4c1-f7b782426c1b"
   },
   "outputs": [
    {
     "data": {
      "text/html": [
       "<div>\n",
       "<style scoped>\n",
       "    .dataframe tbody tr th:only-of-type {\n",
       "        vertical-align: middle;\n",
       "    }\n",
       "\n",
       "    .dataframe tbody tr th {\n",
       "        vertical-align: top;\n",
       "    }\n",
       "\n",
       "    .dataframe thead th {\n",
       "        text-align: right;\n",
       "    }\n",
       "</style>\n",
       "<table border=\"1\" class=\"dataframe\">\n",
       "  <thead>\n",
       "    <tr style=\"text-align: right;\">\n",
       "      <th></th>\n",
       "      <th>Station_Key_ID</th>\n",
       "      <th>latitude</th>\n",
       "      <th>longitude</th>\n",
       "      <th>cluster_label</th>\n",
       "    </tr>\n",
       "  </thead>\n",
       "  <tbody>\n",
       "    <tr>\n",
       "      <th>631</th>\n",
       "      <td>20208020</td>\n",
       "      <td>45.484919</td>\n",
       "      <td>-73.637415</td>\n",
       "      <td>3</td>\n",
       "    </tr>\n",
       "    <tr>\n",
       "      <th>632</th>\n",
       "      <td>20208068</td>\n",
       "      <td>45.512994</td>\n",
       "      <td>-73.682498</td>\n",
       "      <td>2</td>\n",
       "    </tr>\n",
       "    <tr>\n",
       "      <th>633</th>\n",
       "      <td>20208053</td>\n",
       "      <td>45.541548</td>\n",
       "      <td>-73.565012</td>\n",
       "      <td>1</td>\n",
       "    </tr>\n",
       "    <tr>\n",
       "      <th>634</th>\n",
       "      <td>20208047</td>\n",
       "      <td>45.605533</td>\n",
       "      <td>-73.628024</td>\n",
       "      <td>2</td>\n",
       "    </tr>\n",
       "    <tr>\n",
       "      <th>635</th>\n",
       "      <td>20208048</td>\n",
       "      <td>45.614430</td>\n",
       "      <td>-73.612233</td>\n",
       "      <td>0</td>\n",
       "    </tr>\n",
       "    <tr>\n",
       "      <th>636</th>\n",
       "      <td>20208046</td>\n",
       "      <td>45.593945</td>\n",
       "      <td>-73.638444</td>\n",
       "      <td>2</td>\n",
       "    </tr>\n",
       "    <tr>\n",
       "      <th>637</th>\n",
       "      <td>20208071</td>\n",
       "      <td>45.516926</td>\n",
       "      <td>-73.564257</td>\n",
       "      <td>1</td>\n",
       "    </tr>\n",
       "    <tr>\n",
       "      <th>638</th>\n",
       "      <td>20208036</td>\n",
       "      <td>45.539461</td>\n",
       "      <td>-73.576056</td>\n",
       "      <td>1</td>\n",
       "    </tr>\n",
       "    <tr>\n",
       "      <th>639</th>\n",
       "      <td>20208069</td>\n",
       "      <td>45.506176</td>\n",
       "      <td>-73.711186</td>\n",
       "      <td>2</td>\n",
       "    </tr>\n",
       "    <tr>\n",
       "      <th>640</th>\n",
       "      <td>20208022</td>\n",
       "      <td>45.514734</td>\n",
       "      <td>-73.691449</td>\n",
       "      <td>2</td>\n",
       "    </tr>\n",
       "  </tbody>\n",
       "</table>\n",
       "</div>"
      ],
      "text/plain": [
       "    Station_Key_ID   latitude  longitude  cluster_label\n",
       "631       20208020  45.484919 -73.637415              3\n",
       "632       20208068  45.512994 -73.682498              2\n",
       "633       20208053  45.541548 -73.565012              1\n",
       "634       20208047  45.605533 -73.628024              2\n",
       "635       20208048  45.614430 -73.612233              0\n",
       "636       20208046  45.593945 -73.638444              2\n",
       "637       20208071  45.516926 -73.564257              1\n",
       "638       20208036  45.539461 -73.576056              1\n",
       "639       20208069  45.506176 -73.711186              2\n",
       "640       20208022  45.514734 -73.691449              2"
      ]
     },
     "execution_count": 39,
     "metadata": {
      "tags": []
     },
     "output_type": "execute_result"
    }
   ],
   "source": [
    "# Computer K-means clustering using 4 clusters\n",
    "\n",
    "kmeans = KMeans(n_clusters = 4, init ='k-means++')\n",
    "kmeans.fit(cluster_bixi_stations[cluster_bixi_stations.columns[1:3]])\n",
    "cluster_bixi_stations['cluster_label'] = kmeans.fit_predict(cluster_bixi_stations[cluster_bixi_stations.columns[1:4]])\n",
    "centers = kmeans.cluster_centers_ # Coordinates of cluster centers.\n",
    "labels = kmeans.predict(cluster_bixi_stations[cluster_bixi_stations.columns[1:4]]) # Labels of each point\n",
    "cluster_bixi_stations.tail(10)"
   ]
  },
  {
   "cell_type": "code",
   "execution_count": null,
   "metadata": {
    "colab": {
     "base_uri": "https://localhost:8080/",
     "height": 275
    },
    "id": "2W70iOsvhCAW",
    "outputId": "afdc8b2f-7c84-4b18-aa80-b60776bb77fe"
   },
   "outputs": [
    {
     "data": {
      "text/plain": [
       "<matplotlib.collections.PathCollection at 0x7f469bd73f90>"
      ]
     },
     "execution_count": 40,
     "metadata": {
      "tags": []
     },
     "output_type": "execute_result"
    },
    {
     "data": {
      "image/png": "[encoded data removed]",
      "text/plain": [
       "<Figure size 432x288 with 2 Axes>"
      ]
     },
     "metadata": {
      "needs_background": "light",
      "tags": []
     },
     "output_type": "display_data"
    }
   ],
   "source": [
    "# Visualize the clusters and centroids \n",
    "\n",
    "cluster_bixi_stations.plot.scatter(x = 'latitude', y = 'longitude', c=labels, s=50, cmap='viridis')\n",
    "plt.scatter(centers[:, 0], centers[:, 1], c='black', s=200, alpha=0.5)"
   ]
  },
  {
   "cell_type": "markdown",
   "metadata": {
    "id": "reAQzpImkmHL"
   },
   "source": [
    "### 1.3.3. DBSCAN method"
   ]
  },
  {
   "cell_type": "code",
   "execution_count": null,
   "metadata": {
    "colab": {
     "base_uri": "https://localhost:8080/",
     "height": 199
    },
    "id": "RqTNfc0wTHfW",
    "outputId": "2ba8aa07-98d3-4ed6-f395-f1bf6ffc6876"
   },
   "outputs": [
    {
     "ename": "NameError",
     "evalue": "ignored",
     "output_type": "error",
     "traceback": [
      "\u001b[0;31m---------------------------------------------------------------------------\u001b[0m",
      "\u001b[0;31mNameError\u001b[0m                                 Traceback (most recent call last)",
      "\u001b[0;32m<ipython-input-2-7368f93716f6>\u001b[0m in \u001b[0;36m<module>\u001b[0;34m()\u001b[0m\n\u001b[1;32m      1\u001b[0m \u001b[0;31m# We now create a new dataframe to only keep the variables Station_Key_ID, Longitude and Latitude for our clustering analysis\u001b[0m\u001b[0;34m\u001b[0m\u001b[0;34m\u001b[0m\u001b[0;34m\u001b[0m\u001b[0m\n\u001b[0;32m----> 2\u001b[0;31m \u001b[0mcluster_bixi_stations2\u001b[0m\u001b[0;34m=\u001b[0m\u001b[0mbixi_master_stations\u001b[0m\u001b[0;34m.\u001b[0m\u001b[0mloc\u001b[0m\u001b[0;34m[\u001b[0m\u001b[0;34m:\u001b[0m\u001b[0;34m,\u001b[0m\u001b[0;34m[\u001b[0m\u001b[0;34m'Station_Key_ID'\u001b[0m\u001b[0;34m,\u001b[0m\u001b[0;34m'latitude'\u001b[0m\u001b[0;34m,\u001b[0m\u001b[0;34m'longitude'\u001b[0m\u001b[0;34m]\u001b[0m\u001b[0;34m]\u001b[0m\u001b[0;34m\u001b[0m\u001b[0;34m\u001b[0m\u001b[0m\n\u001b[0m\u001b[1;32m      3\u001b[0m \u001b[0mcluster_bixi_stations2\u001b[0m\u001b[0;34m.\u001b[0m\u001b[0mhead\u001b[0m\u001b[0;34m(\u001b[0m\u001b[0;34m)\u001b[0m\u001b[0;34m\u001b[0m\u001b[0;34m\u001b[0m\u001b[0m\n",
      "\u001b[0;31mNameError\u001b[0m: name 'bixi_master_stations' is not defined"
     ]
    }
   ],
   "source": [
    "# We now create a new dataframe to only keep the variables Station_Key_ID, Longitude and Latitude for our clustering analysis\n",
    "cluster_bixi_stations2=bixi_master_stations.loc[:,['Station_Key_ID','latitude','longitude']]\n",
    "cluster_bixi_stations2.head()"
   ]
  },
  {
   "cell_type": "code",
   "execution_count": null,
   "metadata": {
    "id": "0AN20d-DQqib"
   },
   "outputs": [],
   "source": [
    "# define the number of kilometers in one radiation\n",
    "# which will be used to convert esp from km to radiation\n",
    "kms_per_rad = 6371.0088"
   ]
  },
  {
   "cell_type": "code",
   "execution_count": null,
   "metadata": {
    "colab": {
     "base_uri": "https://localhost:8080/"
    },
    "id": "lGpfaiGnQukx",
    "outputId": "02b1e500-267c-4254-8c2c-8400fb730c1a"
   },
   "outputs": [
    {
     "name": "stdout",
     "output_type": "stream",
     "text": [
      "[ 43.72164335 -79.56840965]\n"
     ]
    }
   ],
   "source": [
    "# define a function to calculate the geographic coordinate \n",
    "# centroid of a cluster of geographic points\n",
    "# it will be used later to calculate the centroids of DBSCAN cluster\n",
    "# because Scikit-learn DBSCAN cluster class does not come with centroid attribute.\n",
    "def get_centroid(cluster):\n",
    "  \"\"\"calculate the centroid of a cluster of geographic coordinate points\n",
    "  Args:\n",
    "    cluster coordinates, nx2 array-like (array, list of lists, etc) \n",
    "    n is the number of points(latitude, longitude)in the cluster.\n",
    "  Return:\n",
    "    geometry centroid of the cluster\n",
    "    \n",
    "  \"\"\"\n",
    "  cluster_ary = np.asarray(cluster)\n",
    "  centroid = cluster_ary.mean(axis = 0)\n",
    "  return centroid\n",
    "\n",
    "# testing get_centroid function\n",
    "test_cluster= [[ 43.70487299, -79.57753802], \n",
    "               [ 43.71138367, -79.56524418],\n",
    "               [ 43.72616079, -79.57319998],\n",
    "               [ 43.73547907, -79.56258364],\n",
    "               [ 43.72070325, -79.57202018],\n",
    "               [ 43.73126031, -79.5598719 ]]\n",
    "test_centroid = get_centroid(test_cluster)\n",
    "print(test_centroid)"
   ]
  },
  {
   "cell_type": "code",
   "execution_count": null,
   "metadata": {
    "colab": {
     "base_uri": "https://localhost:8080/",
     "height": 182
    },
    "id": "GyJupJRyTsrf",
    "outputId": "4d93ef42-bda2-4fb0-88e7-a6e5064ae08b"
   },
   "outputs": [
    {
     "ename": "NameError",
     "evalue": "ignored",
     "output_type": "error",
     "traceback": [
      "\u001b[0;31m---------------------------------------------------------------------------\u001b[0m",
      "\u001b[0;31mNameError\u001b[0m                                 Traceback (most recent call last)",
      "\u001b[0;32m<ipython-input-1-13f1ca11f683>\u001b[0m in \u001b[0;36m<module>\u001b[0;34m()\u001b[0m\n\u001b[1;32m      1\u001b[0m \u001b[0;31m# convert eps to radians for use by haversine\u001b[0m\u001b[0;34m\u001b[0m\u001b[0;34m\u001b[0m\u001b[0;34m\u001b[0m\u001b[0m\n\u001b[0;32m----> 2\u001b[0;31m \u001b[0mepsilon\u001b[0m \u001b[0;34m=\u001b[0m \u001b[0;36m0.1\u001b[0m\u001b[0;34m/\u001b[0m\u001b[0mkms_per_rad\u001b[0m\u001b[0;34m\u001b[0m\u001b[0;34m\u001b[0m\u001b[0m\n\u001b[0m",
      "\u001b[0;31mNameError\u001b[0m: name 'kms_per_rad' is not defined"
     ]
    }
   ],
   "source": [
    "# convert eps to radians for use by haversine\n",
    "epsilon = 0.1/kms_per_rad"
   ]
  },
  {
   "cell_type": "code",
   "execution_count": null,
   "metadata": {
    "id": "5CHkqwC-TuGB"
   },
   "outputs": [],
   "source": [
    "# Extract intersection coordinates (latitude, longitude)\n",
    "bixi_coords = cluster_bixi_stations2[['latitude', 'longitude']].values"
   ]
  },
  {
   "cell_type": "code",
   "execution_count": null,
   "metadata": {
    "id": "J5TMNTPbUIwd"
   },
   "outputs": [],
   "source": [
    "import time\n",
    "from sklearn import metrics\n",
    "\n",
    "start_time = time.time()\n",
    "dbsc = (DBSCAN(eps=epsilon, min_samples=1, algorithm='ball_tree', metric='haversine')\n",
    "        .fit(np.radians(bixi_coords)))\n",
    "bixi_cluster_labels = dbsc.labels_"
   ]
  },
  {
   "cell_type": "code",
   "execution_count": null,
   "metadata": {
    "colab": {
     "base_uri": "https://localhost:8080/"
    },
    "id": "ZTvUZyg4UdGp",
    "outputId": "5236cc2f-28a4-4e69-e833-7b9107961cde"
   },
   "outputs": [
    {
     "name": "stdout",
     "output_type": "stream",
     "text": [
      "23\n"
     ]
    }
   ],
   "source": [
    "# get the number of clusters\n",
    "num_clusters = len(set(dbsc.labels_))\n",
    "print(num_clusters)"
   ]
  },
  {
   "cell_type": "code",
   "execution_count": null,
   "metadata": {
    "colab": {
     "base_uri": "https://localhost:8080/"
    },
    "id": "PkE19KyHUtsD",
    "outputId": "6e7fa204-8ddb-4cdb-b7b2-9fa82303c95f"
   },
   "outputs": [
    {
     "name": "stdout",
     "output_type": "stream",
     "text": [
      "Clustered 641 points down to 23 clusters, for 96.4% compression in 757.46 seconds\n",
      "Silhouette coefficient: 0.007\n"
     ]
    }
   ],
   "source": [
    "# print the outcome\n",
    "message = 'Clustered {:,} points down to {:,} clusters, for {:.1f}% compression in {:,.2f} seconds'\n",
    "print(message.format(len(cluster_bixi_stations2), num_clusters, 100*(1 - float(num_clusters) / len(cluster_bixi_stations2)), time.time()-start_time))\n",
    "print('Silhouette coefficient: {:0.03f}'.format(metrics.silhouette_score(bixi_coords, bixi_cluster_labels)))\n"
   ]
  },
  {
   "cell_type": "code",
   "execution_count": null,
   "metadata": {
    "id": "47UZDn9qVn-b"
   },
   "outputs": [],
   "source": [
    "# turn the clusters into a pandas series, where each element is a cluster of points\n",
    "dbsc_clusters = pd.Series([bixi_coords[bixi_cluster_labels==n] for n in range(num_clusters)])"
   ]
  },
  {
   "cell_type": "code",
   "execution_count": null,
   "metadata": {
    "colab": {
     "base_uri": "https://localhost:8080/"
    },
    "id": "QQXGjFiMWs9v",
    "outputId": "4e2377c3-ec64-49de-d3d5-c2bb03a889ab"
   },
   "outputs": [
    {
     "name": "stdout",
     "output_type": "stream",
     "text": [
      "    longitude   latitude\n",
      "0  -73.586867  45.520806\n",
      "1  -73.532806  45.608566\n",
      "2  -73.543266  45.464159\n",
      "3  -73.495469  45.640371\n",
      "4  -73.514708  45.532378\n",
      "5  -73.495067  45.537226\n",
      "6  -73.644244  45.417151\n",
      "7  -73.593099  45.429471\n",
      "8  -73.497850  45.628777\n",
      "9  -73.496164  45.650476\n",
      "10 -73.679300  45.433614\n",
      "11 -73.601194  45.422451\n",
      "12 -73.605475  45.435676\n",
      "13 -73.612916  45.416310\n",
      "14 -73.657416  45.426123\n",
      "15 -73.639531  45.592419\n",
      "16 -73.744440  45.551886\n",
      "17 -73.719597  45.558109\n",
      "18 -73.690872  45.560731\n",
      "19 -73.707490  45.552535\n",
      "20 -73.609122  45.615965\n",
      "21 -73.713552  45.531865\n",
      "22 -73.628024  45.605533\n"
     ]
    }
   ],
   "source": [
    "# get centroid of each cluster\n",
    "bixi_centroids = dbsc_clusters.map(get_centroid)\n",
    "# unzip the list of centroid points (lat, lon) tuples into separate lat and lon lists\n",
    "cent_lats, cent_lons = zip(*bixi_centroids)\n",
    "# from these lats/lons create a new df of one representative point for each cluster\n",
    "centroids_pd = pd.DataFrame({'longitude':cent_lons, 'latitude':cent_lats})\n",
    "\n",
    "print(centroids_pd)"
   ]
  },
  {
   "cell_type": "code",
   "execution_count": null,
   "metadata": {
    "colab": {
     "base_uri": "https://localhost:8080/",
     "height": 714
    },
    "id": "zJLJEC6FXsz4",
    "outputId": "27da40de-fa7c-4114-89c5-5ac56d37a160"
   },
   "outputs": [
    {
     "data": {
      "text/plain": [
       "<matplotlib.legend.Legend at 0x7f468cd417d0>"
      ]
     },
     "execution_count": 119,
     "metadata": {
      "tags": []
     },
     "output_type": "execute_result"
    },
    {
     "data": {
      "image/png": "[encoded data removed]",
      "text/plain": [
       "<Figure size 1440x864 with 1 Axes>"
      ]
     },
     "metadata": {
      "needs_background": "light",
      "tags": []
     },
     "output_type": "display_data"
    }
   ],
   "source": [
    "# Plot the clusters and cluster centroid\n",
    "fig, ax = plt.subplots(figsize=[20, 12])\n",
    "bixi_scatter = ax.scatter(cluster_bixi_stations2['longitude'], cluster_bixi_stations2['latitude'], c=bixi_cluster_labels, cmap = cm.Dark2, edgecolor='None', alpha=0.7, s=120)\n",
    "centroid_scatter = ax.scatter(centroids_pd['longitude'], centroids_pd['latitude'], marker='x', linewidths=2, c='k', s=50)\n",
    "ax.set_title('BIXI Clusters & Centroid', fontsize = 30)\n",
    "ax.set_xlabel('Longitude', fontsize=24)\n",
    "ax.set_ylabel('Latitude', fontsize = 24)\n",
    "ax.legend([bixi_scatter, centroid_scatter], ['Bixi stations', 'Neighbourhood Centroid'], loc='upper right', fontsize = 20)"
   ]
  },
  {
   "cell_type": "code",
   "execution_count": null,
   "metadata": {
    "id": "FG3KBtKsRFWj"
   },
   "outputs": [],
   "source": [
    "# convert eps to radians for use by haversine\n",
    "epsilon = 1.5/kms_per_rad\n",
    "\n",
    "# Extract intersection coordinates (latitude, longitude)\n",
    "bixi_coords = cluster_bixi_stations2.as_matrix(columns = ['latitude', 'longitude'])\n",
    "\n",
    "start_time = time.time()\n",
    "dbsc = (DBSCAN(eps=epsilon, min_samples=1, algorithm='ball_tree', metric='haversine')\n",
    "        .fit(np.radians(bixi_coords)))\n",
    "bixi_cluster_labels = dbsc.labels_\n",
    "\n",
    "# get the number of clusters\n",
    "num_clusters = len(set(dbsc.labels_))\n",
    "\n",
    "# print the outcome\n",
    "message = 'Clustered {:,} points down to {:,} clusters, for {:.1f}% compression in {:,.2f} seconds'\n",
    "print(message.format(len(facility_pd), num_clusters, 100*(1 - float(num_clusters) / len(facility_pd)), time.time()-start_time))\n",
    "print('Silhouette coefficient: {:0.03f}'.format(metrics.silhouette_score(fac_coords, fac_cluster_labels)))\n",
    "\n",
    "# turn the clusters into a pandas series,where each element is a cluster of points\n",
    "dbsc_clusters = pd.Series([fac_coords[fac_cluster_labels==n] for n in range(num_clusters)])\n",
    "Clustered 1,396 points down to 20 clusters, for 98.6% compression in 0.13 seconds\n",
    "Silhouette coefficient: -0.166\n",
    "\n"
   ]
  },
  {
   "cell_type": "code",
   "execution_count": null,
   "metadata": {
    "id": "KimvXgFrzH8w"
   },
   "outputs": [],
   "source": [
    "X = cluster_bixi_stations[['latitude', 'longitude']].values"
   ]
  },
  {
   "cell_type": "code",
   "execution_count": null,
   "metadata": {
    "id": "ShP1liptyri4"
   },
   "outputs": [],
   "source": [
    "def greatCircleDistance(x, y):\n",
    "    lat1, lon1 = x[0], x[1]\n",
    "    lat2, lon2 = y[0], y[1]\n",
    "    return vincenty((lat1, lon1), (lat2, lon2)).meters"
   ]
  },
  {
   "cell_type": "code",
   "execution_count": null,
   "metadata": {
    "colab": {
     "base_uri": "https://localhost:8080/",
     "height": 1000
    },
    "id": "5T7BFvcXsrhe",
    "outputId": "023ae2a0-c9cc-4f49-d5a3-59b71968747e"
   },
   "outputs": [
    {
     "ename": "NameError",
     "evalue": "ignored",
     "output_type": "error",
     "traceback": [
      "\u001b[0;31m---------------------------------------------------------------------------\u001b[0m",
      "\u001b[0;31mNameError\u001b[0m                                 Traceback (most recent call last)",
      "\u001b[0;32m<ipython-input-44-018e6c6b1a3e>\u001b[0m in \u001b[0;36m<module>\u001b[0;34m()\u001b[0m\n\u001b[1;32m     12\u001b[0m     \u001b[0max\u001b[0m\u001b[0;34m.\u001b[0m\u001b[0mset_title\u001b[0m\u001b[0;34m(\u001b[0m\u001b[0;34m\"DBSCAN ('greatCircle', eps={}, min_sample={})\"\u001b[0m\u001b[0;34m.\u001b[0m\u001b[0mformat\u001b[0m\u001b[0;34m(\u001b[0m\u001b[0meps\u001b[0m\u001b[0;34m[\u001b[0m\u001b[0mi\u001b[0m\u001b[0;34m]\u001b[0m\u001b[0;34m,\u001b[0m \u001b[0mmin_sample\u001b[0m\u001b[0;34m[\u001b[0m\u001b[0mj\u001b[0m\u001b[0;34m]\u001b[0m\u001b[0;34m)\u001b[0m\u001b[0;34m)\u001b[0m\u001b[0;34m\u001b[0m\u001b[0;34m\u001b[0m\u001b[0m\n\u001b[1;32m     13\u001b[0m \u001b[0;34m\u001b[0m\u001b[0m\n\u001b[0;32m---> 14\u001b[0;31m \u001b[0mplot_stations_map\u001b[0m\u001b[0;34m(\u001b[0m\u001b[0max\u001b[0m\u001b[0;34m,\u001b[0m \u001b[0mcluster_bixi_stations\u001b[0m\u001b[0;34m)\u001b[0m\u001b[0;34m\u001b[0m\u001b[0;34m\u001b[0m\u001b[0m\n\u001b[0m",
      "\u001b[0;31mNameError\u001b[0m: name 'plot_stations_map' is not defined"
     ]
    },
    {
     "data": {
      "image/png": "[encoded data removed]",
      "text/plain": [
       "<Figure size 1440x1080 with 6 Axes>"
      ]
     },
     "metadata": {
      "needs_background": "light",
      "tags": []
     },
     "output_type": "display_data"
    }
   ],
   "source": [
    "eps = [500, 600, 700]    # unit: meter\n",
    "min_sample = [8, 10]\n",
    "n1, n2 = len(eps), len(min_sample)\n",
    "plt.subplots(nrows=n2, ncols=n1, figsize=(20, 15))\n",
    "\n",
    "for j in range(n2):\n",
    "  for i in range(n1):\n",
    "    est = DBSCAN(eps=eps[i], min_samples=min_sample[j], metric=greatCircleDistance).fit(X)\n",
    "    cluster_bixi_stations['cluster'] = est.labels_.tolist()\n",
    "\n",
    "    ax = plt.subplot(n2, n1, n1*j+i+1)\n",
    "    ax.set_title(\"DBSCAN ('greatCircle', eps={}, min_sample={})\".format(eps[i], min_sample[j]))\n",
    "\n",
    "plot_stations_map(ax, cluster_bixi_stations)\n"
   ]
  },
  {
   "cell_type": "code",
   "execution_count": null,
   "metadata": {
    "colab": {
     "base_uri": "https://localhost:8080/",
     "height": 1000
    },
    "id": "yq9ztvMOnRsn",
    "outputId": "4313f5d9-5177-4694-8dad-af635c8e4785"
   },
   "outputs": [
    {
     "data": {
      "text/html": [
       "<div>\n",
       "<style scoped>\n",
       "    .dataframe tbody tr th:only-of-type {\n",
       "        vertical-align: middle;\n",
       "    }\n",
       "\n",
       "    .dataframe tbody tr th {\n",
       "        vertical-align: top;\n",
       "    }\n",
       "\n",
       "    .dataframe thead th {\n",
       "        text-align: right;\n",
       "    }\n",
       "</style>\n",
       "<table border=\"1\" class=\"dataframe\">\n",
       "  <thead>\n",
       "    <tr style=\"text-align: right;\">\n",
       "      <th></th>\n",
       "      <th>code</th>\n",
       "      <th>name</th>\n",
       "      <th>latitude</th>\n",
       "      <th>longitude</th>\n",
       "      <th>Station_Key_ID</th>\n",
       "      <th>cluster_label</th>\n",
       "    </tr>\n",
       "  </thead>\n",
       "  <tbody>\n",
       "    <tr>\n",
       "      <th>0</th>\n",
       "      <td>6209</td>\n",
       "      <td>Milton / Clark</td>\n",
       "      <td>45.512520</td>\n",
       "      <td>-73.570620</td>\n",
       "      <td>20146209</td>\n",
       "      <td>2</td>\n",
       "    </tr>\n",
       "    <tr>\n",
       "      <th>1</th>\n",
       "      <td>6209</td>\n",
       "      <td>Milton / Clark</td>\n",
       "      <td>45.512520</td>\n",
       "      <td>-73.570620</td>\n",
       "      <td>20146209</td>\n",
       "      <td>2</td>\n",
       "    </tr>\n",
       "    <tr>\n",
       "      <th>2</th>\n",
       "      <td>6209</td>\n",
       "      <td>Milton / Clark</td>\n",
       "      <td>45.512520</td>\n",
       "      <td>-73.570620</td>\n",
       "      <td>20146209</td>\n",
       "      <td>2</td>\n",
       "    </tr>\n",
       "    <tr>\n",
       "      <th>3</th>\n",
       "      <td>6209</td>\n",
       "      <td>Milton / Clark</td>\n",
       "      <td>45.512520</td>\n",
       "      <td>-73.570620</td>\n",
       "      <td>20146209</td>\n",
       "      <td>2</td>\n",
       "    </tr>\n",
       "    <tr>\n",
       "      <th>4</th>\n",
       "      <td>6209</td>\n",
       "      <td>Milton / Clark</td>\n",
       "      <td>45.512520</td>\n",
       "      <td>-73.570620</td>\n",
       "      <td>20146209</td>\n",
       "      <td>2</td>\n",
       "    </tr>\n",
       "    <tr>\n",
       "      <th>5</th>\n",
       "      <td>6209</td>\n",
       "      <td>Milton / Clark</td>\n",
       "      <td>45.512520</td>\n",
       "      <td>-73.570620</td>\n",
       "      <td>20146209</td>\n",
       "      <td>2</td>\n",
       "    </tr>\n",
       "    <tr>\n",
       "      <th>6</th>\n",
       "      <td>6209</td>\n",
       "      <td>Milton / Clark</td>\n",
       "      <td>45.512520</td>\n",
       "      <td>-73.570620</td>\n",
       "      <td>20146209</td>\n",
       "      <td>2</td>\n",
       "    </tr>\n",
       "    <tr>\n",
       "      <th>7</th>\n",
       "      <td>6209</td>\n",
       "      <td>Milton / Clark</td>\n",
       "      <td>45.512520</td>\n",
       "      <td>-73.570620</td>\n",
       "      <td>20156209</td>\n",
       "      <td>2</td>\n",
       "    </tr>\n",
       "    <tr>\n",
       "      <th>8</th>\n",
       "      <td>6209</td>\n",
       "      <td>Milton / Clark</td>\n",
       "      <td>45.512520</td>\n",
       "      <td>-73.570620</td>\n",
       "      <td>20156209</td>\n",
       "      <td>2</td>\n",
       "    </tr>\n",
       "    <tr>\n",
       "      <th>9</th>\n",
       "      <td>6209</td>\n",
       "      <td>Milton / Clark</td>\n",
       "      <td>45.512520</td>\n",
       "      <td>-73.570620</td>\n",
       "      <td>20156209</td>\n",
       "      <td>2</td>\n",
       "    </tr>\n",
       "    <tr>\n",
       "      <th>10</th>\n",
       "      <td>6209</td>\n",
       "      <td>Milton / Clark</td>\n",
       "      <td>45.512520</td>\n",
       "      <td>-73.570620</td>\n",
       "      <td>20156209</td>\n",
       "      <td>2</td>\n",
       "    </tr>\n",
       "    <tr>\n",
       "      <th>11</th>\n",
       "      <td>6209</td>\n",
       "      <td>Milton / Clark</td>\n",
       "      <td>45.512520</td>\n",
       "      <td>-73.570620</td>\n",
       "      <td>20156209</td>\n",
       "      <td>2</td>\n",
       "    </tr>\n",
       "    <tr>\n",
       "      <th>12</th>\n",
       "      <td>6209</td>\n",
       "      <td>Milton / Clark</td>\n",
       "      <td>45.512520</td>\n",
       "      <td>-73.570620</td>\n",
       "      <td>20156209</td>\n",
       "      <td>2</td>\n",
       "    </tr>\n",
       "    <tr>\n",
       "      <th>13</th>\n",
       "      <td>6209</td>\n",
       "      <td>Milton / Clark</td>\n",
       "      <td>45.512520</td>\n",
       "      <td>-73.570620</td>\n",
       "      <td>20156209</td>\n",
       "      <td>2</td>\n",
       "    </tr>\n",
       "    <tr>\n",
       "      <th>14</th>\n",
       "      <td>6209</td>\n",
       "      <td>Milton / Clark</td>\n",
       "      <td>45.512520</td>\n",
       "      <td>-73.570620</td>\n",
       "      <td>20166209</td>\n",
       "      <td>2</td>\n",
       "    </tr>\n",
       "    <tr>\n",
       "      <th>15</th>\n",
       "      <td>6209</td>\n",
       "      <td>Milton / Clark</td>\n",
       "      <td>45.512520</td>\n",
       "      <td>-73.570620</td>\n",
       "      <td>20166209</td>\n",
       "      <td>2</td>\n",
       "    </tr>\n",
       "    <tr>\n",
       "      <th>16</th>\n",
       "      <td>6209</td>\n",
       "      <td>Milton / Clark</td>\n",
       "      <td>45.512520</td>\n",
       "      <td>-73.570620</td>\n",
       "      <td>20166209</td>\n",
       "      <td>2</td>\n",
       "    </tr>\n",
       "    <tr>\n",
       "      <th>17</th>\n",
       "      <td>6209</td>\n",
       "      <td>Milton / Clark</td>\n",
       "      <td>45.512520</td>\n",
       "      <td>-73.570620</td>\n",
       "      <td>20166209</td>\n",
       "      <td>2</td>\n",
       "    </tr>\n",
       "    <tr>\n",
       "      <th>18</th>\n",
       "      <td>6209</td>\n",
       "      <td>Milton / Clark</td>\n",
       "      <td>45.512520</td>\n",
       "      <td>-73.570620</td>\n",
       "      <td>20166209</td>\n",
       "      <td>2</td>\n",
       "    </tr>\n",
       "    <tr>\n",
       "      <th>19</th>\n",
       "      <td>6209</td>\n",
       "      <td>Milton / Clark</td>\n",
       "      <td>45.512520</td>\n",
       "      <td>-73.570620</td>\n",
       "      <td>20166209</td>\n",
       "      <td>2</td>\n",
       "    </tr>\n",
       "    <tr>\n",
       "      <th>20</th>\n",
       "      <td>6209</td>\n",
       "      <td>Milton / Clark</td>\n",
       "      <td>45.512520</td>\n",
       "      <td>-73.570620</td>\n",
       "      <td>20166209</td>\n",
       "      <td>2</td>\n",
       "    </tr>\n",
       "    <tr>\n",
       "      <th>21</th>\n",
       "      <td>6209</td>\n",
       "      <td>Milton / Clark</td>\n",
       "      <td>45.512520</td>\n",
       "      <td>-73.570620</td>\n",
       "      <td>20176209</td>\n",
       "      <td>2</td>\n",
       "    </tr>\n",
       "    <tr>\n",
       "      <th>22</th>\n",
       "      <td>6209</td>\n",
       "      <td>Milton / Clark</td>\n",
       "      <td>45.512520</td>\n",
       "      <td>-73.570620</td>\n",
       "      <td>20176209</td>\n",
       "      <td>2</td>\n",
       "    </tr>\n",
       "    <tr>\n",
       "      <th>23</th>\n",
       "      <td>6209</td>\n",
       "      <td>Milton / Clark</td>\n",
       "      <td>45.512520</td>\n",
       "      <td>-73.570620</td>\n",
       "      <td>20176209</td>\n",
       "      <td>2</td>\n",
       "    </tr>\n",
       "    <tr>\n",
       "      <th>24</th>\n",
       "      <td>6209</td>\n",
       "      <td>Milton / Clark</td>\n",
       "      <td>45.512520</td>\n",
       "      <td>-73.570620</td>\n",
       "      <td>20176209</td>\n",
       "      <td>2</td>\n",
       "    </tr>\n",
       "    <tr>\n",
       "      <th>25</th>\n",
       "      <td>6209</td>\n",
       "      <td>Milton / Clark</td>\n",
       "      <td>45.512520</td>\n",
       "      <td>-73.570620</td>\n",
       "      <td>20176209</td>\n",
       "      <td>2</td>\n",
       "    </tr>\n",
       "    <tr>\n",
       "      <th>26</th>\n",
       "      <td>6209</td>\n",
       "      <td>Milton / Clark</td>\n",
       "      <td>45.512520</td>\n",
       "      <td>-73.570620</td>\n",
       "      <td>20176209</td>\n",
       "      <td>2</td>\n",
       "    </tr>\n",
       "    <tr>\n",
       "      <th>27</th>\n",
       "      <td>6209</td>\n",
       "      <td>Milton / Clark</td>\n",
       "      <td>45.512520</td>\n",
       "      <td>-73.570620</td>\n",
       "      <td>20176209</td>\n",
       "      <td>2</td>\n",
       "    </tr>\n",
       "    <tr>\n",
       "      <th>28</th>\n",
       "      <td>6209</td>\n",
       "      <td>Milton / Clark</td>\n",
       "      <td>45.512541</td>\n",
       "      <td>-73.570677</td>\n",
       "      <td>20186209</td>\n",
       "      <td>2</td>\n",
       "    </tr>\n",
       "    <tr>\n",
       "      <th>29</th>\n",
       "      <td>6209</td>\n",
       "      <td>Milton / Clark</td>\n",
       "      <td>45.512541</td>\n",
       "      <td>-73.570677</td>\n",
       "      <td>20186209</td>\n",
       "      <td>2</td>\n",
       "    </tr>\n",
       "    <tr>\n",
       "      <th>30</th>\n",
       "      <td>6209</td>\n",
       "      <td>Milton / Clark</td>\n",
       "      <td>45.512541</td>\n",
       "      <td>-73.570677</td>\n",
       "      <td>20186209</td>\n",
       "      <td>2</td>\n",
       "    </tr>\n",
       "    <tr>\n",
       "      <th>31</th>\n",
       "      <td>6209</td>\n",
       "      <td>Milton / Clark</td>\n",
       "      <td>45.512541</td>\n",
       "      <td>-73.570677</td>\n",
       "      <td>20186209</td>\n",
       "      <td>2</td>\n",
       "    </tr>\n",
       "    <tr>\n",
       "      <th>32</th>\n",
       "      <td>6209</td>\n",
       "      <td>Milton / Clark</td>\n",
       "      <td>45.512541</td>\n",
       "      <td>-73.570677</td>\n",
       "      <td>20186209</td>\n",
       "      <td>2</td>\n",
       "    </tr>\n",
       "    <tr>\n",
       "      <th>33</th>\n",
       "      <td>6209</td>\n",
       "      <td>Milton / Clark</td>\n",
       "      <td>45.512541</td>\n",
       "      <td>-73.570677</td>\n",
       "      <td>20186209</td>\n",
       "      <td>2</td>\n",
       "    </tr>\n",
       "    <tr>\n",
       "      <th>34</th>\n",
       "      <td>6209</td>\n",
       "      <td>Milton / Clark</td>\n",
       "      <td>45.512541</td>\n",
       "      <td>-73.570677</td>\n",
       "      <td>20186209</td>\n",
       "      <td>2</td>\n",
       "    </tr>\n",
       "    <tr>\n",
       "      <th>35</th>\n",
       "      <td>6209</td>\n",
       "      <td>Milton / Clark</td>\n",
       "      <td>45.512541</td>\n",
       "      <td>-73.570677</td>\n",
       "      <td>20196209</td>\n",
       "      <td>2</td>\n",
       "    </tr>\n",
       "    <tr>\n",
       "      <th>36</th>\n",
       "      <td>6209</td>\n",
       "      <td>Milton / Clark</td>\n",
       "      <td>45.512541</td>\n",
       "      <td>-73.570677</td>\n",
       "      <td>20196209</td>\n",
       "      <td>2</td>\n",
       "    </tr>\n",
       "    <tr>\n",
       "      <th>37</th>\n",
       "      <td>6209</td>\n",
       "      <td>Milton / Clark</td>\n",
       "      <td>45.512541</td>\n",
       "      <td>-73.570677</td>\n",
       "      <td>20196209</td>\n",
       "      <td>2</td>\n",
       "    </tr>\n",
       "    <tr>\n",
       "      <th>38</th>\n",
       "      <td>6209</td>\n",
       "      <td>Milton / Clark</td>\n",
       "      <td>45.512541</td>\n",
       "      <td>-73.570677</td>\n",
       "      <td>20196209</td>\n",
       "      <td>2</td>\n",
       "    </tr>\n",
       "    <tr>\n",
       "      <th>39</th>\n",
       "      <td>6209</td>\n",
       "      <td>Milton / Clark</td>\n",
       "      <td>45.512541</td>\n",
       "      <td>-73.570677</td>\n",
       "      <td>20196209</td>\n",
       "      <td>2</td>\n",
       "    </tr>\n",
       "    <tr>\n",
       "      <th>40</th>\n",
       "      <td>6209</td>\n",
       "      <td>Milton / Clark</td>\n",
       "      <td>45.512541</td>\n",
       "      <td>-73.570677</td>\n",
       "      <td>20196209</td>\n",
       "      <td>2</td>\n",
       "    </tr>\n",
       "    <tr>\n",
       "      <th>41</th>\n",
       "      <td>6209</td>\n",
       "      <td>Milton / Clark</td>\n",
       "      <td>45.512541</td>\n",
       "      <td>-73.570677</td>\n",
       "      <td>20196209</td>\n",
       "      <td>2</td>\n",
       "    </tr>\n",
       "    <tr>\n",
       "      <th>42</th>\n",
       "      <td>6209</td>\n",
       "      <td>Milton / Clark</td>\n",
       "      <td>45.512541</td>\n",
       "      <td>-73.570677</td>\n",
       "      <td>20206209</td>\n",
       "      <td>2</td>\n",
       "    </tr>\n",
       "    <tr>\n",
       "      <th>43</th>\n",
       "      <td>6209</td>\n",
       "      <td>Milton / Clark</td>\n",
       "      <td>45.512541</td>\n",
       "      <td>-73.570677</td>\n",
       "      <td>20206209</td>\n",
       "      <td>2</td>\n",
       "    </tr>\n",
       "    <tr>\n",
       "      <th>44</th>\n",
       "      <td>6209</td>\n",
       "      <td>Milton / Clark</td>\n",
       "      <td>45.512541</td>\n",
       "      <td>-73.570677</td>\n",
       "      <td>20206209</td>\n",
       "      <td>2</td>\n",
       "    </tr>\n",
       "    <tr>\n",
       "      <th>45</th>\n",
       "      <td>6209</td>\n",
       "      <td>Milton / Clark</td>\n",
       "      <td>45.512541</td>\n",
       "      <td>-73.570677</td>\n",
       "      <td>20206209</td>\n",
       "      <td>2</td>\n",
       "    </tr>\n",
       "    <tr>\n",
       "      <th>46</th>\n",
       "      <td>6209</td>\n",
       "      <td>Milton / Clark</td>\n",
       "      <td>45.512541</td>\n",
       "      <td>-73.570677</td>\n",
       "      <td>20206209</td>\n",
       "      <td>2</td>\n",
       "    </tr>\n",
       "    <tr>\n",
       "      <th>47</th>\n",
       "      <td>6209</td>\n",
       "      <td>Milton / Clark</td>\n",
       "      <td>45.512541</td>\n",
       "      <td>-73.570677</td>\n",
       "      <td>20206209</td>\n",
       "      <td>2</td>\n",
       "    </tr>\n",
       "    <tr>\n",
       "      <th>48</th>\n",
       "      <td>6209</td>\n",
       "      <td>Milton / Clark</td>\n",
       "      <td>45.512541</td>\n",
       "      <td>-73.570677</td>\n",
       "      <td>20206209</td>\n",
       "      <td>2</td>\n",
       "    </tr>\n",
       "    <tr>\n",
       "      <th>49</th>\n",
       "      <td>6436</td>\n",
       "      <td>Côte St-Antoine / Clarke</td>\n",
       "      <td>45.486452</td>\n",
       "      <td>-73.595234</td>\n",
       "      <td>20146436</td>\n",
       "      <td>7</td>\n",
       "    </tr>\n",
       "  </tbody>\n",
       "</table>\n",
       "</div>"
      ],
      "text/plain": [
       "    code                      name  ...  Station_Key_ID  cluster_label\n",
       "0   6209            Milton / Clark  ...        20146209              2\n",
       "1   6209            Milton / Clark  ...        20146209              2\n",
       "2   6209            Milton / Clark  ...        20146209              2\n",
       "3   6209            Milton / Clark  ...        20146209              2\n",
       "4   6209            Milton / Clark  ...        20146209              2\n",
       "5   6209            Milton / Clark  ...        20146209              2\n",
       "6   6209            Milton / Clark  ...        20146209              2\n",
       "7   6209            Milton / Clark  ...        20156209              2\n",
       "8   6209            Milton / Clark  ...        20156209              2\n",
       "9   6209            Milton / Clark  ...        20156209              2\n",
       "10  6209            Milton / Clark  ...        20156209              2\n",
       "11  6209            Milton / Clark  ...        20156209              2\n",
       "12  6209            Milton / Clark  ...        20156209              2\n",
       "13  6209            Milton / Clark  ...        20156209              2\n",
       "14  6209            Milton / Clark  ...        20166209              2\n",
       "15  6209            Milton / Clark  ...        20166209              2\n",
       "16  6209            Milton / Clark  ...        20166209              2\n",
       "17  6209            Milton / Clark  ...        20166209              2\n",
       "18  6209            Milton / Clark  ...        20166209              2\n",
       "19  6209            Milton / Clark  ...        20166209              2\n",
       "20  6209            Milton / Clark  ...        20166209              2\n",
       "21  6209            Milton / Clark  ...        20176209              2\n",
       "22  6209            Milton / Clark  ...        20176209              2\n",
       "23  6209            Milton / Clark  ...        20176209              2\n",
       "24  6209            Milton / Clark  ...        20176209              2\n",
       "25  6209            Milton / Clark  ...        20176209              2\n",
       "26  6209            Milton / Clark  ...        20176209              2\n",
       "27  6209            Milton / Clark  ...        20176209              2\n",
       "28  6209            Milton / Clark  ...        20186209              2\n",
       "29  6209            Milton / Clark  ...        20186209              2\n",
       "30  6209            Milton / Clark  ...        20186209              2\n",
       "31  6209            Milton / Clark  ...        20186209              2\n",
       "32  6209            Milton / Clark  ...        20186209              2\n",
       "33  6209            Milton / Clark  ...        20186209              2\n",
       "34  6209            Milton / Clark  ...        20186209              2\n",
       "35  6209            Milton / Clark  ...        20196209              2\n",
       "36  6209            Milton / Clark  ...        20196209              2\n",
       "37  6209            Milton / Clark  ...        20196209              2\n",
       "38  6209            Milton / Clark  ...        20196209              2\n",
       "39  6209            Milton / Clark  ...        20196209              2\n",
       "40  6209            Milton / Clark  ...        20196209              2\n",
       "41  6209            Milton / Clark  ...        20196209              2\n",
       "42  6209            Milton / Clark  ...        20206209              2\n",
       "43  6209            Milton / Clark  ...        20206209              2\n",
       "44  6209            Milton / Clark  ...        20206209              2\n",
       "45  6209            Milton / Clark  ...        20206209              2\n",
       "46  6209            Milton / Clark  ...        20206209              2\n",
       "47  6209            Milton / Clark  ...        20206209              2\n",
       "48  6209            Milton / Clark  ...        20206209              2\n",
       "49  6436  Côte St-Antoine / Clarke  ...        20146436              7\n",
       "\n",
       "[50 rows x 6 columns]"
      ]
     },
     "execution_count": 11,
     "metadata": {
      "tags": []
     },
     "output_type": "execute_result"
    }
   ],
   "source": [
    "# Merge cluster labels in bixi_master_stations dataframe\n",
    "clustering_bixi_stations = clustering_bixi_stations[['code','cluster_label']]\n",
    "clustering_bixi_stations.head(5)\n",
    "\n",
    "bixi_master_stations = bixi_master_stations.merge(clustering_bixi_stations, left_on='code', right_on='code')\n",
    "bixi_master_stations.head(50)"
   ]
  },
  {
   "cell_type": "markdown",
   "metadata": {
    "id": "kFH9Ad0OWdMj"
   },
   "source": [
    "# PART 2: Modeling"
   ]
  },
  {
   "cell_type": "code",
   "execution_count": 3,
   "metadata": {},
   "outputs": [],
   "source": [
    "# Let's fetch the CSVs\n",
    "# BIXI data\n",
    "url_data_hourly = 'https://raw.githubusercontent.com/gbincoletto/MATH80629A/main/data_hourly.csv'\n",
    "data_hourly = pd.read_csv(url_data_hourly)\n",
    "url_data_daily = 'https://raw.githubusercontent.com/gbincoletto/MATH80629A/main/data_daily.csv'\n",
    "data_daily = pd.read_csv(url_data_daily)\n",
    "url_data_monthly = 'https://raw.githubusercontent.com/gbincoletto/MATH80629A/main/data_monthly.csv'\n",
    "data_monthly = pd.read_csv(url_data_monthly)\n",
    "\n",
    "# Weather data\n",
    "url_weather_hourly = 'https://raw.githubusercontent.com/gbincoletto/MATH80629A/main/weather_hourly.csv'\n",
    "weather_hourly = pd.read_csv(url_weather_hourly)\n",
    "url_weather_daily = 'https://raw.githubusercontent.com/gbincoletto/MATH80629A/main/weather_daily.csv'\n",
    "weather_daily = pd.read_csv(url_weather_daily)\n",
    "url_weather_monthly = 'https://raw.githubusercontent.com/gbincoletto/MATH80629A/main/weather_monthly.csv'\n",
    "weather_monthly = pd.read_csv(url_weather_monthly)\n",
    "\n",
    "# I'll merge bixi data with weather data so that proper food to feed to xgboost\n",
    "hourly = pd.concat([weather_hourly, data_hourly], axis=1, join=\"inner\")\n",
    "hourly.to_csv('global_hourly.csv')\n",
    "daily = pd.concat([weather_daily, data_daily], axis=1, join=\"inner\")\n",
    "daily.to_csv('global_daily.csv')\n",
    "monthly = pd.concat([weather_monthly, data_monthly], axis=1, join=\"inner\")\n",
    "monthly.to_csv('global_monthly.csv')"
   ]
  },
  {
   "cell_type": "markdown",
   "metadata": {
    "id": "kFH9Ad0OWdMj"
   },
   "source": [
    "# ANNEX: Testing the meteostat.net API"
   ]
  },
  {
   "cell_type": "code",
   "execution_count": null,
   "metadata": {
    "colab": {
     "base_uri": "https://localhost:8080/"
    },
    "id": "hAMSiVvUWxpi",
    "outputId": "c59b10f6-6c68-4cf5-ddfe-4edfa4c8edc6"
   },
   "outputs": [
    {
     "name": "stdout",
     "output_type": "stream",
     "text": [
      "Collecting meteostat\n",
      "  Downloading https://files.pythonhosted.org/packages/a1/fd/aee6a5062e29c101108d10686344dd80f6e528e9cbf9cd98a02303b4b4a8/meteostat-1.1.1.tar.gz\n",
      "Requirement already satisfied: pandas>=1.1 in /usr/local/lib/python3.7/dist-packages (from meteostat) (1.1.5)\n",
      "Requirement already satisfied: pytz in /usr/local/lib/python3.7/dist-packages (from meteostat) (2018.9)\n",
      "Requirement already satisfied: numpy in /usr/local/lib/python3.7/dist-packages (from meteostat) (1.19.5)\n",
      "Requirement already satisfied: python-dateutil>=2.7.3 in /usr/local/lib/python3.7/dist-packages (from pandas>=1.1->meteostat) (2.8.1)\n",
      "Requirement already satisfied: six>=1.5 in /usr/local/lib/python3.7/dist-packages (from python-dateutil>=2.7.3->pandas>=1.1->meteostat) (1.15.0)\n",
      "Building wheels for collected packages: meteostat\n",
      "  Building wheel for meteostat (setup.py) ... \u001b[?25l\u001b[?25hdone\n",
      "  Created wheel for meteostat: filename=meteostat-1.1.1-cp37-none-any.whl size=15529 sha256=a09fd2f7e7fb4d8a6934659060c7d303946a7365ae9eb68989586be276d62eeb\n",
      "  Stored in directory: /root/.cache/pip/wheels/93/96/13/4f94dd63c2625b172dc8773ea53fb9e58bf46d0f1b5abd21bf\n",
      "Successfully built meteostat\n",
      "Installing collected packages: meteostat\n",
      "Successfully installed meteostat-1.1.1\n"
     ]
    }
   ],
   "source": [
    "pip install meteostat"
   ]
  },
  {
   "cell_type": "code",
   "execution_count": null,
   "metadata": {
    "id": "bUH7dPNIXcfT"
   },
   "outputs": [],
   "source": [
    "# import all relevant meteostat packages\n",
    "from datetime import datetime\n",
    "from meteostat import Stations\n",
    "from meteostat import Daily\n",
    "from meteostat import Point"
   ]
  },
  {
   "cell_type": "code",
   "execution_count": null,
   "metadata": {
    "colab": {
     "base_uri": "https://localhost:8080/"
    },
    "id": "3iJ47zUmXeU_",
    "outputId": "0c005047-c898-4261-800a-785c31e26dfa"
   },
   "outputs": [
    {
     "name": "stdout",
     "output_type": "stream",
     "text": [
      "                 name country region  ... daily_start  daily_end      distance\n",
      "id                                    ...                                     \n",
      "71523  Chamouchouane       CA     QC  ...  1995-11-09 2021-03-15  16203.748455\n",
      "\n",
      "[1 rows x 14 columns]\n"
     ]
    }
   ],
   "source": [
    "# check stations available in the montreal area\n",
    "stations = Stations()\n",
    "stations = stations.nearby(49.2497, -73.5673)\n",
    "station = stations.fetch(1)\n",
    "\n",
    "print(station)\n",
    "\n",
    "# Remarque: la plupart des stations sont assez éloignées de Montréal."
   ]
  },
  {
   "cell_type": "code",
   "execution_count": null,
   "metadata": {
    "colab": {
     "base_uri": "https://localhost:8080/"
    },
    "id": "IDp5scgTctzw",
    "outputId": "13ea9379-afc3-462a-fb4a-5a1f3b212c94"
   },
   "outputs": [
    {
     "name": "stdout",
     "output_type": "stream",
     "text": [
      "            tavg  tmin  tmax  prcp  snow  wdir  wspd  wpgt  pres  tsun\n",
      "time                                                                  \n",
      "2020-06-01   5.8  -0.2  11.8   NaN   NaN   NaN   NaN   NaN   NaN   NaN\n",
      "2020-06-02   NaN   NaN   NaN   NaN   NaN   NaN   NaN   NaN   NaN   NaN\n",
      "2020-06-03   8.3  -0.2  16.8   NaN   NaN   NaN   NaN   NaN   NaN   NaN\n",
      "2020-06-04   NaN   NaN   NaN   NaN   NaN   NaN   NaN   NaN   NaN   NaN\n",
      "2020-06-05  12.4   6.7  18.1   NaN   NaN   NaN   NaN   NaN   NaN   NaN\n",
      "2020-06-06  10.7   2.6  18.7   NaN   NaN   NaN   NaN   NaN   NaN   NaN\n",
      "2020-06-07   9.8   1.8  17.7   NaN   NaN   NaN   NaN   NaN   NaN   NaN\n",
      "2020-06-08   9.0  -0.4  18.4   NaN   NaN   NaN   NaN   NaN   NaN   NaN\n",
      "2020-06-09  11.1   1.8  20.4   NaN   NaN   NaN   NaN   NaN   NaN   NaN\n",
      "2020-06-10   NaN   NaN   NaN   NaN   NaN   NaN   NaN   NaN   NaN   NaN\n",
      "2020-06-11  18.6  11.8  25.3   NaN   NaN   NaN   NaN   NaN   NaN   NaN\n",
      "2020-06-12   9.1   5.2  12.9   NaN   NaN   NaN   NaN   NaN   NaN   NaN\n",
      "2020-06-13   6.9  -0.6  14.3   NaN   NaN   NaN   NaN   NaN   NaN   NaN\n",
      "2020-06-14   9.3  -1.5  20.0   NaN   NaN   NaN   NaN   NaN   NaN   NaN\n",
      "2020-06-15  12.5   0.8  24.1   NaN   NaN   NaN   NaN   NaN   NaN   NaN\n",
      "2020-06-16  17.0   4.6  29.4   NaN   NaN   NaN   NaN   NaN   NaN   NaN\n",
      "2020-06-17  22.8  14.1  31.4   NaN   NaN   NaN   NaN   NaN   NaN   NaN\n",
      "2020-06-18  25.3  15.4  35.1   NaN   NaN   NaN   NaN   NaN   NaN   NaN\n",
      "2020-06-19  23.6  13.0  34.2   NaN   NaN   NaN   NaN   NaN   NaN   NaN\n",
      "2020-06-20  21.6  14.0  32.0   NaN   NaN   NaN   NaN   NaN   NaN   NaN\n",
      "2020-06-21  23.1  15.0  31.1   NaN   NaN   NaN   NaN   NaN   NaN   NaN\n",
      "2020-06-22  23.3  15.4  31.1   NaN   NaN   NaN   NaN   NaN   NaN   NaN\n",
      "2020-06-23  21.0  14.7  27.2   NaN   NaN   NaN   NaN   NaN   NaN   NaN\n",
      "2020-06-24  20.6  13.9  27.2   NaN   NaN   NaN   NaN   NaN   NaN   NaN\n",
      "2020-06-25  14.4  12.0  16.7   NaN   NaN   NaN   NaN   NaN   NaN   NaN\n",
      "2020-06-26  14.6  10.4  18.8   NaN   NaN   NaN   NaN   NaN   NaN   NaN\n",
      "2020-06-27  16.1  10.2  21.9   NaN   NaN   NaN   NaN   NaN   NaN   NaN\n",
      "2020-06-28  19.3  13.2  25.3   NaN   NaN   NaN   NaN   NaN   NaN   NaN\n",
      "2020-06-29  18.8  12.2  25.4   NaN   NaN   NaN   NaN   NaN   NaN   NaN\n",
      "2020-06-30  20.5  11.2  29.8   NaN   NaN   NaN   NaN   NaN   NaN   NaN\n"
     ]
    }
   ],
   "source": [
    "# Test pour voir si les données météo concordent avec ce qu'on trouve sur Météomédia malgré tout. Testons juin 2020.\n",
    "start = datetime(2020, 6, 1)\n",
    "end = datetime(2020, 6, 30)\n",
    "\n",
    "data = Daily(station, start=start, end=end)\n",
    "data = data.normalize()\n",
    "data = data.fetch()\n",
    "\n",
    "print(data)\n",
    "# Conclusion: Il manque beaucoup de données, et celles qu'on a ne sont pas fiables! Nous allons devoir télécharger les données d'Environnement Canada!"
   ]
  },
  {
   "cell_type": "code",
   "execution_count": null,
   "metadata": {
    "colab": {
     "base_uri": "https://localhost:8080/"
    },
    "id": "ca7poiTLgNs9",
    "outputId": "25b051c2-3501-4e80-f95a-0e6970e762d8"
   },
   "outputs": [
    {
     "name": "stdout",
     "output_type": "stream",
     "text": [
      "            tavg  tmin  tmax  prcp  snow  wdir  wspd  wpgt  pres  tsun\n",
      "time                                                                  \n",
      "2021-01-01 -14.7 -23.8  -5.5   NaN   NaN   NaN   NaN   NaN   NaN   NaN\n"
     ]
    }
   ],
   "source": [
    "# Je tente d'utiliser le module d'interpolation pour voir si ça donne de meilleurs résultats!\n",
    "datamtl = Point(49.2497, -73.5673)\n",
    "\n",
    "start = datetime(2021, 1, 1)\n",
    "end = datetime(2021, 1, 1)\n",
    "\n",
    "data = Daily(datamtl, start=start, end=end)\n",
    "data = data.normalize()\n",
    "data = data.fetch()\n",
    "\n",
    "print(data)\n",
    "\n",
    "# Météomedia donne -0.2 et -5.1, donc meteostat est vraiment dans le champ."
   ]
  },
  {
   "cell_type": "markdown",
   "metadata": {
    "id": "CheNHfsLk5aO"
   },
   "source": [
    "**CONCLUSION:**\n",
    "Meteostat fonctionne très bien, mais malheureusement les résultats sont très douteux. Je recommande que nous utilisions les données brutes des stations météo d'environnement Canada.\n",
    "\n",
    "On retrouve les donnnées au: https://climat.meteo.gc.ca/historical_data/search_historic_data_f.html ; il est facile de télécharger les données CSV pour la période qui nous intéresse!"
   ]
  }
 ],
 "metadata": {
  "colab": {
   "collapsed_sections": [],
   "name": "ML_Project_BIXI_Predictions.ipynb",
   "provenance": [],
   "toc_visible": true
  },
  "kernelspec": {
   "display_name": "Python 3",
   "language": "python",
   "name": "python3"
  },
  "language_info": {
   "codemirror_mode": {
    "name": "ipython",
    "version": 3
   },
   "file_extension": ".py",
   "mimetype": "text/x-python",
   "name": "python",
   "nbconvert_exporter": "python",
   "pygments_lexer": "ipython3",
   "version": "3.7.0"
  }
 },
 "nbformat": 4,
 "nbformat_minor": 2
}
